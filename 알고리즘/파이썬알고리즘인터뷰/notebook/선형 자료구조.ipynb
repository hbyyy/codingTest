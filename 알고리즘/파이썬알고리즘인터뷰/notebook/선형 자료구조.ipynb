{
 "cells": [
  {
   "cell_type": "markdown",
   "id": "vertical-burden",
   "metadata": {},
   "source": [
    "# 스택의 구현\n",
    "- 연결 리스트를 이용해 구현한다"
   ]
  },
  {
   "cell_type": "code",
   "execution_count": 1,
   "id": "hungry-airfare",
   "metadata": {},
   "outputs": [],
   "source": [
    "class Node:\n",
    "    def __init__(self, item, next=None):\n",
    "        self.item = item\n",
    "        self.next = next\n",
    "        \n",
    "        \n",
    "class Stack:\n",
    "    def __init__(self):\n",
    "        self.last = None\n",
    "    \n",
    "    def push(self, item):\n",
    "        self.last = Node(item, self.last)\n",
    "    \n",
    "    def pop(self):\n",
    "        value = self.last.item\n",
    "        self.last = self.last.next\n",
    "        return value\n",
    "    \n",
    "    def __repr__(self):\n",
    "        items = []\n",
    "        now = self.last\n",
    "        while now:\n",
    "            items.append(now.item)\n",
    "            now = now.next\n",
    "        return f'Stack({items[::-1]})'"
   ]
  },
  {
   "cell_type": "code",
   "execution_count": 2,
   "id": "natural-sailing",
   "metadata": {},
   "outputs": [],
   "source": [
    "s = Stack()"
   ]
  },
  {
   "cell_type": "code",
   "execution_count": 3,
   "id": "endless-service",
   "metadata": {},
   "outputs": [],
   "source": [
    "s.push(1)\n",
    "s.push(2)"
   ]
  },
  {
   "cell_type": "code",
   "execution_count": 7,
   "id": "cognitive-history",
   "metadata": {},
   "outputs": [
    {
     "data": {
      "text/plain": [
       "1"
      ]
     },
     "execution_count": 7,
     "metadata": {},
     "output_type": "execute_result"
    }
   ],
   "source": [
    "s.pop()"
   ]
  },
  {
   "cell_type": "code",
   "execution_count": 8,
   "id": "boxed-snake",
   "metadata": {},
   "outputs": [
    {
     "data": {
      "text/plain": [
       "Stack([])"
      ]
     },
     "execution_count": 8,
     "metadata": {},
     "output_type": "execute_result"
    }
   ],
   "source": [
    "s"
   ]
  },
  {
   "cell_type": "markdown",
   "id": "adapted-entry",
   "metadata": {},
   "source": [
    "# 큐의 구현\n",
    "1. 연결 리스트 이용\n",
    "2. 배열 이용"
   ]
  },
  {
   "cell_type": "code",
   "execution_count": 40,
   "id": "chicken-prototype",
   "metadata": {},
   "outputs": [],
   "source": [
    "# 연결 리스트 이용\n",
    "class Node:\n",
    "    def __init__(self, item, next=None):\n",
    "        self.item = item\n",
    "        self.next = next\n",
    "        \n",
    "class Queue:\n",
    "    def __init__(self):\n",
    "        self.front = None\n",
    "    \n",
    "    def enQueue(self, item):\n",
    "        rear = self.front\n",
    "        if not rear:\n",
    "            self.front = Node(item)\n",
    "        else:\n",
    "            while rear.next:\n",
    "                rear = rear.next\n",
    "            rear.next = Node(item)\n",
    "    \n",
    "    def deQueue(self):\n",
    "        value = self.front.item\n",
    "        self.front = self.front.next\n",
    "        return value\n",
    "    \n",
    "    def __repr__(self):\n",
    "        items = []\n",
    "        now = self.front\n",
    "        while now:\n",
    "            items.append(now.item)\n",
    "            now = now.next\n",
    "        return f'Queue({items})'\n",
    "    \n",
    "\n",
    "# 리스트(배열) 이용\n",
    "class QueueUseArray:\n",
    "    def __init__(self):\n",
    "        self.items = []\n",
    "        self.outs = []\n",
    "        \n",
    "    def enQueue(self, item):\n",
    "        self.items.append(item)\n",
    "    \n",
    "    def deQueue(self):\n",
    "        if not self.outs:\n",
    "            while self.items:\n",
    "                self.outs.append(self.items.pop())\n",
    "        return self.outs.pop()\n",
    "    \n",
    "    def __repr__(self):\n",
    "        return f'Queue({self.outs[::-1] + self.items})'"
   ]
  },
  {
   "cell_type": "code",
   "execution_count": 30,
   "id": "composite-plumbing",
   "metadata": {},
   "outputs": [],
   "source": [
    "q = Queue()\n",
    "for i in range(1, 10):\n",
    "    q.enQueue(i)"
   ]
  },
  {
   "cell_type": "code",
   "execution_count": 31,
   "id": "unavailable-shelf",
   "metadata": {},
   "outputs": [
    {
     "data": {
      "text/plain": [
       "Queue([1, 2, 3, 4, 5, 6, 7, 8, 9])"
      ]
     },
     "execution_count": 31,
     "metadata": {},
     "output_type": "execute_result"
    }
   ],
   "source": [
    "q"
   ]
  },
  {
   "cell_type": "code",
   "execution_count": 27,
   "id": "breeding-resort",
   "metadata": {},
   "outputs": [
    {
     "data": {
      "text/plain": [
       "1"
      ]
     },
     "execution_count": 27,
     "metadata": {},
     "output_type": "execute_result"
    }
   ],
   "source": [
    "q.deQueue()"
   ]
  },
  {
   "cell_type": "code",
   "execution_count": 41,
   "id": "healthy-circus",
   "metadata": {},
   "outputs": [],
   "source": [
    "q2 = QueueUseArray()\n",
    "for i in range(1, 10):\n",
    "    q2.enQueue(i)"
   ]
  },
  {
   "cell_type": "code",
   "execution_count": 42,
   "id": "developing-graphic",
   "metadata": {},
   "outputs": [
    {
     "data": {
      "text/plain": [
       "Queue([1, 2, 3, 4, 5, 6, 7, 8, 9])"
      ]
     },
     "execution_count": 42,
     "metadata": {},
     "output_type": "execute_result"
    }
   ],
   "source": [
    "q2"
   ]
  },
  {
   "cell_type": "code",
   "execution_count": 49,
   "id": "fourth-dylan",
   "metadata": {},
   "outputs": [
    {
     "data": {
      "text/plain": [
       "4"
      ]
     },
     "execution_count": 49,
     "metadata": {},
     "output_type": "execute_result"
    }
   ],
   "source": [
    "q2.deQueue()"
   ]
  },
  {
   "cell_type": "code",
   "execution_count": 50,
   "id": "micro-agreement",
   "metadata": {},
   "outputs": [
    {
     "data": {
      "text/plain": [
       "Queue([5, 6, 7, 8, 9])"
      ]
     },
     "execution_count": 50,
     "metadata": {},
     "output_type": "execute_result"
    }
   ],
   "source": [
    "q2"
   ]
  },
  {
   "cell_type": "markdown",
   "id": "requested-difficulty",
   "metadata": {},
   "source": [
    "# 해시 테이블"
   ]
  },
  {
   "cell_type": "code",
   "execution_count": 3,
   "id": "worldwide-kitty",
   "metadata": {},
   "outputs": [],
   "source": [
    "def f(n):\n",
    "\n",
    "    import random\n",
    "\n",
    "    TRIALS = 100000\n",
    "    same_birthdays = 0\n",
    "\n",
    "    for _ in range(TRIALS):\n",
    "        birthdays = set()\n",
    "\n",
    "        for i in range(n):\n",
    "            birthday = random.randint(1, 365)\n",
    "            if birthday in birthdays:\n",
    "                same_birthdays += 1\n",
    "                break\n",
    "            birthdays.add(birthday)\n",
    "\n",
    "    return f\"{n}명 실험 : {same_birthdays / TRIALS * 100}%\""
   ]
  },
  {
   "cell_type": "code",
   "execution_count": 6,
   "id": "turned-equity",
   "metadata": {},
   "outputs": [
    {
     "name": "stdout",
     "output_type": "stream",
     "text": [
      "100명 실험 : 100.0%\n"
     ]
    }
   ],
   "source": [
    "print(f(100))"
   ]
  },
  {
   "cell_type": "code",
   "execution_count": 10,
   "id": "marine-rouge",
   "metadata": {},
   "outputs": [
    {
     "name": "stdout",
     "output_type": "stream",
     "text": [
      "3\n"
     ]
    }
   ],
   "source": [
    "print(sum(i for i in range(3)))"
   ]
  },
  {
   "cell_type": "code",
   "execution_count": 11,
   "id": "comfortable-audience",
   "metadata": {},
   "outputs": [],
   "source": [
    "a = {' ':1}"
   ]
  },
  {
   "cell_type": "code",
   "execution_count": 12,
   "id": "velvet-surgeon",
   "metadata": {},
   "outputs": [
    {
     "ename": "NameError",
     "evalue": "name 'ᄆ' is not defined",
     "output_type": "error",
     "traceback": [
      "\u001b[0;31m---------------------------------------------------------------------------\u001b[0m",
      "\u001b[0;31mNameError\u001b[0m                                 Traceback (most recent call last)",
      "\u001b[0;32m<ipython-input-12-c40bf2e438df>\u001b[0m in \u001b[0;36m<module>\u001b[0;34m\u001b[0m\n\u001b[0;32m----> 1\u001b[0;31m \u001b[0mㅁ\u001b[0m\u001b[0;34m\u001b[0m\u001b[0;34m\u001b[0m\u001b[0m\n\u001b[0m",
      "\u001b[0;31mNameError\u001b[0m: name 'ᄆ' is not defined"
     ]
    }
   ],
   "source": [
    "ㅁ"
   ]
  },
  {
   "cell_type": "code",
   "execution_count": 13,
   "id": "announced-response",
   "metadata": {},
   "outputs": [
    {
     "data": {
      "text/plain": [
       "{' ': 1}"
      ]
     },
     "execution_count": 13,
     "metadata": {},
     "output_type": "execute_result"
    }
   ],
   "source": [
    "a"
   ]
  },
  {
   "cell_type": "code",
   "execution_count": 15,
   "id": "dimensional-pilot",
   "metadata": {},
   "outputs": [
    {
     "data": {
      "text/plain": [
       "1"
      ]
     },
     "execution_count": 15,
     "metadata": {},
     "output_type": "execute_result"
    }
   ],
   "source": [
    "len(max(a.keys(), key=len))"
   ]
  },
  {
   "cell_type": "code",
   "execution_count": null,
   "id": "exceptional-raleigh",
   "metadata": {},
   "outputs": [],
   "source": []
  }
 ],
 "metadata": {
  "kernelspec": {
   "display_name": "Python 3",
   "language": "python",
   "name": "python3"
  },
  "language_info": {
   "codemirror_mode": {
    "name": "ipython",
    "version": 3
   },
   "file_extension": ".py",
   "mimetype": "text/x-python",
   "name": "python",
   "nbconvert_exporter": "python",
   "pygments_lexer": "ipython3",
   "version": "3.9.0"
  }
 },
 "nbformat": 4,
 "nbformat_minor": 5
}
