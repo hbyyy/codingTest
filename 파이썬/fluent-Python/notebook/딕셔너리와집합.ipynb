{
 "cells": [
  {
   "cell_type": "code",
   "execution_count": 2,
   "metadata": {},
   "outputs": [
    {
     "data": {
      "text/plain": [
       "{'__name__': 'builtins',\n",
       " '__doc__': \"Built-in functions, exceptions, and other objects.\\n\\nNoteworthy: None is the `nil' object; Ellipsis represents `...' in slices.\",\n",
       " '__package__': '',\n",
       " '__loader__': _frozen_importlib.BuiltinImporter,\n",
       " '__spec__': ModuleSpec(name='builtins', loader=<class '_frozen_importlib.BuiltinImporter'>),\n",
       " '__build_class__': <function __build_class__>,\n",
       " '__import__': <function __import__>,\n",
       " 'abs': <function abs(x, /)>,\n",
       " 'all': <function all(iterable, /)>,\n",
       " 'any': <function any(iterable, /)>,\n",
       " 'ascii': <function ascii(obj, /)>,\n",
       " 'bin': <function bin(number, /)>,\n",
       " 'breakpoint': <function breakpoint>,\n",
       " 'callable': <function callable(obj, /)>,\n",
       " 'chr': <function chr(i, /)>,\n",
       " 'compile': <function compile(source, filename, mode, flags=0, dont_inherit=False, optimize=-1)>,\n",
       " 'delattr': <function delattr(obj, name, /)>,\n",
       " 'dir': <function dir>,\n",
       " 'divmod': <function divmod(x, y, /)>,\n",
       " 'eval': <function eval(source, globals=None, locals=None, /)>,\n",
       " 'exec': <function exec(source, globals=None, locals=None, /)>,\n",
       " 'format': <function format(value, format_spec='', /)>,\n",
       " 'getattr': <function getattr>,\n",
       " 'globals': <function globals()>,\n",
       " 'hasattr': <function hasattr(obj, name, /)>,\n",
       " 'hash': <function hash(obj, /)>,\n",
       " 'hex': <function hex(number, /)>,\n",
       " 'id': <function id(obj, /)>,\n",
       " 'input': <bound method Kernel.raw_input of <ipykernel.ipkernel.IPythonKernel object at 0x7fd6f62ba850>>,\n",
       " 'isinstance': <function isinstance(obj, class_or_tuple, /)>,\n",
       " 'issubclass': <function issubclass(cls, class_or_tuple, /)>,\n",
       " 'iter': <function iter>,\n",
       " 'len': <function len(obj, /)>,\n",
       " 'locals': <function locals()>,\n",
       " 'max': <function max>,\n",
       " 'min': <function min>,\n",
       " 'next': <function next>,\n",
       " 'oct': <function oct(number, /)>,\n",
       " 'ord': <function ord(c, /)>,\n",
       " 'pow': <function pow(x, y, z=None, /)>,\n",
       " 'print': <function print>,\n",
       " 'repr': <function repr(obj, /)>,\n",
       " 'round': <function round(number, ndigits=None)>,\n",
       " 'setattr': <function setattr(obj, name, value, /)>,\n",
       " 'sorted': <function sorted(iterable, /, *, key=None, reverse=False)>,\n",
       " 'sum': <function sum(iterable, start=0, /)>,\n",
       " 'vars': <function vars>,\n",
       " 'None': None,\n",
       " 'Ellipsis': Ellipsis,\n",
       " 'NotImplemented': NotImplemented,\n",
       " 'False': False,\n",
       " 'True': True,\n",
       " 'bool': bool,\n",
       " 'memoryview': memoryview,\n",
       " 'bytearray': bytearray,\n",
       " 'bytes': bytes,\n",
       " 'classmethod': classmethod,\n",
       " 'complex': complex,\n",
       " 'dict': dict,\n",
       " 'enumerate': enumerate,\n",
       " 'filter': filter,\n",
       " 'float': float,\n",
       " 'frozenset': frozenset,\n",
       " 'property': property,\n",
       " 'int': int,\n",
       " 'list': list,\n",
       " 'map': map,\n",
       " 'object': object,\n",
       " 'range': range,\n",
       " 'reversed': reversed,\n",
       " 'set': set,\n",
       " 'slice': slice,\n",
       " 'staticmethod': staticmethod,\n",
       " 'str': str,\n",
       " 'super': super,\n",
       " 'tuple': tuple,\n",
       " 'type': type,\n",
       " 'zip': zip,\n",
       " '__debug__': True,\n",
       " 'BaseException': BaseException,\n",
       " 'Exception': Exception,\n",
       " 'TypeError': TypeError,\n",
       " 'StopAsyncIteration': StopAsyncIteration,\n",
       " 'StopIteration': StopIteration,\n",
       " 'GeneratorExit': GeneratorExit,\n",
       " 'SystemExit': SystemExit,\n",
       " 'KeyboardInterrupt': KeyboardInterrupt,\n",
       " 'ImportError': ImportError,\n",
       " 'ModuleNotFoundError': ModuleNotFoundError,\n",
       " 'OSError': OSError,\n",
       " 'EnvironmentError': OSError,\n",
       " 'IOError': OSError,\n",
       " 'EOFError': EOFError,\n",
       " 'RuntimeError': RuntimeError,\n",
       " 'RecursionError': RecursionError,\n",
       " 'NotImplementedError': NotImplementedError,\n",
       " 'NameError': NameError,\n",
       " 'UnboundLocalError': UnboundLocalError,\n",
       " 'AttributeError': AttributeError,\n",
       " 'SyntaxError': SyntaxError,\n",
       " 'IndentationError': IndentationError,\n",
       " 'TabError': TabError,\n",
       " 'LookupError': LookupError,\n",
       " 'IndexError': IndexError,\n",
       " 'KeyError': KeyError,\n",
       " 'ValueError': ValueError,\n",
       " 'UnicodeError': UnicodeError,\n",
       " 'UnicodeEncodeError': UnicodeEncodeError,\n",
       " 'UnicodeDecodeError': UnicodeDecodeError,\n",
       " 'UnicodeTranslateError': UnicodeTranslateError,\n",
       " 'AssertionError': AssertionError,\n",
       " 'ArithmeticError': ArithmeticError,\n",
       " 'FloatingPointError': FloatingPointError,\n",
       " 'OverflowError': OverflowError,\n",
       " 'ZeroDivisionError': ZeroDivisionError,\n",
       " 'SystemError': SystemError,\n",
       " 'ReferenceError': ReferenceError,\n",
       " 'MemoryError': MemoryError,\n",
       " 'BufferError': BufferError,\n",
       " 'Warning': Warning,\n",
       " 'UserWarning': UserWarning,\n",
       " 'DeprecationWarning': DeprecationWarning,\n",
       " 'PendingDeprecationWarning': PendingDeprecationWarning,\n",
       " 'SyntaxWarning': SyntaxWarning,\n",
       " 'RuntimeWarning': RuntimeWarning,\n",
       " 'FutureWarning': FutureWarning,\n",
       " 'ImportWarning': ImportWarning,\n",
       " 'UnicodeWarning': UnicodeWarning,\n",
       " 'BytesWarning': BytesWarning,\n",
       " 'ResourceWarning': ResourceWarning,\n",
       " 'ConnectionError': ConnectionError,\n",
       " 'BlockingIOError': BlockingIOError,\n",
       " 'BrokenPipeError': BrokenPipeError,\n",
       " 'ChildProcessError': ChildProcessError,\n",
       " 'ConnectionAbortedError': ConnectionAbortedError,\n",
       " 'ConnectionRefusedError': ConnectionRefusedError,\n",
       " 'ConnectionResetError': ConnectionResetError,\n",
       " 'FileExistsError': FileExistsError,\n",
       " 'FileNotFoundError': FileNotFoundError,\n",
       " 'IsADirectoryError': IsADirectoryError,\n",
       " 'NotADirectoryError': NotADirectoryError,\n",
       " 'InterruptedError': InterruptedError,\n",
       " 'PermissionError': PermissionError,\n",
       " 'ProcessLookupError': ProcessLookupError,\n",
       " 'TimeoutError': TimeoutError,\n",
       " 'open': <function io.open(file, mode='r', buffering=-1, encoding=None, errors=None, newline=None, closefd=True, opener=None)>,\n",
       " 'copyright': Copyright (c) 2001-2019 Python Software Foundation.\n",
       " All Rights Reserved.\n",
       " \n",
       " Copyright (c) 2000 BeOpen.com.\n",
       " All Rights Reserved.\n",
       " \n",
       " Copyright (c) 1995-2001 Corporation for National Research Initiatives.\n",
       " All Rights Reserved.\n",
       " \n",
       " Copyright (c) 1991-1995 Stichting Mathematisch Centrum, Amsterdam.\n",
       " All Rights Reserved.,\n",
       " 'credits':     Thanks to CWI, CNRI, BeOpen.com, Zope Corporation and a cast of thousands\n",
       "     for supporting Python development.  See www.python.org for more information.,\n",
       " 'license': Type license() to see the full license text,\n",
       " 'help': Type help() for interactive help, or help(object) for help about object.,\n",
       " '__IPYTHON__': True,\n",
       " 'display': <function IPython.core.display.display(*objs, include=None, exclude=None, metadata=None, transient=None, display_id=None, **kwargs)>,\n",
       " 'get_ipython': <bound method InteractiveShell.get_ipython of <ipykernel.zmqshell.ZMQInteractiveShell object at 0x7fd6f629f210>>}"
      ]
     },
     "execution_count": 2,
     "metadata": {},
     "output_type": "execute_result"
    }
   ],
   "source": [
    "__builtins__.__dict__"
   ]
  },
  {
   "cell_type": "code",
   "execution_count": 3,
   "metadata": {},
   "outputs": [],
   "source": [
    "a = {1:1, 2:2}"
   ]
  },
  {
   "cell_type": "code",
   "execution_count": 4,
   "metadata": {},
   "outputs": [
    {
     "ename": "TypeError",
     "evalue": "pop expected at least 1 arguments, got 0",
     "output_type": "error",
     "traceback": [
      "\u001b[0;31m---------------------------------------------------------------------------\u001b[0m",
      "\u001b[0;31mTypeError\u001b[0m                                 Traceback (most recent call last)",
      "\u001b[0;32m<ipython-input-4-9c070c907602>\u001b[0m in \u001b[0;36m<module>\u001b[0;34m\u001b[0m\n\u001b[0;32m----> 1\u001b[0;31m \u001b[0ma\u001b[0m\u001b[0;34m.\u001b[0m\u001b[0mpop\u001b[0m\u001b[0;34m(\u001b[0m\u001b[0;34m)\u001b[0m\u001b[0;34m\u001b[0m\u001b[0;34m\u001b[0m\u001b[0m\n\u001b[0m",
      "\u001b[0;31mTypeError\u001b[0m: pop expected at least 1 arguments, got 0"
     ]
    }
   ],
   "source": [
    "a.pop()"
   ]
  },
  {
   "cell_type": "code",
   "execution_count": 5,
   "metadata": {},
   "outputs": [
    {
     "data": {
      "text/plain": [
       "(2, 2)"
      ]
     },
     "execution_count": 5,
     "metadata": {},
     "output_type": "execute_result"
    }
   ],
   "source": [
    "a.popitem()"
   ]
  },
  {
   "cell_type": "code",
   "execution_count": 6,
   "metadata": {},
   "outputs": [
    {
     "data": {
      "text/plain": [
       "{1: 1}"
      ]
     },
     "execution_count": 6,
     "metadata": {},
     "output_type": "execute_result"
    }
   ],
   "source": [
    "a"
   ]
  },
  {
   "cell_type": "code",
   "execution_count": 7,
   "metadata": {},
   "outputs": [
    {
     "data": {
      "text/plain": [
       "1"
      ]
     },
     "execution_count": 7,
     "metadata": {},
     "output_type": "execute_result"
    }
   ],
   "source": [
    "a.pop(1)"
   ]
  },
  {
   "cell_type": "code",
   "execution_count": 8,
   "metadata": {},
   "outputs": [
    {
     "data": {
      "text/plain": [
       "{}"
      ]
     },
     "execution_count": 8,
     "metadata": {},
     "output_type": "execute_result"
    }
   ],
   "source": [
    "a"
   ]
  },
  {
   "cell_type": "code",
   "execution_count": 9,
   "metadata": {},
   "outputs": [
    {
     "ename": "KeyError",
     "evalue": "1",
     "output_type": "error",
     "traceback": [
      "\u001b[0;31m---------------------------------------------------------------------------\u001b[0m",
      "\u001b[0;31mKeyError\u001b[0m                                  Traceback (most recent call last)",
      "\u001b[0;32m<ipython-input-9-c0c1bf4317e6>\u001b[0m in \u001b[0;36m<module>\u001b[0;34m\u001b[0m\n\u001b[0;32m----> 1\u001b[0;31m \u001b[0ma\u001b[0m\u001b[0;34m.\u001b[0m\u001b[0mpop\u001b[0m\u001b[0;34m(\u001b[0m\u001b[0;36m1\u001b[0m\u001b[0;34m)\u001b[0m\u001b[0;34m\u001b[0m\u001b[0;34m\u001b[0m\u001b[0m\n\u001b[0m",
      "\u001b[0;31mKeyError\u001b[0m: 1"
     ]
    }
   ],
   "source": [
    "a.pop(1)"
   ]
  },
  {
   "cell_type": "code",
   "execution_count": 12,
   "metadata": {},
   "outputs": [
    {
     "data": {
      "text/plain": [
       "1"
      ]
     },
     "execution_count": 12,
     "metadata": {},
     "output_type": "execute_result"
    }
   ],
   "source": [
    "a.setdefault(2, 1)"
   ]
  },
  {
   "cell_type": "code",
   "execution_count": 13,
   "metadata": {},
   "outputs": [
    {
     "data": {
      "text/plain": [
       "{1: None, 2: 1}"
      ]
     },
     "execution_count": 13,
     "metadata": {},
     "output_type": "execute_result"
    }
   ],
   "source": [
    "a"
   ]
  },
  {
   "cell_type": "code",
   "execution_count": 19,
   "metadata": {},
   "outputs": [
    {
     "data": {
      "text/plain": [
       "[]"
      ]
     },
     "execution_count": 19,
     "metadata": {},
     "output_type": "execute_result"
    }
   ],
   "source": [
    "a.setdefault(3, [])"
   ]
  },
  {
   "cell_type": "code",
   "execution_count": 20,
   "metadata": {},
   "outputs": [
    {
     "data": {
      "text/plain": [
       "{1: None, 2: 1, 3: []}"
      ]
     },
     "execution_count": 20,
     "metadata": {},
     "output_type": "execute_result"
    }
   ],
   "source": [
    "a"
   ]
  },
  {
   "cell_type": "code",
   "execution_count": 22,
   "metadata": {},
   "outputs": [],
   "source": [
    "from collections.abc import Mapping"
   ]
  },
  {
   "cell_type": "code",
   "execution_count": 31,
   "metadata": {},
   "outputs": [],
   "source": [
    "a = [1, 2]\n",
    "b = [3,4]"
   ]
  },
  {
   "cell_type": "code",
   "execution_count": 33,
   "metadata": {},
   "outputs": [
    {
     "name": "stdout",
     "output_type": "stream",
     "text": [
      "1 : 3\n",
      "1 : 4\n",
      "2 : 3\n",
      "2 : 4\n"
     ]
    }
   ],
   "source": [
    "for c in (f'{x} : {y}' for x in a for y in b):\n",
    "    print(c)"
   ]
  },
  {
   "cell_type": "code",
   "execution_count": 34,
   "metadata": {},
   "outputs": [],
   "source": [
    "a = {1:1, 2:2}"
   ]
  },
  {
   "cell_type": "code",
   "execution_count": 35,
   "metadata": {},
   "outputs": [],
   "source": [
    "b = a"
   ]
  },
  {
   "cell_type": "code",
   "execution_count": 36,
   "metadata": {},
   "outputs": [],
   "source": [
    "a[1] = 2"
   ]
  },
  {
   "cell_type": "code",
   "execution_count": 37,
   "metadata": {},
   "outputs": [
    {
     "data": {
      "text/plain": [
       "{1: 2, 2: 2}"
      ]
     },
     "execution_count": 37,
     "metadata": {},
     "output_type": "execute_result"
    }
   ],
   "source": [
    "b"
   ]
  },
  {
   "cell_type": "code",
   "execution_count": 38,
   "metadata": {},
   "outputs": [
    {
     "data": {
      "text/plain": [
       "{1: 2, 2: 2}"
      ]
     },
     "execution_count": 38,
     "metadata": {},
     "output_type": "execute_result"
    }
   ],
   "source": [
    "a"
   ]
  },
  {
   "cell_type": "code",
   "execution_count": 39,
   "metadata": {},
   "outputs": [],
   "source": [
    "a = {1:1, 2:2}"
   ]
  },
  {
   "cell_type": "code",
   "execution_count": 40,
   "metadata": {},
   "outputs": [],
   "source": [
    "b = a.copy()"
   ]
  },
  {
   "cell_type": "code",
   "execution_count": 41,
   "metadata": {},
   "outputs": [
    {
     "data": {
      "text/plain": [
       "{1: 1, 2: 2}"
      ]
     },
     "execution_count": 41,
     "metadata": {},
     "output_type": "execute_result"
    }
   ],
   "source": [
    "b"
   ]
  },
  {
   "cell_type": "code",
   "execution_count": 42,
   "metadata": {},
   "outputs": [],
   "source": [
    "b[1] = 2"
   ]
  },
  {
   "cell_type": "code",
   "execution_count": 43,
   "metadata": {},
   "outputs": [
    {
     "data": {
      "text/plain": [
       "{1: 2, 2: 2}"
      ]
     },
     "execution_count": 43,
     "metadata": {},
     "output_type": "execute_result"
    }
   ],
   "source": [
    "b"
   ]
  },
  {
   "cell_type": "code",
   "execution_count": 44,
   "metadata": {},
   "outputs": [
    {
     "data": {
      "text/plain": [
       "1"
      ]
     },
     "execution_count": 44,
     "metadata": {},
     "output_type": "execute_result"
    }
   ],
   "source": [
    "1"
   ]
  },
  {
   "cell_type": "code",
   "execution_count": 45,
   "metadata": {},
   "outputs": [
    {
     "data": {
      "text/plain": [
       "{1: 1, 2: 2}"
      ]
     },
     "execution_count": 45,
     "metadata": {},
     "output_type": "execute_result"
    }
   ],
   "source": [
    "a"
   ]
  },
  {
   "cell_type": "code",
   "execution_count": 46,
   "metadata": {},
   "outputs": [],
   "source": [
    "from copy import copy"
   ]
  },
  {
   "cell_type": "code",
   "execution_count": 47,
   "metadata": {},
   "outputs": [],
   "source": [
    "a = copy(b)"
   ]
  },
  {
   "cell_type": "code",
   "execution_count": 48,
   "metadata": {},
   "outputs": [
    {
     "data": {
      "text/plain": [
       "{1: 2, 2: 2}"
      ]
     },
     "execution_count": 48,
     "metadata": {},
     "output_type": "execute_result"
    }
   ],
   "source": [
    "a"
   ]
  },
  {
   "cell_type": "code",
   "execution_count": 49,
   "metadata": {},
   "outputs": [
    {
     "data": {
      "text/plain": [
       "{1: 2, 2: 2}"
      ]
     },
     "execution_count": 49,
     "metadata": {},
     "output_type": "execute_result"
    }
   ],
   "source": [
    "b"
   ]
  },
  {
   "cell_type": "code",
   "execution_count": 50,
   "metadata": {},
   "outputs": [],
   "source": [
    "a[1] = 3"
   ]
  },
  {
   "cell_type": "code",
   "execution_count": 51,
   "metadata": {},
   "outputs": [
    {
     "data": {
      "text/plain": [
       "{1: 2, 2: 2}"
      ]
     },
     "execution_count": 51,
     "metadata": {},
     "output_type": "execute_result"
    }
   ],
   "source": [
    "b"
   ]
  },
  {
   "cell_type": "code",
   "execution_count": 52,
   "metadata": {},
   "outputs": [
    {
     "data": {
      "text/plain": [
       "{1: 3, 2: 2}"
      ]
     },
     "execution_count": 52,
     "metadata": {},
     "output_type": "execute_result"
    }
   ],
   "source": [
    "a"
   ]
  },
  {
   "cell_type": "code",
   "execution_count": 53,
   "metadata": {},
   "outputs": [],
   "source": [
    "a = {1:[1, 2], 2: [1, 2]}"
   ]
  },
  {
   "cell_type": "code",
   "execution_count": 54,
   "metadata": {},
   "outputs": [],
   "source": [
    "b = copy(a)"
   ]
  },
  {
   "cell_type": "code",
   "execution_count": 55,
   "metadata": {},
   "outputs": [
    {
     "data": {
      "text/plain": [
       "{1: [1, 2], 2: [1, 2]}"
      ]
     },
     "execution_count": 55,
     "metadata": {},
     "output_type": "execute_result"
    }
   ],
   "source": [
    "a"
   ]
  },
  {
   "cell_type": "code",
   "execution_count": 56,
   "metadata": {},
   "outputs": [
    {
     "data": {
      "text/plain": [
       "{1: [1, 2], 2: [1, 2]}"
      ]
     },
     "execution_count": 56,
     "metadata": {},
     "output_type": "execute_result"
    }
   ],
   "source": [
    "b"
   ]
  },
  {
   "cell_type": "code",
   "execution_count": 57,
   "metadata": {},
   "outputs": [],
   "source": [
    "b[1].append(3)"
   ]
  },
  {
   "cell_type": "code",
   "execution_count": 58,
   "metadata": {},
   "outputs": [
    {
     "data": {
      "text/plain": [
       "{1: [1, 2, 3], 2: [1, 2]}"
      ]
     },
     "execution_count": 58,
     "metadata": {},
     "output_type": "execute_result"
    }
   ],
   "source": [
    "a"
   ]
  },
  {
   "cell_type": "code",
   "execution_count": 59,
   "metadata": {},
   "outputs": [
    {
     "data": {
      "text/plain": [
       "{1: [1, 2, 3], 2: [1, 2]}"
      ]
     },
     "execution_count": 59,
     "metadata": {},
     "output_type": "execute_result"
    }
   ],
   "source": [
    "b"
   ]
  },
  {
   "cell_type": "code",
   "execution_count": 60,
   "metadata": {},
   "outputs": [],
   "source": [
    "from copy import deepcopy"
   ]
  },
  {
   "cell_type": "code",
   "execution_count": 61,
   "metadata": {},
   "outputs": [],
   "source": [
    "b = deepcopy(a)"
   ]
  },
  {
   "cell_type": "code",
   "execution_count": 62,
   "metadata": {},
   "outputs": [
    {
     "data": {
      "text/plain": [
       "{1: [1, 2, 3], 2: [1, 2]}"
      ]
     },
     "execution_count": 62,
     "metadata": {},
     "output_type": "execute_result"
    }
   ],
   "source": [
    "b"
   ]
  },
  {
   "cell_type": "code",
   "execution_count": 63,
   "metadata": {},
   "outputs": [
    {
     "data": {
      "text/plain": [
       "{1: [1, 2, 3], 2: [1, 2]}"
      ]
     },
     "execution_count": 63,
     "metadata": {},
     "output_type": "execute_result"
    }
   ],
   "source": [
    "a"
   ]
  },
  {
   "cell_type": "code",
   "execution_count": 64,
   "metadata": {},
   "outputs": [],
   "source": [
    "a[1].append(4)"
   ]
  },
  {
   "cell_type": "code",
   "execution_count": 65,
   "metadata": {},
   "outputs": [
    {
     "data": {
      "text/plain": [
       "{1: [1, 2, 3, 4], 2: [1, 2]}"
      ]
     },
     "execution_count": 65,
     "metadata": {},
     "output_type": "execute_result"
    }
   ],
   "source": [
    "a"
   ]
  },
  {
   "cell_type": "code",
   "execution_count": 66,
   "metadata": {},
   "outputs": [
    {
     "data": {
      "text/plain": [
       "{1: [1, 2, 3], 2: [1, 2]}"
      ]
     },
     "execution_count": 66,
     "metadata": {},
     "output_type": "execute_result"
    }
   ],
   "source": [
    "b"
   ]
  },
  {
   "cell_type": "code",
   "execution_count": 67,
   "metadata": {},
   "outputs": [
    {
     "ename": "TypeError",
     "evalue": "unhashable type: 'dict'",
     "output_type": "error",
     "traceback": [
      "\u001b[0;31m---------------------------------------------------------------------------\u001b[0m",
      "\u001b[0;31mTypeError\u001b[0m                                 Traceback (most recent call last)",
      "\u001b[0;32m<ipython-input-67-c2af8a794091>\u001b[0m in \u001b[0;36m<module>\u001b[0;34m\u001b[0m\n\u001b[0;32m----> 1\u001b[0;31m \u001b[0ma\u001b[0m \u001b[0;32min\u001b[0m \u001b[0mb\u001b[0m\u001b[0;34m\u001b[0m\u001b[0;34m\u001b[0m\u001b[0m\n\u001b[0m",
      "\u001b[0;31mTypeError\u001b[0m: unhashable type: 'dict'"
     ]
    }
   ],
   "source": [
    "a in b"
   ]
  },
  {
   "cell_type": "code",
   "execution_count": 68,
   "metadata": {},
   "outputs": [
    {
     "data": {
      "text/plain": [
       "True"
      ]
     },
     "execution_count": 68,
     "metadata": {},
     "output_type": "execute_result"
    }
   ],
   "source": [
    "1 in b"
   ]
  },
  {
   "cell_type": "code",
   "execution_count": 69,
   "metadata": {},
   "outputs": [],
   "source": [
    "del a[1]"
   ]
  },
  {
   "cell_type": "code",
   "execution_count": 70,
   "metadata": {},
   "outputs": [
    {
     "data": {
      "text/plain": [
       "{2: [1, 2]}"
      ]
     },
     "execution_count": 70,
     "metadata": {},
     "output_type": "execute_result"
    }
   ],
   "source": [
    "a"
   ]
  },
  {
   "cell_type": "code",
   "execution_count": 71,
   "metadata": {},
   "outputs": [
    {
     "data": {
      "text/plain": [
       "{1: [1, 2, 3], 2: [1, 2]}"
      ]
     },
     "execution_count": 71,
     "metadata": {},
     "output_type": "execute_result"
    }
   ],
   "source": [
    "b"
   ]
  },
  {
   "cell_type": "code",
   "execution_count": 88,
   "metadata": {},
   "outputs": [],
   "source": [
    "from collections import defaultdict"
   ]
  },
  {
   "cell_type": "code",
   "execution_count": 90,
   "metadata": {},
   "outputs": [],
   "source": [
    "a = defaultdict(list)"
   ]
  },
  {
   "cell_type": "code",
   "execution_count": 93,
   "metadata": {},
   "outputs": [
    {
     "name": "stdout",
     "output_type": "stream",
     "text": [
      "Help on defaultdict object:\n",
      "\n",
      "class defaultdict(builtins.dict)\n",
      " |  defaultdict(default_factory[, ...]) --> dict with default factory\n",
      " |  \n",
      " |  The default factory is called without arguments to produce\n",
      " |  a new value when a key is not present, in __getitem__ only.\n",
      " |  A defaultdict compares equal to a dict with the same items.\n",
      " |  All remaining arguments are treated the same as if they were\n",
      " |  passed to the dict constructor, including keyword arguments.\n",
      " |  \n",
      " |  Method resolution order:\n",
      " |      defaultdict\n",
      " |      builtins.dict\n",
      " |      builtins.object\n",
      " |  \n",
      " |  Methods defined here:\n",
      " |  \n",
      " |  __copy__(...)\n",
      " |      D.copy() -> a shallow copy of D.\n",
      " |  \n",
      " |  __getattribute__(self, name, /)\n",
      " |      Return getattr(self, name).\n",
      " |  \n",
      " |  __init__(self, /, *args, **kwargs)\n",
      " |      Initialize self.  See help(type(self)) for accurate signature.\n",
      " |  \n",
      " |  __missing__(...)\n",
      " |      __missing__(key) # Called by __getitem__ for missing key; pseudo-code:\n",
      " |      if self.default_factory is None: raise KeyError((key,))\n",
      " |      self[key] = value = self.default_factory()\n",
      " |      return value\n",
      " |  \n",
      " |  __reduce__(...)\n",
      " |      Return state information for pickling.\n",
      " |  \n",
      " |  __repr__(self, /)\n",
      " |      Return repr(self).\n",
      " |  \n",
      " |  copy(...)\n",
      " |      D.copy() -> a shallow copy of D.\n",
      " |  \n",
      " |  ----------------------------------------------------------------------\n",
      " |  Data descriptors defined here:\n",
      " |  \n",
      " |  default_factory\n",
      " |      Factory for default value called by __missing__().\n",
      " |  \n",
      " |  ----------------------------------------------------------------------\n",
      " |  Methods inherited from builtins.dict:\n",
      " |  \n",
      " |  __contains__(self, key, /)\n",
      " |      True if the dictionary has the specified key, else False.\n",
      " |  \n",
      " |  __delitem__(self, key, /)\n",
      " |      Delete self[key].\n",
      " |  \n",
      " |  __eq__(self, value, /)\n",
      " |      Return self==value.\n",
      " |  \n",
      " |  __ge__(self, value, /)\n",
      " |      Return self>=value.\n",
      " |  \n",
      " |  __getitem__(...)\n",
      " |      x.__getitem__(y) <==> x[y]\n",
      " |  \n",
      " |  __gt__(self, value, /)\n",
      " |      Return self>value.\n",
      " |  \n",
      " |  __iter__(self, /)\n",
      " |      Implement iter(self).\n",
      " |  \n",
      " |  __le__(self, value, /)\n",
      " |      Return self<=value.\n",
      " |  \n",
      " |  __len__(self, /)\n",
      " |      Return len(self).\n",
      " |  \n",
      " |  __lt__(self, value, /)\n",
      " |      Return self<value.\n",
      " |  \n",
      " |  __ne__(self, value, /)\n",
      " |      Return self!=value.\n",
      " |  \n",
      " |  __setitem__(self, key, value, /)\n",
      " |      Set self[key] to value.\n",
      " |  \n",
      " |  __sizeof__(...)\n",
      " |      D.__sizeof__() -> size of D in memory, in bytes\n",
      " |  \n",
      " |  clear(...)\n",
      " |      D.clear() -> None.  Remove all items from D.\n",
      " |  \n",
      " |  get(self, key, default=None, /)\n",
      " |      Return the value for key if key is in the dictionary, else default.\n",
      " |  \n",
      " |  items(...)\n",
      " |      D.items() -> a set-like object providing a view on D's items\n",
      " |  \n",
      " |  keys(...)\n",
      " |      D.keys() -> a set-like object providing a view on D's keys\n",
      " |  \n",
      " |  pop(...)\n",
      " |      D.pop(k[,d]) -> v, remove specified key and return the corresponding value.\n",
      " |      If key is not found, d is returned if given, otherwise KeyError is raised\n",
      " |  \n",
      " |  popitem(...)\n",
      " |      D.popitem() -> (k, v), remove and return some (key, value) pair as a\n",
      " |      2-tuple; but raise KeyError if D is empty.\n",
      " |  \n",
      " |  setdefault(self, key, default=None, /)\n",
      " |      Insert key with a value of default if key is not in the dictionary.\n",
      " |      \n",
      " |      Return the value for key if key is in the dictionary, else default.\n",
      " |  \n",
      " |  update(...)\n",
      " |      D.update([E, ]**F) -> None.  Update D from dict/iterable E and F.\n",
      " |      If E is present and has a .keys() method, then does:  for k in E: D[k] = E[k]\n",
      " |      If E is present and lacks a .keys() method, then does:  for k, v in E: D[k] = v\n",
      " |      In either case, this is followed by: for k in F:  D[k] = F[k]\n",
      " |  \n",
      " |  values(...)\n",
      " |      D.values() -> an object providing a view on D's values\n",
      " |  \n",
      " |  ----------------------------------------------------------------------\n",
      " |  Class methods inherited from builtins.dict:\n",
      " |  \n",
      " |  fromkeys(iterable, value=None, /) from builtins.type\n",
      " |      Create a new dictionary with keys from iterable and values set to value.\n",
      " |  \n",
      " |  ----------------------------------------------------------------------\n",
      " |  Static methods inherited from builtins.dict:\n",
      " |  \n",
      " |  __new__(*args, **kwargs) from builtins.type\n",
      " |      Create and return a new object.  See help(type) for accurate signature.\n",
      " |  \n",
      " |  ----------------------------------------------------------------------\n",
      " |  Data and other attributes inherited from builtins.dict:\n",
      " |  \n",
      " |  __hash__ = None\n",
      "\n"
     ]
    }
   ],
   "source": [
    "help(a)"
   ]
  },
  {
   "cell_type": "code",
   "execution_count": 96,
   "metadata": {},
   "outputs": [
    {
     "data": {
      "text/plain": [
       "[1, 2]"
      ]
     },
     "execution_count": 96,
     "metadata": {},
     "output_type": "execute_result"
    }
   ],
   "source": [
    "a = defaultdict(list)\n",
    "a[1] = [1, 2]\n",
    "a[2] = [3, 4]\n",
    "a[1]"
   ]
  },
  {
   "cell_type": "code",
   "execution_count": 97,
   "metadata": {},
   "outputs": [
    {
     "data": {
      "text/plain": [
       "[1, 2]"
      ]
     },
     "execution_count": 97,
     "metadata": {},
     "output_type": "execute_result"
    }
   ],
   "source": [
    "a[1]"
   ]
  },
  {
   "cell_type": "code",
   "execution_count": 98,
   "metadata": {},
   "outputs": [
    {
     "data": {
      "text/plain": [
       "[]"
      ]
     },
     "execution_count": 98,
     "metadata": {},
     "output_type": "execute_result"
    }
   ],
   "source": [
    "a[3]"
   ]
  },
  {
   "cell_type": "code",
   "execution_count": 99,
   "metadata": {},
   "outputs": [
    {
     "data": {
      "text/plain": [
       "defaultdict(list, {1: [1, 2], 2: [3, 4], 3: []})"
      ]
     },
     "execution_count": 99,
     "metadata": {},
     "output_type": "execute_result"
    }
   ],
   "source": [
    "a"
   ]
  },
  {
   "cell_type": "code",
   "execution_count": 100,
   "metadata": {},
   "outputs": [
    {
     "data": {
      "text/plain": [
       "list"
      ]
     },
     "execution_count": 100,
     "metadata": {},
     "output_type": "execute_result"
    }
   ],
   "source": [
    "a.default_factory"
   ]
  },
  {
   "cell_type": "code",
   "execution_count": 128,
   "metadata": {},
   "outputs": [],
   "source": [
    "class StrKeyDict0(dict):\n",
    "    def __missing__(self, key):\n",
    "        if isinstance(key, str):\n",
    "            raise KeyError(key)\n",
    "        return self[str(key)]\n",
    "    \n",
    "    def get(self, key, default=None):\n",
    "        try:\n",
    "            return self[key]\n",
    "        except KeyError:\n",
    "            return default\n",
    "        \n",
    "    def __contains__(self, key):\n",
    "        return key in self.keys() or str(key) in self.keys()\n",
    "        \n",
    "    \n",
    "    "
   ]
  },
  {
   "cell_type": "code",
   "execution_count": 121,
   "metadata": {},
   "outputs": [],
   "source": [
    "a = StrKeyDict0([('2', 'two'), ('4', 'four')])"
   ]
  },
  {
   "cell_type": "code",
   "execution_count": 122,
   "metadata": {},
   "outputs": [
    {
     "data": {
      "text/plain": [
       "{'2': 'two', '4': 'four'}"
      ]
     },
     "execution_count": 122,
     "metadata": {},
     "output_type": "execute_result"
    }
   ],
   "source": [
    "a"
   ]
  },
  {
   "cell_type": "code",
   "execution_count": 123,
   "metadata": {},
   "outputs": [
    {
     "data": {
      "text/plain": [
       "'two'"
      ]
     },
     "execution_count": 123,
     "metadata": {},
     "output_type": "execute_result"
    }
   ],
   "source": [
    "a[2]"
   ]
  },
  {
   "cell_type": "code",
   "execution_count": 124,
   "metadata": {},
   "outputs": [
    {
     "data": {
      "text/plain": [
       "'two'"
      ]
     },
     "execution_count": 124,
     "metadata": {},
     "output_type": "execute_result"
    }
   ],
   "source": [
    "a['2']"
   ]
  },
  {
   "cell_type": "code",
   "execution_count": 125,
   "metadata": {},
   "outputs": [
    {
     "ename": "KeyError",
     "evalue": "'1'",
     "output_type": "error",
     "traceback": [
      "\u001b[0;31m---------------------------------------------------------------------------\u001b[0m",
      "\u001b[0;31mKeyError\u001b[0m                                  Traceback (most recent call last)",
      "\u001b[0;32m<ipython-input-125-8bc71255a22e>\u001b[0m in \u001b[0;36m<module>\u001b[0;34m\u001b[0m\n\u001b[0;32m----> 1\u001b[0;31m \u001b[0ma\u001b[0m\u001b[0;34m[\u001b[0m\u001b[0;36m1\u001b[0m\u001b[0;34m]\u001b[0m\u001b[0;34m\u001b[0m\u001b[0;34m\u001b[0m\u001b[0m\n\u001b[0m",
      "\u001b[0;32m<ipython-input-120-2d4c3f855adc>\u001b[0m in \u001b[0;36m__missing__\u001b[0;34m(self, key)\u001b[0m\n\u001b[1;32m      3\u001b[0m         \u001b[0;32mif\u001b[0m \u001b[0misinstance\u001b[0m\u001b[0;34m(\u001b[0m\u001b[0mkey\u001b[0m\u001b[0;34m,\u001b[0m \u001b[0mstr\u001b[0m\u001b[0;34m)\u001b[0m\u001b[0;34m:\u001b[0m\u001b[0;34m\u001b[0m\u001b[0;34m\u001b[0m\u001b[0m\n\u001b[1;32m      4\u001b[0m             \u001b[0;32mraise\u001b[0m \u001b[0mKeyError\u001b[0m\u001b[0;34m(\u001b[0m\u001b[0mkey\u001b[0m\u001b[0;34m)\u001b[0m\u001b[0;34m\u001b[0m\u001b[0;34m\u001b[0m\u001b[0m\n\u001b[0;32m----> 5\u001b[0;31m         \u001b[0;32mreturn\u001b[0m \u001b[0mself\u001b[0m\u001b[0;34m[\u001b[0m\u001b[0mstr\u001b[0m\u001b[0;34m(\u001b[0m\u001b[0mkey\u001b[0m\u001b[0;34m)\u001b[0m\u001b[0;34m]\u001b[0m\u001b[0;34m\u001b[0m\u001b[0;34m\u001b[0m\u001b[0m\n\u001b[0m\u001b[1;32m      6\u001b[0m \u001b[0;34m\u001b[0m\u001b[0m\n\u001b[1;32m      7\u001b[0m     \u001b[0;32mdef\u001b[0m \u001b[0mget\u001b[0m\u001b[0;34m(\u001b[0m\u001b[0mself\u001b[0m\u001b[0;34m,\u001b[0m \u001b[0mkey\u001b[0m\u001b[0;34m,\u001b[0m \u001b[0mdefault\u001b[0m\u001b[0;34m=\u001b[0m\u001b[0;32mNone\u001b[0m\u001b[0;34m)\u001b[0m\u001b[0;34m:\u001b[0m\u001b[0;34m\u001b[0m\u001b[0;34m\u001b[0m\u001b[0m\n",
      "\u001b[0;32m<ipython-input-120-2d4c3f855adc>\u001b[0m in \u001b[0;36m__missing__\u001b[0;34m(self, key)\u001b[0m\n\u001b[1;32m      2\u001b[0m     \u001b[0;32mdef\u001b[0m \u001b[0m__missing__\u001b[0m\u001b[0;34m(\u001b[0m\u001b[0mself\u001b[0m\u001b[0;34m,\u001b[0m \u001b[0mkey\u001b[0m\u001b[0;34m)\u001b[0m\u001b[0;34m:\u001b[0m\u001b[0;34m\u001b[0m\u001b[0;34m\u001b[0m\u001b[0m\n\u001b[1;32m      3\u001b[0m         \u001b[0;32mif\u001b[0m \u001b[0misinstance\u001b[0m\u001b[0;34m(\u001b[0m\u001b[0mkey\u001b[0m\u001b[0;34m,\u001b[0m \u001b[0mstr\u001b[0m\u001b[0;34m)\u001b[0m\u001b[0;34m:\u001b[0m\u001b[0;34m\u001b[0m\u001b[0;34m\u001b[0m\u001b[0m\n\u001b[0;32m----> 4\u001b[0;31m             \u001b[0;32mraise\u001b[0m \u001b[0mKeyError\u001b[0m\u001b[0;34m(\u001b[0m\u001b[0mkey\u001b[0m\u001b[0;34m)\u001b[0m\u001b[0;34m\u001b[0m\u001b[0;34m\u001b[0m\u001b[0m\n\u001b[0m\u001b[1;32m      5\u001b[0m         \u001b[0;32mreturn\u001b[0m \u001b[0mself\u001b[0m\u001b[0;34m[\u001b[0m\u001b[0mstr\u001b[0m\u001b[0;34m(\u001b[0m\u001b[0mkey\u001b[0m\u001b[0;34m)\u001b[0m\u001b[0;34m]\u001b[0m\u001b[0;34m\u001b[0m\u001b[0;34m\u001b[0m\u001b[0m\n\u001b[1;32m      6\u001b[0m \u001b[0;34m\u001b[0m\u001b[0m\n",
      "\u001b[0;31mKeyError\u001b[0m: '1'"
     ]
    }
   ],
   "source": [
    "a[1]"
   ]
  },
  {
   "cell_type": "code",
   "execution_count": 127,
   "metadata": {},
   "outputs": [
    {
     "data": {
      "text/plain": [
       "'two'"
      ]
     },
     "execution_count": 127,
     "metadata": {},
     "output_type": "execute_result"
    }
   ],
   "source": [
    "a.get(2)"
   ]
  },
  {
   "cell_type": "code",
   "execution_count": 129,
   "metadata": {},
   "outputs": [],
   "source": [
    "import builtins\n",
    "from collections import ChainMap\n",
    "\n",
    "pylookup = ChainMap(locals(), globals(), vars(builtins))"
   ]
  },
  {
   "cell_type": "code",
   "execution_count": 130,
   "metadata": {},
   "outputs": [
    {
     "data": {
      "text/plain": [
       "ChainMap({'__name__': '__main__', '__doc__': 'Automatically created module for IPython interactive environment', '__package__': None, '__loader__': None, '__spec__': None, '__builtin__': <module 'builtins' (built-in)>, '__builtins__': <module 'builtins' (built-in)>, '_ih': ['', '__builtins__', '__builtins__.__dict__', 'a = {1:1, 2:2}', 'a.pop()', 'a.popitem()', 'a', 'a.pop(1)', 'a', 'a.pop(1)', 'a.setdefault(1)', 'a', 'a.setdefault(2, 1)', 'a', 'a.setdefault(1, [])', 'a', 'a.setdefault(3, [])', 'a', 'a.setdefault(3, [], 2)', 'a.setdefault(3, [])', 'a', 'from collections import Mapping', 'from collections.abc import Mapping', 'help(Mapping)', 'a = Mapping()', \"class TestMapping(Mapping):\\n    def __getitem__(self):\\n        return ''\\n    \\n    def __iter__(self):\\n        return ''\\n    \\n    def __len__(self):\\n        return 0\", 'a = TestMapping()', 'a', 'a[1] = 1', 'a.items()', 'list(a.items())', 'a = [1, 2]\\nb = [3,4]', \"for ab in (f'{a} : {b}' for a, b in zip(a, b)):\\n    print(ab)\", \"for c in (f'{x} : {y}' for x in a for y in b):\\n    print(c)\", 'a = {1:1, 2:2}', 'b = a', 'a[1] = 2', 'b', 'a', 'a = {1:1, 2:2}', 'b = a.copy()', 'b', 'b[1] = 2', 'b', '1', 'a', 'from copy import copy', 'a = copy(b)', 'a', 'b', 'a[1] = 3', 'b', 'a', 'a = {1:[1, 2], 2: [1, 2]}', 'b = copy(a)', 'a', 'b', 'b[1].append(3)', 'a', 'b', 'from copy import deepcopy', 'b = deepcopy(a)', 'b', 'a', 'a[1].append(4)', 'a', 'b', 'a in b', '1 in b', 'del a[1]', 'a', 'b', \"a = {'a':[11, 22], 'A': [33, 44], 'C': [55, 66]}\", 'b = sorted(a, key=str.upper)', 'b', \"class ComportDict(Dict):\\n    def __missing__(self):\\n        return 'a'\", \"class ComportDict(dict):\\n    def __missing__(self):\\n        return 'a'\", 'aa = ComportDict()', 'a[1] = 2', 'a', 'aa[1] = 2', 'aa', 'aa[2]', 'class DefaultListDict(dict):\\n    def __missing__(self, key):\\n        self[key] = []\\n        return self[key]', 'aa = ComportDict()', 'aa[1] = 2', 'aa', 'aa[2]', 'from collections import defaultdict', 'a = defaultdict(a)', 'a = defaultdict(list)', 'a.defaylt)factiry', 'a.default_factory', 'help(a)', 'a = defaultdict(list)', 'a = defaultdict(list)\\na[1] = [1, 2]\\na[2] = [3, 4]', 'a = defaultdict(list)\\na[1] = [1, 2]\\na[2] = [3, 4]\\na[1]', 'a[1]', 'a[3]', 'a', 'a.default_factory', 'class StrKeyDict0(dict):\\n    def __missing__(self, key):\\n        if isinstance(key, str):\\n            raise KeyError(Key)\\n        return self[str[key]]\\n    \\n    ', \"a = StrKeyDict0([('2', 'two'), ('4', 'four')])\", 'a', 'a[2]', 'class StrKeyDict0(dict):\\n    def __missing__(self, key):\\n        if isinstance(key, str):\\n            raise KeyError(Key)\\n        return self[str(key)]\\n    \\n    ', \"a = StrKeyDict0([('2', 'two'), ('4', 'four')])\", 'a', 'a[2]', \"a['2]']\", \"a['2']\", 'a[1]', 'class StrKeyDict0(dict):\\n    def __missing__(self, key):\\n        if isinstance(key, str):\\n            raise KeyError(key)\\n        return self[str(key)]\\n    \\n    ', \"a = StrKeyDict0([('2', 'two'), ('4', 'four')])\", 'a', 'a[2]', \"a['2']\", 'a[1]', 'a.get(2)', \"a.get('2')\", 'class StrKeyDict0(dict):\\n    def __missing__(self, key):\\n        if isinstance(key, str):\\n            raise KeyError(key)\\n        return self[str(key)]\\n    \\n    def get(self, key, default=None):\\n        try:\\n            return self[key]\\n        except KeyError:\\n            return default\\n        \\n    \\n    ', \"a = StrKeyDict0([('2', 'two'), ('4', 'four')])\", 'a', 'a[2]', \"a['2']\", 'a[1]', \"a.get('2')\", 'a.get(2)', 'class StrKeyDict0(dict):\\n    def __missing__(self, key):\\n        if isinstance(key, str):\\n            raise KeyError(key)\\n        return self[str(key)]\\n    \\n    def get(self, key, default=None):\\n        try:\\n            return self[key]\\n        except KeyError:\\n            return default\\n        \\n    def __contains__(self, key):\\n        return key in self.keys() or str(key) in self.keys()\\n        \\n    \\n    ', 'import builtins\\nfrom collections import ChainMap\\n\\npylookup = ChainMap(locals(), globals(), vars(builtins))', 'pylookup'], '_oh': {1: <module 'builtins' (built-in)>, 2: {'__name__': 'builtins', '__doc__': \"Built-in functions, exceptions, and other objects.\\n\\nNoteworthy: None is the `nil' object; Ellipsis represents `...' in slices.\", '__package__': '', '__loader__': <class '_frozen_importlib.BuiltinImporter'>, '__spec__': ModuleSpec(name='builtins', loader=<class '_frozen_importlib.BuiltinImporter'>), '__build_class__': <built-in function __build_class__>, '__import__': <built-in function __import__>, 'abs': <built-in function abs>, 'all': <built-in function all>, 'any': <built-in function any>, 'ascii': <built-in function ascii>, 'bin': <built-in function bin>, 'breakpoint': <built-in function breakpoint>, 'callable': <built-in function callable>, 'chr': <built-in function chr>, 'compile': <built-in function compile>, 'delattr': <built-in function delattr>, 'dir': <built-in function dir>, 'divmod': <built-in function divmod>, 'eval': <built-in function eval>, 'exec': <built-in function exec>, 'format': <built-in function format>, 'getattr': <built-in function getattr>, 'globals': <built-in function globals>, 'hasattr': <built-in function hasattr>, 'hash': <built-in function hash>, 'hex': <built-in function hex>, 'id': <built-in function id>, 'input': <bound method Kernel.raw_input of <ipykernel.ipkernel.IPythonKernel object at 0x7fd6f62ba850>>, 'isinstance': <built-in function isinstance>, 'issubclass': <built-in function issubclass>, 'iter': <built-in function iter>, 'len': <built-in function len>, 'locals': <built-in function locals>, 'max': <built-in function max>, 'min': <built-in function min>, 'next': <built-in function next>, 'oct': <built-in function oct>, 'ord': <built-in function ord>, 'pow': <built-in function pow>, 'print': <built-in function print>, 'repr': <built-in function repr>, 'round': <built-in function round>, 'setattr': <built-in function setattr>, 'sorted': <built-in function sorted>, 'sum': <built-in function sum>, 'vars': <built-in function vars>, 'None': None, 'Ellipsis': Ellipsis, 'NotImplemented': NotImplemented, 'False': False, 'True': True, 'bool': <class 'bool'>, 'memoryview': <class 'memoryview'>, 'bytearray': <class 'bytearray'>, 'bytes': <class 'bytes'>, 'classmethod': <class 'classmethod'>, 'complex': <class 'complex'>, 'dict': <class 'dict'>, 'enumerate': <class 'enumerate'>, 'filter': <class 'filter'>, 'float': <class 'float'>, 'frozenset': <class 'frozenset'>, 'property': <class 'property'>, 'int': <class 'int'>, 'list': <class 'list'>, 'map': <class 'map'>, 'object': <class 'object'>, 'range': <class 'range'>, 'reversed': <class 'reversed'>, 'set': <class 'set'>, 'slice': <class 'slice'>, 'staticmethod': <class 'staticmethod'>, 'str': <class 'str'>, 'super': <class 'super'>, 'tuple': <class 'tuple'>, 'type': <class 'type'>, 'zip': <class 'zip'>, '__debug__': True, 'BaseException': <class 'BaseException'>, 'Exception': <class 'Exception'>, 'TypeError': <class 'TypeError'>, 'StopAsyncIteration': <class 'StopAsyncIteration'>, 'StopIteration': <class 'StopIteration'>, 'GeneratorExit': <class 'GeneratorExit'>, 'SystemExit': <class 'SystemExit'>, 'KeyboardInterrupt': <class 'KeyboardInterrupt'>, 'ImportError': <class 'ImportError'>, 'ModuleNotFoundError': <class 'ModuleNotFoundError'>, 'OSError': <class 'OSError'>, 'EnvironmentError': <class 'OSError'>, 'IOError': <class 'OSError'>, 'EOFError': <class 'EOFError'>, 'RuntimeError': <class 'RuntimeError'>, 'RecursionError': <class 'RecursionError'>, 'NotImplementedError': <class 'NotImplementedError'>, 'NameError': <class 'NameError'>, 'UnboundLocalError': <class 'UnboundLocalError'>, 'AttributeError': <class 'AttributeError'>, 'SyntaxError': <class 'SyntaxError'>, 'IndentationError': <class 'IndentationError'>, 'TabError': <class 'TabError'>, 'LookupError': <class 'LookupError'>, 'IndexError': <class 'IndexError'>, 'KeyError': <class 'KeyError'>, 'ValueError': <class 'ValueError'>, 'UnicodeError': <class 'UnicodeError'>, 'UnicodeEncodeError': <class 'UnicodeEncodeError'>, 'UnicodeDecodeError': <class 'UnicodeDecodeError'>, 'UnicodeTranslateError': <class 'UnicodeTranslateError'>, 'AssertionError': <class 'AssertionError'>, 'ArithmeticError': <class 'ArithmeticError'>, 'FloatingPointError': <class 'FloatingPointError'>, 'OverflowError': <class 'OverflowError'>, 'ZeroDivisionError': <class 'ZeroDivisionError'>, 'SystemError': <class 'SystemError'>, 'ReferenceError': <class 'ReferenceError'>, 'MemoryError': <class 'MemoryError'>, 'BufferError': <class 'BufferError'>, 'Warning': <class 'Warning'>, 'UserWarning': <class 'UserWarning'>, 'DeprecationWarning': <class 'DeprecationWarning'>, 'PendingDeprecationWarning': <class 'PendingDeprecationWarning'>, 'SyntaxWarning': <class 'SyntaxWarning'>, 'RuntimeWarning': <class 'RuntimeWarning'>, 'FutureWarning': <class 'FutureWarning'>, 'ImportWarning': <class 'ImportWarning'>, 'UnicodeWarning': <class 'UnicodeWarning'>, 'BytesWarning': <class 'BytesWarning'>, 'ResourceWarning': <class 'ResourceWarning'>, 'ConnectionError': <class 'ConnectionError'>, 'BlockingIOError': <class 'BlockingIOError'>, 'BrokenPipeError': <class 'BrokenPipeError'>, 'ChildProcessError': <class 'ChildProcessError'>, 'ConnectionAbortedError': <class 'ConnectionAbortedError'>, 'ConnectionRefusedError': <class 'ConnectionRefusedError'>, 'ConnectionResetError': <class 'ConnectionResetError'>, 'FileExistsError': <class 'FileExistsError'>, 'FileNotFoundError': <class 'FileNotFoundError'>, 'IsADirectoryError': <class 'IsADirectoryError'>, 'NotADirectoryError': <class 'NotADirectoryError'>, 'InterruptedError': <class 'InterruptedError'>, 'PermissionError': <class 'PermissionError'>, 'ProcessLookupError': <class 'ProcessLookupError'>, 'TimeoutError': <class 'TimeoutError'>, 'open': <built-in function open>, 'copyright': Copyright (c) 2001-2019 Python Software Foundation.\n",
       "All Rights Reserved.\n",
       "\n",
       "Copyright (c) 2000 BeOpen.com.\n",
       "All Rights Reserved.\n",
       "\n",
       "Copyright (c) 1995-2001 Corporation for National Research Initiatives.\n",
       "All Rights Reserved.\n",
       "\n",
       "Copyright (c) 1991-1995 Stichting Mathematisch Centrum, Amsterdam.\n",
       "All Rights Reserved., 'credits':     Thanks to CWI, CNRI, BeOpen.com, Zope Corporation and a cast of thousands\n",
       "    for supporting Python development.  See www.python.org for more information., 'license': Type license() to see the full license text, 'help': Type help() for interactive help, or help(object) for help about object., '__IPYTHON__': True, 'display': <function display at 0x7fd6fee21200>, 'get_ipython': <bound method InteractiveShell.get_ipython of <ipykernel.zmqshell.ZMQInteractiveShell object at 0x7fd6f629f210>>}, 5: (2, 2), 6: {1: None, 2: 1, 3: []}, 7: 1, 8: {1: None, 2: 1, 3: []}, 11: {1: None, 2: 1, 3: []}, 12: 1, 13: {1: None, 2: 1, 3: []}, 15: {1: None, 2: 1, 3: []}, 16: [], 17: {1: None, 2: 1, 3: []}, 19: [], 20: {1: None, 2: 1, 3: []}, 27: <__main__.TestMapping object at 0x7fd6f41384d0>, 29: ItemsView(<__main__.TestMapping object at 0x7fd6f41384d0>), 37: {1: 2, 2: 2}, 38: {1: 2, 2: 2}, 41: {1: 2, 2: 2}, 43: {1: 2, 2: 2}, 44: 1, 45: {1: 1, 2: 2}, 48: {1: 3, 2: 2}, 49: {1: 2, 2: 2}, 51: {1: 2, 2: 2}, 52: {1: 3, 2: 2}, 55: {2: [1, 2]}, 56: {1: [1, 2, 3, 4], 2: [1, 2]}, 58: {2: [1, 2]}, 59: {1: [1, 2, 3, 4], 2: [1, 2]}, 62: {1: [1, 2, 3], 2: [1, 2]}, 63: {2: [1, 2]}, 65: {2: [1, 2]}, 66: {1: [1, 2, 3], 2: [1, 2]}, 68: True, 70: {2: [1, 2]}, 71: {1: [1, 2, 3], 2: [1, 2]}, 74: ['a', 'A', 'C'], 79: {'a': [11, 22], 'A': [33, 44], 'C': [55, 66], 1: 2}, 81: {1: 2}, 86: {1: 2}, 92: <class 'list'>, 96: [1, 2], 97: [1, 2], 98: [], 99: defaultdict(<class 'list'>, {1: [1, 2], 2: [3, 4], 3: []}), 100: <class 'list'>, 103: {'2': 'two', '4': 'four'}, 107: {'2': 'two', '4': 'four'}, 108: 'two', 110: 'two', 114: {'2': 'two', '4': 'four'}, 115: 'two', 116: 'two', 119: 'two', 122: {'2': 'two', '4': 'four'}, 123: 'two', 124: 'two', 126: 'two', 127: 'two'}, '_dh': ['/home/hby/projects/wps12th/python/fluentpython/notebook'], 'In': ['', '__builtins__', '__builtins__.__dict__', 'a = {1:1, 2:2}', 'a.pop()', 'a.popitem()', 'a', 'a.pop(1)', 'a', 'a.pop(1)', 'a.setdefault(1)', 'a', 'a.setdefault(2, 1)', 'a', 'a.setdefault(1, [])', 'a', 'a.setdefault(3, [])', 'a', 'a.setdefault(3, [], 2)', 'a.setdefault(3, [])', 'a', 'from collections import Mapping', 'from collections.abc import Mapping', 'help(Mapping)', 'a = Mapping()', \"class TestMapping(Mapping):\\n    def __getitem__(self):\\n        return ''\\n    \\n    def __iter__(self):\\n        return ''\\n    \\n    def __len__(self):\\n        return 0\", 'a = TestMapping()', 'a', 'a[1] = 1', 'a.items()', 'list(a.items())', 'a = [1, 2]\\nb = [3,4]', \"for ab in (f'{a} : {b}' for a, b in zip(a, b)):\\n    print(ab)\", \"for c in (f'{x} : {y}' for x in a for y in b):\\n    print(c)\", 'a = {1:1, 2:2}', 'b = a', 'a[1] = 2', 'b', 'a', 'a = {1:1, 2:2}', 'b = a.copy()', 'b', 'b[1] = 2', 'b', '1', 'a', 'from copy import copy', 'a = copy(b)', 'a', 'b', 'a[1] = 3', 'b', 'a', 'a = {1:[1, 2], 2: [1, 2]}', 'b = copy(a)', 'a', 'b', 'b[1].append(3)', 'a', 'b', 'from copy import deepcopy', 'b = deepcopy(a)', 'b', 'a', 'a[1].append(4)', 'a', 'b', 'a in b', '1 in b', 'del a[1]', 'a', 'b', \"a = {'a':[11, 22], 'A': [33, 44], 'C': [55, 66]}\", 'b = sorted(a, key=str.upper)', 'b', \"class ComportDict(Dict):\\n    def __missing__(self):\\n        return 'a'\", \"class ComportDict(dict):\\n    def __missing__(self):\\n        return 'a'\", 'aa = ComportDict()', 'a[1] = 2', 'a', 'aa[1] = 2', 'aa', 'aa[2]', 'class DefaultListDict(dict):\\n    def __missing__(self, key):\\n        self[key] = []\\n        return self[key]', 'aa = ComportDict()', 'aa[1] = 2', 'aa', 'aa[2]', 'from collections import defaultdict', 'a = defaultdict(a)', 'a = defaultdict(list)', 'a.defaylt)factiry', 'a.default_factory', 'help(a)', 'a = defaultdict(list)', 'a = defaultdict(list)\\na[1] = [1, 2]\\na[2] = [3, 4]', 'a = defaultdict(list)\\na[1] = [1, 2]\\na[2] = [3, 4]\\na[1]', 'a[1]', 'a[3]', 'a', 'a.default_factory', 'class StrKeyDict0(dict):\\n    def __missing__(self, key):\\n        if isinstance(key, str):\\n            raise KeyError(Key)\\n        return self[str[key]]\\n    \\n    ', \"a = StrKeyDict0([('2', 'two'), ('4', 'four')])\", 'a', 'a[2]', 'class StrKeyDict0(dict):\\n    def __missing__(self, key):\\n        if isinstance(key, str):\\n            raise KeyError(Key)\\n        return self[str(key)]\\n    \\n    ', \"a = StrKeyDict0([('2', 'two'), ('4', 'four')])\", 'a', 'a[2]', \"a['2]']\", \"a['2']\", 'a[1]', 'class StrKeyDict0(dict):\\n    def __missing__(self, key):\\n        if isinstance(key, str):\\n            raise KeyError(key)\\n        return self[str(key)]\\n    \\n    ', \"a = StrKeyDict0([('2', 'two'), ('4', 'four')])\", 'a', 'a[2]', \"a['2']\", 'a[1]', 'a.get(2)', \"a.get('2')\", 'class StrKeyDict0(dict):\\n    def __missing__(self, key):\\n        if isinstance(key, str):\\n            raise KeyError(key)\\n        return self[str(key)]\\n    \\n    def get(self, key, default=None):\\n        try:\\n            return self[key]\\n        except KeyError:\\n            return default\\n        \\n    \\n    ', \"a = StrKeyDict0([('2', 'two'), ('4', 'four')])\", 'a', 'a[2]', \"a['2']\", 'a[1]', \"a.get('2')\", 'a.get(2)', 'class StrKeyDict0(dict):\\n    def __missing__(self, key):\\n        if isinstance(key, str):\\n            raise KeyError(key)\\n        return self[str(key)]\\n    \\n    def get(self, key, default=None):\\n        try:\\n            return self[key]\\n        except KeyError:\\n            return default\\n        \\n    def __contains__(self, key):\\n        return key in self.keys() or str(key) in self.keys()\\n        \\n    \\n    ', 'import builtins\\nfrom collections import ChainMap\\n\\npylookup = ChainMap(locals(), globals(), vars(builtins))', 'pylookup'], 'Out': {1: <module 'builtins' (built-in)>, 2: {'__name__': 'builtins', '__doc__': \"Built-in functions, exceptions, and other objects.\\n\\nNoteworthy: None is the `nil' object; Ellipsis represents `...' in slices.\", '__package__': '', '__loader__': <class '_frozen_importlib.BuiltinImporter'>, '__spec__': ModuleSpec(name='builtins', loader=<class '_frozen_importlib.BuiltinImporter'>), '__build_class__': <built-in function __build_class__>, '__import__': <built-in function __import__>, 'abs': <built-in function abs>, 'all': <built-in function all>, 'any': <built-in function any>, 'ascii': <built-in function ascii>, 'bin': <built-in function bin>, 'breakpoint': <built-in function breakpoint>, 'callable': <built-in function callable>, 'chr': <built-in function chr>, 'compile': <built-in function compile>, 'delattr': <built-in function delattr>, 'dir': <built-in function dir>, 'divmod': <built-in function divmod>, 'eval': <built-in function eval>, 'exec': <built-in function exec>, 'format': <built-in function format>, 'getattr': <built-in function getattr>, 'globals': <built-in function globals>, 'hasattr': <built-in function hasattr>, 'hash': <built-in function hash>, 'hex': <built-in function hex>, 'id': <built-in function id>, 'input': <bound method Kernel.raw_input of <ipykernel.ipkernel.IPythonKernel object at 0x7fd6f62ba850>>, 'isinstance': <built-in function isinstance>, 'issubclass': <built-in function issubclass>, 'iter': <built-in function iter>, 'len': <built-in function len>, 'locals': <built-in function locals>, 'max': <built-in function max>, 'min': <built-in function min>, 'next': <built-in function next>, 'oct': <built-in function oct>, 'ord': <built-in function ord>, 'pow': <built-in function pow>, 'print': <built-in function print>, 'repr': <built-in function repr>, 'round': <built-in function round>, 'setattr': <built-in function setattr>, 'sorted': <built-in function sorted>, 'sum': <built-in function sum>, 'vars': <built-in function vars>, 'None': None, 'Ellipsis': Ellipsis, 'NotImplemented': NotImplemented, 'False': False, 'True': True, 'bool': <class 'bool'>, 'memoryview': <class 'memoryview'>, 'bytearray': <class 'bytearray'>, 'bytes': <class 'bytes'>, 'classmethod': <class 'classmethod'>, 'complex': <class 'complex'>, 'dict': <class 'dict'>, 'enumerate': <class 'enumerate'>, 'filter': <class 'filter'>, 'float': <class 'float'>, 'frozenset': <class 'frozenset'>, 'property': <class 'property'>, 'int': <class 'int'>, 'list': <class 'list'>, 'map': <class 'map'>, 'object': <class 'object'>, 'range': <class 'range'>, 'reversed': <class 'reversed'>, 'set': <class 'set'>, 'slice': <class 'slice'>, 'staticmethod': <class 'staticmethod'>, 'str': <class 'str'>, 'super': <class 'super'>, 'tuple': <class 'tuple'>, 'type': <class 'type'>, 'zip': <class 'zip'>, '__debug__': True, 'BaseException': <class 'BaseException'>, 'Exception': <class 'Exception'>, 'TypeError': <class 'TypeError'>, 'StopAsyncIteration': <class 'StopAsyncIteration'>, 'StopIteration': <class 'StopIteration'>, 'GeneratorExit': <class 'GeneratorExit'>, 'SystemExit': <class 'SystemExit'>, 'KeyboardInterrupt': <class 'KeyboardInterrupt'>, 'ImportError': <class 'ImportError'>, 'ModuleNotFoundError': <class 'ModuleNotFoundError'>, 'OSError': <class 'OSError'>, 'EnvironmentError': <class 'OSError'>, 'IOError': <class 'OSError'>, 'EOFError': <class 'EOFError'>, 'RuntimeError': <class 'RuntimeError'>, 'RecursionError': <class 'RecursionError'>, 'NotImplementedError': <class 'NotImplementedError'>, 'NameError': <class 'NameError'>, 'UnboundLocalError': <class 'UnboundLocalError'>, 'AttributeError': <class 'AttributeError'>, 'SyntaxError': <class 'SyntaxError'>, 'IndentationError': <class 'IndentationError'>, 'TabError': <class 'TabError'>, 'LookupError': <class 'LookupError'>, 'IndexError': <class 'IndexError'>, 'KeyError': <class 'KeyError'>, 'ValueError': <class 'ValueError'>, 'UnicodeError': <class 'UnicodeError'>, 'UnicodeEncodeError': <class 'UnicodeEncodeError'>, 'UnicodeDecodeError': <class 'UnicodeDecodeError'>, 'UnicodeTranslateError': <class 'UnicodeTranslateError'>, 'AssertionError': <class 'AssertionError'>, 'ArithmeticError': <class 'ArithmeticError'>, 'FloatingPointError': <class 'FloatingPointError'>, 'OverflowError': <class 'OverflowError'>, 'ZeroDivisionError': <class 'ZeroDivisionError'>, 'SystemError': <class 'SystemError'>, 'ReferenceError': <class 'ReferenceError'>, 'MemoryError': <class 'MemoryError'>, 'BufferError': <class 'BufferError'>, 'Warning': <class 'Warning'>, 'UserWarning': <class 'UserWarning'>, 'DeprecationWarning': <class 'DeprecationWarning'>, 'PendingDeprecationWarning': <class 'PendingDeprecationWarning'>, 'SyntaxWarning': <class 'SyntaxWarning'>, 'RuntimeWarning': <class 'RuntimeWarning'>, 'FutureWarning': <class 'FutureWarning'>, 'ImportWarning': <class 'ImportWarning'>, 'UnicodeWarning': <class 'UnicodeWarning'>, 'BytesWarning': <class 'BytesWarning'>, 'ResourceWarning': <class 'ResourceWarning'>, 'ConnectionError': <class 'ConnectionError'>, 'BlockingIOError': <class 'BlockingIOError'>, 'BrokenPipeError': <class 'BrokenPipeError'>, 'ChildProcessError': <class 'ChildProcessError'>, 'ConnectionAbortedError': <class 'ConnectionAbortedError'>, 'ConnectionRefusedError': <class 'ConnectionRefusedError'>, 'ConnectionResetError': <class 'ConnectionResetError'>, 'FileExistsError': <class 'FileExistsError'>, 'FileNotFoundError': <class 'FileNotFoundError'>, 'IsADirectoryError': <class 'IsADirectoryError'>, 'NotADirectoryError': <class 'NotADirectoryError'>, 'InterruptedError': <class 'InterruptedError'>, 'PermissionError': <class 'PermissionError'>, 'ProcessLookupError': <class 'ProcessLookupError'>, 'TimeoutError': <class 'TimeoutError'>, 'open': <built-in function open>, 'copyright': Copyright (c) 2001-2019 Python Software Foundation.\n",
       "All Rights Reserved.\n",
       "\n",
       "Copyright (c) 2000 BeOpen.com.\n",
       "All Rights Reserved.\n",
       "\n",
       "Copyright (c) 1995-2001 Corporation for National Research Initiatives.\n",
       "All Rights Reserved.\n",
       "\n",
       "Copyright (c) 1991-1995 Stichting Mathematisch Centrum, Amsterdam.\n",
       "All Rights Reserved., 'credits':     Thanks to CWI, CNRI, BeOpen.com, Zope Corporation and a cast of thousands\n",
       "    for supporting Python development.  See www.python.org for more information., 'license': Type license() to see the full license text, 'help': Type help() for interactive help, or help(object) for help about object., '__IPYTHON__': True, 'display': <function display at 0x7fd6fee21200>, 'get_ipython': <bound method InteractiveShell.get_ipython of <ipykernel.zmqshell.ZMQInteractiveShell object at 0x7fd6f629f210>>}, 5: (2, 2), 6: {1: None, 2: 1, 3: []}, 7: 1, 8: {1: None, 2: 1, 3: []}, 11: {1: None, 2: 1, 3: []}, 12: 1, 13: {1: None, 2: 1, 3: []}, 15: {1: None, 2: 1, 3: []}, 16: [], 17: {1: None, 2: 1, 3: []}, 19: [], 20: {1: None, 2: 1, 3: []}, 27: <__main__.TestMapping object at 0x7fd6f41384d0>, 29: ItemsView(<__main__.TestMapping object at 0x7fd6f41384d0>), 37: {1: 2, 2: 2}, 38: {1: 2, 2: 2}, 41: {1: 2, 2: 2}, 43: {1: 2, 2: 2}, 44: 1, 45: {1: 1, 2: 2}, 48: {1: 3, 2: 2}, 49: {1: 2, 2: 2}, 51: {1: 2, 2: 2}, 52: {1: 3, 2: 2}, 55: {2: [1, 2]}, 56: {1: [1, 2, 3, 4], 2: [1, 2]}, 58: {2: [1, 2]}, 59: {1: [1, 2, 3, 4], 2: [1, 2]}, 62: {1: [1, 2, 3], 2: [1, 2]}, 63: {2: [1, 2]}, 65: {2: [1, 2]}, 66: {1: [1, 2, 3], 2: [1, 2]}, 68: True, 70: {2: [1, 2]}, 71: {1: [1, 2, 3], 2: [1, 2]}, 74: ['a', 'A', 'C'], 79: {'a': [11, 22], 'A': [33, 44], 'C': [55, 66], 1: 2}, 81: {1: 2}, 86: {1: 2}, 92: <class 'list'>, 96: [1, 2], 97: [1, 2], 98: [], 99: defaultdict(<class 'list'>, {1: [1, 2], 2: [3, 4], 3: []}), 100: <class 'list'>, 103: {'2': 'two', '4': 'four'}, 107: {'2': 'two', '4': 'four'}, 108: 'two', 110: 'two', 114: {'2': 'two', '4': 'four'}, 115: 'two', 116: 'two', 119: 'two', 122: {'2': 'two', '4': 'four'}, 123: 'two', 124: 'two', 126: 'two', 127: 'two'}, 'get_ipython': <bound method InteractiveShell.get_ipython of <ipykernel.zmqshell.ZMQInteractiveShell object at 0x7fd6f629f210>>, 'exit': <IPython.core.autocall.ZMQExitAutocall object at 0x7fd6f627ded0>, 'quit': <IPython.core.autocall.ZMQExitAutocall object at 0x7fd6f627ded0>, '_': 'two', '__': 'two', '___': 'two', '_i': 'import builtins\\nfrom collections import ChainMap\\n\\npylookup = ChainMap(locals(), globals(), vars(builtins))', '_ii': 'class StrKeyDict0(dict):\\n    def __missing__(self, key):\\n        if isinstance(key, str):\\n            raise KeyError(key)\\n        return self[str(key)]\\n    \\n    def get(self, key, default=None):\\n        try:\\n            return self[key]\\n        except KeyError:\\n            return default\\n        \\n    def __contains__(self, key):\\n        return key in self.keys() or str(key) in self.keys()\\n        \\n    \\n    ', '_iii': 'a.get(2)', '_i1': '__builtins__', '_1': <module 'builtins' (built-in)>, '_i2': '__builtins__.__dict__', '_2': {'__name__': 'builtins', '__doc__': \"Built-in functions, exceptions, and other objects.\\n\\nNoteworthy: None is the `nil' object; Ellipsis represents `...' in slices.\", '__package__': '', '__loader__': <class '_frozen_importlib.BuiltinImporter'>, '__spec__': ModuleSpec(name='builtins', loader=<class '_frozen_importlib.BuiltinImporter'>), '__build_class__': <built-in function __build_class__>, '__import__': <built-in function __import__>, 'abs': <built-in function abs>, 'all': <built-in function all>, 'any': <built-in function any>, 'ascii': <built-in function ascii>, 'bin': <built-in function bin>, 'breakpoint': <built-in function breakpoint>, 'callable': <built-in function callable>, 'chr': <built-in function chr>, 'compile': <built-in function compile>, 'delattr': <built-in function delattr>, 'dir': <built-in function dir>, 'divmod': <built-in function divmod>, 'eval': <built-in function eval>, 'exec': <built-in function exec>, 'format': <built-in function format>, 'getattr': <built-in function getattr>, 'globals': <built-in function globals>, 'hasattr': <built-in function hasattr>, 'hash': <built-in function hash>, 'hex': <built-in function hex>, 'id': <built-in function id>, 'input': <bound method Kernel.raw_input of <ipykernel.ipkernel.IPythonKernel object at 0x7fd6f62ba850>>, 'isinstance': <built-in function isinstance>, 'issubclass': <built-in function issubclass>, 'iter': <built-in function iter>, 'len': <built-in function len>, 'locals': <built-in function locals>, 'max': <built-in function max>, 'min': <built-in function min>, 'next': <built-in function next>, 'oct': <built-in function oct>, 'ord': <built-in function ord>, 'pow': <built-in function pow>, 'print': <built-in function print>, 'repr': <built-in function repr>, 'round': <built-in function round>, 'setattr': <built-in function setattr>, 'sorted': <built-in function sorted>, 'sum': <built-in function sum>, 'vars': <built-in function vars>, 'None': None, 'Ellipsis': Ellipsis, 'NotImplemented': NotImplemented, 'False': False, 'True': True, 'bool': <class 'bool'>, 'memoryview': <class 'memoryview'>, 'bytearray': <class 'bytearray'>, 'bytes': <class 'bytes'>, 'classmethod': <class 'classmethod'>, 'complex': <class 'complex'>, 'dict': <class 'dict'>, 'enumerate': <class 'enumerate'>, 'filter': <class 'filter'>, 'float': <class 'float'>, 'frozenset': <class 'frozenset'>, 'property': <class 'property'>, 'int': <class 'int'>, 'list': <class 'list'>, 'map': <class 'map'>, 'object': <class 'object'>, 'range': <class 'range'>, 'reversed': <class 'reversed'>, 'set': <class 'set'>, 'slice': <class 'slice'>, 'staticmethod': <class 'staticmethod'>, 'str': <class 'str'>, 'super': <class 'super'>, 'tuple': <class 'tuple'>, 'type': <class 'type'>, 'zip': <class 'zip'>, '__debug__': True, 'BaseException': <class 'BaseException'>, 'Exception': <class 'Exception'>, 'TypeError': <class 'TypeError'>, 'StopAsyncIteration': <class 'StopAsyncIteration'>, 'StopIteration': <class 'StopIteration'>, 'GeneratorExit': <class 'GeneratorExit'>, 'SystemExit': <class 'SystemExit'>, 'KeyboardInterrupt': <class 'KeyboardInterrupt'>, 'ImportError': <class 'ImportError'>, 'ModuleNotFoundError': <class 'ModuleNotFoundError'>, 'OSError': <class 'OSError'>, 'EnvironmentError': <class 'OSError'>, 'IOError': <class 'OSError'>, 'EOFError': <class 'EOFError'>, 'RuntimeError': <class 'RuntimeError'>, 'RecursionError': <class 'RecursionError'>, 'NotImplementedError': <class 'NotImplementedError'>, 'NameError': <class 'NameError'>, 'UnboundLocalError': <class 'UnboundLocalError'>, 'AttributeError': <class 'AttributeError'>, 'SyntaxError': <class 'SyntaxError'>, 'IndentationError': <class 'IndentationError'>, 'TabError': <class 'TabError'>, 'LookupError': <class 'LookupError'>, 'IndexError': <class 'IndexError'>, 'KeyError': <class 'KeyError'>, 'ValueError': <class 'ValueError'>, 'UnicodeError': <class 'UnicodeError'>, 'UnicodeEncodeError': <class 'UnicodeEncodeError'>, 'UnicodeDecodeError': <class 'UnicodeDecodeError'>, 'UnicodeTranslateError': <class 'UnicodeTranslateError'>, 'AssertionError': <class 'AssertionError'>, 'ArithmeticError': <class 'ArithmeticError'>, 'FloatingPointError': <class 'FloatingPointError'>, 'OverflowError': <class 'OverflowError'>, 'ZeroDivisionError': <class 'ZeroDivisionError'>, 'SystemError': <class 'SystemError'>, 'ReferenceError': <class 'ReferenceError'>, 'MemoryError': <class 'MemoryError'>, 'BufferError': <class 'BufferError'>, 'Warning': <class 'Warning'>, 'UserWarning': <class 'UserWarning'>, 'DeprecationWarning': <class 'DeprecationWarning'>, 'PendingDeprecationWarning': <class 'PendingDeprecationWarning'>, 'SyntaxWarning': <class 'SyntaxWarning'>, 'RuntimeWarning': <class 'RuntimeWarning'>, 'FutureWarning': <class 'FutureWarning'>, 'ImportWarning': <class 'ImportWarning'>, 'UnicodeWarning': <class 'UnicodeWarning'>, 'BytesWarning': <class 'BytesWarning'>, 'ResourceWarning': <class 'ResourceWarning'>, 'ConnectionError': <class 'ConnectionError'>, 'BlockingIOError': <class 'BlockingIOError'>, 'BrokenPipeError': <class 'BrokenPipeError'>, 'ChildProcessError': <class 'ChildProcessError'>, 'ConnectionAbortedError': <class 'ConnectionAbortedError'>, 'ConnectionRefusedError': <class 'ConnectionRefusedError'>, 'ConnectionResetError': <class 'ConnectionResetError'>, 'FileExistsError': <class 'FileExistsError'>, 'FileNotFoundError': <class 'FileNotFoundError'>, 'IsADirectoryError': <class 'IsADirectoryError'>, 'NotADirectoryError': <class 'NotADirectoryError'>, 'InterruptedError': <class 'InterruptedError'>, 'PermissionError': <class 'PermissionError'>, 'ProcessLookupError': <class 'ProcessLookupError'>, 'TimeoutError': <class 'TimeoutError'>, 'open': <built-in function open>, 'copyright': Copyright (c) 2001-2019 Python Software Foundation.\n",
       "All Rights Reserved.\n",
       "\n",
       "Copyright (c) 2000 BeOpen.com.\n",
       "All Rights Reserved.\n",
       "\n",
       "Copyright (c) 1995-2001 Corporation for National Research Initiatives.\n",
       "All Rights Reserved.\n",
       "\n",
       "Copyright (c) 1991-1995 Stichting Mathematisch Centrum, Amsterdam.\n",
       "All Rights Reserved., 'credits':     Thanks to CWI, CNRI, BeOpen.com, Zope Corporation and a cast of thousands\n",
       "    for supporting Python development.  See www.python.org for more information., 'license': Type license() to see the full license text, 'help': Type help() for interactive help, or help(object) for help about object., '__IPYTHON__': True, 'display': <function display at 0x7fd6fee21200>, 'get_ipython': <bound method InteractiveShell.get_ipython of <ipykernel.zmqshell.ZMQInteractiveShell object at 0x7fd6f629f210>>}, '_i3': 'a = {1:1, 2:2}', 'a': {'2': 'two', '4': 'four'}, '_i4': 'a.pop()', '_i5': 'a.popitem()', '_5': (2, 2), '_i6': 'a', '_6': {1: None, 2: 1, 3: []}, '_i7': 'a.pop(1)', '_7': 1, '_i8': 'a', '_8': {1: None, 2: 1, 3: []}, '_i9': 'a.pop(1)', '_i10': 'a.setdefault(1)', '_i11': 'a', '_11': {1: None, 2: 1, 3: []}, '_i12': 'a.setdefault(2, 1)', '_12': 1, '_i13': 'a', '_13': {1: None, 2: 1, 3: []}, '_i14': 'a.setdefault(1, [])', '_i15': 'a', '_15': {1: None, 2: 1, 3: []}, '_i16': 'a.setdefault(3, [])', '_16': [], '_i17': 'a', '_17': {1: None, 2: 1, 3: []}, '_i18': 'a.setdefault(3, [], 2)', '_i19': 'a.setdefault(3, [])', '_19': [], '_i20': 'a', '_20': {1: None, 2: 1, 3: []}, '_i21': 'from collections import Mapping', 'Mapping': <class 'collections.abc.Mapping'>, '_i22': 'from collections.abc import Mapping', '_i23': 'help(Mapping)', '_i24': 'a = Mapping()', '_i25': \"class TestMapping(Mapping):\\n    def __getitem__(self):\\n        return ''\\n    \\n    def __iter__(self):\\n        return ''\\n    \\n    def __len__(self):\\n        return 0\", 'TestMapping': <class '__main__.TestMapping'>, '_i26': 'a = TestMapping()', '_i27': 'a', '_27': <__main__.TestMapping object at 0x7fd6f41384d0>, '_i28': 'a[1] = 1', '_i29': 'a.items()', '_29': ItemsView(<__main__.TestMapping object at 0x7fd6f41384d0>), '_i30': 'list(a.items())', '_i31': 'a = [1, 2]\\nb = [3,4]', 'b': ['a', 'A', 'C'], '_i32': \"for ab in (f'{a} : {b}' for a, b in zip(a, b)):\\n    print(ab)\", 'ab': '2 : 4', '_i33': \"for c in (f'{x} : {y}' for x in a for y in b):\\n    print(c)\", 'c': '2 : 4', '_i34': 'a = {1:1, 2:2}', '_i35': 'b = a', '_i36': 'a[1] = 2', '_i37': 'b', '_37': {1: 2, 2: 2}, '_i38': 'a', '_38': {1: 2, 2: 2}, '_i39': 'a = {1:1, 2:2}', '_i40': 'b = a.copy()', '_i41': 'b', '_41': {1: 2, 2: 2}, '_i42': 'b[1] = 2', '_i43': 'b', '_43': {1: 2, 2: 2}, '_i44': '1', '_44': 1, '_i45': 'a', '_45': {1: 1, 2: 2}, '_i46': 'from copy import copy', 'copy': <function copy at 0x7fd6feeaa3b0>, '_i47': 'a = copy(b)', '_i48': 'a', '_48': {1: 3, 2: 2}, '_i49': 'b', '_49': {1: 2, 2: 2}, '_i50': 'a[1] = 3', '_i51': 'b', '_51': {1: 2, 2: 2}, '_i52': 'a', '_52': {1: 3, 2: 2}, '_i53': 'a = {1:[1, 2], 2: [1, 2]}', '_i54': 'b = copy(a)', '_i55': 'a', '_55': {2: [1, 2]}, '_i56': 'b', '_56': {1: [1, 2, 3, 4], 2: [1, 2]}, '_i57': 'b[1].append(3)', '_i58': 'a', '_58': {2: [1, 2]}, '_i59': 'b', '_59': {1: [1, 2, 3, 4], 2: [1, 2]}, '_i60': 'from copy import deepcopy', 'deepcopy': <function deepcopy at 0x7fd6feeaad40>, '_i61': 'b = deepcopy(a)', '_i62': 'b', '_62': {1: [1, 2, 3], 2: [1, 2]}, '_i63': 'a', '_63': {2: [1, 2]}, '_i64': 'a[1].append(4)', '_i65': 'a', '_65': {2: [1, 2]}, '_i66': 'b', '_66': {1: [1, 2, 3], 2: [1, 2]}, '_i67': 'a in b', '_i68': '1 in b', '_68': True, '_i69': 'del a[1]', '_i70': 'a', '_70': {2: [1, 2]}, '_i71': 'b', '_71': {1: [1, 2, 3], 2: [1, 2]}, '_i72': \"a = {'a':[11, 22], 'A': [33, 44], 'C': [55, 66]}\", '_i73': 'b = sorted(a, key=str.upper)', '_i74': 'b', '_74': ['a', 'A', 'C'], '_i75': \"class ComportDict(Dict):\\n    def __missing__(self):\\n        return 'a'\", '_i76': \"class ComportDict(dict):\\n    def __missing__(self):\\n        return 'a'\", 'ComportDict': <class '__main__.ComportDict'>, '_i77': 'aa = ComportDict()', 'aa': {1: 2}, '_i78': 'a[1] = 2', '_i79': 'a', '_79': {'a': [11, 22], 'A': [33, 44], 'C': [55, 66], 1: 2}, '_i80': 'aa[1] = 2', '_i81': 'aa', '_81': {1: 2}, '_i82': 'aa[2]', '_i83': 'class DefaultListDict(dict):\\n    def __missing__(self, key):\\n        self[key] = []\\n        return self[key]', 'DefaultListDict': <class '__main__.DefaultListDict'>, '_i84': 'aa = ComportDict()', '_i85': 'aa[1] = 2', '_i86': 'aa', '_86': {1: 2}, '_i87': 'aa[2]', '_i88': 'from collections import defaultdict', 'defaultdict': <class 'collections.defaultdict'>, '_i89': 'a = defaultdict(a)', '_i90': 'a = defaultdict(list)', '_i91': 'a.defaylt)factiry', '_i92': 'a.default_factory', '_92': <class 'list'>, '_i93': 'help(a)', '_i94': 'a = defaultdict(list)', '_i95': 'a = defaultdict(list)\\na[1] = [1, 2]\\na[2] = [3, 4]', '_i96': 'a = defaultdict(list)\\na[1] = [1, 2]\\na[2] = [3, 4]\\na[1]', '_96': [1, 2], '_i97': 'a[1]', '_97': [1, 2], '_i98': 'a[3]', '_98': [], '_i99': 'a', '_99': defaultdict(<class 'list'>, {1: [1, 2], 2: [3, 4], 3: []}), '_i100': 'a.default_factory', '_100': <class 'list'>, '_i101': 'class StrKeyDict0(dict):\\n    def __missing__(self, key):\\n        if isinstance(key, str):\\n            raise KeyError(Key)\\n        return self[str[key]]\\n    \\n    ', 'StrKeyDict0': <class '__main__.StrKeyDict0'>, '_i102': \"a = StrKeyDict0([('2', 'two'), ('4', 'four')])\", '_i103': 'a', '_103': {'2': 'two', '4': 'four'}, '_i104': 'a[2]', '_i105': 'class StrKeyDict0(dict):\\n    def __missing__(self, key):\\n        if isinstance(key, str):\\n            raise KeyError(Key)\\n        return self[str(key)]\\n    \\n    ', '_i106': \"a = StrKeyDict0([('2', 'two'), ('4', 'four')])\", '_i107': 'a', '_107': {'2': 'two', '4': 'four'}, '_i108': 'a[2]', '_108': 'two', '_i109': \"a['2]']\", '_i110': \"a['2']\", '_110': 'two', '_i111': 'a[1]', '_i112': 'class StrKeyDict0(dict):\\n    def __missing__(self, key):\\n        if isinstance(key, str):\\n            raise KeyError(key)\\n        return self[str(key)]\\n    \\n    ', '_i113': \"a = StrKeyDict0([('2', 'two'), ('4', 'four')])\", '_i114': 'a', '_114': {'2': 'two', '4': 'four'}, '_i115': 'a[2]', '_115': 'two', '_i116': \"a['2']\", '_116': 'two', '_i117': 'a[1]', '_i118': 'a.get(2)', '_i119': \"a.get('2')\", '_119': 'two', '_i120': 'class StrKeyDict0(dict):\\n    def __missing__(self, key):\\n        if isinstance(key, str):\\n            raise KeyError(key)\\n        return self[str(key)]\\n    \\n    def get(self, key, default=None):\\n        try:\\n            return self[key]\\n        except KeyError:\\n            return default\\n        \\n    \\n    ', '_i121': \"a = StrKeyDict0([('2', 'two'), ('4', 'four')])\", '_i122': 'a', '_122': {'2': 'two', '4': 'four'}, '_i123': 'a[2]', '_123': 'two', '_i124': \"a['2']\", '_124': 'two', '_i125': 'a[1]', '_i126': \"a.get('2')\", '_126': 'two', '_i127': 'a.get(2)', '_127': 'two', '_i128': 'class StrKeyDict0(dict):\\n    def __missing__(self, key):\\n        if isinstance(key, str):\\n            raise KeyError(key)\\n        return self[str(key)]\\n    \\n    def get(self, key, default=None):\\n        try:\\n            return self[key]\\n        except KeyError:\\n            return default\\n        \\n    def __contains__(self, key):\\n        return key in self.keys() or str(key) in self.keys()\\n        \\n    \\n    ', '_i129': 'import builtins\\nfrom collections import ChainMap\\n\\npylookup = ChainMap(locals(), globals(), vars(builtins))', 'builtins': <module 'builtins' (built-in)>, 'ChainMap': <class 'collections.ChainMap'>, 'pylookup': ..., '_i130': 'pylookup'}, {'__name__': '__main__', '__doc__': 'Automatically created module for IPython interactive environment', '__package__': None, '__loader__': None, '__spec__': None, '__builtin__': <module 'builtins' (built-in)>, '__builtins__': <module 'builtins' (built-in)>, '_ih': ['', '__builtins__', '__builtins__.__dict__', 'a = {1:1, 2:2}', 'a.pop()', 'a.popitem()', 'a', 'a.pop(1)', 'a', 'a.pop(1)', 'a.setdefault(1)', 'a', 'a.setdefault(2, 1)', 'a', 'a.setdefault(1, [])', 'a', 'a.setdefault(3, [])', 'a', 'a.setdefault(3, [], 2)', 'a.setdefault(3, [])', 'a', 'from collections import Mapping', 'from collections.abc import Mapping', 'help(Mapping)', 'a = Mapping()', \"class TestMapping(Mapping):\\n    def __getitem__(self):\\n        return ''\\n    \\n    def __iter__(self):\\n        return ''\\n    \\n    def __len__(self):\\n        return 0\", 'a = TestMapping()', 'a', 'a[1] = 1', 'a.items()', 'list(a.items())', 'a = [1, 2]\\nb = [3,4]', \"for ab in (f'{a} : {b}' for a, b in zip(a, b)):\\n    print(ab)\", \"for c in (f'{x} : {y}' for x in a for y in b):\\n    print(c)\", 'a = {1:1, 2:2}', 'b = a', 'a[1] = 2', 'b', 'a', 'a = {1:1, 2:2}', 'b = a.copy()', 'b', 'b[1] = 2', 'b', '1', 'a', 'from copy import copy', 'a = copy(b)', 'a', 'b', 'a[1] = 3', 'b', 'a', 'a = {1:[1, 2], 2: [1, 2]}', 'b = copy(a)', 'a', 'b', 'b[1].append(3)', 'a', 'b', 'from copy import deepcopy', 'b = deepcopy(a)', 'b', 'a', 'a[1].append(4)', 'a', 'b', 'a in b', '1 in b', 'del a[1]', 'a', 'b', \"a = {'a':[11, 22], 'A': [33, 44], 'C': [55, 66]}\", 'b = sorted(a, key=str.upper)', 'b', \"class ComportDict(Dict):\\n    def __missing__(self):\\n        return 'a'\", \"class ComportDict(dict):\\n    def __missing__(self):\\n        return 'a'\", 'aa = ComportDict()', 'a[1] = 2', 'a', 'aa[1] = 2', 'aa', 'aa[2]', 'class DefaultListDict(dict):\\n    def __missing__(self, key):\\n        self[key] = []\\n        return self[key]', 'aa = ComportDict()', 'aa[1] = 2', 'aa', 'aa[2]', 'from collections import defaultdict', 'a = defaultdict(a)', 'a = defaultdict(list)', 'a.defaylt)factiry', 'a.default_factory', 'help(a)', 'a = defaultdict(list)', 'a = defaultdict(list)\\na[1] = [1, 2]\\na[2] = [3, 4]', 'a = defaultdict(list)\\na[1] = [1, 2]\\na[2] = [3, 4]\\na[1]', 'a[1]', 'a[3]', 'a', 'a.default_factory', 'class StrKeyDict0(dict):\\n    def __missing__(self, key):\\n        if isinstance(key, str):\\n            raise KeyError(Key)\\n        return self[str[key]]\\n    \\n    ', \"a = StrKeyDict0([('2', 'two'), ('4', 'four')])\", 'a', 'a[2]', 'class StrKeyDict0(dict):\\n    def __missing__(self, key):\\n        if isinstance(key, str):\\n            raise KeyError(Key)\\n        return self[str(key)]\\n    \\n    ', \"a = StrKeyDict0([('2', 'two'), ('4', 'four')])\", 'a', 'a[2]', \"a['2]']\", \"a['2']\", 'a[1]', 'class StrKeyDict0(dict):\\n    def __missing__(self, key):\\n        if isinstance(key, str):\\n            raise KeyError(key)\\n        return self[str(key)]\\n    \\n    ', \"a = StrKeyDict0([('2', 'two'), ('4', 'four')])\", 'a', 'a[2]', \"a['2']\", 'a[1]', 'a.get(2)', \"a.get('2')\", 'class StrKeyDict0(dict):\\n    def __missing__(self, key):\\n        if isinstance(key, str):\\n            raise KeyError(key)\\n        return self[str(key)]\\n    \\n    def get(self, key, default=None):\\n        try:\\n            return self[key]\\n        except KeyError:\\n            return default\\n        \\n    \\n    ', \"a = StrKeyDict0([('2', 'two'), ('4', 'four')])\", 'a', 'a[2]', \"a['2']\", 'a[1]', \"a.get('2')\", 'a.get(2)', 'class StrKeyDict0(dict):\\n    def __missing__(self, key):\\n        if isinstance(key, str):\\n            raise KeyError(key)\\n        return self[str(key)]\\n    \\n    def get(self, key, default=None):\\n        try:\\n            return self[key]\\n        except KeyError:\\n            return default\\n        \\n    def __contains__(self, key):\\n        return key in self.keys() or str(key) in self.keys()\\n        \\n    \\n    ', 'import builtins\\nfrom collections import ChainMap\\n\\npylookup = ChainMap(locals(), globals(), vars(builtins))', 'pylookup'], '_oh': {1: <module 'builtins' (built-in)>, 2: {'__name__': 'builtins', '__doc__': \"Built-in functions, exceptions, and other objects.\\n\\nNoteworthy: None is the `nil' object; Ellipsis represents `...' in slices.\", '__package__': '', '__loader__': <class '_frozen_importlib.BuiltinImporter'>, '__spec__': ModuleSpec(name='builtins', loader=<class '_frozen_importlib.BuiltinImporter'>), '__build_class__': <built-in function __build_class__>, '__import__': <built-in function __import__>, 'abs': <built-in function abs>, 'all': <built-in function all>, 'any': <built-in function any>, 'ascii': <built-in function ascii>, 'bin': <built-in function bin>, 'breakpoint': <built-in function breakpoint>, 'callable': <built-in function callable>, 'chr': <built-in function chr>, 'compile': <built-in function compile>, 'delattr': <built-in function delattr>, 'dir': <built-in function dir>, 'divmod': <built-in function divmod>, 'eval': <built-in function eval>, 'exec': <built-in function exec>, 'format': <built-in function format>, 'getattr': <built-in function getattr>, 'globals': <built-in function globals>, 'hasattr': <built-in function hasattr>, 'hash': <built-in function hash>, 'hex': <built-in function hex>, 'id': <built-in function id>, 'input': <bound method Kernel.raw_input of <ipykernel.ipkernel.IPythonKernel object at 0x7fd6f62ba850>>, 'isinstance': <built-in function isinstance>, 'issubclass': <built-in function issubclass>, 'iter': <built-in function iter>, 'len': <built-in function len>, 'locals': <built-in function locals>, 'max': <built-in function max>, 'min': <built-in function min>, 'next': <built-in function next>, 'oct': <built-in function oct>, 'ord': <built-in function ord>, 'pow': <built-in function pow>, 'print': <built-in function print>, 'repr': <built-in function repr>, 'round': <built-in function round>, 'setattr': <built-in function setattr>, 'sorted': <built-in function sorted>, 'sum': <built-in function sum>, 'vars': <built-in function vars>, 'None': None, 'Ellipsis': Ellipsis, 'NotImplemented': NotImplemented, 'False': False, 'True': True, 'bool': <class 'bool'>, 'memoryview': <class 'memoryview'>, 'bytearray': <class 'bytearray'>, 'bytes': <class 'bytes'>, 'classmethod': <class 'classmethod'>, 'complex': <class 'complex'>, 'dict': <class 'dict'>, 'enumerate': <class 'enumerate'>, 'filter': <class 'filter'>, 'float': <class 'float'>, 'frozenset': <class 'frozenset'>, 'property': <class 'property'>, 'int': <class 'int'>, 'list': <class 'list'>, 'map': <class 'map'>, 'object': <class 'object'>, 'range': <class 'range'>, 'reversed': <class 'reversed'>, 'set': <class 'set'>, 'slice': <class 'slice'>, 'staticmethod': <class 'staticmethod'>, 'str': <class 'str'>, 'super': <class 'super'>, 'tuple': <class 'tuple'>, 'type': <class 'type'>, 'zip': <class 'zip'>, '__debug__': True, 'BaseException': <class 'BaseException'>, 'Exception': <class 'Exception'>, 'TypeError': <class 'TypeError'>, 'StopAsyncIteration': <class 'StopAsyncIteration'>, 'StopIteration': <class 'StopIteration'>, 'GeneratorExit': <class 'GeneratorExit'>, 'SystemExit': <class 'SystemExit'>, 'KeyboardInterrupt': <class 'KeyboardInterrupt'>, 'ImportError': <class 'ImportError'>, 'ModuleNotFoundError': <class 'ModuleNotFoundError'>, 'OSError': <class 'OSError'>, 'EnvironmentError': <class 'OSError'>, 'IOError': <class 'OSError'>, 'EOFError': <class 'EOFError'>, 'RuntimeError': <class 'RuntimeError'>, 'RecursionError': <class 'RecursionError'>, 'NotImplementedError': <class 'NotImplementedError'>, 'NameError': <class 'NameError'>, 'UnboundLocalError': <class 'UnboundLocalError'>, 'AttributeError': <class 'AttributeError'>, 'SyntaxError': <class 'SyntaxError'>, 'IndentationError': <class 'IndentationError'>, 'TabError': <class 'TabError'>, 'LookupError': <class 'LookupError'>, 'IndexError': <class 'IndexError'>, 'KeyError': <class 'KeyError'>, 'ValueError': <class 'ValueError'>, 'UnicodeError': <class 'UnicodeError'>, 'UnicodeEncodeError': <class 'UnicodeEncodeError'>, 'UnicodeDecodeError': <class 'UnicodeDecodeError'>, 'UnicodeTranslateError': <class 'UnicodeTranslateError'>, 'AssertionError': <class 'AssertionError'>, 'ArithmeticError': <class 'ArithmeticError'>, 'FloatingPointError': <class 'FloatingPointError'>, 'OverflowError': <class 'OverflowError'>, 'ZeroDivisionError': <class 'ZeroDivisionError'>, 'SystemError': <class 'SystemError'>, 'ReferenceError': <class 'ReferenceError'>, 'MemoryError': <class 'MemoryError'>, 'BufferError': <class 'BufferError'>, 'Warning': <class 'Warning'>, 'UserWarning': <class 'UserWarning'>, 'DeprecationWarning': <class 'DeprecationWarning'>, 'PendingDeprecationWarning': <class 'PendingDeprecationWarning'>, 'SyntaxWarning': <class 'SyntaxWarning'>, 'RuntimeWarning': <class 'RuntimeWarning'>, 'FutureWarning': <class 'FutureWarning'>, 'ImportWarning': <class 'ImportWarning'>, 'UnicodeWarning': <class 'UnicodeWarning'>, 'BytesWarning': <class 'BytesWarning'>, 'ResourceWarning': <class 'ResourceWarning'>, 'ConnectionError': <class 'ConnectionError'>, 'BlockingIOError': <class 'BlockingIOError'>, 'BrokenPipeError': <class 'BrokenPipeError'>, 'ChildProcessError': <class 'ChildProcessError'>, 'ConnectionAbortedError': <class 'ConnectionAbortedError'>, 'ConnectionRefusedError': <class 'ConnectionRefusedError'>, 'ConnectionResetError': <class 'ConnectionResetError'>, 'FileExistsError': <class 'FileExistsError'>, 'FileNotFoundError': <class 'FileNotFoundError'>, 'IsADirectoryError': <class 'IsADirectoryError'>, 'NotADirectoryError': <class 'NotADirectoryError'>, 'InterruptedError': <class 'InterruptedError'>, 'PermissionError': <class 'PermissionError'>, 'ProcessLookupError': <class 'ProcessLookupError'>, 'TimeoutError': <class 'TimeoutError'>, 'open': <built-in function open>, 'copyright': Copyright (c) 2001-2019 Python Software Foundation.\n",
       "All Rights Reserved.\n",
       "\n",
       "Copyright (c) 2000 BeOpen.com.\n",
       "All Rights Reserved.\n",
       "\n",
       "Copyright (c) 1995-2001 Corporation for National Research Initiatives.\n",
       "All Rights Reserved.\n",
       "\n",
       "Copyright (c) 1991-1995 Stichting Mathematisch Centrum, Amsterdam.\n",
       "All Rights Reserved., 'credits':     Thanks to CWI, CNRI, BeOpen.com, Zope Corporation and a cast of thousands\n",
       "    for supporting Python development.  See www.python.org for more information., 'license': Type license() to see the full license text, 'help': Type help() for interactive help, or help(object) for help about object., '__IPYTHON__': True, 'display': <function display at 0x7fd6fee21200>, 'get_ipython': <bound method InteractiveShell.get_ipython of <ipykernel.zmqshell.ZMQInteractiveShell object at 0x7fd6f629f210>>}, 5: (2, 2), 6: {1: None, 2: 1, 3: []}, 7: 1, 8: {1: None, 2: 1, 3: []}, 11: {1: None, 2: 1, 3: []}, 12: 1, 13: {1: None, 2: 1, 3: []}, 15: {1: None, 2: 1, 3: []}, 16: [], 17: {1: None, 2: 1, 3: []}, 19: [], 20: {1: None, 2: 1, 3: []}, 27: <__main__.TestMapping object at 0x7fd6f41384d0>, 29: ItemsView(<__main__.TestMapping object at 0x7fd6f41384d0>), 37: {1: 2, 2: 2}, 38: {1: 2, 2: 2}, 41: {1: 2, 2: 2}, 43: {1: 2, 2: 2}, 44: 1, 45: {1: 1, 2: 2}, 48: {1: 3, 2: 2}, 49: {1: 2, 2: 2}, 51: {1: 2, 2: 2}, 52: {1: 3, 2: 2}, 55: {2: [1, 2]}, 56: {1: [1, 2, 3, 4], 2: [1, 2]}, 58: {2: [1, 2]}, 59: {1: [1, 2, 3, 4], 2: [1, 2]}, 62: {1: [1, 2, 3], 2: [1, 2]}, 63: {2: [1, 2]}, 65: {2: [1, 2]}, 66: {1: [1, 2, 3], 2: [1, 2]}, 68: True, 70: {2: [1, 2]}, 71: {1: [1, 2, 3], 2: [1, 2]}, 74: ['a', 'A', 'C'], 79: {'a': [11, 22], 'A': [33, 44], 'C': [55, 66], 1: 2}, 81: {1: 2}, 86: {1: 2}, 92: <class 'list'>, 96: [1, 2], 97: [1, 2], 98: [], 99: defaultdict(<class 'list'>, {1: [1, 2], 2: [3, 4], 3: []}), 100: <class 'list'>, 103: {'2': 'two', '4': 'four'}, 107: {'2': 'two', '4': 'four'}, 108: 'two', 110: 'two', 114: {'2': 'two', '4': 'four'}, 115: 'two', 116: 'two', 119: 'two', 122: {'2': 'two', '4': 'four'}, 123: 'two', 124: 'two', 126: 'two', 127: 'two'}, '_dh': ['/home/hby/projects/wps12th/python/fluentpython/notebook'], 'In': ['', '__builtins__', '__builtins__.__dict__', 'a = {1:1, 2:2}', 'a.pop()', 'a.popitem()', 'a', 'a.pop(1)', 'a', 'a.pop(1)', 'a.setdefault(1)', 'a', 'a.setdefault(2, 1)', 'a', 'a.setdefault(1, [])', 'a', 'a.setdefault(3, [])', 'a', 'a.setdefault(3, [], 2)', 'a.setdefault(3, [])', 'a', 'from collections import Mapping', 'from collections.abc import Mapping', 'help(Mapping)', 'a = Mapping()', \"class TestMapping(Mapping):\\n    def __getitem__(self):\\n        return ''\\n    \\n    def __iter__(self):\\n        return ''\\n    \\n    def __len__(self):\\n        return 0\", 'a = TestMapping()', 'a', 'a[1] = 1', 'a.items()', 'list(a.items())', 'a = [1, 2]\\nb = [3,4]', \"for ab in (f'{a} : {b}' for a, b in zip(a, b)):\\n    print(ab)\", \"for c in (f'{x} : {y}' for x in a for y in b):\\n    print(c)\", 'a = {1:1, 2:2}', 'b = a', 'a[1] = 2', 'b', 'a', 'a = {1:1, 2:2}', 'b = a.copy()', 'b', 'b[1] = 2', 'b', '1', 'a', 'from copy import copy', 'a = copy(b)', 'a', 'b', 'a[1] = 3', 'b', 'a', 'a = {1:[1, 2], 2: [1, 2]}', 'b = copy(a)', 'a', 'b', 'b[1].append(3)', 'a', 'b', 'from copy import deepcopy', 'b = deepcopy(a)', 'b', 'a', 'a[1].append(4)', 'a', 'b', 'a in b', '1 in b', 'del a[1]', 'a', 'b', \"a = {'a':[11, 22], 'A': [33, 44], 'C': [55, 66]}\", 'b = sorted(a, key=str.upper)', 'b', \"class ComportDict(Dict):\\n    def __missing__(self):\\n        return 'a'\", \"class ComportDict(dict):\\n    def __missing__(self):\\n        return 'a'\", 'aa = ComportDict()', 'a[1] = 2', 'a', 'aa[1] = 2', 'aa', 'aa[2]', 'class DefaultListDict(dict):\\n    def __missing__(self, key):\\n        self[key] = []\\n        return self[key]', 'aa = ComportDict()', 'aa[1] = 2', 'aa', 'aa[2]', 'from collections import defaultdict', 'a = defaultdict(a)', 'a = defaultdict(list)', 'a.defaylt)factiry', 'a.default_factory', 'help(a)', 'a = defaultdict(list)', 'a = defaultdict(list)\\na[1] = [1, 2]\\na[2] = [3, 4]', 'a = defaultdict(list)\\na[1] = [1, 2]\\na[2] = [3, 4]\\na[1]', 'a[1]', 'a[3]', 'a', 'a.default_factory', 'class StrKeyDict0(dict):\\n    def __missing__(self, key):\\n        if isinstance(key, str):\\n            raise KeyError(Key)\\n        return self[str[key]]\\n    \\n    ', \"a = StrKeyDict0([('2', 'two'), ('4', 'four')])\", 'a', 'a[2]', 'class StrKeyDict0(dict):\\n    def __missing__(self, key):\\n        if isinstance(key, str):\\n            raise KeyError(Key)\\n        return self[str(key)]\\n    \\n    ', \"a = StrKeyDict0([('2', 'two'), ('4', 'four')])\", 'a', 'a[2]', \"a['2]']\", \"a['2']\", 'a[1]', 'class StrKeyDict0(dict):\\n    def __missing__(self, key):\\n        if isinstance(key, str):\\n            raise KeyError(key)\\n        return self[str(key)]\\n    \\n    ', \"a = StrKeyDict0([('2', 'two'), ('4', 'four')])\", 'a', 'a[2]', \"a['2']\", 'a[1]', 'a.get(2)', \"a.get('2')\", 'class StrKeyDict0(dict):\\n    def __missing__(self, key):\\n        if isinstance(key, str):\\n            raise KeyError(key)\\n        return self[str(key)]\\n    \\n    def get(self, key, default=None):\\n        try:\\n            return self[key]\\n        except KeyError:\\n            return default\\n        \\n    \\n    ', \"a = StrKeyDict0([('2', 'two'), ('4', 'four')])\", 'a', 'a[2]', \"a['2']\", 'a[1]', \"a.get('2')\", 'a.get(2)', 'class StrKeyDict0(dict):\\n    def __missing__(self, key):\\n        if isinstance(key, str):\\n            raise KeyError(key)\\n        return self[str(key)]\\n    \\n    def get(self, key, default=None):\\n        try:\\n            return self[key]\\n        except KeyError:\\n            return default\\n        \\n    def __contains__(self, key):\\n        return key in self.keys() or str(key) in self.keys()\\n        \\n    \\n    ', 'import builtins\\nfrom collections import ChainMap\\n\\npylookup = ChainMap(locals(), globals(), vars(builtins))', 'pylookup'], 'Out': {1: <module 'builtins' (built-in)>, 2: {'__name__': 'builtins', '__doc__': \"Built-in functions, exceptions, and other objects.\\n\\nNoteworthy: None is the `nil' object; Ellipsis represents `...' in slices.\", '__package__': '', '__loader__': <class '_frozen_importlib.BuiltinImporter'>, '__spec__': ModuleSpec(name='builtins', loader=<class '_frozen_importlib.BuiltinImporter'>), '__build_class__': <built-in function __build_class__>, '__import__': <built-in function __import__>, 'abs': <built-in function abs>, 'all': <built-in function all>, 'any': <built-in function any>, 'ascii': <built-in function ascii>, 'bin': <built-in function bin>, 'breakpoint': <built-in function breakpoint>, 'callable': <built-in function callable>, 'chr': <built-in function chr>, 'compile': <built-in function compile>, 'delattr': <built-in function delattr>, 'dir': <built-in function dir>, 'divmod': <built-in function divmod>, 'eval': <built-in function eval>, 'exec': <built-in function exec>, 'format': <built-in function format>, 'getattr': <built-in function getattr>, 'globals': <built-in function globals>, 'hasattr': <built-in function hasattr>, 'hash': <built-in function hash>, 'hex': <built-in function hex>, 'id': <built-in function id>, 'input': <bound method Kernel.raw_input of <ipykernel.ipkernel.IPythonKernel object at 0x7fd6f62ba850>>, 'isinstance': <built-in function isinstance>, 'issubclass': <built-in function issubclass>, 'iter': <built-in function iter>, 'len': <built-in function len>, 'locals': <built-in function locals>, 'max': <built-in function max>, 'min': <built-in function min>, 'next': <built-in function next>, 'oct': <built-in function oct>, 'ord': <built-in function ord>, 'pow': <built-in function pow>, 'print': <built-in function print>, 'repr': <built-in function repr>, 'round': <built-in function round>, 'setattr': <built-in function setattr>, 'sorted': <built-in function sorted>, 'sum': <built-in function sum>, 'vars': <built-in function vars>, 'None': None, 'Ellipsis': Ellipsis, 'NotImplemented': NotImplemented, 'False': False, 'True': True, 'bool': <class 'bool'>, 'memoryview': <class 'memoryview'>, 'bytearray': <class 'bytearray'>, 'bytes': <class 'bytes'>, 'classmethod': <class 'classmethod'>, 'complex': <class 'complex'>, 'dict': <class 'dict'>, 'enumerate': <class 'enumerate'>, 'filter': <class 'filter'>, 'float': <class 'float'>, 'frozenset': <class 'frozenset'>, 'property': <class 'property'>, 'int': <class 'int'>, 'list': <class 'list'>, 'map': <class 'map'>, 'object': <class 'object'>, 'range': <class 'range'>, 'reversed': <class 'reversed'>, 'set': <class 'set'>, 'slice': <class 'slice'>, 'staticmethod': <class 'staticmethod'>, 'str': <class 'str'>, 'super': <class 'super'>, 'tuple': <class 'tuple'>, 'type': <class 'type'>, 'zip': <class 'zip'>, '__debug__': True, 'BaseException': <class 'BaseException'>, 'Exception': <class 'Exception'>, 'TypeError': <class 'TypeError'>, 'StopAsyncIteration': <class 'StopAsyncIteration'>, 'StopIteration': <class 'StopIteration'>, 'GeneratorExit': <class 'GeneratorExit'>, 'SystemExit': <class 'SystemExit'>, 'KeyboardInterrupt': <class 'KeyboardInterrupt'>, 'ImportError': <class 'ImportError'>, 'ModuleNotFoundError': <class 'ModuleNotFoundError'>, 'OSError': <class 'OSError'>, 'EnvironmentError': <class 'OSError'>, 'IOError': <class 'OSError'>, 'EOFError': <class 'EOFError'>, 'RuntimeError': <class 'RuntimeError'>, 'RecursionError': <class 'RecursionError'>, 'NotImplementedError': <class 'NotImplementedError'>, 'NameError': <class 'NameError'>, 'UnboundLocalError': <class 'UnboundLocalError'>, 'AttributeError': <class 'AttributeError'>, 'SyntaxError': <class 'SyntaxError'>, 'IndentationError': <class 'IndentationError'>, 'TabError': <class 'TabError'>, 'LookupError': <class 'LookupError'>, 'IndexError': <class 'IndexError'>, 'KeyError': <class 'KeyError'>, 'ValueError': <class 'ValueError'>, 'UnicodeError': <class 'UnicodeError'>, 'UnicodeEncodeError': <class 'UnicodeEncodeError'>, 'UnicodeDecodeError': <class 'UnicodeDecodeError'>, 'UnicodeTranslateError': <class 'UnicodeTranslateError'>, 'AssertionError': <class 'AssertionError'>, 'ArithmeticError': <class 'ArithmeticError'>, 'FloatingPointError': <class 'FloatingPointError'>, 'OverflowError': <class 'OverflowError'>, 'ZeroDivisionError': <class 'ZeroDivisionError'>, 'SystemError': <class 'SystemError'>, 'ReferenceError': <class 'ReferenceError'>, 'MemoryError': <class 'MemoryError'>, 'BufferError': <class 'BufferError'>, 'Warning': <class 'Warning'>, 'UserWarning': <class 'UserWarning'>, 'DeprecationWarning': <class 'DeprecationWarning'>, 'PendingDeprecationWarning': <class 'PendingDeprecationWarning'>, 'SyntaxWarning': <class 'SyntaxWarning'>, 'RuntimeWarning': <class 'RuntimeWarning'>, 'FutureWarning': <class 'FutureWarning'>, 'ImportWarning': <class 'ImportWarning'>, 'UnicodeWarning': <class 'UnicodeWarning'>, 'BytesWarning': <class 'BytesWarning'>, 'ResourceWarning': <class 'ResourceWarning'>, 'ConnectionError': <class 'ConnectionError'>, 'BlockingIOError': <class 'BlockingIOError'>, 'BrokenPipeError': <class 'BrokenPipeError'>, 'ChildProcessError': <class 'ChildProcessError'>, 'ConnectionAbortedError': <class 'ConnectionAbortedError'>, 'ConnectionRefusedError': <class 'ConnectionRefusedError'>, 'ConnectionResetError': <class 'ConnectionResetError'>, 'FileExistsError': <class 'FileExistsError'>, 'FileNotFoundError': <class 'FileNotFoundError'>, 'IsADirectoryError': <class 'IsADirectoryError'>, 'NotADirectoryError': <class 'NotADirectoryError'>, 'InterruptedError': <class 'InterruptedError'>, 'PermissionError': <class 'PermissionError'>, 'ProcessLookupError': <class 'ProcessLookupError'>, 'TimeoutError': <class 'TimeoutError'>, 'open': <built-in function open>, 'copyright': Copyright (c) 2001-2019 Python Software Foundation.\n",
       "All Rights Reserved.\n",
       "\n",
       "Copyright (c) 2000 BeOpen.com.\n",
       "All Rights Reserved.\n",
       "\n",
       "Copyright (c) 1995-2001 Corporation for National Research Initiatives.\n",
       "All Rights Reserved.\n",
       "\n",
       "Copyright (c) 1991-1995 Stichting Mathematisch Centrum, Amsterdam.\n",
       "All Rights Reserved., 'credits':     Thanks to CWI, CNRI, BeOpen.com, Zope Corporation and a cast of thousands\n",
       "    for supporting Python development.  See www.python.org for more information., 'license': Type license() to see the full license text, 'help': Type help() for interactive help, or help(object) for help about object., '__IPYTHON__': True, 'display': <function display at 0x7fd6fee21200>, 'get_ipython': <bound method InteractiveShell.get_ipython of <ipykernel.zmqshell.ZMQInteractiveShell object at 0x7fd6f629f210>>}, 5: (2, 2), 6: {1: None, 2: 1, 3: []}, 7: 1, 8: {1: None, 2: 1, 3: []}, 11: {1: None, 2: 1, 3: []}, 12: 1, 13: {1: None, 2: 1, 3: []}, 15: {1: None, 2: 1, 3: []}, 16: [], 17: {1: None, 2: 1, 3: []}, 19: [], 20: {1: None, 2: 1, 3: []}, 27: <__main__.TestMapping object at 0x7fd6f41384d0>, 29: ItemsView(<__main__.TestMapping object at 0x7fd6f41384d0>), 37: {1: 2, 2: 2}, 38: {1: 2, 2: 2}, 41: {1: 2, 2: 2}, 43: {1: 2, 2: 2}, 44: 1, 45: {1: 1, 2: 2}, 48: {1: 3, 2: 2}, 49: {1: 2, 2: 2}, 51: {1: 2, 2: 2}, 52: {1: 3, 2: 2}, 55: {2: [1, 2]}, 56: {1: [1, 2, 3, 4], 2: [1, 2]}, 58: {2: [1, 2]}, 59: {1: [1, 2, 3, 4], 2: [1, 2]}, 62: {1: [1, 2, 3], 2: [1, 2]}, 63: {2: [1, 2]}, 65: {2: [1, 2]}, 66: {1: [1, 2, 3], 2: [1, 2]}, 68: True, 70: {2: [1, 2]}, 71: {1: [1, 2, 3], 2: [1, 2]}, 74: ['a', 'A', 'C'], 79: {'a': [11, 22], 'A': [33, 44], 'C': [55, 66], 1: 2}, 81: {1: 2}, 86: {1: 2}, 92: <class 'list'>, 96: [1, 2], 97: [1, 2], 98: [], 99: defaultdict(<class 'list'>, {1: [1, 2], 2: [3, 4], 3: []}), 100: <class 'list'>, 103: {'2': 'two', '4': 'four'}, 107: {'2': 'two', '4': 'four'}, 108: 'two', 110: 'two', 114: {'2': 'two', '4': 'four'}, 115: 'two', 116: 'two', 119: 'two', 122: {'2': 'two', '4': 'four'}, 123: 'two', 124: 'two', 126: 'two', 127: 'two'}, 'get_ipython': <bound method InteractiveShell.get_ipython of <ipykernel.zmqshell.ZMQInteractiveShell object at 0x7fd6f629f210>>, 'exit': <IPython.core.autocall.ZMQExitAutocall object at 0x7fd6f627ded0>, 'quit': <IPython.core.autocall.ZMQExitAutocall object at 0x7fd6f627ded0>, '_': 'two', '__': 'two', '___': 'two', '_i': 'import builtins\\nfrom collections import ChainMap\\n\\npylookup = ChainMap(locals(), globals(), vars(builtins))', '_ii': 'class StrKeyDict0(dict):\\n    def __missing__(self, key):\\n        if isinstance(key, str):\\n            raise KeyError(key)\\n        return self[str(key)]\\n    \\n    def get(self, key, default=None):\\n        try:\\n            return self[key]\\n        except KeyError:\\n            return default\\n        \\n    def __contains__(self, key):\\n        return key in self.keys() or str(key) in self.keys()\\n        \\n    \\n    ', '_iii': 'a.get(2)', '_i1': '__builtins__', '_1': <module 'builtins' (built-in)>, '_i2': '__builtins__.__dict__', '_2': {'__name__': 'builtins', '__doc__': \"Built-in functions, exceptions, and other objects.\\n\\nNoteworthy: None is the `nil' object; Ellipsis represents `...' in slices.\", '__package__': '', '__loader__': <class '_frozen_importlib.BuiltinImporter'>, '__spec__': ModuleSpec(name='builtins', loader=<class '_frozen_importlib.BuiltinImporter'>), '__build_class__': <built-in function __build_class__>, '__import__': <built-in function __import__>, 'abs': <built-in function abs>, 'all': <built-in function all>, 'any': <built-in function any>, 'ascii': <built-in function ascii>, 'bin': <built-in function bin>, 'breakpoint': <built-in function breakpoint>, 'callable': <built-in function callable>, 'chr': <built-in function chr>, 'compile': <built-in function compile>, 'delattr': <built-in function delattr>, 'dir': <built-in function dir>, 'divmod': <built-in function divmod>, 'eval': <built-in function eval>, 'exec': <built-in function exec>, 'format': <built-in function format>, 'getattr': <built-in function getattr>, 'globals': <built-in function globals>, 'hasattr': <built-in function hasattr>, 'hash': <built-in function hash>, 'hex': <built-in function hex>, 'id': <built-in function id>, 'input': <bound method Kernel.raw_input of <ipykernel.ipkernel.IPythonKernel object at 0x7fd6f62ba850>>, 'isinstance': <built-in function isinstance>, 'issubclass': <built-in function issubclass>, 'iter': <built-in function iter>, 'len': <built-in function len>, 'locals': <built-in function locals>, 'max': <built-in function max>, 'min': <built-in function min>, 'next': <built-in function next>, 'oct': <built-in function oct>, 'ord': <built-in function ord>, 'pow': <built-in function pow>, 'print': <built-in function print>, 'repr': <built-in function repr>, 'round': <built-in function round>, 'setattr': <built-in function setattr>, 'sorted': <built-in function sorted>, 'sum': <built-in function sum>, 'vars': <built-in function vars>, 'None': None, 'Ellipsis': Ellipsis, 'NotImplemented': NotImplemented, 'False': False, 'True': True, 'bool': <class 'bool'>, 'memoryview': <class 'memoryview'>, 'bytearray': <class 'bytearray'>, 'bytes': <class 'bytes'>, 'classmethod': <class 'classmethod'>, 'complex': <class 'complex'>, 'dict': <class 'dict'>, 'enumerate': <class 'enumerate'>, 'filter': <class 'filter'>, 'float': <class 'float'>, 'frozenset': <class 'frozenset'>, 'property': <class 'property'>, 'int': <class 'int'>, 'list': <class 'list'>, 'map': <class 'map'>, 'object': <class 'object'>, 'range': <class 'range'>, 'reversed': <class 'reversed'>, 'set': <class 'set'>, 'slice': <class 'slice'>, 'staticmethod': <class 'staticmethod'>, 'str': <class 'str'>, 'super': <class 'super'>, 'tuple': <class 'tuple'>, 'type': <class 'type'>, 'zip': <class 'zip'>, '__debug__': True, 'BaseException': <class 'BaseException'>, 'Exception': <class 'Exception'>, 'TypeError': <class 'TypeError'>, 'StopAsyncIteration': <class 'StopAsyncIteration'>, 'StopIteration': <class 'StopIteration'>, 'GeneratorExit': <class 'GeneratorExit'>, 'SystemExit': <class 'SystemExit'>, 'KeyboardInterrupt': <class 'KeyboardInterrupt'>, 'ImportError': <class 'ImportError'>, 'ModuleNotFoundError': <class 'ModuleNotFoundError'>, 'OSError': <class 'OSError'>, 'EnvironmentError': <class 'OSError'>, 'IOError': <class 'OSError'>, 'EOFError': <class 'EOFError'>, 'RuntimeError': <class 'RuntimeError'>, 'RecursionError': <class 'RecursionError'>, 'NotImplementedError': <class 'NotImplementedError'>, 'NameError': <class 'NameError'>, 'UnboundLocalError': <class 'UnboundLocalError'>, 'AttributeError': <class 'AttributeError'>, 'SyntaxError': <class 'SyntaxError'>, 'IndentationError': <class 'IndentationError'>, 'TabError': <class 'TabError'>, 'LookupError': <class 'LookupError'>, 'IndexError': <class 'IndexError'>, 'KeyError': <class 'KeyError'>, 'ValueError': <class 'ValueError'>, 'UnicodeError': <class 'UnicodeError'>, 'UnicodeEncodeError': <class 'UnicodeEncodeError'>, 'UnicodeDecodeError': <class 'UnicodeDecodeError'>, 'UnicodeTranslateError': <class 'UnicodeTranslateError'>, 'AssertionError': <class 'AssertionError'>, 'ArithmeticError': <class 'ArithmeticError'>, 'FloatingPointError': <class 'FloatingPointError'>, 'OverflowError': <class 'OverflowError'>, 'ZeroDivisionError': <class 'ZeroDivisionError'>, 'SystemError': <class 'SystemError'>, 'ReferenceError': <class 'ReferenceError'>, 'MemoryError': <class 'MemoryError'>, 'BufferError': <class 'BufferError'>, 'Warning': <class 'Warning'>, 'UserWarning': <class 'UserWarning'>, 'DeprecationWarning': <class 'DeprecationWarning'>, 'PendingDeprecationWarning': <class 'PendingDeprecationWarning'>, 'SyntaxWarning': <class 'SyntaxWarning'>, 'RuntimeWarning': <class 'RuntimeWarning'>, 'FutureWarning': <class 'FutureWarning'>, 'ImportWarning': <class 'ImportWarning'>, 'UnicodeWarning': <class 'UnicodeWarning'>, 'BytesWarning': <class 'BytesWarning'>, 'ResourceWarning': <class 'ResourceWarning'>, 'ConnectionError': <class 'ConnectionError'>, 'BlockingIOError': <class 'BlockingIOError'>, 'BrokenPipeError': <class 'BrokenPipeError'>, 'ChildProcessError': <class 'ChildProcessError'>, 'ConnectionAbortedError': <class 'ConnectionAbortedError'>, 'ConnectionRefusedError': <class 'ConnectionRefusedError'>, 'ConnectionResetError': <class 'ConnectionResetError'>, 'FileExistsError': <class 'FileExistsError'>, 'FileNotFoundError': <class 'FileNotFoundError'>, 'IsADirectoryError': <class 'IsADirectoryError'>, 'NotADirectoryError': <class 'NotADirectoryError'>, 'InterruptedError': <class 'InterruptedError'>, 'PermissionError': <class 'PermissionError'>, 'ProcessLookupError': <class 'ProcessLookupError'>, 'TimeoutError': <class 'TimeoutError'>, 'open': <built-in function open>, 'copyright': Copyright (c) 2001-2019 Python Software Foundation.\n",
       "All Rights Reserved.\n",
       "\n",
       "Copyright (c) 2000 BeOpen.com.\n",
       "All Rights Reserved.\n",
       "\n",
       "Copyright (c) 1995-2001 Corporation for National Research Initiatives.\n",
       "All Rights Reserved.\n",
       "\n",
       "Copyright (c) 1991-1995 Stichting Mathematisch Centrum, Amsterdam.\n",
       "All Rights Reserved., 'credits':     Thanks to CWI, CNRI, BeOpen.com, Zope Corporation and a cast of thousands\n",
       "    for supporting Python development.  See www.python.org for more information., 'license': Type license() to see the full license text, 'help': Type help() for interactive help, or help(object) for help about object., '__IPYTHON__': True, 'display': <function display at 0x7fd6fee21200>, 'get_ipython': <bound method InteractiveShell.get_ipython of <ipykernel.zmqshell.ZMQInteractiveShell object at 0x7fd6f629f210>>}, '_i3': 'a = {1:1, 2:2}', 'a': {'2': 'two', '4': 'four'}, '_i4': 'a.pop()', '_i5': 'a.popitem()', '_5': (2, 2), '_i6': 'a', '_6': {1: None, 2: 1, 3: []}, '_i7': 'a.pop(1)', '_7': 1, '_i8': 'a', '_8': {1: None, 2: 1, 3: []}, '_i9': 'a.pop(1)', '_i10': 'a.setdefault(1)', '_i11': 'a', '_11': {1: None, 2: 1, 3: []}, '_i12': 'a.setdefault(2, 1)', '_12': 1, '_i13': 'a', '_13': {1: None, 2: 1, 3: []}, '_i14': 'a.setdefault(1, [])', '_i15': 'a', '_15': {1: None, 2: 1, 3: []}, '_i16': 'a.setdefault(3, [])', '_16': [], '_i17': 'a', '_17': {1: None, 2: 1, 3: []}, '_i18': 'a.setdefault(3, [], 2)', '_i19': 'a.setdefault(3, [])', '_19': [], '_i20': 'a', '_20': {1: None, 2: 1, 3: []}, '_i21': 'from collections import Mapping', 'Mapping': <class 'collections.abc.Mapping'>, '_i22': 'from collections.abc import Mapping', '_i23': 'help(Mapping)', '_i24': 'a = Mapping()', '_i25': \"class TestMapping(Mapping):\\n    def __getitem__(self):\\n        return ''\\n    \\n    def __iter__(self):\\n        return ''\\n    \\n    def __len__(self):\\n        return 0\", 'TestMapping': <class '__main__.TestMapping'>, '_i26': 'a = TestMapping()', '_i27': 'a', '_27': <__main__.TestMapping object at 0x7fd6f41384d0>, '_i28': 'a[1] = 1', '_i29': 'a.items()', '_29': ItemsView(<__main__.TestMapping object at 0x7fd6f41384d0>), '_i30': 'list(a.items())', '_i31': 'a = [1, 2]\\nb = [3,4]', 'b': ['a', 'A', 'C'], '_i32': \"for ab in (f'{a} : {b}' for a, b in zip(a, b)):\\n    print(ab)\", 'ab': '2 : 4', '_i33': \"for c in (f'{x} : {y}' for x in a for y in b):\\n    print(c)\", 'c': '2 : 4', '_i34': 'a = {1:1, 2:2}', '_i35': 'b = a', '_i36': 'a[1] = 2', '_i37': 'b', '_37': {1: 2, 2: 2}, '_i38': 'a', '_38': {1: 2, 2: 2}, '_i39': 'a = {1:1, 2:2}', '_i40': 'b = a.copy()', '_i41': 'b', '_41': {1: 2, 2: 2}, '_i42': 'b[1] = 2', '_i43': 'b', '_43': {1: 2, 2: 2}, '_i44': '1', '_44': 1, '_i45': 'a', '_45': {1: 1, 2: 2}, '_i46': 'from copy import copy', 'copy': <function copy at 0x7fd6feeaa3b0>, '_i47': 'a = copy(b)', '_i48': 'a', '_48': {1: 3, 2: 2}, '_i49': 'b', '_49': {1: 2, 2: 2}, '_i50': 'a[1] = 3', '_i51': 'b', '_51': {1: 2, 2: 2}, '_i52': 'a', '_52': {1: 3, 2: 2}, '_i53': 'a = {1:[1, 2], 2: [1, 2]}', '_i54': 'b = copy(a)', '_i55': 'a', '_55': {2: [1, 2]}, '_i56': 'b', '_56': {1: [1, 2, 3, 4], 2: [1, 2]}, '_i57': 'b[1].append(3)', '_i58': 'a', '_58': {2: [1, 2]}, '_i59': 'b', '_59': {1: [1, 2, 3, 4], 2: [1, 2]}, '_i60': 'from copy import deepcopy', 'deepcopy': <function deepcopy at 0x7fd6feeaad40>, '_i61': 'b = deepcopy(a)', '_i62': 'b', '_62': {1: [1, 2, 3], 2: [1, 2]}, '_i63': 'a', '_63': {2: [1, 2]}, '_i64': 'a[1].append(4)', '_i65': 'a', '_65': {2: [1, 2]}, '_i66': 'b', '_66': {1: [1, 2, 3], 2: [1, 2]}, '_i67': 'a in b', '_i68': '1 in b', '_68': True, '_i69': 'del a[1]', '_i70': 'a', '_70': {2: [1, 2]}, '_i71': 'b', '_71': {1: [1, 2, 3], 2: [1, 2]}, '_i72': \"a = {'a':[11, 22], 'A': [33, 44], 'C': [55, 66]}\", '_i73': 'b = sorted(a, key=str.upper)', '_i74': 'b', '_74': ['a', 'A', 'C'], '_i75': \"class ComportDict(Dict):\\n    def __missing__(self):\\n        return 'a'\", '_i76': \"class ComportDict(dict):\\n    def __missing__(self):\\n        return 'a'\", 'ComportDict': <class '__main__.ComportDict'>, '_i77': 'aa = ComportDict()', 'aa': {1: 2}, '_i78': 'a[1] = 2', '_i79': 'a', '_79': {'a': [11, 22], 'A': [33, 44], 'C': [55, 66], 1: 2}, '_i80': 'aa[1] = 2', '_i81': 'aa', '_81': {1: 2}, '_i82': 'aa[2]', '_i83': 'class DefaultListDict(dict):\\n    def __missing__(self, key):\\n        self[key] = []\\n        return self[key]', 'DefaultListDict': <class '__main__.DefaultListDict'>, '_i84': 'aa = ComportDict()', '_i85': 'aa[1] = 2', '_i86': 'aa', '_86': {1: 2}, '_i87': 'aa[2]', '_i88': 'from collections import defaultdict', 'defaultdict': <class 'collections.defaultdict'>, '_i89': 'a = defaultdict(a)', '_i90': 'a = defaultdict(list)', '_i91': 'a.defaylt)factiry', '_i92': 'a.default_factory', '_92': <class 'list'>, '_i93': 'help(a)', '_i94': 'a = defaultdict(list)', '_i95': 'a = defaultdict(list)\\na[1] = [1, 2]\\na[2] = [3, 4]', '_i96': 'a = defaultdict(list)\\na[1] = [1, 2]\\na[2] = [3, 4]\\na[1]', '_96': [1, 2], '_i97': 'a[1]', '_97': [1, 2], '_i98': 'a[3]', '_98': [], '_i99': 'a', '_99': defaultdict(<class 'list'>, {1: [1, 2], 2: [3, 4], 3: []}), '_i100': 'a.default_factory', '_100': <class 'list'>, '_i101': 'class StrKeyDict0(dict):\\n    def __missing__(self, key):\\n        if isinstance(key, str):\\n            raise KeyError(Key)\\n        return self[str[key]]\\n    \\n    ', 'StrKeyDict0': <class '__main__.StrKeyDict0'>, '_i102': \"a = StrKeyDict0([('2', 'two'), ('4', 'four')])\", '_i103': 'a', '_103': {'2': 'two', '4': 'four'}, '_i104': 'a[2]', '_i105': 'class StrKeyDict0(dict):\\n    def __missing__(self, key):\\n        if isinstance(key, str):\\n            raise KeyError(Key)\\n        return self[str(key)]\\n    \\n    ', '_i106': \"a = StrKeyDict0([('2', 'two'), ('4', 'four')])\", '_i107': 'a', '_107': {'2': 'two', '4': 'four'}, '_i108': 'a[2]', '_108': 'two', '_i109': \"a['2]']\", '_i110': \"a['2']\", '_110': 'two', '_i111': 'a[1]', '_i112': 'class StrKeyDict0(dict):\\n    def __missing__(self, key):\\n        if isinstance(key, str):\\n            raise KeyError(key)\\n        return self[str(key)]\\n    \\n    ', '_i113': \"a = StrKeyDict0([('2', 'two'), ('4', 'four')])\", '_i114': 'a', '_114': {'2': 'two', '4': 'four'}, '_i115': 'a[2]', '_115': 'two', '_i116': \"a['2']\", '_116': 'two', '_i117': 'a[1]', '_i118': 'a.get(2)', '_i119': \"a.get('2')\", '_119': 'two', '_i120': 'class StrKeyDict0(dict):\\n    def __missing__(self, key):\\n        if isinstance(key, str):\\n            raise KeyError(key)\\n        return self[str(key)]\\n    \\n    def get(self, key, default=None):\\n        try:\\n            return self[key]\\n        except KeyError:\\n            return default\\n        \\n    \\n    ', '_i121': \"a = StrKeyDict0([('2', 'two'), ('4', 'four')])\", '_i122': 'a', '_122': {'2': 'two', '4': 'four'}, '_i123': 'a[2]', '_123': 'two', '_i124': \"a['2']\", '_124': 'two', '_i125': 'a[1]', '_i126': \"a.get('2')\", '_126': 'two', '_i127': 'a.get(2)', '_127': 'two', '_i128': 'class StrKeyDict0(dict):\\n    def __missing__(self, key):\\n        if isinstance(key, str):\\n            raise KeyError(key)\\n        return self[str(key)]\\n    \\n    def get(self, key, default=None):\\n        try:\\n            return self[key]\\n        except KeyError:\\n            return default\\n        \\n    def __contains__(self, key):\\n        return key in self.keys() or str(key) in self.keys()\\n        \\n    \\n    ', '_i129': 'import builtins\\nfrom collections import ChainMap\\n\\npylookup = ChainMap(locals(), globals(), vars(builtins))', 'builtins': <module 'builtins' (built-in)>, 'ChainMap': <class 'collections.ChainMap'>, 'pylookup': ..., '_i130': 'pylookup'}, {'__name__': 'builtins', '__doc__': \"Built-in functions, exceptions, and other objects.\\n\\nNoteworthy: None is the `nil' object; Ellipsis represents `...' in slices.\", '__package__': '', '__loader__': <class '_frozen_importlib.BuiltinImporter'>, '__spec__': ModuleSpec(name='builtins', loader=<class '_frozen_importlib.BuiltinImporter'>), '__build_class__': <built-in function __build_class__>, '__import__': <built-in function __import__>, 'abs': <built-in function abs>, 'all': <built-in function all>, 'any': <built-in function any>, 'ascii': <built-in function ascii>, 'bin': <built-in function bin>, 'breakpoint': <built-in function breakpoint>, 'callable': <built-in function callable>, 'chr': <built-in function chr>, 'compile': <built-in function compile>, 'delattr': <built-in function delattr>, 'dir': <built-in function dir>, 'divmod': <built-in function divmod>, 'eval': <built-in function eval>, 'exec': <built-in function exec>, 'format': <built-in function format>, 'getattr': <built-in function getattr>, 'globals': <built-in function globals>, 'hasattr': <built-in function hasattr>, 'hash': <built-in function hash>, 'hex': <built-in function hex>, 'id': <built-in function id>, 'input': <bound method Kernel.raw_input of <ipykernel.ipkernel.IPythonKernel object at 0x7fd6f62ba850>>, 'isinstance': <built-in function isinstance>, 'issubclass': <built-in function issubclass>, 'iter': <built-in function iter>, 'len': <built-in function len>, 'locals': <built-in function locals>, 'max': <built-in function max>, 'min': <built-in function min>, 'next': <built-in function next>, 'oct': <built-in function oct>, 'ord': <built-in function ord>, 'pow': <built-in function pow>, 'print': <built-in function print>, 'repr': <built-in function repr>, 'round': <built-in function round>, 'setattr': <built-in function setattr>, 'sorted': <built-in function sorted>, 'sum': <built-in function sum>, 'vars': <built-in function vars>, 'None': None, 'Ellipsis': Ellipsis, 'NotImplemented': NotImplemented, 'False': False, 'True': True, 'bool': <class 'bool'>, 'memoryview': <class 'memoryview'>, 'bytearray': <class 'bytearray'>, 'bytes': <class 'bytes'>, 'classmethod': <class 'classmethod'>, 'complex': <class 'complex'>, 'dict': <class 'dict'>, 'enumerate': <class 'enumerate'>, 'filter': <class 'filter'>, 'float': <class 'float'>, 'frozenset': <class 'frozenset'>, 'property': <class 'property'>, 'int': <class 'int'>, 'list': <class 'list'>, 'map': <class 'map'>, 'object': <class 'object'>, 'range': <class 'range'>, 'reversed': <class 'reversed'>, 'set': <class 'set'>, 'slice': <class 'slice'>, 'staticmethod': <class 'staticmethod'>, 'str': <class 'str'>, 'super': <class 'super'>, 'tuple': <class 'tuple'>, 'type': <class 'type'>, 'zip': <class 'zip'>, '__debug__': True, 'BaseException': <class 'BaseException'>, 'Exception': <class 'Exception'>, 'TypeError': <class 'TypeError'>, 'StopAsyncIteration': <class 'StopAsyncIteration'>, 'StopIteration': <class 'StopIteration'>, 'GeneratorExit': <class 'GeneratorExit'>, 'SystemExit': <class 'SystemExit'>, 'KeyboardInterrupt': <class 'KeyboardInterrupt'>, 'ImportError': <class 'ImportError'>, 'ModuleNotFoundError': <class 'ModuleNotFoundError'>, 'OSError': <class 'OSError'>, 'EnvironmentError': <class 'OSError'>, 'IOError': <class 'OSError'>, 'EOFError': <class 'EOFError'>, 'RuntimeError': <class 'RuntimeError'>, 'RecursionError': <class 'RecursionError'>, 'NotImplementedError': <class 'NotImplementedError'>, 'NameError': <class 'NameError'>, 'UnboundLocalError': <class 'UnboundLocalError'>, 'AttributeError': <class 'AttributeError'>, 'SyntaxError': <class 'SyntaxError'>, 'IndentationError': <class 'IndentationError'>, 'TabError': <class 'TabError'>, 'LookupError': <class 'LookupError'>, 'IndexError': <class 'IndexError'>, 'KeyError': <class 'KeyError'>, 'ValueError': <class 'ValueError'>, 'UnicodeError': <class 'UnicodeError'>, 'UnicodeEncodeError': <class 'UnicodeEncodeError'>, 'UnicodeDecodeError': <class 'UnicodeDecodeError'>, 'UnicodeTranslateError': <class 'UnicodeTranslateError'>, 'AssertionError': <class 'AssertionError'>, 'ArithmeticError': <class 'ArithmeticError'>, 'FloatingPointError': <class 'FloatingPointError'>, 'OverflowError': <class 'OverflowError'>, 'ZeroDivisionError': <class 'ZeroDivisionError'>, 'SystemError': <class 'SystemError'>, 'ReferenceError': <class 'ReferenceError'>, 'MemoryError': <class 'MemoryError'>, 'BufferError': <class 'BufferError'>, 'Warning': <class 'Warning'>, 'UserWarning': <class 'UserWarning'>, 'DeprecationWarning': <class 'DeprecationWarning'>, 'PendingDeprecationWarning': <class 'PendingDeprecationWarning'>, 'SyntaxWarning': <class 'SyntaxWarning'>, 'RuntimeWarning': <class 'RuntimeWarning'>, 'FutureWarning': <class 'FutureWarning'>, 'ImportWarning': <class 'ImportWarning'>, 'UnicodeWarning': <class 'UnicodeWarning'>, 'BytesWarning': <class 'BytesWarning'>, 'ResourceWarning': <class 'ResourceWarning'>, 'ConnectionError': <class 'ConnectionError'>, 'BlockingIOError': <class 'BlockingIOError'>, 'BrokenPipeError': <class 'BrokenPipeError'>, 'ChildProcessError': <class 'ChildProcessError'>, 'ConnectionAbortedError': <class 'ConnectionAbortedError'>, 'ConnectionRefusedError': <class 'ConnectionRefusedError'>, 'ConnectionResetError': <class 'ConnectionResetError'>, 'FileExistsError': <class 'FileExistsError'>, 'FileNotFoundError': <class 'FileNotFoundError'>, 'IsADirectoryError': <class 'IsADirectoryError'>, 'NotADirectoryError': <class 'NotADirectoryError'>, 'InterruptedError': <class 'InterruptedError'>, 'PermissionError': <class 'PermissionError'>, 'ProcessLookupError': <class 'ProcessLookupError'>, 'TimeoutError': <class 'TimeoutError'>, 'open': <built-in function open>, 'copyright': Copyright (c) 2001-2019 Python Software Foundation.\n",
       "All Rights Reserved.\n",
       "\n",
       "Copyright (c) 2000 BeOpen.com.\n",
       "All Rights Reserved.\n",
       "\n",
       "Copyright (c) 1995-2001 Corporation for National Research Initiatives.\n",
       "All Rights Reserved.\n",
       "\n",
       "Copyright (c) 1991-1995 Stichting Mathematisch Centrum, Amsterdam.\n",
       "All Rights Reserved., 'credits':     Thanks to CWI, CNRI, BeOpen.com, Zope Corporation and a cast of thousands\n",
       "    for supporting Python development.  See www.python.org for more information., 'license': Type license() to see the full license text, 'help': Type help() for interactive help, or help(object) for help about object., '__IPYTHON__': True, 'display': <function display at 0x7fd6fee21200>, 'get_ipython': <bound method InteractiveShell.get_ipython of <ipykernel.zmqshell.ZMQInteractiveShell object at 0x7fd6f629f210>>})"
      ]
     },
     "execution_count": 130,
     "metadata": {},
     "output_type": "execute_result"
    }
   ],
   "source": [
    "pylookup"
   ]
  },
  {
   "cell_type": "code",
   "execution_count": 131,
   "metadata": {},
   "outputs": [],
   "source": [
    "a = {1:1}\n",
    "b = {2:2}\n",
    "c = {3:3}"
   ]
  },
  {
   "cell_type": "code",
   "execution_count": 132,
   "metadata": {},
   "outputs": [],
   "source": [
    "chain = ChainMap(a, b, c)"
   ]
  },
  {
   "cell_type": "code",
   "execution_count": 133,
   "metadata": {},
   "outputs": [
    {
     "data": {
      "text/plain": [
       "ChainMap({1: 1}, {2: 2}, {3: 3})"
      ]
     },
     "execution_count": 133,
     "metadata": {},
     "output_type": "execute_result"
    }
   ],
   "source": [
    "chain"
   ]
  },
  {
   "cell_type": "code",
   "execution_count": 134,
   "metadata": {},
   "outputs": [
    {
     "data": {
      "text/plain": [
       "1"
      ]
     },
     "execution_count": 134,
     "metadata": {},
     "output_type": "execute_result"
    }
   ],
   "source": [
    "chain[1]"
   ]
  },
  {
   "cell_type": "code",
   "execution_count": 137,
   "metadata": {
    "scrolled": true
   },
   "outputs": [
    {
     "data": {
      "text/plain": [
       "1"
      ]
     },
     "execution_count": 137,
     "metadata": {},
     "output_type": "execute_result"
    }
   ],
   "source": [
    "chain.pop(1)"
   ]
  },
  {
   "cell_type": "code",
   "execution_count": 138,
   "metadata": {},
   "outputs": [
    {
     "data": {
      "text/plain": [
       "{}"
      ]
     },
     "execution_count": 138,
     "metadata": {},
     "output_type": "execute_result"
    }
   ],
   "source": [
    "a"
   ]
  },
  {
   "cell_type": "code",
   "execution_count": 139,
   "metadata": {},
   "outputs": [
    {
     "data": {
      "text/plain": [
       "{}"
      ]
     },
     "execution_count": 139,
     "metadata": {},
     "output_type": "execute_result"
    }
   ],
   "source": [
    "a and b"
   ]
  },
  {
   "cell_type": "code",
   "execution_count": 140,
   "metadata": {},
   "outputs": [
    {
     "data": {
      "text/plain": [
       "{2: 2}"
      ]
     },
     "execution_count": 140,
     "metadata": {},
     "output_type": "execute_result"
    }
   ],
   "source": [
    "a or b"
   ]
  },
  {
   "cell_type": "code",
   "execution_count": 141,
   "metadata": {},
   "outputs": [
    {
     "data": {
      "text/plain": [
       "{}"
      ]
     },
     "execution_count": 141,
     "metadata": {},
     "output_type": "execute_result"
    }
   ],
   "source": [
    "a and b and c"
   ]
  },
  {
   "cell_type": "code",
   "execution_count": 142,
   "metadata": {},
   "outputs": [
    {
     "data": {
      "text/plain": [
       "{'__name__': '__main__',\n",
       " '__doc__': 'Automatically created module for IPython interactive environment',\n",
       " '__package__': None,\n",
       " '__loader__': None,\n",
       " '__spec__': None,\n",
       " '__builtin__': <module 'builtins' (built-in)>,\n",
       " '__builtins__': <module 'builtins' (built-in)>,\n",
       " '_ih': ['',\n",
       "  '__builtins__',\n",
       "  '__builtins__.__dict__',\n",
       "  'a = {1:1, 2:2}',\n",
       "  'a.pop()',\n",
       "  'a.popitem()',\n",
       "  'a',\n",
       "  'a.pop(1)',\n",
       "  'a',\n",
       "  'a.pop(1)',\n",
       "  'a.setdefault(1)',\n",
       "  'a',\n",
       "  'a.setdefault(2, 1)',\n",
       "  'a',\n",
       "  'a.setdefault(1, [])',\n",
       "  'a',\n",
       "  'a.setdefault(3, [])',\n",
       "  'a',\n",
       "  'a.setdefault(3, [], 2)',\n",
       "  'a.setdefault(3, [])',\n",
       "  'a',\n",
       "  'from collections import Mapping',\n",
       "  'from collections.abc import Mapping',\n",
       "  'help(Mapping)',\n",
       "  'a = Mapping()',\n",
       "  \"class TestMapping(Mapping):\\n    def __getitem__(self):\\n        return ''\\n    \\n    def __iter__(self):\\n        return ''\\n    \\n    def __len__(self):\\n        return 0\",\n",
       "  'a = TestMapping()',\n",
       "  'a',\n",
       "  'a[1] = 1',\n",
       "  'a.items()',\n",
       "  'list(a.items())',\n",
       "  'a = [1, 2]\\nb = [3,4]',\n",
       "  \"for ab in (f'{a} : {b}' for a, b in zip(a, b)):\\n    print(ab)\",\n",
       "  \"for c in (f'{x} : {y}' for x in a for y in b):\\n    print(c)\",\n",
       "  'a = {1:1, 2:2}',\n",
       "  'b = a',\n",
       "  'a[1] = 2',\n",
       "  'b',\n",
       "  'a',\n",
       "  'a = {1:1, 2:2}',\n",
       "  'b = a.copy()',\n",
       "  'b',\n",
       "  'b[1] = 2',\n",
       "  'b',\n",
       "  '1',\n",
       "  'a',\n",
       "  'from copy import copy',\n",
       "  'a = copy(b)',\n",
       "  'a',\n",
       "  'b',\n",
       "  'a[1] = 3',\n",
       "  'b',\n",
       "  'a',\n",
       "  'a = {1:[1, 2], 2: [1, 2]}',\n",
       "  'b = copy(a)',\n",
       "  'a',\n",
       "  'b',\n",
       "  'b[1].append(3)',\n",
       "  'a',\n",
       "  'b',\n",
       "  'from copy import deepcopy',\n",
       "  'b = deepcopy(a)',\n",
       "  'b',\n",
       "  'a',\n",
       "  'a[1].append(4)',\n",
       "  'a',\n",
       "  'b',\n",
       "  'a in b',\n",
       "  '1 in b',\n",
       "  'del a[1]',\n",
       "  'a',\n",
       "  'b',\n",
       "  \"a = {'a':[11, 22], 'A': [33, 44], 'C': [55, 66]}\",\n",
       "  'b = sorted(a, key=str.upper)',\n",
       "  'b',\n",
       "  \"class ComportDict(Dict):\\n    def __missing__(self):\\n        return 'a'\",\n",
       "  \"class ComportDict(dict):\\n    def __missing__(self):\\n        return 'a'\",\n",
       "  'aa = ComportDict()',\n",
       "  'a[1] = 2',\n",
       "  'a',\n",
       "  'aa[1] = 2',\n",
       "  'aa',\n",
       "  'aa[2]',\n",
       "  'class DefaultListDict(dict):\\n    def __missing__(self, key):\\n        self[key] = []\\n        return self[key]',\n",
       "  'aa = ComportDict()',\n",
       "  'aa[1] = 2',\n",
       "  'aa',\n",
       "  'aa[2]',\n",
       "  'from collections import defaultdict',\n",
       "  'a = defaultdict(a)',\n",
       "  'a = defaultdict(list)',\n",
       "  'a.defaylt)factiry',\n",
       "  'a.default_factory',\n",
       "  'help(a)',\n",
       "  'a = defaultdict(list)',\n",
       "  'a = defaultdict(list)\\na[1] = [1, 2]\\na[2] = [3, 4]',\n",
       "  'a = defaultdict(list)\\na[1] = [1, 2]\\na[2] = [3, 4]\\na[1]',\n",
       "  'a[1]',\n",
       "  'a[3]',\n",
       "  'a',\n",
       "  'a.default_factory',\n",
       "  'class StrKeyDict0(dict):\\n    def __missing__(self, key):\\n        if isinstance(key, str):\\n            raise KeyError(Key)\\n        return self[str[key]]\\n    \\n    ',\n",
       "  \"a = StrKeyDict0([('2', 'two'), ('4', 'four')])\",\n",
       "  'a',\n",
       "  'a[2]',\n",
       "  'class StrKeyDict0(dict):\\n    def __missing__(self, key):\\n        if isinstance(key, str):\\n            raise KeyError(Key)\\n        return self[str(key)]\\n    \\n    ',\n",
       "  \"a = StrKeyDict0([('2', 'two'), ('4', 'four')])\",\n",
       "  'a',\n",
       "  'a[2]',\n",
       "  \"a['2]']\",\n",
       "  \"a['2']\",\n",
       "  'a[1]',\n",
       "  'class StrKeyDict0(dict):\\n    def __missing__(self, key):\\n        if isinstance(key, str):\\n            raise KeyError(key)\\n        return self[str(key)]\\n    \\n    ',\n",
       "  \"a = StrKeyDict0([('2', 'two'), ('4', 'four')])\",\n",
       "  'a',\n",
       "  'a[2]',\n",
       "  \"a['2']\",\n",
       "  'a[1]',\n",
       "  'a.get(2)',\n",
       "  \"a.get('2')\",\n",
       "  'class StrKeyDict0(dict):\\n    def __missing__(self, key):\\n        if isinstance(key, str):\\n            raise KeyError(key)\\n        return self[str(key)]\\n    \\n    def get(self, key, default=None):\\n        try:\\n            return self[key]\\n        except KeyError:\\n            return default\\n        \\n    \\n    ',\n",
       "  \"a = StrKeyDict0([('2', 'two'), ('4', 'four')])\",\n",
       "  'a',\n",
       "  'a[2]',\n",
       "  \"a['2']\",\n",
       "  'a[1]',\n",
       "  \"a.get('2')\",\n",
       "  'a.get(2)',\n",
       "  'class StrKeyDict0(dict):\\n    def __missing__(self, key):\\n        if isinstance(key, str):\\n            raise KeyError(key)\\n        return self[str(key)]\\n    \\n    def get(self, key, default=None):\\n        try:\\n            return self[key]\\n        except KeyError:\\n            return default\\n        \\n    def __contains__(self, key):\\n        return key in self.keys() or str(key) in self.keys()\\n        \\n    \\n    ',\n",
       "  'import builtins\\nfrom collections import ChainMap\\n\\npylookup = ChainMap(locals(), globals(), vars(builtins))',\n",
       "  'pylookup',\n",
       "  'a = {1:1}\\nb = {2:2}\\nc = {3:3}',\n",
       "  'chain = ChainMap(a, b, c)',\n",
       "  'chain',\n",
       "  'chain[1]',\n",
       "  'chain.items()',\n",
       "  'list(chain.items())',\n",
       "  'chain.pop(1)',\n",
       "  'a',\n",
       "  'a and b',\n",
       "  'a or b',\n",
       "  'a and b and c',\n",
       "  'locals()'],\n",
       " '_oh': {1: <module 'builtins' (built-in)>,\n",
       "  2: {'__name__': 'builtins',\n",
       "   '__doc__': \"Built-in functions, exceptions, and other objects.\\n\\nNoteworthy: None is the `nil' object; Ellipsis represents `...' in slices.\",\n",
       "   '__package__': '',\n",
       "   '__loader__': _frozen_importlib.BuiltinImporter,\n",
       "   '__spec__': ModuleSpec(name='builtins', loader=<class '_frozen_importlib.BuiltinImporter'>),\n",
       "   '__build_class__': <function __build_class__>,\n",
       "   '__import__': <function __import__>,\n",
       "   'abs': <function abs(x, /)>,\n",
       "   'all': <function all(iterable, /)>,\n",
       "   'any': <function any(iterable, /)>,\n",
       "   'ascii': <function ascii(obj, /)>,\n",
       "   'bin': <function bin(number, /)>,\n",
       "   'breakpoint': <function breakpoint>,\n",
       "   'callable': <function callable(obj, /)>,\n",
       "   'chr': <function chr(i, /)>,\n",
       "   'compile': <function compile(source, filename, mode, flags=0, dont_inherit=False, optimize=-1)>,\n",
       "   'delattr': <function delattr(obj, name, /)>,\n",
       "   'dir': <function dir>,\n",
       "   'divmod': <function divmod(x, y, /)>,\n",
       "   'eval': <function eval(source, globals=None, locals=None, /)>,\n",
       "   'exec': <function exec(source, globals=None, locals=None, /)>,\n",
       "   'format': <function format(value, format_spec='', /)>,\n",
       "   'getattr': <function getattr>,\n",
       "   'globals': <function globals()>,\n",
       "   'hasattr': <function hasattr(obj, name, /)>,\n",
       "   'hash': <function hash(obj, /)>,\n",
       "   'hex': <function hex(number, /)>,\n",
       "   'id': <function id(obj, /)>,\n",
       "   'input': <bound method Kernel.raw_input of <ipykernel.ipkernel.IPythonKernel object at 0x7fd6f62ba850>>,\n",
       "   'isinstance': <function isinstance(obj, class_or_tuple, /)>,\n",
       "   'issubclass': <function issubclass(cls, class_or_tuple, /)>,\n",
       "   'iter': <function iter>,\n",
       "   'len': <function len(obj, /)>,\n",
       "   'locals': <function locals()>,\n",
       "   'max': <function max>,\n",
       "   'min': <function min>,\n",
       "   'next': <function next>,\n",
       "   'oct': <function oct(number, /)>,\n",
       "   'ord': <function ord(c, /)>,\n",
       "   'pow': <function pow(x, y, z=None, /)>,\n",
       "   'print': <function print>,\n",
       "   'repr': <function repr(obj, /)>,\n",
       "   'round': <function round(number, ndigits=None)>,\n",
       "   'setattr': <function setattr(obj, name, value, /)>,\n",
       "   'sorted': <function sorted(iterable, /, *, key=None, reverse=False)>,\n",
       "   'sum': <function sum(iterable, start=0, /)>,\n",
       "   'vars': <function vars>,\n",
       "   'None': None,\n",
       "   'Ellipsis': Ellipsis,\n",
       "   'NotImplemented': NotImplemented,\n",
       "   'False': False,\n",
       "   'True': True,\n",
       "   'bool': bool,\n",
       "   'memoryview': memoryview,\n",
       "   'bytearray': bytearray,\n",
       "   'bytes': bytes,\n",
       "   'classmethod': classmethod,\n",
       "   'complex': complex,\n",
       "   'dict': dict,\n",
       "   'enumerate': enumerate,\n",
       "   'filter': filter,\n",
       "   'float': float,\n",
       "   'frozenset': frozenset,\n",
       "   'property': property,\n",
       "   'int': int,\n",
       "   'list': list,\n",
       "   'map': map,\n",
       "   'object': object,\n",
       "   'range': range,\n",
       "   'reversed': reversed,\n",
       "   'set': set,\n",
       "   'slice': slice,\n",
       "   'staticmethod': staticmethod,\n",
       "   'str': str,\n",
       "   'super': super,\n",
       "   'tuple': tuple,\n",
       "   'type': type,\n",
       "   'zip': zip,\n",
       "   '__debug__': True,\n",
       "   'BaseException': BaseException,\n",
       "   'Exception': Exception,\n",
       "   'TypeError': TypeError,\n",
       "   'StopAsyncIteration': StopAsyncIteration,\n",
       "   'StopIteration': StopIteration,\n",
       "   'GeneratorExit': GeneratorExit,\n",
       "   'SystemExit': SystemExit,\n",
       "   'KeyboardInterrupt': KeyboardInterrupt,\n",
       "   'ImportError': ImportError,\n",
       "   'ModuleNotFoundError': ModuleNotFoundError,\n",
       "   'OSError': OSError,\n",
       "   'EnvironmentError': OSError,\n",
       "   'IOError': OSError,\n",
       "   'EOFError': EOFError,\n",
       "   'RuntimeError': RuntimeError,\n",
       "   'RecursionError': RecursionError,\n",
       "   'NotImplementedError': NotImplementedError,\n",
       "   'NameError': NameError,\n",
       "   'UnboundLocalError': UnboundLocalError,\n",
       "   'AttributeError': AttributeError,\n",
       "   'SyntaxError': SyntaxError,\n",
       "   'IndentationError': IndentationError,\n",
       "   'TabError': TabError,\n",
       "   'LookupError': LookupError,\n",
       "   'IndexError': IndexError,\n",
       "   'KeyError': KeyError,\n",
       "   'ValueError': ValueError,\n",
       "   'UnicodeError': UnicodeError,\n",
       "   'UnicodeEncodeError': UnicodeEncodeError,\n",
       "   'UnicodeDecodeError': UnicodeDecodeError,\n",
       "   'UnicodeTranslateError': UnicodeTranslateError,\n",
       "   'AssertionError': AssertionError,\n",
       "   'ArithmeticError': ArithmeticError,\n",
       "   'FloatingPointError': FloatingPointError,\n",
       "   'OverflowError': OverflowError,\n",
       "   'ZeroDivisionError': ZeroDivisionError,\n",
       "   'SystemError': SystemError,\n",
       "   'ReferenceError': ReferenceError,\n",
       "   'MemoryError': MemoryError,\n",
       "   'BufferError': BufferError,\n",
       "   'Warning': Warning,\n",
       "   'UserWarning': UserWarning,\n",
       "   'DeprecationWarning': DeprecationWarning,\n",
       "   'PendingDeprecationWarning': PendingDeprecationWarning,\n",
       "   'SyntaxWarning': SyntaxWarning,\n",
       "   'RuntimeWarning': RuntimeWarning,\n",
       "   'FutureWarning': FutureWarning,\n",
       "   'ImportWarning': ImportWarning,\n",
       "   'UnicodeWarning': UnicodeWarning,\n",
       "   'BytesWarning': BytesWarning,\n",
       "   'ResourceWarning': ResourceWarning,\n",
       "   'ConnectionError': ConnectionError,\n",
       "   'BlockingIOError': BlockingIOError,\n",
       "   'BrokenPipeError': BrokenPipeError,\n",
       "   'ChildProcessError': ChildProcessError,\n",
       "   'ConnectionAbortedError': ConnectionAbortedError,\n",
       "   'ConnectionRefusedError': ConnectionRefusedError,\n",
       "   'ConnectionResetError': ConnectionResetError,\n",
       "   'FileExistsError': FileExistsError,\n",
       "   'FileNotFoundError': FileNotFoundError,\n",
       "   'IsADirectoryError': IsADirectoryError,\n",
       "   'NotADirectoryError': NotADirectoryError,\n",
       "   'InterruptedError': InterruptedError,\n",
       "   'PermissionError': PermissionError,\n",
       "   'ProcessLookupError': ProcessLookupError,\n",
       "   'TimeoutError': TimeoutError,\n",
       "   'open': <function io.open(file, mode='r', buffering=-1, encoding=None, errors=None, newline=None, closefd=True, opener=None)>,\n",
       "   'copyright': Copyright (c) 2001-2019 Python Software Foundation.\n",
       "   All Rights Reserved.\n",
       "   \n",
       "   Copyright (c) 2000 BeOpen.com.\n",
       "   All Rights Reserved.\n",
       "   \n",
       "   Copyright (c) 1995-2001 Corporation for National Research Initiatives.\n",
       "   All Rights Reserved.\n",
       "   \n",
       "   Copyright (c) 1991-1995 Stichting Mathematisch Centrum, Amsterdam.\n",
       "   All Rights Reserved.,\n",
       "   'credits':     Thanks to CWI, CNRI, BeOpen.com, Zope Corporation and a cast of thousands\n",
       "       for supporting Python development.  See www.python.org for more information.,\n",
       "   'license': Type license() to see the full license text,\n",
       "   'help': Type help() for interactive help, or help(object) for help about object.,\n",
       "   '__IPYTHON__': True,\n",
       "   'display': <function IPython.core.display.display(*objs, include=None, exclude=None, metadata=None, transient=None, display_id=None, **kwargs)>,\n",
       "   'get_ipython': <bound method InteractiveShell.get_ipython of <ipykernel.zmqshell.ZMQInteractiveShell object at 0x7fd6f629f210>>},\n",
       "  5: (2, 2),\n",
       "  6: {1: None, 2: 1, 3: []},\n",
       "  7: 1,\n",
       "  8: {1: None, 2: 1, 3: []},\n",
       "  11: {1: None, 2: 1, 3: []},\n",
       "  12: 1,\n",
       "  13: {1: None, 2: 1, 3: []},\n",
       "  15: {1: None, 2: 1, 3: []},\n",
       "  16: [],\n",
       "  17: {1: None, 2: 1, 3: []},\n",
       "  19: [],\n",
       "  20: {1: None, 2: 1, 3: []},\n",
       "  27: <__main__.TestMapping at 0x7fd6f41384d0>,\n",
       "  29: ItemsView(<__main__.TestMapping object at 0x7fd6f41384d0>),\n",
       "  37: {1: 2, 2: 2},\n",
       "  38: {1: 2, 2: 2},\n",
       "  41: {1: 2, 2: 2},\n",
       "  43: {1: 2, 2: 2},\n",
       "  44: 1,\n",
       "  45: {1: 1, 2: 2},\n",
       "  48: {1: 3, 2: 2},\n",
       "  49: {1: 2, 2: 2},\n",
       "  51: {1: 2, 2: 2},\n",
       "  52: {1: 3, 2: 2},\n",
       "  55: {2: [1, 2]},\n",
       "  56: {1: [1, 2, 3, 4], 2: [1, 2]},\n",
       "  58: {2: [1, 2]},\n",
       "  59: {1: [1, 2, 3, 4], 2: [1, 2]},\n",
       "  62: {1: [1, 2, 3], 2: [1, 2]},\n",
       "  63: {2: [1, 2]},\n",
       "  65: {2: [1, 2]},\n",
       "  66: {1: [1, 2, 3], 2: [1, 2]},\n",
       "  68: True,\n",
       "  70: {2: [1, 2]},\n",
       "  71: {1: [1, 2, 3], 2: [1, 2]},\n",
       "  74: ['a', 'A', 'C'],\n",
       "  79: {'a': [11, 22], 'A': [33, 44], 'C': [55, 66], 1: 2},\n",
       "  81: {1: 2},\n",
       "  86: {1: 2},\n",
       "  92: list,\n",
       "  96: [1, 2],\n",
       "  97: [1, 2],\n",
       "  98: [],\n",
       "  99: defaultdict(list, {1: [1, 2], 2: [3, 4], 3: []}),\n",
       "  100: list,\n",
       "  103: {'2': 'two', '4': 'four'},\n",
       "  107: {'2': 'two', '4': 'four'},\n",
       "  108: 'two',\n",
       "  110: 'two',\n",
       "  114: {'2': 'two', '4': 'four'},\n",
       "  115: 'two',\n",
       "  116: 'two',\n",
       "  119: 'two',\n",
       "  122: {'2': 'two', '4': 'four'},\n",
       "  123: 'two',\n",
       "  124: 'two',\n",
       "  126: 'two',\n",
       "  127: 'two',\n",
       "  130: ChainMap({'__name__': '__main__', '__doc__': 'Automatically created module for IPython interactive environment', '__package__': None, '__loader__': None, '__spec__': None, '__builtin__': <module 'builtins' (built-in)>, '__builtins__': <module 'builtins' (built-in)>, '_ih': ['', '__builtins__', '__builtins__.__dict__', 'a = {1:1, 2:2}', 'a.pop()', 'a.popitem()', 'a', 'a.pop(1)', 'a', 'a.pop(1)', 'a.setdefault(1)', 'a', 'a.setdefault(2, 1)', 'a', 'a.setdefault(1, [])', 'a', 'a.setdefault(3, [])', 'a', 'a.setdefault(3, [], 2)', 'a.setdefault(3, [])', 'a', 'from collections import Mapping', 'from collections.abc import Mapping', 'help(Mapping)', 'a = Mapping()', \"class TestMapping(Mapping):\\n    def __getitem__(self):\\n        return ''\\n    \\n    def __iter__(self):\\n        return ''\\n    \\n    def __len__(self):\\n        return 0\", 'a = TestMapping()', 'a', 'a[1] = 1', 'a.items()', 'list(a.items())', 'a = [1, 2]\\nb = [3,4]', \"for ab in (f'{a} : {b}' for a, b in zip(a, b)):\\n    print(ab)\", \"for c in (f'{x} : {y}' for x in a for y in b):\\n    print(c)\", 'a = {1:1, 2:2}', 'b = a', 'a[1] = 2', 'b', 'a', 'a = {1:1, 2:2}', 'b = a.copy()', 'b', 'b[1] = 2', 'b', '1', 'a', 'from copy import copy', 'a = copy(b)', 'a', 'b', 'a[1] = 3', 'b', 'a', 'a = {1:[1, 2], 2: [1, 2]}', 'b = copy(a)', 'a', 'b', 'b[1].append(3)', 'a', 'b', 'from copy import deepcopy', 'b = deepcopy(a)', 'b', 'a', 'a[1].append(4)', 'a', 'b', 'a in b', '1 in b', 'del a[1]', 'a', 'b', \"a = {'a':[11, 22], 'A': [33, 44], 'C': [55, 66]}\", 'b = sorted(a, key=str.upper)', 'b', \"class ComportDict(Dict):\\n    def __missing__(self):\\n        return 'a'\", \"class ComportDict(dict):\\n    def __missing__(self):\\n        return 'a'\", 'aa = ComportDict()', 'a[1] = 2', 'a', 'aa[1] = 2', 'aa', 'aa[2]', 'class DefaultListDict(dict):\\n    def __missing__(self, key):\\n        self[key] = []\\n        return self[key]', 'aa = ComportDict()', 'aa[1] = 2', 'aa', 'aa[2]', 'from collections import defaultdict', 'a = defaultdict(a)', 'a = defaultdict(list)', 'a.defaylt)factiry', 'a.default_factory', 'help(a)', 'a = defaultdict(list)', 'a = defaultdict(list)\\na[1] = [1, 2]\\na[2] = [3, 4]', 'a = defaultdict(list)\\na[1] = [1, 2]\\na[2] = [3, 4]\\na[1]', 'a[1]', 'a[3]', 'a', 'a.default_factory', 'class StrKeyDict0(dict):\\n    def __missing__(self, key):\\n        if isinstance(key, str):\\n            raise KeyError(Key)\\n        return self[str[key]]\\n    \\n    ', \"a = StrKeyDict0([('2', 'two'), ('4', 'four')])\", 'a', 'a[2]', 'class StrKeyDict0(dict):\\n    def __missing__(self, key):\\n        if isinstance(key, str):\\n            raise KeyError(Key)\\n        return self[str(key)]\\n    \\n    ', \"a = StrKeyDict0([('2', 'two'), ('4', 'four')])\", 'a', 'a[2]', \"a['2]']\", \"a['2']\", 'a[1]', 'class StrKeyDict0(dict):\\n    def __missing__(self, key):\\n        if isinstance(key, str):\\n            raise KeyError(key)\\n        return self[str(key)]\\n    \\n    ', \"a = StrKeyDict0([('2', 'two'), ('4', 'four')])\", 'a', 'a[2]', \"a['2']\", 'a[1]', 'a.get(2)', \"a.get('2')\", 'class StrKeyDict0(dict):\\n    def __missing__(self, key):\\n        if isinstance(key, str):\\n            raise KeyError(key)\\n        return self[str(key)]\\n    \\n    def get(self, key, default=None):\\n        try:\\n            return self[key]\\n        except KeyError:\\n            return default\\n        \\n    \\n    ', \"a = StrKeyDict0([('2', 'two'), ('4', 'four')])\", 'a', 'a[2]', \"a['2']\", 'a[1]', \"a.get('2')\", 'a.get(2)', 'class StrKeyDict0(dict):\\n    def __missing__(self, key):\\n        if isinstance(key, str):\\n            raise KeyError(key)\\n        return self[str(key)]\\n    \\n    def get(self, key, default=None):\\n        try:\\n            return self[key]\\n        except KeyError:\\n            return default\\n        \\n    def __contains__(self, key):\\n        return key in self.keys() or str(key) in self.keys()\\n        \\n    \\n    ', 'import builtins\\nfrom collections import ChainMap\\n\\npylookup = ChainMap(locals(), globals(), vars(builtins))', 'pylookup', 'a = {1:1}\\nb = {2:2}\\nc = {3:3}', 'chain = ChainMap(a, b, c)', 'chain', 'chain[1]', 'chain.items()', 'list(chain.items())', 'chain.pop(1)', 'a', 'a and b', 'a or b', 'a and b and c', 'locals()'], '_oh': {1: <module 'builtins' (built-in)>, 2: {'__name__': 'builtins', '__doc__': \"Built-in functions, exceptions, and other objects.\\n\\nNoteworthy: None is the `nil' object; Ellipsis represents `...' in slices.\", '__package__': '', '__loader__': <class '_frozen_importlib.BuiltinImporter'>, '__spec__': ModuleSpec(name='builtins', loader=<class '_frozen_importlib.BuiltinImporter'>), '__build_class__': <built-in function __build_class__>, '__import__': <built-in function __import__>, 'abs': <built-in function abs>, 'all': <built-in function all>, 'any': <built-in function any>, 'ascii': <built-in function ascii>, 'bin': <built-in function bin>, 'breakpoint': <built-in function breakpoint>, 'callable': <built-in function callable>, 'chr': <built-in function chr>, 'compile': <built-in function compile>, 'delattr': <built-in function delattr>, 'dir': <built-in function dir>, 'divmod': <built-in function divmod>, 'eval': <built-in function eval>, 'exec': <built-in function exec>, 'format': <built-in function format>, 'getattr': <built-in function getattr>, 'globals': <built-in function globals>, 'hasattr': <built-in function hasattr>, 'hash': <built-in function hash>, 'hex': <built-in function hex>, 'id': <built-in function id>, 'input': <bound method Kernel.raw_input of <ipykernel.ipkernel.IPythonKernel object at 0x7fd6f62ba850>>, 'isinstance': <built-in function isinstance>, 'issubclass': <built-in function issubclass>, 'iter': <built-in function iter>, 'len': <built-in function len>, 'locals': <built-in function locals>, 'max': <built-in function max>, 'min': <built-in function min>, 'next': <built-in function next>, 'oct': <built-in function oct>, 'ord': <built-in function ord>, 'pow': <built-in function pow>, 'print': <built-in function print>, 'repr': <built-in function repr>, 'round': <built-in function round>, 'setattr': <built-in function setattr>, 'sorted': <built-in function sorted>, 'sum': <built-in function sum>, 'vars': <built-in function vars>, 'None': None, 'Ellipsis': Ellipsis, 'NotImplemented': NotImplemented, 'False': False, 'True': True, 'bool': <class 'bool'>, 'memoryview': <class 'memoryview'>, 'bytearray': <class 'bytearray'>, 'bytes': <class 'bytes'>, 'classmethod': <class 'classmethod'>, 'complex': <class 'complex'>, 'dict': <class 'dict'>, 'enumerate': <class 'enumerate'>, 'filter': <class 'filter'>, 'float': <class 'float'>, 'frozenset': <class 'frozenset'>, 'property': <class 'property'>, 'int': <class 'int'>, 'list': <class 'list'>, 'map': <class 'map'>, 'object': <class 'object'>, 'range': <class 'range'>, 'reversed': <class 'reversed'>, 'set': <class 'set'>, 'slice': <class 'slice'>, 'staticmethod': <class 'staticmethod'>, 'str': <class 'str'>, 'super': <class 'super'>, 'tuple': <class 'tuple'>, 'type': <class 'type'>, 'zip': <class 'zip'>, '__debug__': True, 'BaseException': <class 'BaseException'>, 'Exception': <class 'Exception'>, 'TypeError': <class 'TypeError'>, 'StopAsyncIteration': <class 'StopAsyncIteration'>, 'StopIteration': <class 'StopIteration'>, 'GeneratorExit': <class 'GeneratorExit'>, 'SystemExit': <class 'SystemExit'>, 'KeyboardInterrupt': <class 'KeyboardInterrupt'>, 'ImportError': <class 'ImportError'>, 'ModuleNotFoundError': <class 'ModuleNotFoundError'>, 'OSError': <class 'OSError'>, 'EnvironmentError': <class 'OSError'>, 'IOError': <class 'OSError'>, 'EOFError': <class 'EOFError'>, 'RuntimeError': <class 'RuntimeError'>, 'RecursionError': <class 'RecursionError'>, 'NotImplementedError': <class 'NotImplementedError'>, 'NameError': <class 'NameError'>, 'UnboundLocalError': <class 'UnboundLocalError'>, 'AttributeError': <class 'AttributeError'>, 'SyntaxError': <class 'SyntaxError'>, 'IndentationError': <class 'IndentationError'>, 'TabError': <class 'TabError'>, 'LookupError': <class 'LookupError'>, 'IndexError': <class 'IndexError'>, 'KeyError': <class 'KeyError'>, 'ValueError': <class 'ValueError'>, 'UnicodeError': <class 'UnicodeError'>, 'UnicodeEncodeError': <class 'UnicodeEncodeError'>, 'UnicodeDecodeError': <class 'UnicodeDecodeError'>, 'UnicodeTranslateError': <class 'UnicodeTranslateError'>, 'AssertionError': <class 'AssertionError'>, 'ArithmeticError': <class 'ArithmeticError'>, 'FloatingPointError': <class 'FloatingPointError'>, 'OverflowError': <class 'OverflowError'>, 'ZeroDivisionError': <class 'ZeroDivisionError'>, 'SystemError': <class 'SystemError'>, 'ReferenceError': <class 'ReferenceError'>, 'MemoryError': <class 'MemoryError'>, 'BufferError': <class 'BufferError'>, 'Warning': <class 'Warning'>, 'UserWarning': <class 'UserWarning'>, 'DeprecationWarning': <class 'DeprecationWarning'>, 'PendingDeprecationWarning': <class 'PendingDeprecationWarning'>, 'SyntaxWarning': <class 'SyntaxWarning'>, 'RuntimeWarning': <class 'RuntimeWarning'>, 'FutureWarning': <class 'FutureWarning'>, 'ImportWarning': <class 'ImportWarning'>, 'UnicodeWarning': <class 'UnicodeWarning'>, 'BytesWarning': <class 'BytesWarning'>, 'ResourceWarning': <class 'ResourceWarning'>, 'ConnectionError': <class 'ConnectionError'>, 'BlockingIOError': <class 'BlockingIOError'>, 'BrokenPipeError': <class 'BrokenPipeError'>, 'ChildProcessError': <class 'ChildProcessError'>, 'ConnectionAbortedError': <class 'ConnectionAbortedError'>, 'ConnectionRefusedError': <class 'ConnectionRefusedError'>, 'ConnectionResetError': <class 'ConnectionResetError'>, 'FileExistsError': <class 'FileExistsError'>, 'FileNotFoundError': <class 'FileNotFoundError'>, 'IsADirectoryError': <class 'IsADirectoryError'>, 'NotADirectoryError': <class 'NotADirectoryError'>, 'InterruptedError': <class 'InterruptedError'>, 'PermissionError': <class 'PermissionError'>, 'ProcessLookupError': <class 'ProcessLookupError'>, 'TimeoutError': <class 'TimeoutError'>, 'open': <built-in function open>, 'copyright': Copyright (c) 2001-2019 Python Software Foundation.\n",
       "  All Rights Reserved.\n",
       "  \n",
       "  Copyright (c) 2000 BeOpen.com.\n",
       "  All Rights Reserved.\n",
       "  \n",
       "  Copyright (c) 1995-2001 Corporation for National Research Initiatives.\n",
       "  All Rights Reserved.\n",
       "  \n",
       "  Copyright (c) 1991-1995 Stichting Mathematisch Centrum, Amsterdam.\n",
       "  All Rights Reserved., 'credits':     Thanks to CWI, CNRI, BeOpen.com, Zope Corporation and a cast of thousands\n",
       "      for supporting Python development.  See www.python.org for more information., 'license': Type license() to see the full license text, 'help': Type help() for interactive help, or help(object) for help about object., '__IPYTHON__': True, 'display': <function display at 0x7fd6fee21200>, 'get_ipython': <bound method InteractiveShell.get_ipython of <ipykernel.zmqshell.ZMQInteractiveShell object at 0x7fd6f629f210>>}, 5: (2, 2), 6: {1: None, 2: 1, 3: []}, 7: 1, 8: {1: None, 2: 1, 3: []}, 11: {1: None, 2: 1, 3: []}, 12: 1, 13: {1: None, 2: 1, 3: []}, 15: {1: None, 2: 1, 3: []}, 16: [], 17: {1: None, 2: 1, 3: []}, 19: [], 20: {1: None, 2: 1, 3: []}, 27: <__main__.TestMapping object at 0x7fd6f41384d0>, 29: ItemsView(<__main__.TestMapping object at 0x7fd6f41384d0>), 37: {1: 2, 2: 2}, 38: {1: 2, 2: 2}, 41: {1: 2, 2: 2}, 43: {1: 2, 2: 2}, 44: 1, 45: {1: 1, 2: 2}, 48: {1: 3, 2: 2}, 49: {1: 2, 2: 2}, 51: {1: 2, 2: 2}, 52: {1: 3, 2: 2}, 55: {2: [1, 2]}, 56: {1: [1, 2, 3, 4], 2: [1, 2]}, 58: {2: [1, 2]}, 59: {1: [1, 2, 3, 4], 2: [1, 2]}, 62: {1: [1, 2, 3], 2: [1, 2]}, 63: {2: [1, 2]}, 65: {2: [1, 2]}, 66: {1: [1, 2, 3], 2: [1, 2]}, 68: True, 70: {2: [1, 2]}, 71: {1: [1, 2, 3], 2: [1, 2]}, 74: ['a', 'A', 'C'], 79: {'a': [11, 22], 'A': [33, 44], 'C': [55, 66], 1: 2}, 81: {1: 2}, 86: {1: 2}, 92: <class 'list'>, 96: [1, 2], 97: [1, 2], 98: [], 99: defaultdict(<class 'list'>, {1: [1, 2], 2: [3, 4], 3: []}), 100: <class 'list'>, 103: {'2': 'two', '4': 'four'}, 107: {'2': 'two', '4': 'four'}, 108: 'two', 110: 'two', 114: {'2': 'two', '4': 'four'}, 115: 'two', 116: 'two', 119: 'two', 122: {'2': 'two', '4': 'four'}, 123: 'two', 124: 'two', 126: 'two', 127: 'two', 130: ..., 133: ChainMap({}, {2: 2}, {3: 3}), 134: 1, 135: ItemsView(ChainMap({}, {2: 2}, {3: 3})), 136: [(3, 3), (2, 2), (1, 1)], 137: 1, 138: {}, 139: {}, 140: {2: 2}, 141: {}}, '_dh': ['/home/hby/projects/wps12th/python/fluentpython/notebook'], 'In': ['', '__builtins__', '__builtins__.__dict__', 'a = {1:1, 2:2}', 'a.pop()', 'a.popitem()', 'a', 'a.pop(1)', 'a', 'a.pop(1)', 'a.setdefault(1)', 'a', 'a.setdefault(2, 1)', 'a', 'a.setdefault(1, [])', 'a', 'a.setdefault(3, [])', 'a', 'a.setdefault(3, [], 2)', 'a.setdefault(3, [])', 'a', 'from collections import Mapping', 'from collections.abc import Mapping', 'help(Mapping)', 'a = Mapping()', \"class TestMapping(Mapping):\\n    def __getitem__(self):\\n        return ''\\n    \\n    def __iter__(self):\\n        return ''\\n    \\n    def __len__(self):\\n        return 0\", 'a = TestMapping()', 'a', 'a[1] = 1', 'a.items()', 'list(a.items())', 'a = [1, 2]\\nb = [3,4]', \"for ab in (f'{a} : {b}' for a, b in zip(a, b)):\\n    print(ab)\", \"for c in (f'{x} : {y}' for x in a for y in b):\\n    print(c)\", 'a = {1:1, 2:2}', 'b = a', 'a[1] = 2', 'b', 'a', 'a = {1:1, 2:2}', 'b = a.copy()', 'b', 'b[1] = 2', 'b', '1', 'a', 'from copy import copy', 'a = copy(b)', 'a', 'b', 'a[1] = 3', 'b', 'a', 'a = {1:[1, 2], 2: [1, 2]}', 'b = copy(a)', 'a', 'b', 'b[1].append(3)', 'a', 'b', 'from copy import deepcopy', 'b = deepcopy(a)', 'b', 'a', 'a[1].append(4)', 'a', 'b', 'a in b', '1 in b', 'del a[1]', 'a', 'b', \"a = {'a':[11, 22], 'A': [33, 44], 'C': [55, 66]}\", 'b = sorted(a, key=str.upper)', 'b', \"class ComportDict(Dict):\\n    def __missing__(self):\\n        return 'a'\", \"class ComportDict(dict):\\n    def __missing__(self):\\n        return 'a'\", 'aa = ComportDict()', 'a[1] = 2', 'a', 'aa[1] = 2', 'aa', 'aa[2]', 'class DefaultListDict(dict):\\n    def __missing__(self, key):\\n        self[key] = []\\n        return self[key]', 'aa = ComportDict()', 'aa[1] = 2', 'aa', 'aa[2]', 'from collections import defaultdict', 'a = defaultdict(a)', 'a = defaultdict(list)', 'a.defaylt)factiry', 'a.default_factory', 'help(a)', 'a = defaultdict(list)', 'a = defaultdict(list)\\na[1] = [1, 2]\\na[2] = [3, 4]', 'a = defaultdict(list)\\na[1] = [1, 2]\\na[2] = [3, 4]\\na[1]', 'a[1]', 'a[3]', 'a', 'a.default_factory', 'class StrKeyDict0(dict):\\n    def __missing__(self, key):\\n        if isinstance(key, str):\\n            raise KeyError(Key)\\n        return self[str[key]]\\n    \\n    ', \"a = StrKeyDict0([('2', 'two'), ('4', 'four')])\", 'a', 'a[2]', 'class StrKeyDict0(dict):\\n    def __missing__(self, key):\\n        if isinstance(key, str):\\n            raise KeyError(Key)\\n        return self[str(key)]\\n    \\n    ', \"a = StrKeyDict0([('2', 'two'), ('4', 'four')])\", 'a', 'a[2]', \"a['2]']\", \"a['2']\", 'a[1]', 'class StrKeyDict0(dict):\\n    def __missing__(self, key):\\n        if isinstance(key, str):\\n            raise KeyError(key)\\n        return self[str(key)]\\n    \\n    ', \"a = StrKeyDict0([('2', 'two'), ('4', 'four')])\", 'a', 'a[2]', \"a['2']\", 'a[1]', 'a.get(2)', \"a.get('2')\", 'class StrKeyDict0(dict):\\n    def __missing__(self, key):\\n        if isinstance(key, str):\\n            raise KeyError(key)\\n        return self[str(key)]\\n    \\n    def get(self, key, default=None):\\n        try:\\n            return self[key]\\n        except KeyError:\\n            return default\\n        \\n    \\n    ', \"a = StrKeyDict0([('2', 'two'), ('4', 'four')])\", 'a', 'a[2]', \"a['2']\", 'a[1]', \"a.get('2')\", 'a.get(2)', 'class StrKeyDict0(dict):\\n    def __missing__(self, key):\\n        if isinstance(key, str):\\n            raise KeyError(key)\\n        return self[str(key)]\\n    \\n    def get(self, key, default=None):\\n        try:\\n            return self[key]\\n        except KeyError:\\n            return default\\n        \\n    def __contains__(self, key):\\n        return key in self.keys() or str(key) in self.keys()\\n        \\n    \\n    ', 'import builtins\\nfrom collections import ChainMap\\n\\npylookup = ChainMap(locals(), globals(), vars(builtins))', 'pylookup', 'a = {1:1}\\nb = {2:2}\\nc = {3:3}', 'chain = ChainMap(a, b, c)', 'chain', 'chain[1]', 'chain.items()', 'list(chain.items())', 'chain.pop(1)', 'a', 'a and b', 'a or b', 'a and b and c', 'locals()'], 'Out': {1: <module 'builtins' (built-in)>, 2: {'__name__': 'builtins', '__doc__': \"Built-in functions, exceptions, and other objects.\\n\\nNoteworthy: None is the `nil' object; Ellipsis represents `...' in slices.\", '__package__': '', '__loader__': <class '_frozen_importlib.BuiltinImporter'>, '__spec__': ModuleSpec(name='builtins', loader=<class '_frozen_importlib.BuiltinImporter'>), '__build_class__': <built-in function __build_class__>, '__import__': <built-in function __import__>, 'abs': <built-in function abs>, 'all': <built-in function all>, 'any': <built-in function any>, 'ascii': <built-in function ascii>, 'bin': <built-in function bin>, 'breakpoint': <built-in function breakpoint>, 'callable': <built-in function callable>, 'chr': <built-in function chr>, 'compile': <built-in function compile>, 'delattr': <built-in function delattr>, 'dir': <built-in function dir>, 'divmod': <built-in function divmod>, 'eval': <built-in function eval>, 'exec': <built-in function exec>, 'format': <built-in function format>, 'getattr': <built-in function getattr>, 'globals': <built-in function globals>, 'hasattr': <built-in function hasattr>, 'hash': <built-in function hash>, 'hex': <built-in function hex>, 'id': <built-in function id>, 'input': <bound method Kernel.raw_input of <ipykernel.ipkernel.IPythonKernel object at 0x7fd6f62ba850>>, 'isinstance': <built-in function isinstance>, 'issubclass': <built-in function issubclass>, 'iter': <built-in function iter>, 'len': <built-in function len>, 'locals': <built-in function locals>, 'max': <built-in function max>, 'min': <built-in function min>, 'next': <built-in function next>, 'oct': <built-in function oct>, 'ord': <built-in function ord>, 'pow': <built-in function pow>, 'print': <built-in function print>, 'repr': <built-in function repr>, 'round': <built-in function round>, 'setattr': <built-in function setattr>, 'sorted': <built-in function sorted>, 'sum': <built-in function sum>, 'vars': <built-in function vars>, 'None': None, 'Ellipsis': Ellipsis, 'NotImplemented': NotImplemented, 'False': False, 'True': True, 'bool': <class 'bool'>, 'memoryview': <class 'memoryview'>, 'bytearray': <class 'bytearray'>, 'bytes': <class 'bytes'>, 'classmethod': <class 'classmethod'>, 'complex': <class 'complex'>, 'dict': <class 'dict'>, 'enumerate': <class 'enumerate'>, 'filter': <class 'filter'>, 'float': <class 'float'>, 'frozenset': <class 'frozenset'>, 'property': <class 'property'>, 'int': <class 'int'>, 'list': <class 'list'>, 'map': <class 'map'>, 'object': <class 'object'>, 'range': <class 'range'>, 'reversed': <class 'reversed'>, 'set': <class 'set'>, 'slice': <class 'slice'>, 'staticmethod': <class 'staticmethod'>, 'str': <class 'str'>, 'super': <class 'super'>, 'tuple': <class 'tuple'>, 'type': <class 'type'>, 'zip': <class 'zip'>, '__debug__': True, 'BaseException': <class 'BaseException'>, 'Exception': <class 'Exception'>, 'TypeError': <class 'TypeError'>, 'StopAsyncIteration': <class 'StopAsyncIteration'>, 'StopIteration': <class 'StopIteration'>, 'GeneratorExit': <class 'GeneratorExit'>, 'SystemExit': <class 'SystemExit'>, 'KeyboardInterrupt': <class 'KeyboardInterrupt'>, 'ImportError': <class 'ImportError'>, 'ModuleNotFoundError': <class 'ModuleNotFoundError'>, 'OSError': <class 'OSError'>, 'EnvironmentError': <class 'OSError'>, 'IOError': <class 'OSError'>, 'EOFError': <class 'EOFError'>, 'RuntimeError': <class 'RuntimeError'>, 'RecursionError': <class 'RecursionError'>, 'NotImplementedError': <class 'NotImplementedError'>, 'NameError': <class 'NameError'>, 'UnboundLocalError': <class 'UnboundLocalError'>, 'AttributeError': <class 'AttributeError'>, 'SyntaxError': <class 'SyntaxError'>, 'IndentationError': <class 'IndentationError'>, 'TabError': <class 'TabError'>, 'LookupError': <class 'LookupError'>, 'IndexError': <class 'IndexError'>, 'KeyError': <class 'KeyError'>, 'ValueError': <class 'ValueError'>, 'UnicodeError': <class 'UnicodeError'>, 'UnicodeEncodeError': <class 'UnicodeEncodeError'>, 'UnicodeDecodeError': <class 'UnicodeDecodeError'>, 'UnicodeTranslateError': <class 'UnicodeTranslateError'>, 'AssertionError': <class 'AssertionError'>, 'ArithmeticError': <class 'ArithmeticError'>, 'FloatingPointError': <class 'FloatingPointError'>, 'OverflowError': <class 'OverflowError'>, 'ZeroDivisionError': <class 'ZeroDivisionError'>, 'SystemError': <class 'SystemError'>, 'ReferenceError': <class 'ReferenceError'>, 'MemoryError': <class 'MemoryError'>, 'BufferError': <class 'BufferError'>, 'Warning': <class 'Warning'>, 'UserWarning': <class 'UserWarning'>, 'DeprecationWarning': <class 'DeprecationWarning'>, 'PendingDeprecationWarning': <class 'PendingDeprecationWarning'>, 'SyntaxWarning': <class 'SyntaxWarning'>, 'RuntimeWarning': <class 'RuntimeWarning'>, 'FutureWarning': <class 'FutureWarning'>, 'ImportWarning': <class 'ImportWarning'>, 'UnicodeWarning': <class 'UnicodeWarning'>, 'BytesWarning': <class 'BytesWarning'>, 'ResourceWarning': <class 'ResourceWarning'>, 'ConnectionError': <class 'ConnectionError'>, 'BlockingIOError': <class 'BlockingIOError'>, 'BrokenPipeError': <class 'BrokenPipeError'>, 'ChildProcessError': <class 'ChildProcessError'>, 'ConnectionAbortedError': <class 'ConnectionAbortedError'>, 'ConnectionRefusedError': <class 'ConnectionRefusedError'>, 'ConnectionResetError': <class 'ConnectionResetError'>, 'FileExistsError': <class 'FileExistsError'>, 'FileNotFoundError': <class 'FileNotFoundError'>, 'IsADirectoryError': <class 'IsADirectoryError'>, 'NotADirectoryError': <class 'NotADirectoryError'>, 'InterruptedError': <class 'InterruptedError'>, 'PermissionError': <class 'PermissionError'>, 'ProcessLookupError': <class 'ProcessLookupError'>, 'TimeoutError': <class 'TimeoutError'>, 'open': <built-in function open>, 'copyright': Copyright (c) 2001-2019 Python Software Foundation.\n",
       "  All Rights Reserved.\n",
       "  \n",
       "  Copyright (c) 2000 BeOpen.com.\n",
       "  All Rights Reserved.\n",
       "  \n",
       "  Copyright (c) 1995-2001 Corporation for National Research Initiatives.\n",
       "  All Rights Reserved.\n",
       "  \n",
       "  Copyright (c) 1991-1995 Stichting Mathematisch Centrum, Amsterdam.\n",
       "  All Rights Reserved., 'credits':     Thanks to CWI, CNRI, BeOpen.com, Zope Corporation and a cast of thousands\n",
       "      for supporting Python development.  See www.python.org for more information., 'license': Type license() to see the full license text, 'help': Type help() for interactive help, or help(object) for help about object., '__IPYTHON__': True, 'display': <function display at 0x7fd6fee21200>, 'get_ipython': <bound method InteractiveShell.get_ipython of <ipykernel.zmqshell.ZMQInteractiveShell object at 0x7fd6f629f210>>}, 5: (2, 2), 6: {1: None, 2: 1, 3: []}, 7: 1, 8: {1: None, 2: 1, 3: []}, 11: {1: None, 2: 1, 3: []}, 12: 1, 13: {1: None, 2: 1, 3: []}, 15: {1: None, 2: 1, 3: []}, 16: [], 17: {1: None, 2: 1, 3: []}, 19: [], 20: {1: None, 2: 1, 3: []}, 27: <__main__.TestMapping object at 0x7fd6f41384d0>, 29: ItemsView(<__main__.TestMapping object at 0x7fd6f41384d0>), 37: {1: 2, 2: 2}, 38: {1: 2, 2: 2}, 41: {1: 2, 2: 2}, 43: {1: 2, 2: 2}, 44: 1, 45: {1: 1, 2: 2}, 48: {1: 3, 2: 2}, 49: {1: 2, 2: 2}, 51: {1: 2, 2: 2}, 52: {1: 3, 2: 2}, 55: {2: [1, 2]}, 56: {1: [1, 2, 3, 4], 2: [1, 2]}, 58: {2: [1, 2]}, 59: {1: [1, 2, 3, 4], 2: [1, 2]}, 62: {1: [1, 2, 3], 2: [1, 2]}, 63: {2: [1, 2]}, 65: {2: [1, 2]}, 66: {1: [1, 2, 3], 2: [1, 2]}, 68: True, 70: {2: [1, 2]}, 71: {1: [1, 2, 3], 2: [1, 2]}, 74: ['a', 'A', 'C'], 79: {'a': [11, 22], 'A': [33, 44], 'C': [55, 66], 1: 2}, 81: {1: 2}, 86: {1: 2}, 92: <class 'list'>, 96: [1, 2], 97: [1, 2], 98: [], 99: defaultdict(<class 'list'>, {1: [1, 2], 2: [3, 4], 3: []}), 100: <class 'list'>, 103: {'2': 'two', '4': 'four'}, 107: {'2': 'two', '4': 'four'}, 108: 'two', 110: 'two', 114: {'2': 'two', '4': 'four'}, 115: 'two', 116: 'two', 119: 'two', 122: {'2': 'two', '4': 'four'}, 123: 'two', 124: 'two', 126: 'two', 127: 'two', 130: ..., 133: ChainMap({}, {2: 2}, {3: 3}), 134: 1, 135: ItemsView(ChainMap({}, {2: 2}, {3: 3})), 136: [(3, 3), (2, 2), (1, 1)], 137: 1, 138: {}, 139: {}, 140: {2: 2}, 141: {}}, 'get_ipython': <bound method InteractiveShell.get_ipython of <ipykernel.zmqshell.ZMQInteractiveShell object at 0x7fd6f629f210>>, 'exit': <IPython.core.autocall.ZMQExitAutocall object at 0x7fd6f627ded0>, 'quit': <IPython.core.autocall.ZMQExitAutocall object at 0x7fd6f627ded0>, '_': {}, '__': {2: 2}, '___': {}, '_i': 'a and b and c', '_ii': 'a or b', '_iii': 'a and b', '_i1': '__builtins__', '_1': <module 'builtins' (built-in)>, '_i2': '__builtins__.__dict__', '_2': {'__name__': 'builtins', '__doc__': \"Built-in functions, exceptions, and other objects.\\n\\nNoteworthy: None is the `nil' object; Ellipsis represents `...' in slices.\", '__package__': '', '__loader__': <class '_frozen_importlib.BuiltinImporter'>, '__spec__': ModuleSpec(name='builtins', loader=<class '_frozen_importlib.BuiltinImporter'>), '__build_class__': <built-in function __build_class__>, '__import__': <built-in function __import__>, 'abs': <built-in function abs>, 'all': <built-in function all>, 'any': <built-in function any>, 'ascii': <built-in function ascii>, 'bin': <built-in function bin>, 'breakpoint': <built-in function breakpoint>, 'callable': <built-in function callable>, 'chr': <built-in function chr>, 'compile': <built-in function compile>, 'delattr': <built-in function delattr>, 'dir': <built-in function dir>, 'divmod': <built-in function divmod>, 'eval': <built-in function eval>, 'exec': <built-in function exec>, 'format': <built-in function format>, 'getattr': <built-in function getattr>, 'globals': <built-in function globals>, 'hasattr': <built-in function hasattr>, 'hash': <built-in function hash>, 'hex': <built-in function hex>, 'id': <built-in function id>, 'input': <bound method Kernel.raw_input of <ipykernel.ipkernel.IPythonKernel object at 0x7fd6f62ba850>>, 'isinstance': <built-in function isinstance>, 'issubclass': <built-in function issubclass>, 'iter': <built-in function iter>, 'len': <built-in function len>, 'locals': <built-in function locals>, 'max': <built-in function max>, 'min': <built-in function min>, 'next': <built-in function next>, 'oct': <built-in function oct>, 'ord': <built-in function ord>, 'pow': <built-in function pow>, 'print': <built-in function print>, 'repr': <built-in function repr>, 'round': <built-in function round>, 'setattr': <built-in function setattr>, 'sorted': <built-in function sorted>, 'sum': <built-in function sum>, 'vars': <built-in function vars>, 'None': None, 'Ellipsis': Ellipsis, 'NotImplemented': NotImplemented, 'False': False, 'True': True, 'bool': <class 'bool'>, 'memoryview': <class 'memoryview'>, 'bytearray': <class 'bytearray'>, 'bytes': <class 'bytes'>, 'classmethod': <class 'classmethod'>, 'complex': <class 'complex'>, 'dict': <class 'dict'>, 'enumerate': <class 'enumerate'>, 'filter': <class 'filter'>, 'float': <class 'float'>, 'frozenset': <class 'frozenset'>, 'property': <class 'property'>, 'int': <class 'int'>, 'list': <class 'list'>, 'map': <class 'map'>, 'object': <class 'object'>, 'range': <class 'range'>, 'reversed': <class 'reversed'>, 'set': <class 'set'>, 'slice': <class 'slice'>, 'staticmethod': <class 'staticmethod'>, 'str': <class 'str'>, 'super': <class 'super'>, 'tuple': <class 'tuple'>, 'type': <class 'type'>, 'zip': <class 'zip'>, '__debug__': True, 'BaseException': <class 'BaseException'>, 'Exception': <class 'Exception'>, 'TypeError': <class 'TypeError'>, 'StopAsyncIteration': <class 'StopAsyncIteration'>, 'StopIteration': <class 'StopIteration'>, 'GeneratorExit': <class 'GeneratorExit'>, 'SystemExit': <class 'SystemExit'>, 'KeyboardInterrupt': <class 'KeyboardInterrupt'>, 'ImportError': <class 'ImportError'>, 'ModuleNotFoundError': <class 'ModuleNotFoundError'>, 'OSError': <class 'OSError'>, 'EnvironmentError': <class 'OSError'>, 'IOError': <class 'OSError'>, 'EOFError': <class 'EOFError'>, 'RuntimeError': <class 'RuntimeError'>, 'RecursionError': <class 'RecursionError'>, 'NotImplementedError': <class 'NotImplementedError'>, 'NameError': <class 'NameError'>, 'UnboundLocalError': <class 'UnboundLocalError'>, 'AttributeError': <class 'AttributeError'>, 'SyntaxError': <class 'SyntaxError'>, 'IndentationError': <class 'IndentationError'>, 'TabError': <class 'TabError'>, 'LookupError': <class 'LookupError'>, 'IndexError': <class 'IndexError'>, 'KeyError': <class 'KeyError'>, 'ValueError': <class 'ValueError'>, 'UnicodeError': <class 'UnicodeError'>, 'UnicodeEncodeError': <class 'UnicodeEncodeError'>, 'UnicodeDecodeError': <class 'UnicodeDecodeError'>, 'UnicodeTranslateError': <class 'UnicodeTranslateError'>, 'AssertionError': <class 'AssertionError'>, 'ArithmeticError': <class 'ArithmeticError'>, 'FloatingPointError': <class 'FloatingPointError'>, 'OverflowError': <class 'OverflowError'>, 'ZeroDivisionError': <class 'ZeroDivisionError'>, 'SystemError': <class 'SystemError'>, 'ReferenceError': <class 'ReferenceError'>, 'MemoryError': <class 'MemoryError'>, 'BufferError': <class 'BufferError'>, 'Warning': <class 'Warning'>, 'UserWarning': <class 'UserWarning'>, 'DeprecationWarning': <class 'DeprecationWarning'>, 'PendingDeprecationWarning': <class 'PendingDeprecationWarning'>, 'SyntaxWarning': <class 'SyntaxWarning'>, 'RuntimeWarning': <class 'RuntimeWarning'>, 'FutureWarning': <class 'FutureWarning'>, 'ImportWarning': <class 'ImportWarning'>, 'UnicodeWarning': <class 'UnicodeWarning'>, 'BytesWarning': <class 'BytesWarning'>, 'ResourceWarning': <class 'ResourceWarning'>, 'ConnectionError': <class 'ConnectionError'>, 'BlockingIOError': <class 'BlockingIOError'>, 'BrokenPipeError': <class 'BrokenPipeError'>, 'ChildProcessError': <class 'ChildProcessError'>, 'ConnectionAbortedError': <class 'ConnectionAbortedError'>, 'ConnectionRefusedError': <class 'ConnectionRefusedError'>, 'ConnectionResetError': <class 'ConnectionResetError'>, 'FileExistsError': <class 'FileExistsError'>, 'FileNotFoundError': <class 'FileNotFoundError'>, 'IsADirectoryError': <class 'IsADirectoryError'>, 'NotADirectoryError': <class 'NotADirectoryError'>, 'InterruptedError': <class 'InterruptedError'>, 'PermissionError': <class 'PermissionError'>, 'ProcessLookupError': <class 'ProcessLookupError'>, 'TimeoutError': <class 'TimeoutError'>, 'open': <built-in function open>, 'copyright': Copyright (c) 2001-2019 Python Software Foundation.\n",
       "  All Rights Reserved.\n",
       "  \n",
       "  Copyright (c) 2000 BeOpen.com.\n",
       "  All Rights Reserved.\n",
       "  \n",
       "  Copyright (c) 1995-2001 Corporation for National Research Initiatives.\n",
       "  All Rights Reserved.\n",
       "  \n",
       "  Copyright (c) 1991-1995 Stichting Mathematisch Centrum, Amsterdam.\n",
       "  All Rights Reserved., 'credits':     Thanks to CWI, CNRI, BeOpen.com, Zope Corporation and a cast of thousands\n",
       "      for supporting Python development.  See www.python.org for more information., 'license': Type license() to see the full license text, 'help': Type help() for interactive help, or help(object) for help about object., '__IPYTHON__': True, 'display': <function display at 0x7fd6fee21200>, 'get_ipython': <bound method InteractiveShell.get_ipython of <ipykernel.zmqshell.ZMQInteractiveShell object at 0x7fd6f629f210>>}, '_i3': 'a = {1:1, 2:2}', 'a': {}, '_i4': 'a.pop()', '_i5': 'a.popitem()', '_5': (2, 2), '_i6': 'a', '_6': {1: None, 2: 1, 3: []}, '_i7': 'a.pop(1)', '_7': 1, '_i8': 'a', '_8': {1: None, 2: 1, 3: []}, '_i9': 'a.pop(1)', '_i10': 'a.setdefault(1)', '_i11': 'a', '_11': {1: None, 2: 1, 3: []}, '_i12': 'a.setdefault(2, 1)', '_12': 1, '_i13': 'a', '_13': {1: None, 2: 1, 3: []}, '_i14': 'a.setdefault(1, [])', '_i15': 'a', '_15': {1: None, 2: 1, 3: []}, '_i16': 'a.setdefault(3, [])', '_16': [], '_i17': 'a', '_17': {1: None, 2: 1, 3: []}, '_i18': 'a.setdefault(3, [], 2)', '_i19': 'a.setdefault(3, [])', '_19': [], '_i20': 'a', '_20': {1: None, 2: 1, 3: []}, '_i21': 'from collections import Mapping', 'Mapping': <class 'collections.abc.Mapping'>, '_i22': 'from collections.abc import Mapping', '_i23': 'help(Mapping)', '_i24': 'a = Mapping()', '_i25': \"class TestMapping(Mapping):\\n    def __getitem__(self):\\n        return ''\\n    \\n    def __iter__(self):\\n        return ''\\n    \\n    def __len__(self):\\n        return 0\", 'TestMapping': <class '__main__.TestMapping'>, '_i26': 'a = TestMapping()', '_i27': 'a', '_27': <__main__.TestMapping object at 0x7fd6f41384d0>, '_i28': 'a[1] = 1', '_i29': 'a.items()', '_29': ItemsView(<__main__.TestMapping object at 0x7fd6f41384d0>), '_i30': 'list(a.items())', '_i31': 'a = [1, 2]\\nb = [3,4]', 'b': {2: 2}, '_i32': \"for ab in (f'{a} : {b}' for a, b in zip(a, b)):\\n    print(ab)\", 'ab': '2 : 4', '_i33': \"for c in (f'{x} : {y}' for x in a for y in b):\\n    print(c)\", 'c': {3: 3}, '_i34': 'a = {1:1, 2:2}', '_i35': 'b = a', '_i36': 'a[1] = 2', '_i37': 'b', '_37': {1: 2, 2: 2}, '_i38': 'a', '_38': {1: 2, 2: 2}, '_i39': 'a = {1:1, 2:2}', '_i40': 'b = a.copy()', '_i41': 'b', '_41': {1: 2, 2: 2}, '_i42': 'b[1] = 2', '_i43': 'b', '_43': {1: 2, 2: 2}, '_i44': '1', '_44': 1, '_i45': 'a', '_45': {1: 1, 2: 2}, '_i46': 'from copy import copy', 'copy': <function copy at 0x7fd6feeaa3b0>, '_i47': 'a = copy(b)', '_i48': 'a', '_48': {1: 3, 2: 2}, '_i49': 'b', '_49': {1: 2, 2: 2}, '_i50': 'a[1] = 3', '_i51': 'b', '_51': {1: 2, 2: 2}, '_i52': 'a', '_52': {1: 3, 2: 2}, '_i53': 'a = {1:[1, 2], 2: [1, 2]}', '_i54': 'b = copy(a)', '_i55': 'a', '_55': {2: [1, 2]}, '_i56': 'b', '_56': {1: [1, 2, 3, 4], 2: [1, 2]}, '_i57': 'b[1].append(3)', '_i58': 'a', '_58': {2: [1, 2]}, '_i59': 'b', '_59': {1: [1, 2, 3, 4], 2: [1, 2]}, '_i60': 'from copy import deepcopy', 'deepcopy': <function deepcopy at 0x7fd6feeaad40>, '_i61': 'b = deepcopy(a)', '_i62': 'b', '_62': {1: [1, 2, 3], 2: [1, 2]}, '_i63': 'a', '_63': {2: [1, 2]}, '_i64': 'a[1].append(4)', '_i65': 'a', '_65': {2: [1, 2]}, '_i66': 'b', '_66': {1: [1, 2, 3], 2: [1, 2]}, '_i67': 'a in b', '_i68': '1 in b', '_68': True, '_i69': 'del a[1]', '_i70': 'a', '_70': {2: [1, 2]}, '_i71': 'b', '_71': {1: [1, 2, 3], 2: [1, 2]}, '_i72': \"a = {'a':[11, 22], 'A': [33, 44], 'C': [55, 66]}\", '_i73': 'b = sorted(a, key=str.upper)', '_i74': 'b', '_74': ['a', 'A', 'C'], '_i75': \"class ComportDict(Dict):\\n    def __missing__(self):\\n        return 'a'\", '_i76': \"class ComportDict(dict):\\n    def __missing__(self):\\n        return 'a'\", 'ComportDict': <class '__main__.ComportDict'>, '_i77': 'aa = ComportDict()', 'aa': {1: 2}, '_i78': 'a[1] = 2', '_i79': 'a', '_79': {'a': [11, 22], 'A': [33, 44], 'C': [55, 66], 1: 2}, '_i80': 'aa[1] = 2', '_i81': 'aa', '_81': {1: 2}, '_i82': 'aa[2]', '_i83': 'class DefaultListDict(dict):\\n    def __missing__(self, key):\\n        self[key] = []\\n        return self[key]', 'DefaultListDict': <class '__main__.DefaultListDict'>, '_i84': 'aa = ComportDict()', '_i85': 'aa[1] = 2', '_i86': 'aa', '_86': {1: 2}, '_i87': 'aa[2]', '_i88': 'from collections import defaultdict', 'defaultdict': <class 'collections.defaultdict'>, '_i89': 'a = defaultdict(a)', '_i90': 'a = defaultdict(list)', '_i91': 'a.defaylt)factiry', '_i92': 'a.default_factory', '_92': <class 'list'>, '_i93': 'help(a)', '_i94': 'a = defaultdict(list)', '_i95': 'a = defaultdict(list)\\na[1] = [1, 2]\\na[2] = [3, 4]', '_i96': 'a = defaultdict(list)\\na[1] = [1, 2]\\na[2] = [3, 4]\\na[1]', '_96': [1, 2], '_i97': 'a[1]', '_97': [1, 2], '_i98': 'a[3]', '_98': [], '_i99': 'a', '_99': defaultdict(<class 'list'>, {1: [1, 2], 2: [3, 4], 3: []}), '_i100': 'a.default_factory', '_100': <class 'list'>, '_i101': 'class StrKeyDict0(dict):\\n    def __missing__(self, key):\\n        if isinstance(key, str):\\n            raise KeyError(Key)\\n        return self[str[key]]\\n    \\n    ', 'StrKeyDict0': <class '__main__.StrKeyDict0'>, '_i102': \"a = StrKeyDict0([('2', 'two'), ('4', 'four')])\", '_i103': 'a', '_103': {'2': 'two', '4': 'four'}, '_i104': 'a[2]', '_i105': 'class StrKeyDict0(dict):\\n    def __missing__(self, key):\\n        if isinstance(key, str):\\n            raise KeyError(Key)\\n        return self[str(key)]\\n    \\n    ', '_i106': \"a = StrKeyDict0([('2', 'two'), ('4', 'four')])\", '_i107': 'a', '_107': {'2': 'two', '4': 'four'}, '_i108': 'a[2]', '_108': 'two', '_i109': \"a['2]']\", '_i110': \"a['2']\", '_110': 'two', '_i111': 'a[1]', '_i112': 'class StrKeyDict0(dict):\\n    def __missing__(self, key):\\n        if isinstance(key, str):\\n            raise KeyError(key)\\n        return self[str(key)]\\n    \\n    ', '_i113': \"a = StrKeyDict0([('2', 'two'), ('4', 'four')])\", '_i114': 'a', '_114': {'2': 'two', '4': 'four'}, '_i115': 'a[2]', '_115': 'two', '_i116': \"a['2']\", '_116': 'two', '_i117': 'a[1]', '_i118': 'a.get(2)', '_i119': \"a.get('2')\", '_119': 'two', '_i120': 'class StrKeyDict0(dict):\\n    def __missing__(self, key):\\n        if isinstance(key, str):\\n            raise KeyError(key)\\n        return self[str(key)]\\n    \\n    def get(self, key, default=None):\\n        try:\\n            return self[key]\\n        except KeyError:\\n            return default\\n        \\n    \\n    ', '_i121': \"a = StrKeyDict0([('2', 'two'), ('4', 'four')])\", '_i122': 'a', '_122': {'2': 'two', '4': 'four'}, '_i123': 'a[2]', '_123': 'two', '_i124': \"a['2']\", '_124': 'two', '_i125': 'a[1]', '_i126': \"a.get('2')\", '_126': 'two', '_i127': 'a.get(2)', '_127': 'two', '_i128': 'class StrKeyDict0(dict):\\n    def __missing__(self, key):\\n        if isinstance(key, str):\\n            raise KeyError(key)\\n        return self[str(key)]\\n    \\n    def get(self, key, default=None):\\n        try:\\n            return self[key]\\n        except KeyError:\\n            return default\\n        \\n    def __contains__(self, key):\\n        return key in self.keys() or str(key) in self.keys()\\n        \\n    \\n    ', '_i129': 'import builtins\\nfrom collections import ChainMap\\n\\npylookup = ChainMap(locals(), globals(), vars(builtins))', 'builtins': <module 'builtins' (built-in)>, 'ChainMap': <class 'collections.ChainMap'>, 'pylookup': ..., '_i130': 'pylookup', '_130': ..., '_i131': 'a = {1:1}\\nb = {2:2}\\nc = {3:3}', '_i132': 'chain = ChainMap(a, b, c)', 'chain': ChainMap({}, {2: 2}, {3: 3}), '_i133': 'chain', '_133': ChainMap({}, {2: 2}, {3: 3}), '_i134': 'chain[1]', '_134': 1, '_i135': 'chain.items()', '_135': ItemsView(ChainMap({}, {2: 2}, {3: 3})), '_i136': 'list(chain.items())', '_136': [(3, 3), (2, 2), (1, 1)], '_i137': 'chain.pop(1)', '_137': 1, '_i138': 'a', '_138': {}, '_i139': 'a and b', '_139': {}, '_i140': 'a or b', '_140': {2: 2}, '_i141': 'a and b and c', '_141': {}, '_i142': 'locals()'}, {'__name__': '__main__', '__doc__': 'Automatically created module for IPython interactive environment', '__package__': None, '__loader__': None, '__spec__': None, '__builtin__': <module 'builtins' (built-in)>, '__builtins__': <module 'builtins' (built-in)>, '_ih': ['', '__builtins__', '__builtins__.__dict__', 'a = {1:1, 2:2}', 'a.pop()', 'a.popitem()', 'a', 'a.pop(1)', 'a', 'a.pop(1)', 'a.setdefault(1)', 'a', 'a.setdefault(2, 1)', 'a', 'a.setdefault(1, [])', 'a', 'a.setdefault(3, [])', 'a', 'a.setdefault(3, [], 2)', 'a.setdefault(3, [])', 'a', 'from collections import Mapping', 'from collections.abc import Mapping', 'help(Mapping)', 'a = Mapping()', \"class TestMapping(Mapping):\\n    def __getitem__(self):\\n        return ''\\n    \\n    def __iter__(self):\\n        return ''\\n    \\n    def __len__(self):\\n        return 0\", 'a = TestMapping()', 'a', 'a[1] = 1', 'a.items()', 'list(a.items())', 'a = [1, 2]\\nb = [3,4]', \"for ab in (f'{a} : {b}' for a, b in zip(a, b)):\\n    print(ab)\", \"for c in (f'{x} : {y}' for x in a for y in b):\\n    print(c)\", 'a = {1:1, 2:2}', 'b = a', 'a[1] = 2', 'b', 'a', 'a = {1:1, 2:2}', 'b = a.copy()', 'b', 'b[1] = 2', 'b', '1', 'a', 'from copy import copy', 'a = copy(b)', 'a', 'b', 'a[1] = 3', 'b', 'a', 'a = {1:[1, 2], 2: [1, 2]}', 'b = copy(a)', 'a', 'b', 'b[1].append(3)', 'a', 'b', 'from copy import deepcopy', 'b = deepcopy(a)', 'b', 'a', 'a[1].append(4)', 'a', 'b', 'a in b', '1 in b', 'del a[1]', 'a', 'b', \"a = {'a':[11, 22], 'A': [33, 44], 'C': [55, 66]}\", 'b = sorted(a, key=str.upper)', 'b', \"class ComportDict(Dict):\\n    def __missing__(self):\\n        return 'a'\", \"class ComportDict(dict):\\n    def __missing__(self):\\n        return 'a'\", 'aa = ComportDict()', 'a[1] = 2', 'a', 'aa[1] = 2', 'aa', 'aa[2]', 'class DefaultListDict(dict):\\n    def __missing__(self, key):\\n        self[key] = []\\n        return self[key]', 'aa = ComportDict()', 'aa[1] = 2', 'aa', 'aa[2]', 'from collections import defaultdict', 'a = defaultdict(a)', 'a = defaultdict(list)', 'a.defaylt)factiry', 'a.default_factory', 'help(a)', 'a = defaultdict(list)', 'a = defaultdict(list)\\na[1] = [1, 2]\\na[2] = [3, 4]', 'a = defaultdict(list)\\na[1] = [1, 2]\\na[2] = [3, 4]\\na[1]', 'a[1]', 'a[3]', 'a', 'a.default_factory', 'class StrKeyDict0(dict):\\n    def __missing__(self, key):\\n        if isinstance(key, str):\\n            raise KeyError(Key)\\n        return self[str[key]]\\n    \\n    ', \"a = StrKeyDict0([('2', 'two'), ('4', 'four')])\", 'a', 'a[2]', 'class StrKeyDict0(dict):\\n    def __missing__(self, key):\\n        if isinstance(key, str):\\n            raise KeyError(Key)\\n        return self[str(key)]\\n    \\n    ', \"a = StrKeyDict0([('2', 'two'), ('4', 'four')])\", 'a', 'a[2]', \"a['2]']\", \"a['2']\", 'a[1]', 'class StrKeyDict0(dict):\\n    def __missing__(self, key):\\n        if isinstance(key, str):\\n            raise KeyError(key)\\n        return self[str(key)]\\n    \\n    ', \"a = StrKeyDict0([('2', 'two'), ('4', 'four')])\", 'a', 'a[2]', \"a['2']\", 'a[1]', 'a.get(2)', \"a.get('2')\", 'class StrKeyDict0(dict):\\n    def __missing__(self, key):\\n        if isinstance(key, str):\\n            raise KeyError(key)\\n        return self[str(key)]\\n    \\n    def get(self, key, default=None):\\n        try:\\n            return self[key]\\n        except KeyError:\\n            return default\\n        \\n    \\n    ', \"a = StrKeyDict0([('2', 'two'), ('4', 'four')])\", 'a', 'a[2]', \"a['2']\", 'a[1]', \"a.get('2')\", 'a.get(2)', 'class StrKeyDict0(dict):\\n    def __missing__(self, key):\\n        if isinstance(key, str):\\n            raise KeyError(key)\\n        return self[str(key)]\\n    \\n    def get(self, key, default=None):\\n        try:\\n            return self[key]\\n        except KeyError:\\n            return default\\n        \\n    def __contains__(self, key):\\n        return key in self.keys() or str(key) in self.keys()\\n        \\n    \\n    ', 'import builtins\\nfrom collections import ChainMap\\n\\npylookup = ChainMap(locals(), globals(), vars(builtins))', 'pylookup', 'a = {1:1}\\nb = {2:2}\\nc = {3:3}', 'chain = ChainMap(a, b, c)', 'chain', 'chain[1]', 'chain.items()', 'list(chain.items())', 'chain.pop(1)', 'a', 'a and b', 'a or b', 'a and b and c', 'locals()'], '_oh': {1: <module 'builtins' (built-in)>, 2: {'__name__': 'builtins', '__doc__': \"Built-in functions, exceptions, and other objects.\\n\\nNoteworthy: None is the `nil' object; Ellipsis represents `...' in slices.\", '__package__': '', '__loader__': <class '_frozen_importlib.BuiltinImporter'>, '__spec__': ModuleSpec(name='builtins', loader=<class '_frozen_importlib.BuiltinImporter'>), '__build_class__': <built-in function __build_class__>, '__import__': <built-in function __import__>, 'abs': <built-in function abs>, 'all': <built-in function all>, 'any': <built-in function any>, 'ascii': <built-in function ascii>, 'bin': <built-in function bin>, 'breakpoint': <built-in function breakpoint>, 'callable': <built-in function callable>, 'chr': <built-in function chr>, 'compile': <built-in function compile>, 'delattr': <built-in function delattr>, 'dir': <built-in function dir>, 'divmod': <built-in function divmod>, 'eval': <built-in function eval>, 'exec': <built-in function exec>, 'format': <built-in function format>, 'getattr': <built-in function getattr>, 'globals': <built-in function globals>, 'hasattr': <built-in function hasattr>, 'hash': <built-in function hash>, 'hex': <built-in function hex>, 'id': <built-in function id>, 'input': <bound method Kernel.raw_input of <ipykernel.ipkernel.IPythonKernel object at 0x7fd6f62ba850>>, 'isinstance': <built-in function isinstance>, 'issubclass': <built-in function issubclass>, 'iter': <built-in function iter>, 'len': <built-in function len>, 'locals': <built-in function locals>, 'max': <built-in function max>, 'min': <built-in function min>, 'next': <built-in function next>, 'oct': <built-in function oct>, 'ord': <built-in function ord>, 'pow': <built-in function pow>, 'print': <built-in function print>, 'repr': <built-in function repr>, 'round': <built-in function round>, 'setattr': <built-in function setattr>, 'sorted': <built-in function sorted>, 'sum': <built-in function sum>, 'vars': <built-in function vars>, 'None': None, 'Ellipsis': Ellipsis, 'NotImplemented': NotImplemented, 'False': False, 'True': True, 'bool': <class 'bool'>, 'memoryview': <class 'memoryview'>, 'bytearray': <class 'bytearray'>, 'bytes': <class 'bytes'>, 'classmethod': <class 'classmethod'>, 'complex': <class 'complex'>, 'dict': <class 'dict'>, 'enumerate': <class 'enumerate'>, 'filter': <class 'filter'>, 'float': <class 'float'>, 'frozenset': <class 'frozenset'>, 'property': <class 'property'>, 'int': <class 'int'>, 'list': <class 'list'>, 'map': <class 'map'>, 'object': <class 'object'>, 'range': <class 'range'>, 'reversed': <class 'reversed'>, 'set': <class 'set'>, 'slice': <class 'slice'>, 'staticmethod': <class 'staticmethod'>, 'str': <class 'str'>, 'super': <class 'super'>, 'tuple': <class 'tuple'>, 'type': <class 'type'>, 'zip': <class 'zip'>, '__debug__': True, 'BaseException': <class 'BaseException'>, 'Exception': <class 'Exception'>, 'TypeError': <class 'TypeError'>, 'StopAsyncIteration': <class 'StopAsyncIteration'>, 'StopIteration': <class 'StopIteration'>, 'GeneratorExit': <class 'GeneratorExit'>, 'SystemExit': <class 'SystemExit'>, 'KeyboardInterrupt': <class 'KeyboardInterrupt'>, 'ImportError': <class 'ImportError'>, 'ModuleNotFoundError': <class 'ModuleNotFoundError'>, 'OSError': <class 'OSError'>, 'EnvironmentError': <class 'OSError'>, 'IOError': <class 'OSError'>, 'EOFError': <class 'EOFError'>, 'RuntimeError': <class 'RuntimeError'>, 'RecursionError': <class 'RecursionError'>, 'NotImplementedError': <class 'NotImplementedError'>, 'NameError': <class 'NameError'>, 'UnboundLocalError': <class 'UnboundLocalError'>, 'AttributeError': <class 'AttributeError'>, 'SyntaxError': <class 'SyntaxError'>, 'IndentationError': <class 'IndentationError'>, 'TabError': <class 'TabError'>, 'LookupError': <class 'LookupError'>, 'IndexError': <class 'IndexError'>, 'KeyError': <class 'KeyError'>, 'ValueError': <class 'ValueError'>, 'UnicodeError': <class 'UnicodeError'>, 'UnicodeEncodeError': <class 'UnicodeEncodeError'>, 'UnicodeDecodeError': <class 'UnicodeDecodeError'>, 'UnicodeTranslateError': <class 'UnicodeTranslateError'>, 'AssertionError': <class 'AssertionError'>, 'ArithmeticError': <class 'ArithmeticError'>, 'FloatingPointError': <class 'FloatingPointError'>, 'OverflowError': <class 'OverflowError'>, 'ZeroDivisionError': <class 'ZeroDivisionError'>, 'SystemError': <class 'SystemError'>, 'ReferenceError': <class 'ReferenceError'>, 'MemoryError': <class 'MemoryError'>, 'BufferError': <class 'BufferError'>, 'Warning': <class 'Warning'>, 'UserWarning': <class 'UserWarning'>, 'DeprecationWarning': <class 'DeprecationWarning'>, 'PendingDeprecationWarning': <class 'PendingDeprecationWarning'>, 'SyntaxWarning': <class 'SyntaxWarning'>, 'RuntimeWarning': <class 'RuntimeWarning'>, 'FutureWarning': <class 'FutureWarning'>, 'ImportWarning': <class 'ImportWarning'>, 'UnicodeWarning': <class 'UnicodeWarning'>, 'BytesWarning': <class 'BytesWarning'>, 'ResourceWarning': <class 'ResourceWarning'>, 'ConnectionError': <class 'ConnectionError'>, 'BlockingIOError': <class 'BlockingIOError'>, 'BrokenPipeError': <class 'BrokenPipeError'>, 'ChildProcessError': <class 'ChildProcessError'>, 'ConnectionAbortedError': <class 'ConnectionAbortedError'>, 'ConnectionRefusedError': <class 'ConnectionRefusedError'>, 'ConnectionResetError': <class 'ConnectionResetError'>, 'FileExistsError': <class 'FileExistsError'>, 'FileNotFoundError': <class 'FileNotFoundError'>, 'IsADirectoryError': <class 'IsADirectoryError'>, 'NotADirectoryError': <class 'NotADirectoryError'>, 'InterruptedError': <class 'InterruptedError'>, 'PermissionError': <class 'PermissionError'>, 'ProcessLookupError': <class 'ProcessLookupError'>, 'TimeoutError': <class 'TimeoutError'>, 'open': <built-in function open>, 'copyright': Copyright (c) 2001-2019 Python Software Foundation.\n",
       "  All Rights Reserved.\n",
       "  \n",
       "  Copyright (c) 2000 BeOpen.com.\n",
       "  All Rights Reserved.\n",
       "  \n",
       "  Copyright (c) 1995-2001 Corporation for National Research Initiatives.\n",
       "  All Rights Reserved.\n",
       "  \n",
       "  Copyright (c) 1991-1995 Stichting Mathematisch Centrum, Amsterdam.\n",
       "  All Rights Reserved., 'credits':     Thanks to CWI, CNRI, BeOpen.com, Zope Corporation and a cast of thousands\n",
       "      for supporting Python development.  See www.python.org for more information., 'license': Type license() to see the full license text, 'help': Type help() for interactive help, or help(object) for help about object., '__IPYTHON__': True, 'display': <function display at 0x7fd6fee21200>, 'get_ipython': <bound method InteractiveShell.get_ipython of <ipykernel.zmqshell.ZMQInteractiveShell object at 0x7fd6f629f210>>}, 5: (2, 2), 6: {1: None, 2: 1, 3: []}, 7: 1, 8: {1: None, 2: 1, 3: []}, 11: {1: None, 2: 1, 3: []}, 12: 1, 13: {1: None, 2: 1, 3: []}, 15: {1: None, 2: 1, 3: []}, 16: [], 17: {1: None, 2: 1, 3: []}, 19: [], 20: {1: None, 2: 1, 3: []}, 27: <__main__.TestMapping object at 0x7fd6f41384d0>, 29: ItemsView(<__main__.TestMapping object at 0x7fd6f41384d0>), 37: {1: 2, 2: 2}, 38: {1: 2, 2: 2}, 41: {1: 2, 2: 2}, 43: {1: 2, 2: 2}, 44: 1, 45: {1: 1, 2: 2}, 48: {1: 3, 2: 2}, 49: {1: 2, 2: 2}, 51: {1: 2, 2: 2}, 52: {1: 3, 2: 2}, 55: {2: [1, 2]}, 56: {1: [1, 2, 3, 4], 2: [1, 2]}, 58: {2: [1, 2]}, 59: {1: [1, 2, 3, 4], 2: [1, 2]}, 62: {1: [1, 2, 3], 2: [1, 2]}, 63: {2: [1, 2]}, 65: {2: [1, 2]}, 66: {1: [1, 2, 3], 2: [1, 2]}, 68: True, 70: {2: [1, 2]}, 71: {1: [1, 2, 3], 2: [1, 2]}, 74: ['a', 'A', 'C'], 79: {'a': [11, 22], 'A': [33, 44], 'C': [55, 66], 1: 2}, 81: {1: 2}, 86: {1: 2}, 92: <class 'list'>, 96: [1, 2], 97: [1, 2], 98: [], 99: defaultdict(<class 'list'>, {1: [1, 2], 2: [3, 4], 3: []}), 100: <class 'list'>, 103: {'2': 'two', '4': 'four'}, 107: {'2': 'two', '4': 'four'}, 108: 'two', 110: 'two', 114: {'2': 'two', '4': 'four'}, 115: 'two', 116: 'two', 119: 'two', 122: {'2': 'two', '4': 'four'}, 123: 'two', 124: 'two', 126: 'two', 127: 'two', 130: ..., 133: ChainMap({}, {2: 2}, {3: 3}), 134: 1, 135: ItemsView(ChainMap({}, {2: 2}, {3: 3})), 136: [(3, 3), (2, 2), (1, 1)], 137: 1, 138: {}, 139: {}, 140: {2: 2}, 141: {}}, '_dh': ['/home/hby/projects/wps12th/python/fluentpython/notebook'], 'In': ['', '__builtins__', '__builtins__.__dict__', 'a = {1:1, 2:2}', 'a.pop()', 'a.popitem()', 'a', 'a.pop(1)', 'a', 'a.pop(1)', 'a.setdefault(1)', 'a', 'a.setdefault(2, 1)', 'a', 'a.setdefault(1, [])', 'a', 'a.setdefault(3, [])', 'a', 'a.setdefault(3, [], 2)', 'a.setdefault(3, [])', 'a', 'from collections import Mapping', 'from collections.abc import Mapping', 'help(Mapping)', 'a = Mapping()', \"class TestMapping(Mapping):\\n    def __getitem__(self):\\n        return ''\\n    \\n    def __iter__(self):\\n        return ''\\n    \\n    def __len__(self):\\n        return 0\", 'a = TestMapping()', 'a', 'a[1] = 1', 'a.items()', 'list(a.items())', 'a = [1, 2]\\nb = [3,4]', \"for ab in (f'{a} : {b}' for a, b in zip(a, b)):\\n    print(ab)\", \"for c in (f'{x} : {y}' for x in a for y in b):\\n    print(c)\", 'a = {1:1, 2:2}', 'b = a', 'a[1] = 2', 'b', 'a', 'a = {1:1, 2:2}', 'b = a.copy()', 'b', 'b[1] = 2', 'b', '1', 'a', 'from copy import copy', 'a = copy(b)', 'a', 'b', 'a[1] = 3', 'b', 'a', 'a = {1:[1, 2], 2: [1, 2]}', 'b = copy(a)', 'a', 'b', 'b[1].append(3)', 'a', 'b', 'from copy import deepcopy', 'b = deepcopy(a)', 'b', 'a', 'a[1].append(4)', 'a', 'b', 'a in b', '1 in b', 'del a[1]', 'a', 'b', \"a = {'a':[11, 22], 'A': [33, 44], 'C': [55, 66]}\", 'b = sorted(a, key=str.upper)', 'b', \"class ComportDict(Dict):\\n    def __missing__(self):\\n        return 'a'\", \"class ComportDict(dict):\\n    def __missing__(self):\\n        return 'a'\", 'aa = ComportDict()', 'a[1] = 2', 'a', 'aa[1] = 2', 'aa', 'aa[2]', 'class DefaultListDict(dict):\\n    def __missing__(self, key):\\n        self[key] = []\\n        return self[key]', 'aa = ComportDict()', 'aa[1] = 2', 'aa', 'aa[2]', 'from collections import defaultdict', 'a = defaultdict(a)', 'a = defaultdict(list)', 'a.defaylt)factiry', 'a.default_factory', 'help(a)', 'a = defaultdict(list)', 'a = defaultdict(list)\\na[1] = [1, 2]\\na[2] = [3, 4]', 'a = defaultdict(list)\\na[1] = [1, 2]\\na[2] = [3, 4]\\na[1]', 'a[1]', 'a[3]', 'a', 'a.default_factory', 'class StrKeyDict0(dict):\\n    def __missing__(self, key):\\n        if isinstance(key, str):\\n            raise KeyError(Key)\\n        return self[str[key]]\\n    \\n    ', \"a = StrKeyDict0([('2', 'two'), ('4', 'four')])\", 'a', 'a[2]', 'class StrKeyDict0(dict):\\n    def __missing__(self, key):\\n        if isinstance(key, str):\\n            raise KeyError(Key)\\n        return self[str(key)]\\n    \\n    ', \"a = StrKeyDict0([('2', 'two'), ('4', 'four')])\", 'a', 'a[2]', \"a['2]']\", \"a['2']\", 'a[1]', 'class StrKeyDict0(dict):\\n    def __missing__(self, key):\\n        if isinstance(key, str):\\n            raise KeyError(key)\\n        return self[str(key)]\\n    \\n    ', \"a = StrKeyDict0([('2', 'two'), ('4', 'four')])\", 'a', 'a[2]', \"a['2']\", 'a[1]', 'a.get(2)', \"a.get('2')\", 'class StrKeyDict0(dict):\\n    def __missing__(self, key):\\n        if isinstance(key, str):\\n            raise KeyError(key)\\n        return self[str(key)]\\n    \\n    def get(self, key, default=None):\\n        try:\\n            return self[key]\\n        except KeyError:\\n            return default\\n        \\n    \\n    ', \"a = StrKeyDict0([('2', 'two'), ('4', 'four')])\", 'a', 'a[2]', \"a['2']\", 'a[1]', \"a.get('2')\", 'a.get(2)', 'class StrKeyDict0(dict):\\n    def __missing__(self, key):\\n        if isinstance(key, str):\\n            raise KeyError(key)\\n        return self[str(key)]\\n    \\n    def get(self, key, default=None):\\n        try:\\n            return self[key]\\n        except KeyError:\\n            return default\\n        \\n    def __contains__(self, key):\\n        return key in self.keys() or str(key) in self.keys()\\n        \\n    \\n    ', 'import builtins\\nfrom collections import ChainMap\\n\\npylookup = ChainMap(locals(), globals(), vars(builtins))', 'pylookup', 'a = {1:1}\\nb = {2:2}\\nc = {3:3}', 'chain = ChainMap(a, b, c)', 'chain', 'chain[1]', 'chain.items()', 'list(chain.items())', 'chain.pop(1)', 'a', 'a and b', 'a or b', 'a and b and c', 'locals()'], 'Out': {1: <module 'builtins' (built-in)>, 2: {'__name__': 'builtins', '__doc__': \"Built-in functions, exceptions, and other objects.\\n\\nNoteworthy: None is the `nil' object; Ellipsis represents `...' in slices.\", '__package__': '', '__loader__': <class '_frozen_importlib.BuiltinImporter'>, '__spec__': ModuleSpec(name='builtins', loader=<class '_frozen_importlib.BuiltinImporter'>), '__build_class__': <built-in function __build_class__>, '__import__': <built-in function __import__>, 'abs': <built-in function abs>, 'all': <built-in function all>, 'any': <built-in function any>, 'ascii': <built-in function ascii>, 'bin': <built-in function bin>, 'breakpoint': <built-in function breakpoint>, 'callable': <built-in function callable>, 'chr': <built-in function chr>, 'compile': <built-in function compile>, 'delattr': <built-in function delattr>, 'dir': <built-in function dir>, 'divmod': <built-in function divmod>, 'eval': <built-in function eval>, 'exec': <built-in function exec>, 'format': <built-in function format>, 'getattr': <built-in function getattr>, 'globals': <built-in function globals>, 'hasattr': <built-in function hasattr>, 'hash': <built-in function hash>, 'hex': <built-in function hex>, 'id': <built-in function id>, 'input': <bound method Kernel.raw_input of <ipykernel.ipkernel.IPythonKernel object at 0x7fd6f62ba850>>, 'isinstance': <built-in function isinstance>, 'issubclass': <built-in function issubclass>, 'iter': <built-in function iter>, 'len': <built-in function len>, 'locals': <built-in function locals>, 'max': <built-in function max>, 'min': <built-in function min>, 'next': <built-in function next>, 'oct': <built-in function oct>, 'ord': <built-in function ord>, 'pow': <built-in function pow>, 'print': <built-in function print>, 'repr': <built-in function repr>, 'round': <built-in function round>, 'setattr': <built-in function setattr>, 'sorted': <built-in function sorted>, 'sum': <built-in function sum>, 'vars': <built-in function vars>, 'None': None, 'Ellipsis': Ellipsis, 'NotImplemented': NotImplemented, 'False': False, 'True': True, 'bool': <class 'bool'>, 'memoryview': <class 'memoryview'>, 'bytearray': <class 'bytearray'>, 'bytes': <class 'bytes'>, 'classmethod': <class 'classmethod'>, 'complex': <class 'complex'>, 'dict': <class 'dict'>, 'enumerate': <class 'enumerate'>, 'filter': <class 'filter'>, 'float': <class 'float'>, 'frozenset': <class 'frozenset'>, 'property': <class 'property'>, 'int': <class 'int'>, 'list': <class 'list'>, 'map': <class 'map'>, 'object': <class 'object'>, 'range': <class 'range'>, 'reversed': <class 'reversed'>, 'set': <class 'set'>, 'slice': <class 'slice'>, 'staticmethod': <class 'staticmethod'>, 'str': <class 'str'>, 'super': <class 'super'>, 'tuple': <class 'tuple'>, 'type': <class 'type'>, 'zip': <class 'zip'>, '__debug__': True, 'BaseException': <class 'BaseException'>, 'Exception': <class 'Exception'>, 'TypeError': <class 'TypeError'>, 'StopAsyncIteration': <class 'StopAsyncIteration'>, 'StopIteration': <class 'StopIteration'>, 'GeneratorExit': <class 'GeneratorExit'>, 'SystemExit': <class 'SystemExit'>, 'KeyboardInterrupt': <class 'KeyboardInterrupt'>, 'ImportError': <class 'ImportError'>, 'ModuleNotFoundError': <class 'ModuleNotFoundError'>, 'OSError': <class 'OSError'>, 'EnvironmentError': <class 'OSError'>, 'IOError': <class 'OSError'>, 'EOFError': <class 'EOFError'>, 'RuntimeError': <class 'RuntimeError'>, 'RecursionError': <class 'RecursionError'>, 'NotImplementedError': <class 'NotImplementedError'>, 'NameError': <class 'NameError'>, 'UnboundLocalError': <class 'UnboundLocalError'>, 'AttributeError': <class 'AttributeError'>, 'SyntaxError': <class 'SyntaxError'>, 'IndentationError': <class 'IndentationError'>, 'TabError': <class 'TabError'>, 'LookupError': <class 'LookupError'>, 'IndexError': <class 'IndexError'>, 'KeyError': <class 'KeyError'>, 'ValueError': <class 'ValueError'>, 'UnicodeError': <class 'UnicodeError'>, 'UnicodeEncodeError': <class 'UnicodeEncodeError'>, 'UnicodeDecodeError': <class 'UnicodeDecodeError'>, 'UnicodeTranslateError': <class 'UnicodeTranslateError'>, 'AssertionError': <class 'AssertionError'>, 'ArithmeticError': <class 'ArithmeticError'>, 'FloatingPointError': <class 'FloatingPointError'>, 'OverflowError': <class 'OverflowError'>, 'ZeroDivisionError': <class 'ZeroDivisionError'>, 'SystemError': <class 'SystemError'>, 'ReferenceError': <class 'ReferenceError'>, 'MemoryError': <class 'MemoryError'>, 'BufferError': <class 'BufferError'>, 'Warning': <class 'Warning'>, 'UserWarning': <class 'UserWarning'>, 'DeprecationWarning': <class 'DeprecationWarning'>, 'PendingDeprecationWarning': <class 'PendingDeprecationWarning'>, 'SyntaxWarning': <class 'SyntaxWarning'>, 'RuntimeWarning': <class 'RuntimeWarning'>, 'FutureWarning': <class 'FutureWarning'>, 'ImportWarning': <class 'ImportWarning'>, 'UnicodeWarning': <class 'UnicodeWarning'>, 'BytesWarning': <class 'BytesWarning'>, 'ResourceWarning': <class 'ResourceWarning'>, 'ConnectionError': <class 'ConnectionError'>, 'BlockingIOError': <class 'BlockingIOError'>, 'BrokenPipeError': <class 'BrokenPipeError'>, 'ChildProcessError': <class 'ChildProcessError'>, 'ConnectionAbortedError': <class 'ConnectionAbortedError'>, 'ConnectionRefusedError': <class 'ConnectionRefusedError'>, 'ConnectionResetError': <class 'ConnectionResetError'>, 'FileExistsError': <class 'FileExistsError'>, 'FileNotFoundError': <class 'FileNotFoundError'>, 'IsADirectoryError': <class 'IsADirectoryError'>, 'NotADirectoryError': <class 'NotADirectoryError'>, 'InterruptedError': <class 'InterruptedError'>, 'PermissionError': <class 'PermissionError'>, 'ProcessLookupError': <class 'ProcessLookupError'>, 'TimeoutError': <class 'TimeoutError'>, 'open': <built-in function open>, 'copyright': Copyright (c) 2001-2019 Python Software Foundation.\n",
       "  All Rights Reserved.\n",
       "  \n",
       "  Copyright (c) 2000 BeOpen.com.\n",
       "  All Rights Reserved.\n",
       "  \n",
       "  Copyright (c) 1995-2001 Corporation for National Research Initiatives.\n",
       "  All Rights Reserved.\n",
       "  \n",
       "  Copyright (c) 1991-1995 Stichting Mathematisch Centrum, Amsterdam.\n",
       "  All Rights Reserved., 'credits':     Thanks to CWI, CNRI, BeOpen.com, Zope Corporation and a cast of thousands\n",
       "      for supporting Python development.  See www.python.org for more information., 'license': Type license() to see the full license text, 'help': Type help() for interactive help, or help(object) for help about object., '__IPYTHON__': True, 'display': <function display at 0x7fd6fee21200>, 'get_ipython': <bound method InteractiveShell.get_ipython of <ipykernel.zmqshell.ZMQInteractiveShell object at 0x7fd6f629f210>>}, 5: (2, 2), 6: {1: None, 2: 1, 3: []}, 7: 1, 8: {1: None, 2: 1, 3: []}, 11: {1: None, 2: 1, 3: []}, 12: 1, 13: {1: None, 2: 1, 3: []}, 15: {1: None, 2: 1, 3: []}, 16: [], 17: {1: None, 2: 1, 3: []}, 19: [], 20: {1: None, 2: 1, 3: []}, 27: <__main__.TestMapping object at 0x7fd6f41384d0>, 29: ItemsView(<__main__.TestMapping object at 0x7fd6f41384d0>), 37: {1: 2, 2: 2}, 38: {1: 2, 2: 2}, 41: {1: 2, 2: 2}, 43: {1: 2, 2: 2}, 44: 1, 45: {1: 1, 2: 2}, 48: {1: 3, 2: 2}, 49: {1: 2, 2: 2}, 51: {1: 2, 2: 2}, 52: {1: 3, 2: 2}, 55: {2: [1, 2]}, 56: {1: [1, 2, 3, 4], 2: [1, 2]}, 58: {2: [1, 2]}, 59: {1: [1, 2, 3, 4], 2: [1, 2]}, 62: {1: [1, 2, 3], 2: [1, 2]}, 63: {2: [1, 2]}, 65: {2: [1, 2]}, 66: {1: [1, 2, 3], 2: [1, 2]}, 68: True, 70: {2: [1, 2]}, 71: {1: [1, 2, 3], 2: [1, 2]}, 74: ['a', 'A', 'C'], 79: {'a': [11, 22], 'A': [33, 44], 'C': [55, 66], 1: 2}, 81: {1: 2}, 86: {1: 2}, 92: <class 'list'>, 96: [1, 2], 97: [1, 2], 98: [], 99: defaultdict(<class 'list'>, {1: [1, 2], 2: [3, 4], 3: []}), 100: <class 'list'>, 103: {'2': 'two', '4': 'four'}, 107: {'2': 'two', '4': 'four'}, 108: 'two', 110: 'two', 114: {'2': 'two', '4': 'four'}, 115: 'two', 116: 'two', 119: 'two', 122: {'2': 'two', '4': 'four'}, 123: 'two', 124: 'two', 126: 'two', 127: 'two', 130: ..., 133: ChainMap({}, {2: 2}, {3: 3}), 134: 1, 135: ItemsView(ChainMap({}, {2: 2}, {3: 3})), 136: [(3, 3), (2, 2), (1, 1)], 137: 1, 138: {}, 139: {}, 140: {2: 2}, 141: {}}, 'get_ipython': <bound method InteractiveShell.get_ipython of <ipykernel.zmqshell.ZMQInteractiveShell object at 0x7fd6f629f210>>, 'exit': <IPython.core.autocall.ZMQExitAutocall object at 0x7fd6f627ded0>, 'quit': <IPython.core.autocall.ZMQExitAutocall object at 0x7fd6f627ded0>, '_': {}, '__': {2: 2}, '___': {}, '_i': 'a and b and c', '_ii': 'a or b', '_iii': 'a and b', '_i1': '__builtins__', '_1': <module 'builtins' (built-in)>, '_i2': '__builtins__.__dict__', '_2': {'__name__': 'builtins', '__doc__': \"Built-in functions, exceptions, and other objects.\\n\\nNoteworthy: None is the `nil' object; Ellipsis represents `...' in slices.\", '__package__': '', '__loader__': <class '_frozen_importlib.BuiltinImporter'>, '__spec__': ModuleSpec(name='builtins', loader=<class '_frozen_importlib.BuiltinImporter'>), '__build_class__': <built-in function __build_class__>, '__import__': <built-in function __import__>, 'abs': <built-in function abs>, 'all': <built-in function all>, 'any': <built-in function any>, 'ascii': <built-in function ascii>, 'bin': <built-in function bin>, 'breakpoint': <built-in function breakpoint>, 'callable': <built-in function callable>, 'chr': <built-in function chr>, 'compile': <built-in function compile>, 'delattr': <built-in function delattr>, 'dir': <built-in function dir>, 'divmod': <built-in function divmod>, 'eval': <built-in function eval>, 'exec': <built-in function exec>, 'format': <built-in function format>, 'getattr': <built-in function getattr>, 'globals': <built-in function globals>, 'hasattr': <built-in function hasattr>, 'hash': <built-in function hash>, 'hex': <built-in function hex>, 'id': <built-in function id>, 'input': <bound method Kernel.raw_input of <ipykernel.ipkernel.IPythonKernel object at 0x7fd6f62ba850>>, 'isinstance': <built-in function isinstance>, 'issubclass': <built-in function issubclass>, 'iter': <built-in function iter>, 'len': <built-in function len>, 'locals': <built-in function locals>, 'max': <built-in function max>, 'min': <built-in function min>, 'next': <built-in function next>, 'oct': <built-in function oct>, 'ord': <built-in function ord>, 'pow': <built-in function pow>, 'print': <built-in function print>, 'repr': <built-in function repr>, 'round': <built-in function round>, 'setattr': <built-in function setattr>, 'sorted': <built-in function sorted>, 'sum': <built-in function sum>, 'vars': <built-in function vars>, 'None': None, 'Ellipsis': Ellipsis, 'NotImplemented': NotImplemented, 'False': False, 'True': True, 'bool': <class 'bool'>, 'memoryview': <class 'memoryview'>, 'bytearray': <class 'bytearray'>, 'bytes': <class 'bytes'>, 'classmethod': <class 'classmethod'>, 'complex': <class 'complex'>, 'dict': <class 'dict'>, 'enumerate': <class 'enumerate'>, 'filter': <class 'filter'>, 'float': <class 'float'>, 'frozenset': <class 'frozenset'>, 'property': <class 'property'>, 'int': <class 'int'>, 'list': <class 'list'>, 'map': <class 'map'>, 'object': <class 'object'>, 'range': <class 'range'>, 'reversed': <class 'reversed'>, 'set': <class 'set'>, 'slice': <class 'slice'>, 'staticmethod': <class 'staticmethod'>, 'str': <class 'str'>, 'super': <class 'super'>, 'tuple': <class 'tuple'>, 'type': <class 'type'>, 'zip': <class 'zip'>, '__debug__': True, 'BaseException': <class 'BaseException'>, 'Exception': <class 'Exception'>, 'TypeError': <class 'TypeError'>, 'StopAsyncIteration': <class 'StopAsyncIteration'>, 'StopIteration': <class 'StopIteration'>, 'GeneratorExit': <class 'GeneratorExit'>, 'SystemExit': <class 'SystemExit'>, 'KeyboardInterrupt': <class 'KeyboardInterrupt'>, 'ImportError': <class 'ImportError'>, 'ModuleNotFoundError': <class 'ModuleNotFoundError'>, 'OSError': <class 'OSError'>, 'EnvironmentError': <class 'OSError'>, 'IOError': <class 'OSError'>, 'EOFError': <class 'EOFError'>, 'RuntimeError': <class 'RuntimeError'>, 'RecursionError': <class 'RecursionError'>, 'NotImplementedError': <class 'NotImplementedError'>, 'NameError': <class 'NameError'>, 'UnboundLocalError': <class 'UnboundLocalError'>, 'AttributeError': <class 'AttributeError'>, 'SyntaxError': <class 'SyntaxError'>, 'IndentationError': <class 'IndentationError'>, 'TabError': <class 'TabError'>, 'LookupError': <class 'LookupError'>, 'IndexError': <class 'IndexError'>, 'KeyError': <class 'KeyError'>, 'ValueError': <class 'ValueError'>, 'UnicodeError': <class 'UnicodeError'>, 'UnicodeEncodeError': <class 'UnicodeEncodeError'>, 'UnicodeDecodeError': <class 'UnicodeDecodeError'>, 'UnicodeTranslateError': <class 'UnicodeTranslateError'>, 'AssertionError': <class 'AssertionError'>, 'ArithmeticError': <class 'ArithmeticError'>, 'FloatingPointError': <class 'FloatingPointError'>, 'OverflowError': <class 'OverflowError'>, 'ZeroDivisionError': <class 'ZeroDivisionError'>, 'SystemError': <class 'SystemError'>, 'ReferenceError': <class 'ReferenceError'>, 'MemoryError': <class 'MemoryError'>, 'BufferError': <class 'BufferError'>, 'Warning': <class 'Warning'>, 'UserWarning': <class 'UserWarning'>, 'DeprecationWarning': <class 'DeprecationWarning'>, 'PendingDeprecationWarning': <class 'PendingDeprecationWarning'>, 'SyntaxWarning': <class 'SyntaxWarning'>, 'RuntimeWarning': <class 'RuntimeWarning'>, 'FutureWarning': <class 'FutureWarning'>, 'ImportWarning': <class 'ImportWarning'>, 'UnicodeWarning': <class 'UnicodeWarning'>, 'BytesWarning': <class 'BytesWarning'>, 'ResourceWarning': <class 'ResourceWarning'>, 'ConnectionError': <class 'ConnectionError'>, 'BlockingIOError': <class 'BlockingIOError'>, 'BrokenPipeError': <class 'BrokenPipeError'>, 'ChildProcessError': <class 'ChildProcessError'>, 'ConnectionAbortedError': <class 'ConnectionAbortedError'>, 'ConnectionRefusedError': <class 'ConnectionRefusedError'>, 'ConnectionResetError': <class 'ConnectionResetError'>, 'FileExistsError': <class 'FileExistsError'>, 'FileNotFoundError': <class 'FileNotFoundError'>, 'IsADirectoryError': <class 'IsADirectoryError'>, 'NotADirectoryError': <class 'NotADirectoryError'>, 'InterruptedError': <class 'InterruptedError'>, 'PermissionError': <class 'PermissionError'>, 'ProcessLookupError': <class 'ProcessLookupError'>, 'TimeoutError': <class 'TimeoutError'>, 'open': <built-in function open>, 'copyright': Copyright (c) 2001-2019 Python Software Foundation.\n",
       "  All Rights Reserved.\n",
       "  \n",
       "  Copyright (c) 2000 BeOpen.com.\n",
       "  All Rights Reserved.\n",
       "  \n",
       "  Copyright (c) 1995-2001 Corporation for National Research Initiatives.\n",
       "  All Rights Reserved.\n",
       "  \n",
       "  Copyright (c) 1991-1995 Stichting Mathematisch Centrum, Amsterdam.\n",
       "  All Rights Reserved., 'credits':     Thanks to CWI, CNRI, BeOpen.com, Zope Corporation and a cast of thousands\n",
       "      for supporting Python development.  See www.python.org for more information., 'license': Type license() to see the full license text, 'help': Type help() for interactive help, or help(object) for help about object., '__IPYTHON__': True, 'display': <function display at 0x7fd6fee21200>, 'get_ipython': <bound method InteractiveShell.get_ipython of <ipykernel.zmqshell.ZMQInteractiveShell object at 0x7fd6f629f210>>}, '_i3': 'a = {1:1, 2:2}', 'a': {}, '_i4': 'a.pop()', '_i5': 'a.popitem()', '_5': (2, 2), '_i6': 'a', '_6': {1: None, 2: 1, 3: []}, '_i7': 'a.pop(1)', '_7': 1, '_i8': 'a', '_8': {1: None, 2: 1, 3: []}, '_i9': 'a.pop(1)', '_i10': 'a.setdefault(1)', '_i11': 'a', '_11': {1: None, 2: 1, 3: []}, '_i12': 'a.setdefault(2, 1)', '_12': 1, '_i13': 'a', '_13': {1: None, 2: 1, 3: []}, '_i14': 'a.setdefault(1, [])', '_i15': 'a', '_15': {1: None, 2: 1, 3: []}, '_i16': 'a.setdefault(3, [])', '_16': [], '_i17': 'a', '_17': {1: None, 2: 1, 3: []}, '_i18': 'a.setdefault(3, [], 2)', '_i19': 'a.setdefault(3, [])', '_19': [], '_i20': 'a', '_20': {1: None, 2: 1, 3: []}, '_i21': 'from collections import Mapping', 'Mapping': <class 'collections.abc.Mapping'>, '_i22': 'from collections.abc import Mapping', '_i23': 'help(Mapping)', '_i24': 'a = Mapping()', '_i25': \"class TestMapping(Mapping):\\n    def __getitem__(self):\\n        return ''\\n    \\n    def __iter__(self):\\n        return ''\\n    \\n    def __len__(self):\\n        return 0\", 'TestMapping': <class '__main__.TestMapping'>, '_i26': 'a = TestMapping()', '_i27': 'a', '_27': <__main__.TestMapping object at 0x7fd6f41384d0>, '_i28': 'a[1] = 1', '_i29': 'a.items()', '_29': ItemsView(<__main__.TestMapping object at 0x7fd6f41384d0>), '_i30': 'list(a.items())', '_i31': 'a = [1, 2]\\nb = [3,4]', 'b': {2: 2}, '_i32': \"for ab in (f'{a} : {b}' for a, b in zip(a, b)):\\n    print(ab)\", 'ab': '2 : 4', '_i33': \"for c in (f'{x} : {y}' for x in a for y in b):\\n    print(c)\", 'c': {3: 3}, '_i34': 'a = {1:1, 2:2}', '_i35': 'b = a', '_i36': 'a[1] = 2', '_i37': 'b', '_37': {1: 2, 2: 2}, '_i38': 'a', '_38': {1: 2, 2: 2}, '_i39': 'a = {1:1, 2:2}', '_i40': 'b = a.copy()', '_i41': 'b', '_41': {1: 2, 2: 2}, '_i42': 'b[1] = 2', '_i43': 'b', '_43': {1: 2, 2: 2}, '_i44': '1', '_44': 1, '_i45': 'a', '_45': {1: 1, 2: 2}, '_i46': 'from copy import copy', 'copy': <function copy at 0x7fd6feeaa3b0>, '_i47': 'a = copy(b)', '_i48': 'a', '_48': {1: 3, 2: 2}, '_i49': 'b', '_49': {1: 2, 2: 2}, '_i50': 'a[1] = 3', '_i51': 'b', '_51': {1: 2, 2: 2}, '_i52': 'a', '_52': {1: 3, 2: 2}, '_i53': 'a = {1:[1, 2], 2: [1, 2]}', '_i54': 'b = copy(a)', '_i55': 'a', '_55': {2: [1, 2]}, '_i56': 'b', '_56': {1: [1, 2, 3, 4], 2: [1, 2]}, '_i57': 'b[1].append(3)', '_i58': 'a', '_58': {2: [1, 2]}, '_i59': 'b', '_59': {1: [1, 2, 3, 4], 2: [1, 2]}, '_i60': 'from copy import deepcopy', 'deepcopy': <function deepcopy at 0x7fd6feeaad40>, '_i61': 'b = deepcopy(a)', '_i62': 'b', '_62': {1: [1, 2, 3], 2: [1, 2]}, '_i63': 'a', '_63': {2: [1, 2]}, '_i64': 'a[1].append(4)', '_i65': 'a', '_65': {2: [1, 2]}, '_i66': 'b', '_66': {1: [1, 2, 3], 2: [1, 2]}, '_i67': 'a in b', '_i68': '1 in b', '_68': True, '_i69': 'del a[1]', '_i70': 'a', '_70': {2: [1, 2]}, '_i71': 'b', '_71': {1: [1, 2, 3], 2: [1, 2]}, '_i72': \"a = {'a':[11, 22], 'A': [33, 44], 'C': [55, 66]}\", '_i73': 'b = sorted(a, key=str.upper)', '_i74': 'b', '_74': ['a', 'A', 'C'], '_i75': \"class ComportDict(Dict):\\n    def __missing__(self):\\n        return 'a'\", '_i76': \"class ComportDict(dict):\\n    def __missing__(self):\\n        return 'a'\", 'ComportDict': <class '__main__.ComportDict'>, '_i77': 'aa = ComportDict()', 'aa': {1: 2}, '_i78': 'a[1] = 2', '_i79': 'a', '_79': {'a': [11, 22], 'A': [33, 44], 'C': [55, 66], 1: 2}, '_i80': 'aa[1] = 2', '_i81': 'aa', '_81': {1: 2}, '_i82': 'aa[2]', '_i83': 'class DefaultListDict(dict):\\n    def __missing__(self, key):\\n        self[key] = []\\n        return self[key]', 'DefaultListDict': <class '__main__.DefaultListDict'>, '_i84': 'aa = ComportDict()', '_i85': 'aa[1] = 2', '_i86': 'aa', '_86': {1: 2}, '_i87': 'aa[2]', '_i88': 'from collections import defaultdict', 'defaultdict': <class 'collections.defaultdict'>, '_i89': 'a = defaultdict(a)', '_i90': 'a = defaultdict(list)', '_i91': 'a.defaylt)factiry', '_i92': 'a.default_factory', '_92': <class 'list'>, '_i93': 'help(a)', '_i94': 'a = defaultdict(list)', '_i95': 'a = defaultdict(list)\\na[1] = [1, 2]\\na[2] = [3, 4]', '_i96': 'a = defaultdict(list)\\na[1] = [1, 2]\\na[2] = [3, 4]\\na[1]', '_96': [1, 2], '_i97': 'a[1]', '_97': [1, 2], '_i98': 'a[3]', '_98': [], '_i99': 'a', '_99': defaultdict(<class 'list'>, {1: [1, 2], 2: [3, 4], 3: []}), '_i100': 'a.default_factory', '_100': <class 'list'>, '_i101': 'class StrKeyDict0(dict):\\n    def __missing__(self, key):\\n        if isinstance(key, str):\\n            raise KeyError(Key)\\n        return self[str[key]]\\n    \\n    ', 'StrKeyDict0': <class '__main__.StrKeyDict0'>, '_i102': \"a = StrKeyDict0([('2', 'two'), ('4', 'four')])\", '_i103': 'a', '_103': {'2': 'two', '4': 'four'}, '_i104': 'a[2]', '_i105': 'class StrKeyDict0(dict):\\n    def __missing__(self, key):\\n        if isinstance(key, str):\\n            raise KeyError(Key)\\n        return self[str(key)]\\n    \\n    ', '_i106': \"a = StrKeyDict0([('2', 'two'), ('4', 'four')])\", '_i107': 'a', '_107': {'2': 'two', '4': 'four'}, '_i108': 'a[2]', '_108': 'two', '_i109': \"a['2]']\", '_i110': \"a['2']\", '_110': 'two', '_i111': 'a[1]', '_i112': 'class StrKeyDict0(dict):\\n    def __missing__(self, key):\\n        if isinstance(key, str):\\n            raise KeyError(key)\\n        return self[str(key)]\\n    \\n    ', '_i113': \"a = StrKeyDict0([('2', 'two'), ('4', 'four')])\", '_i114': 'a', '_114': {'2': 'two', '4': 'four'}, '_i115': 'a[2]', '_115': 'two', '_i116': \"a['2']\", '_116': 'two', '_i117': 'a[1]', '_i118': 'a.get(2)', '_i119': \"a.get('2')\", '_119': 'two', '_i120': 'class StrKeyDict0(dict):\\n    def __missing__(self, key):\\n        if isinstance(key, str):\\n            raise KeyError(key)\\n        return self[str(key)]\\n    \\n    def get(self, key, default=None):\\n        try:\\n            return self[key]\\n        except KeyError:\\n            return default\\n        \\n    \\n    ', '_i121': \"a = StrKeyDict0([('2', 'two'), ('4', 'four')])\", '_i122': 'a', '_122': {'2': 'two', '4': 'four'}, '_i123': 'a[2]', '_123': 'two', '_i124': \"a['2']\", '_124': 'two', '_i125': 'a[1]', '_i126': \"a.get('2')\", '_126': 'two', '_i127': 'a.get(2)', '_127': 'two', '_i128': 'class StrKeyDict0(dict):\\n    def __missing__(self, key):\\n        if isinstance(key, str):\\n            raise KeyError(key)\\n        return self[str(key)]\\n    \\n    def get(self, key, default=None):\\n        try:\\n            return self[key]\\n        except KeyError:\\n            return default\\n        \\n    def __contains__(self, key):\\n        return key in self.keys() or str(key) in self.keys()\\n        \\n    \\n    ', '_i129': 'import builtins\\nfrom collections import ChainMap\\n\\npylookup = ChainMap(locals(), globals(), vars(builtins))', 'builtins': <module 'builtins' (built-in)>, 'ChainMap': <class 'collections.ChainMap'>, 'pylookup': ..., '_i130': 'pylookup', '_130': ..., '_i131': 'a = {1:1}\\nb = {2:2}\\nc = {3:3}', '_i132': 'chain = ChainMap(a, b, c)', 'chain': ChainMap({}, {2: 2}, {3: 3}), '_i133': 'chain', '_133': ChainMap({}, {2: 2}, {3: 3}), '_i134': 'chain[1]', '_134': 1, '_i135': 'chain.items()', '_135': ItemsView(ChainMap({}, {2: 2}, {3: 3})), '_i136': 'list(chain.items())', '_136': [(3, 3), (2, 2), (1, 1)], '_i137': 'chain.pop(1)', '_137': 1, '_i138': 'a', '_138': {}, '_i139': 'a and b', '_139': {}, '_i140': 'a or b', '_140': {2: 2}, '_i141': 'a and b and c', '_141': {}, '_i142': 'locals()'}, {'__name__': 'builtins', '__doc__': \"Built-in functions, exceptions, and other objects.\\n\\nNoteworthy: None is the `nil' object; Ellipsis represents `...' in slices.\", '__package__': '', '__loader__': <class '_frozen_importlib.BuiltinImporter'>, '__spec__': ModuleSpec(name='builtins', loader=<class '_frozen_importlib.BuiltinImporter'>), '__build_class__': <built-in function __build_class__>, '__import__': <built-in function __import__>, 'abs': <built-in function abs>, 'all': <built-in function all>, 'any': <built-in function any>, 'ascii': <built-in function ascii>, 'bin': <built-in function bin>, 'breakpoint': <built-in function breakpoint>, 'callable': <built-in function callable>, 'chr': <built-in function chr>, 'compile': <built-in function compile>, 'delattr': <built-in function delattr>, 'dir': <built-in function dir>, 'divmod': <built-in function divmod>, 'eval': <built-in function eval>, 'exec': <built-in function exec>, 'format': <built-in function format>, 'getattr': <built-in function getattr>, 'globals': <built-in function globals>, 'hasattr': <built-in function hasattr>, 'hash': <built-in function hash>, 'hex': <built-in function hex>, 'id': <built-in function id>, 'input': <bound method Kernel.raw_input of <ipykernel.ipkernel.IPythonKernel object at 0x7fd6f62ba850>>, 'isinstance': <built-in function isinstance>, 'issubclass': <built-in function issubclass>, 'iter': <built-in function iter>, 'len': <built-in function len>, 'locals': <built-in function locals>, 'max': <built-in function max>, 'min': <built-in function min>, 'next': <built-in function next>, 'oct': <built-in function oct>, 'ord': <built-in function ord>, 'pow': <built-in function pow>, 'print': <built-in function print>, 'repr': <built-in function repr>, 'round': <built-in function round>, 'setattr': <built-in function setattr>, 'sorted': <built-in function sorted>, 'sum': <built-in function sum>, 'vars': <built-in function vars>, 'None': None, 'Ellipsis': Ellipsis, 'NotImplemented': NotImplemented, 'False': False, 'True': True, 'bool': <class 'bool'>, 'memoryview': <class 'memoryview'>, 'bytearray': <class 'bytearray'>, 'bytes': <class 'bytes'>, 'classmethod': <class 'classmethod'>, 'complex': <class 'complex'>, 'dict': <class 'dict'>, 'enumerate': <class 'enumerate'>, 'filter': <class 'filter'>, 'float': <class 'float'>, 'frozenset': <class 'frozenset'>, 'property': <class 'property'>, 'int': <class 'int'>, 'list': <class 'list'>, 'map': <class 'map'>, 'object': <class 'object'>, 'range': <class 'range'>, 'reversed': <class 'reversed'>, 'set': <class 'set'>, 'slice': <class 'slice'>, 'staticmethod': <class 'staticmethod'>, 'str': <class 'str'>, 'super': <class 'super'>, 'tuple': <class 'tuple'>, 'type': <class 'type'>, 'zip': <class 'zip'>, '__debug__': True, 'BaseException': <class 'BaseException'>, 'Exception': <class 'Exception'>, 'TypeError': <class 'TypeError'>, 'StopAsyncIteration': <class 'StopAsyncIteration'>, 'StopIteration': <class 'StopIteration'>, 'GeneratorExit': <class 'GeneratorExit'>, 'SystemExit': <class 'SystemExit'>, 'KeyboardInterrupt': <class 'KeyboardInterrupt'>, 'ImportError': <class 'ImportError'>, 'ModuleNotFoundError': <class 'ModuleNotFoundError'>, 'OSError': <class 'OSError'>, 'EnvironmentError': <class 'OSError'>, 'IOError': <class 'OSError'>, 'EOFError': <class 'EOFError'>, 'RuntimeError': <class 'RuntimeError'>, 'RecursionError': <class 'RecursionError'>, 'NotImplementedError': <class 'NotImplementedError'>, 'NameError': <class 'NameError'>, 'UnboundLocalError': <class 'UnboundLocalError'>, 'AttributeError': <class 'AttributeError'>, 'SyntaxError': <class 'SyntaxError'>, 'IndentationError': <class 'IndentationError'>, 'TabError': <class 'TabError'>, 'LookupError': <class 'LookupError'>, 'IndexError': <class 'IndexError'>, 'KeyError': <class 'KeyError'>, 'ValueError': <class 'ValueError'>, 'UnicodeError': <class 'UnicodeError'>, 'UnicodeEncodeError': <class 'UnicodeEncodeError'>, 'UnicodeDecodeError': <class 'UnicodeDecodeError'>, 'UnicodeTranslateError': <class 'UnicodeTranslateError'>, 'AssertionError': <class 'AssertionError'>, 'ArithmeticError': <class 'ArithmeticError'>, 'FloatingPointError': <class 'FloatingPointError'>, 'OverflowError': <class 'OverflowError'>, 'ZeroDivisionError': <class 'ZeroDivisionError'>, 'SystemError': <class 'SystemError'>, 'ReferenceError': <class 'ReferenceError'>, 'MemoryError': <class 'MemoryError'>, 'BufferError': <class 'BufferError'>, 'Warning': <class 'Warning'>, 'UserWarning': <class 'UserWarning'>, 'DeprecationWarning': <class 'DeprecationWarning'>, 'PendingDeprecationWarning': <class 'PendingDeprecationWarning'>, 'SyntaxWarning': <class 'SyntaxWarning'>, 'RuntimeWarning': <class 'RuntimeWarning'>, 'FutureWarning': <class 'FutureWarning'>, 'ImportWarning': <class 'ImportWarning'>, 'UnicodeWarning': <class 'UnicodeWarning'>, 'BytesWarning': <class 'BytesWarning'>, 'ResourceWarning': <class 'ResourceWarning'>, 'ConnectionError': <class 'ConnectionError'>, 'BlockingIOError': <class 'BlockingIOError'>, 'BrokenPipeError': <class 'BrokenPipeError'>, 'ChildProcessError': <class 'ChildProcessError'>, 'ConnectionAbortedError': <class 'ConnectionAbortedError'>, 'ConnectionRefusedError': <class 'ConnectionRefusedError'>, 'ConnectionResetError': <class 'ConnectionResetError'>, 'FileExistsError': <class 'FileExistsError'>, 'FileNotFoundError': <class 'FileNotFoundError'>, 'IsADirectoryError': <class 'IsADirectoryError'>, 'NotADirectoryError': <class 'NotADirectoryError'>, 'InterruptedError': <class 'InterruptedError'>, 'PermissionError': <class 'PermissionError'>, 'ProcessLookupError': <class 'ProcessLookupError'>, 'TimeoutError': <class 'TimeoutError'>, 'open': <built-in function open>, 'copyright': Copyright (c) 2001-2019 Python Software Foundation.\n",
       "  All Rights Reserved.\n",
       "  \n",
       "  Copyright (c) 2000 BeOpen.com.\n",
       "  All Rights Reserved.\n",
       "  \n",
       "  Copyright (c) 1995-2001 Corporation for National Research Initiatives.\n",
       "  All Rights Reserved.\n",
       "  \n",
       "  Copyright (c) 1991-1995 Stichting Mathematisch Centrum, Amsterdam.\n",
       "  All Rights Reserved., 'credits':     Thanks to CWI, CNRI, BeOpen.com, Zope Corporation and a cast of thousands\n",
       "      for supporting Python development.  See www.python.org for more information., 'license': Type license() to see the full license text, 'help': Type help() for interactive help, or help(object) for help about object., '__IPYTHON__': True, 'display': <function display at 0x7fd6fee21200>, 'get_ipython': <bound method InteractiveShell.get_ipython of <ipykernel.zmqshell.ZMQInteractiveShell object at 0x7fd6f629f210>>}),\n",
       "  133: ChainMap({}, {2: 2}, {3: 3}),\n",
       "  134: 1,\n",
       "  135: ItemsView(ChainMap({}, {2: 2}, {3: 3})),\n",
       "  136: [(3, 3), (2, 2), (1, 1)],\n",
       "  137: 1,\n",
       "  138: {},\n",
       "  139: {},\n",
       "  140: {2: 2},\n",
       "  141: {}},\n",
       " '_dh': ['/home/hby/projects/wps12th/python/fluentpython/notebook'],\n",
       " 'In': ['',\n",
       "  '__builtins__',\n",
       "  '__builtins__.__dict__',\n",
       "  'a = {1:1, 2:2}',\n",
       "  'a.pop()',\n",
       "  'a.popitem()',\n",
       "  'a',\n",
       "  'a.pop(1)',\n",
       "  'a',\n",
       "  'a.pop(1)',\n",
       "  'a.setdefault(1)',\n",
       "  'a',\n",
       "  'a.setdefault(2, 1)',\n",
       "  'a',\n",
       "  'a.setdefault(1, [])',\n",
       "  'a',\n",
       "  'a.setdefault(3, [])',\n",
       "  'a',\n",
       "  'a.setdefault(3, [], 2)',\n",
       "  'a.setdefault(3, [])',\n",
       "  'a',\n",
       "  'from collections import Mapping',\n",
       "  'from collections.abc import Mapping',\n",
       "  'help(Mapping)',\n",
       "  'a = Mapping()',\n",
       "  \"class TestMapping(Mapping):\\n    def __getitem__(self):\\n        return ''\\n    \\n    def __iter__(self):\\n        return ''\\n    \\n    def __len__(self):\\n        return 0\",\n",
       "  'a = TestMapping()',\n",
       "  'a',\n",
       "  'a[1] = 1',\n",
       "  'a.items()',\n",
       "  'list(a.items())',\n",
       "  'a = [1, 2]\\nb = [3,4]',\n",
       "  \"for ab in (f'{a} : {b}' for a, b in zip(a, b)):\\n    print(ab)\",\n",
       "  \"for c in (f'{x} : {y}' for x in a for y in b):\\n    print(c)\",\n",
       "  'a = {1:1, 2:2}',\n",
       "  'b = a',\n",
       "  'a[1] = 2',\n",
       "  'b',\n",
       "  'a',\n",
       "  'a = {1:1, 2:2}',\n",
       "  'b = a.copy()',\n",
       "  'b',\n",
       "  'b[1] = 2',\n",
       "  'b',\n",
       "  '1',\n",
       "  'a',\n",
       "  'from copy import copy',\n",
       "  'a = copy(b)',\n",
       "  'a',\n",
       "  'b',\n",
       "  'a[1] = 3',\n",
       "  'b',\n",
       "  'a',\n",
       "  'a = {1:[1, 2], 2: [1, 2]}',\n",
       "  'b = copy(a)',\n",
       "  'a',\n",
       "  'b',\n",
       "  'b[1].append(3)',\n",
       "  'a',\n",
       "  'b',\n",
       "  'from copy import deepcopy',\n",
       "  'b = deepcopy(a)',\n",
       "  'b',\n",
       "  'a',\n",
       "  'a[1].append(4)',\n",
       "  'a',\n",
       "  'b',\n",
       "  'a in b',\n",
       "  '1 in b',\n",
       "  'del a[1]',\n",
       "  'a',\n",
       "  'b',\n",
       "  \"a = {'a':[11, 22], 'A': [33, 44], 'C': [55, 66]}\",\n",
       "  'b = sorted(a, key=str.upper)',\n",
       "  'b',\n",
       "  \"class ComportDict(Dict):\\n    def __missing__(self):\\n        return 'a'\",\n",
       "  \"class ComportDict(dict):\\n    def __missing__(self):\\n        return 'a'\",\n",
       "  'aa = ComportDict()',\n",
       "  'a[1] = 2',\n",
       "  'a',\n",
       "  'aa[1] = 2',\n",
       "  'aa',\n",
       "  'aa[2]',\n",
       "  'class DefaultListDict(dict):\\n    def __missing__(self, key):\\n        self[key] = []\\n        return self[key]',\n",
       "  'aa = ComportDict()',\n",
       "  'aa[1] = 2',\n",
       "  'aa',\n",
       "  'aa[2]',\n",
       "  'from collections import defaultdict',\n",
       "  'a = defaultdict(a)',\n",
       "  'a = defaultdict(list)',\n",
       "  'a.defaylt)factiry',\n",
       "  'a.default_factory',\n",
       "  'help(a)',\n",
       "  'a = defaultdict(list)',\n",
       "  'a = defaultdict(list)\\na[1] = [1, 2]\\na[2] = [3, 4]',\n",
       "  'a = defaultdict(list)\\na[1] = [1, 2]\\na[2] = [3, 4]\\na[1]',\n",
       "  'a[1]',\n",
       "  'a[3]',\n",
       "  'a',\n",
       "  'a.default_factory',\n",
       "  'class StrKeyDict0(dict):\\n    def __missing__(self, key):\\n        if isinstance(key, str):\\n            raise KeyError(Key)\\n        return self[str[key]]\\n    \\n    ',\n",
       "  \"a = StrKeyDict0([('2', 'two'), ('4', 'four')])\",\n",
       "  'a',\n",
       "  'a[2]',\n",
       "  'class StrKeyDict0(dict):\\n    def __missing__(self, key):\\n        if isinstance(key, str):\\n            raise KeyError(Key)\\n        return self[str(key)]\\n    \\n    ',\n",
       "  \"a = StrKeyDict0([('2', 'two'), ('4', 'four')])\",\n",
       "  'a',\n",
       "  'a[2]',\n",
       "  \"a['2]']\",\n",
       "  \"a['2']\",\n",
       "  'a[1]',\n",
       "  'class StrKeyDict0(dict):\\n    def __missing__(self, key):\\n        if isinstance(key, str):\\n            raise KeyError(key)\\n        return self[str(key)]\\n    \\n    ',\n",
       "  \"a = StrKeyDict0([('2', 'two'), ('4', 'four')])\",\n",
       "  'a',\n",
       "  'a[2]',\n",
       "  \"a['2']\",\n",
       "  'a[1]',\n",
       "  'a.get(2)',\n",
       "  \"a.get('2')\",\n",
       "  'class StrKeyDict0(dict):\\n    def __missing__(self, key):\\n        if isinstance(key, str):\\n            raise KeyError(key)\\n        return self[str(key)]\\n    \\n    def get(self, key, default=None):\\n        try:\\n            return self[key]\\n        except KeyError:\\n            return default\\n        \\n    \\n    ',\n",
       "  \"a = StrKeyDict0([('2', 'two'), ('4', 'four')])\",\n",
       "  'a',\n",
       "  'a[2]',\n",
       "  \"a['2']\",\n",
       "  'a[1]',\n",
       "  \"a.get('2')\",\n",
       "  'a.get(2)',\n",
       "  'class StrKeyDict0(dict):\\n    def __missing__(self, key):\\n        if isinstance(key, str):\\n            raise KeyError(key)\\n        return self[str(key)]\\n    \\n    def get(self, key, default=None):\\n        try:\\n            return self[key]\\n        except KeyError:\\n            return default\\n        \\n    def __contains__(self, key):\\n        return key in self.keys() or str(key) in self.keys()\\n        \\n    \\n    ',\n",
       "  'import builtins\\nfrom collections import ChainMap\\n\\npylookup = ChainMap(locals(), globals(), vars(builtins))',\n",
       "  'pylookup',\n",
       "  'a = {1:1}\\nb = {2:2}\\nc = {3:3}',\n",
       "  'chain = ChainMap(a, b, c)',\n",
       "  'chain',\n",
       "  'chain[1]',\n",
       "  'chain.items()',\n",
       "  'list(chain.items())',\n",
       "  'chain.pop(1)',\n",
       "  'a',\n",
       "  'a and b',\n",
       "  'a or b',\n",
       "  'a and b and c',\n",
       "  'locals()'],\n",
       " 'Out': {1: <module 'builtins' (built-in)>,\n",
       "  2: {'__name__': 'builtins',\n",
       "   '__doc__': \"Built-in functions, exceptions, and other objects.\\n\\nNoteworthy: None is the `nil' object; Ellipsis represents `...' in slices.\",\n",
       "   '__package__': '',\n",
       "   '__loader__': _frozen_importlib.BuiltinImporter,\n",
       "   '__spec__': ModuleSpec(name='builtins', loader=<class '_frozen_importlib.BuiltinImporter'>),\n",
       "   '__build_class__': <function __build_class__>,\n",
       "   '__import__': <function __import__>,\n",
       "   'abs': <function abs(x, /)>,\n",
       "   'all': <function all(iterable, /)>,\n",
       "   'any': <function any(iterable, /)>,\n",
       "   'ascii': <function ascii(obj, /)>,\n",
       "   'bin': <function bin(number, /)>,\n",
       "   'breakpoint': <function breakpoint>,\n",
       "   'callable': <function callable(obj, /)>,\n",
       "   'chr': <function chr(i, /)>,\n",
       "   'compile': <function compile(source, filename, mode, flags=0, dont_inherit=False, optimize=-1)>,\n",
       "   'delattr': <function delattr(obj, name, /)>,\n",
       "   'dir': <function dir>,\n",
       "   'divmod': <function divmod(x, y, /)>,\n",
       "   'eval': <function eval(source, globals=None, locals=None, /)>,\n",
       "   'exec': <function exec(source, globals=None, locals=None, /)>,\n",
       "   'format': <function format(value, format_spec='', /)>,\n",
       "   'getattr': <function getattr>,\n",
       "   'globals': <function globals()>,\n",
       "   'hasattr': <function hasattr(obj, name, /)>,\n",
       "   'hash': <function hash(obj, /)>,\n",
       "   'hex': <function hex(number, /)>,\n",
       "   'id': <function id(obj, /)>,\n",
       "   'input': <bound method Kernel.raw_input of <ipykernel.ipkernel.IPythonKernel object at 0x7fd6f62ba850>>,\n",
       "   'isinstance': <function isinstance(obj, class_or_tuple, /)>,\n",
       "   'issubclass': <function issubclass(cls, class_or_tuple, /)>,\n",
       "   'iter': <function iter>,\n",
       "   'len': <function len(obj, /)>,\n",
       "   'locals': <function locals()>,\n",
       "   'max': <function max>,\n",
       "   'min': <function min>,\n",
       "   'next': <function next>,\n",
       "   'oct': <function oct(number, /)>,\n",
       "   'ord': <function ord(c, /)>,\n",
       "   'pow': <function pow(x, y, z=None, /)>,\n",
       "   'print': <function print>,\n",
       "   'repr': <function repr(obj, /)>,\n",
       "   'round': <function round(number, ndigits=None)>,\n",
       "   'setattr': <function setattr(obj, name, value, /)>,\n",
       "   'sorted': <function sorted(iterable, /, *, key=None, reverse=False)>,\n",
       "   'sum': <function sum(iterable, start=0, /)>,\n",
       "   'vars': <function vars>,\n",
       "   'None': None,\n",
       "   'Ellipsis': Ellipsis,\n",
       "   'NotImplemented': NotImplemented,\n",
       "   'False': False,\n",
       "   'True': True,\n",
       "   'bool': bool,\n",
       "   'memoryview': memoryview,\n",
       "   'bytearray': bytearray,\n",
       "   'bytes': bytes,\n",
       "   'classmethod': classmethod,\n",
       "   'complex': complex,\n",
       "   'dict': dict,\n",
       "   'enumerate': enumerate,\n",
       "   'filter': filter,\n",
       "   'float': float,\n",
       "   'frozenset': frozenset,\n",
       "   'property': property,\n",
       "   'int': int,\n",
       "   'list': list,\n",
       "   'map': map,\n",
       "   'object': object,\n",
       "   'range': range,\n",
       "   'reversed': reversed,\n",
       "   'set': set,\n",
       "   'slice': slice,\n",
       "   'staticmethod': staticmethod,\n",
       "   'str': str,\n",
       "   'super': super,\n",
       "   'tuple': tuple,\n",
       "   'type': type,\n",
       "   'zip': zip,\n",
       "   '__debug__': True,\n",
       "   'BaseException': BaseException,\n",
       "   'Exception': Exception,\n",
       "   'TypeError': TypeError,\n",
       "   'StopAsyncIteration': StopAsyncIteration,\n",
       "   'StopIteration': StopIteration,\n",
       "   'GeneratorExit': GeneratorExit,\n",
       "   'SystemExit': SystemExit,\n",
       "   'KeyboardInterrupt': KeyboardInterrupt,\n",
       "   'ImportError': ImportError,\n",
       "   'ModuleNotFoundError': ModuleNotFoundError,\n",
       "   'OSError': OSError,\n",
       "   'EnvironmentError': OSError,\n",
       "   'IOError': OSError,\n",
       "   'EOFError': EOFError,\n",
       "   'RuntimeError': RuntimeError,\n",
       "   'RecursionError': RecursionError,\n",
       "   'NotImplementedError': NotImplementedError,\n",
       "   'NameError': NameError,\n",
       "   'UnboundLocalError': UnboundLocalError,\n",
       "   'AttributeError': AttributeError,\n",
       "   'SyntaxError': SyntaxError,\n",
       "   'IndentationError': IndentationError,\n",
       "   'TabError': TabError,\n",
       "   'LookupError': LookupError,\n",
       "   'IndexError': IndexError,\n",
       "   'KeyError': KeyError,\n",
       "   'ValueError': ValueError,\n",
       "   'UnicodeError': UnicodeError,\n",
       "   'UnicodeEncodeError': UnicodeEncodeError,\n",
       "   'UnicodeDecodeError': UnicodeDecodeError,\n",
       "   'UnicodeTranslateError': UnicodeTranslateError,\n",
       "   'AssertionError': AssertionError,\n",
       "   'ArithmeticError': ArithmeticError,\n",
       "   'FloatingPointError': FloatingPointError,\n",
       "   'OverflowError': OverflowError,\n",
       "   'ZeroDivisionError': ZeroDivisionError,\n",
       "   'SystemError': SystemError,\n",
       "   'ReferenceError': ReferenceError,\n",
       "   'MemoryError': MemoryError,\n",
       "   'BufferError': BufferError,\n",
       "   'Warning': Warning,\n",
       "   'UserWarning': UserWarning,\n",
       "   'DeprecationWarning': DeprecationWarning,\n",
       "   'PendingDeprecationWarning': PendingDeprecationWarning,\n",
       "   'SyntaxWarning': SyntaxWarning,\n",
       "   'RuntimeWarning': RuntimeWarning,\n",
       "   'FutureWarning': FutureWarning,\n",
       "   'ImportWarning': ImportWarning,\n",
       "   'UnicodeWarning': UnicodeWarning,\n",
       "   'BytesWarning': BytesWarning,\n",
       "   'ResourceWarning': ResourceWarning,\n",
       "   'ConnectionError': ConnectionError,\n",
       "   'BlockingIOError': BlockingIOError,\n",
       "   'BrokenPipeError': BrokenPipeError,\n",
       "   'ChildProcessError': ChildProcessError,\n",
       "   'ConnectionAbortedError': ConnectionAbortedError,\n",
       "   'ConnectionRefusedError': ConnectionRefusedError,\n",
       "   'ConnectionResetError': ConnectionResetError,\n",
       "   'FileExistsError': FileExistsError,\n",
       "   'FileNotFoundError': FileNotFoundError,\n",
       "   'IsADirectoryError': IsADirectoryError,\n",
       "   'NotADirectoryError': NotADirectoryError,\n",
       "   'InterruptedError': InterruptedError,\n",
       "   'PermissionError': PermissionError,\n",
       "   'ProcessLookupError': ProcessLookupError,\n",
       "   'TimeoutError': TimeoutError,\n",
       "   'open': <function io.open(file, mode='r', buffering=-1, encoding=None, errors=None, newline=None, closefd=True, opener=None)>,\n",
       "   'copyright': Copyright (c) 2001-2019 Python Software Foundation.\n",
       "   All Rights Reserved.\n",
       "   \n",
       "   Copyright (c) 2000 BeOpen.com.\n",
       "   All Rights Reserved.\n",
       "   \n",
       "   Copyright (c) 1995-2001 Corporation for National Research Initiatives.\n",
       "   All Rights Reserved.\n",
       "   \n",
       "   Copyright (c) 1991-1995 Stichting Mathematisch Centrum, Amsterdam.\n",
       "   All Rights Reserved.,\n",
       "   'credits':     Thanks to CWI, CNRI, BeOpen.com, Zope Corporation and a cast of thousands\n",
       "       for supporting Python development.  See www.python.org for more information.,\n",
       "   'license': Type license() to see the full license text,\n",
       "   'help': Type help() for interactive help, or help(object) for help about object.,\n",
       "   '__IPYTHON__': True,\n",
       "   'display': <function IPython.core.display.display(*objs, include=None, exclude=None, metadata=None, transient=None, display_id=None, **kwargs)>,\n",
       "   'get_ipython': <bound method InteractiveShell.get_ipython of <ipykernel.zmqshell.ZMQInteractiveShell object at 0x7fd6f629f210>>},\n",
       "  5: (2, 2),\n",
       "  6: {1: None, 2: 1, 3: []},\n",
       "  7: 1,\n",
       "  8: {1: None, 2: 1, 3: []},\n",
       "  11: {1: None, 2: 1, 3: []},\n",
       "  12: 1,\n",
       "  13: {1: None, 2: 1, 3: []},\n",
       "  15: {1: None, 2: 1, 3: []},\n",
       "  16: [],\n",
       "  17: {1: None, 2: 1, 3: []},\n",
       "  19: [],\n",
       "  20: {1: None, 2: 1, 3: []},\n",
       "  27: <__main__.TestMapping at 0x7fd6f41384d0>,\n",
       "  29: ItemsView(<__main__.TestMapping object at 0x7fd6f41384d0>),\n",
       "  37: {1: 2, 2: 2},\n",
       "  38: {1: 2, 2: 2},\n",
       "  41: {1: 2, 2: 2},\n",
       "  43: {1: 2, 2: 2},\n",
       "  44: 1,\n",
       "  45: {1: 1, 2: 2},\n",
       "  48: {1: 3, 2: 2},\n",
       "  49: {1: 2, 2: 2},\n",
       "  51: {1: 2, 2: 2},\n",
       "  52: {1: 3, 2: 2},\n",
       "  55: {2: [1, 2]},\n",
       "  56: {1: [1, 2, 3, 4], 2: [1, 2]},\n",
       "  58: {2: [1, 2]},\n",
       "  59: {1: [1, 2, 3, 4], 2: [1, 2]},\n",
       "  62: {1: [1, 2, 3], 2: [1, 2]},\n",
       "  63: {2: [1, 2]},\n",
       "  65: {2: [1, 2]},\n",
       "  66: {1: [1, 2, 3], 2: [1, 2]},\n",
       "  68: True,\n",
       "  70: {2: [1, 2]},\n",
       "  71: {1: [1, 2, 3], 2: [1, 2]},\n",
       "  74: ['a', 'A', 'C'],\n",
       "  79: {'a': [11, 22], 'A': [33, 44], 'C': [55, 66], 1: 2},\n",
       "  81: {1: 2},\n",
       "  86: {1: 2},\n",
       "  92: list,\n",
       "  96: [1, 2],\n",
       "  97: [1, 2],\n",
       "  98: [],\n",
       "  99: defaultdict(list, {1: [1, 2], 2: [3, 4], 3: []}),\n",
       "  100: list,\n",
       "  103: {'2': 'two', '4': 'four'},\n",
       "  107: {'2': 'two', '4': 'four'},\n",
       "  108: 'two',\n",
       "  110: 'two',\n",
       "  114: {'2': 'two', '4': 'four'},\n",
       "  115: 'two',\n",
       "  116: 'two',\n",
       "  119: 'two',\n",
       "  122: {'2': 'two', '4': 'four'},\n",
       "  123: 'two',\n",
       "  124: 'two',\n",
       "  126: 'two',\n",
       "  127: 'two',\n",
       "  130: ChainMap({'__name__': '__main__', '__doc__': 'Automatically created module for IPython interactive environment', '__package__': None, '__loader__': None, '__spec__': None, '__builtin__': <module 'builtins' (built-in)>, '__builtins__': <module 'builtins' (built-in)>, '_ih': ['', '__builtins__', '__builtins__.__dict__', 'a = {1:1, 2:2}', 'a.pop()', 'a.popitem()', 'a', 'a.pop(1)', 'a', 'a.pop(1)', 'a.setdefault(1)', 'a', 'a.setdefault(2, 1)', 'a', 'a.setdefault(1, [])', 'a', 'a.setdefault(3, [])', 'a', 'a.setdefault(3, [], 2)', 'a.setdefault(3, [])', 'a', 'from collections import Mapping', 'from collections.abc import Mapping', 'help(Mapping)', 'a = Mapping()', \"class TestMapping(Mapping):\\n    def __getitem__(self):\\n        return ''\\n    \\n    def __iter__(self):\\n        return ''\\n    \\n    def __len__(self):\\n        return 0\", 'a = TestMapping()', 'a', 'a[1] = 1', 'a.items()', 'list(a.items())', 'a = [1, 2]\\nb = [3,4]', \"for ab in (f'{a} : {b}' for a, b in zip(a, b)):\\n    print(ab)\", \"for c in (f'{x} : {y}' for x in a for y in b):\\n    print(c)\", 'a = {1:1, 2:2}', 'b = a', 'a[1] = 2', 'b', 'a', 'a = {1:1, 2:2}', 'b = a.copy()', 'b', 'b[1] = 2', 'b', '1', 'a', 'from copy import copy', 'a = copy(b)', 'a', 'b', 'a[1] = 3', 'b', 'a', 'a = {1:[1, 2], 2: [1, 2]}', 'b = copy(a)', 'a', 'b', 'b[1].append(3)', 'a', 'b', 'from copy import deepcopy', 'b = deepcopy(a)', 'b', 'a', 'a[1].append(4)', 'a', 'b', 'a in b', '1 in b', 'del a[1]', 'a', 'b', \"a = {'a':[11, 22], 'A': [33, 44], 'C': [55, 66]}\", 'b = sorted(a, key=str.upper)', 'b', \"class ComportDict(Dict):\\n    def __missing__(self):\\n        return 'a'\", \"class ComportDict(dict):\\n    def __missing__(self):\\n        return 'a'\", 'aa = ComportDict()', 'a[1] = 2', 'a', 'aa[1] = 2', 'aa', 'aa[2]', 'class DefaultListDict(dict):\\n    def __missing__(self, key):\\n        self[key] = []\\n        return self[key]', 'aa = ComportDict()', 'aa[1] = 2', 'aa', 'aa[2]', 'from collections import defaultdict', 'a = defaultdict(a)', 'a = defaultdict(list)', 'a.defaylt)factiry', 'a.default_factory', 'help(a)', 'a = defaultdict(list)', 'a = defaultdict(list)\\na[1] = [1, 2]\\na[2] = [3, 4]', 'a = defaultdict(list)\\na[1] = [1, 2]\\na[2] = [3, 4]\\na[1]', 'a[1]', 'a[3]', 'a', 'a.default_factory', 'class StrKeyDict0(dict):\\n    def __missing__(self, key):\\n        if isinstance(key, str):\\n            raise KeyError(Key)\\n        return self[str[key]]\\n    \\n    ', \"a = StrKeyDict0([('2', 'two'), ('4', 'four')])\", 'a', 'a[2]', 'class StrKeyDict0(dict):\\n    def __missing__(self, key):\\n        if isinstance(key, str):\\n            raise KeyError(Key)\\n        return self[str(key)]\\n    \\n    ', \"a = StrKeyDict0([('2', 'two'), ('4', 'four')])\", 'a', 'a[2]', \"a['2]']\", \"a['2']\", 'a[1]', 'class StrKeyDict0(dict):\\n    def __missing__(self, key):\\n        if isinstance(key, str):\\n            raise KeyError(key)\\n        return self[str(key)]\\n    \\n    ', \"a = StrKeyDict0([('2', 'two'), ('4', 'four')])\", 'a', 'a[2]', \"a['2']\", 'a[1]', 'a.get(2)', \"a.get('2')\", 'class StrKeyDict0(dict):\\n    def __missing__(self, key):\\n        if isinstance(key, str):\\n            raise KeyError(key)\\n        return self[str(key)]\\n    \\n    def get(self, key, default=None):\\n        try:\\n            return self[key]\\n        except KeyError:\\n            return default\\n        \\n    \\n    ', \"a = StrKeyDict0([('2', 'two'), ('4', 'four')])\", 'a', 'a[2]', \"a['2']\", 'a[1]', \"a.get('2')\", 'a.get(2)', 'class StrKeyDict0(dict):\\n    def __missing__(self, key):\\n        if isinstance(key, str):\\n            raise KeyError(key)\\n        return self[str(key)]\\n    \\n    def get(self, key, default=None):\\n        try:\\n            return self[key]\\n        except KeyError:\\n            return default\\n        \\n    def __contains__(self, key):\\n        return key in self.keys() or str(key) in self.keys()\\n        \\n    \\n    ', 'import builtins\\nfrom collections import ChainMap\\n\\npylookup = ChainMap(locals(), globals(), vars(builtins))', 'pylookup', 'a = {1:1}\\nb = {2:2}\\nc = {3:3}', 'chain = ChainMap(a, b, c)', 'chain', 'chain[1]', 'chain.items()', 'list(chain.items())', 'chain.pop(1)', 'a', 'a and b', 'a or b', 'a and b and c', 'locals()'], '_oh': {1: <module 'builtins' (built-in)>, 2: {'__name__': 'builtins', '__doc__': \"Built-in functions, exceptions, and other objects.\\n\\nNoteworthy: None is the `nil' object; Ellipsis represents `...' in slices.\", '__package__': '', '__loader__': <class '_frozen_importlib.BuiltinImporter'>, '__spec__': ModuleSpec(name='builtins', loader=<class '_frozen_importlib.BuiltinImporter'>), '__build_class__': <built-in function __build_class__>, '__import__': <built-in function __import__>, 'abs': <built-in function abs>, 'all': <built-in function all>, 'any': <built-in function any>, 'ascii': <built-in function ascii>, 'bin': <built-in function bin>, 'breakpoint': <built-in function breakpoint>, 'callable': <built-in function callable>, 'chr': <built-in function chr>, 'compile': <built-in function compile>, 'delattr': <built-in function delattr>, 'dir': <built-in function dir>, 'divmod': <built-in function divmod>, 'eval': <built-in function eval>, 'exec': <built-in function exec>, 'format': <built-in function format>, 'getattr': <built-in function getattr>, 'globals': <built-in function globals>, 'hasattr': <built-in function hasattr>, 'hash': <built-in function hash>, 'hex': <built-in function hex>, 'id': <built-in function id>, 'input': <bound method Kernel.raw_input of <ipykernel.ipkernel.IPythonKernel object at 0x7fd6f62ba850>>, 'isinstance': <built-in function isinstance>, 'issubclass': <built-in function issubclass>, 'iter': <built-in function iter>, 'len': <built-in function len>, 'locals': <built-in function locals>, 'max': <built-in function max>, 'min': <built-in function min>, 'next': <built-in function next>, 'oct': <built-in function oct>, 'ord': <built-in function ord>, 'pow': <built-in function pow>, 'print': <built-in function print>, 'repr': <built-in function repr>, 'round': <built-in function round>, 'setattr': <built-in function setattr>, 'sorted': <built-in function sorted>, 'sum': <built-in function sum>, 'vars': <built-in function vars>, 'None': None, 'Ellipsis': Ellipsis, 'NotImplemented': NotImplemented, 'False': False, 'True': True, 'bool': <class 'bool'>, 'memoryview': <class 'memoryview'>, 'bytearray': <class 'bytearray'>, 'bytes': <class 'bytes'>, 'classmethod': <class 'classmethod'>, 'complex': <class 'complex'>, 'dict': <class 'dict'>, 'enumerate': <class 'enumerate'>, 'filter': <class 'filter'>, 'float': <class 'float'>, 'frozenset': <class 'frozenset'>, 'property': <class 'property'>, 'int': <class 'int'>, 'list': <class 'list'>, 'map': <class 'map'>, 'object': <class 'object'>, 'range': <class 'range'>, 'reversed': <class 'reversed'>, 'set': <class 'set'>, 'slice': <class 'slice'>, 'staticmethod': <class 'staticmethod'>, 'str': <class 'str'>, 'super': <class 'super'>, 'tuple': <class 'tuple'>, 'type': <class 'type'>, 'zip': <class 'zip'>, '__debug__': True, 'BaseException': <class 'BaseException'>, 'Exception': <class 'Exception'>, 'TypeError': <class 'TypeError'>, 'StopAsyncIteration': <class 'StopAsyncIteration'>, 'StopIteration': <class 'StopIteration'>, 'GeneratorExit': <class 'GeneratorExit'>, 'SystemExit': <class 'SystemExit'>, 'KeyboardInterrupt': <class 'KeyboardInterrupt'>, 'ImportError': <class 'ImportError'>, 'ModuleNotFoundError': <class 'ModuleNotFoundError'>, 'OSError': <class 'OSError'>, 'EnvironmentError': <class 'OSError'>, 'IOError': <class 'OSError'>, 'EOFError': <class 'EOFError'>, 'RuntimeError': <class 'RuntimeError'>, 'RecursionError': <class 'RecursionError'>, 'NotImplementedError': <class 'NotImplementedError'>, 'NameError': <class 'NameError'>, 'UnboundLocalError': <class 'UnboundLocalError'>, 'AttributeError': <class 'AttributeError'>, 'SyntaxError': <class 'SyntaxError'>, 'IndentationError': <class 'IndentationError'>, 'TabError': <class 'TabError'>, 'LookupError': <class 'LookupError'>, 'IndexError': <class 'IndexError'>, 'KeyError': <class 'KeyError'>, 'ValueError': <class 'ValueError'>, 'UnicodeError': <class 'UnicodeError'>, 'UnicodeEncodeError': <class 'UnicodeEncodeError'>, 'UnicodeDecodeError': <class 'UnicodeDecodeError'>, 'UnicodeTranslateError': <class 'UnicodeTranslateError'>, 'AssertionError': <class 'AssertionError'>, 'ArithmeticError': <class 'ArithmeticError'>, 'FloatingPointError': <class 'FloatingPointError'>, 'OverflowError': <class 'OverflowError'>, 'ZeroDivisionError': <class 'ZeroDivisionError'>, 'SystemError': <class 'SystemError'>, 'ReferenceError': <class 'ReferenceError'>, 'MemoryError': <class 'MemoryError'>, 'BufferError': <class 'BufferError'>, 'Warning': <class 'Warning'>, 'UserWarning': <class 'UserWarning'>, 'DeprecationWarning': <class 'DeprecationWarning'>, 'PendingDeprecationWarning': <class 'PendingDeprecationWarning'>, 'SyntaxWarning': <class 'SyntaxWarning'>, 'RuntimeWarning': <class 'RuntimeWarning'>, 'FutureWarning': <class 'FutureWarning'>, 'ImportWarning': <class 'ImportWarning'>, 'UnicodeWarning': <class 'UnicodeWarning'>, 'BytesWarning': <class 'BytesWarning'>, 'ResourceWarning': <class 'ResourceWarning'>, 'ConnectionError': <class 'ConnectionError'>, 'BlockingIOError': <class 'BlockingIOError'>, 'BrokenPipeError': <class 'BrokenPipeError'>, 'ChildProcessError': <class 'ChildProcessError'>, 'ConnectionAbortedError': <class 'ConnectionAbortedError'>, 'ConnectionRefusedError': <class 'ConnectionRefusedError'>, 'ConnectionResetError': <class 'ConnectionResetError'>, 'FileExistsError': <class 'FileExistsError'>, 'FileNotFoundError': <class 'FileNotFoundError'>, 'IsADirectoryError': <class 'IsADirectoryError'>, 'NotADirectoryError': <class 'NotADirectoryError'>, 'InterruptedError': <class 'InterruptedError'>, 'PermissionError': <class 'PermissionError'>, 'ProcessLookupError': <class 'ProcessLookupError'>, 'TimeoutError': <class 'TimeoutError'>, 'open': <built-in function open>, 'copyright': Copyright (c) 2001-2019 Python Software Foundation.\n",
       "  All Rights Reserved.\n",
       "  \n",
       "  Copyright (c) 2000 BeOpen.com.\n",
       "  All Rights Reserved.\n",
       "  \n",
       "  Copyright (c) 1995-2001 Corporation for National Research Initiatives.\n",
       "  All Rights Reserved.\n",
       "  \n",
       "  Copyright (c) 1991-1995 Stichting Mathematisch Centrum, Amsterdam.\n",
       "  All Rights Reserved., 'credits':     Thanks to CWI, CNRI, BeOpen.com, Zope Corporation and a cast of thousands\n",
       "      for supporting Python development.  See www.python.org for more information., 'license': Type license() to see the full license text, 'help': Type help() for interactive help, or help(object) for help about object., '__IPYTHON__': True, 'display': <function display at 0x7fd6fee21200>, 'get_ipython': <bound method InteractiveShell.get_ipython of <ipykernel.zmqshell.ZMQInteractiveShell object at 0x7fd6f629f210>>}, 5: (2, 2), 6: {1: None, 2: 1, 3: []}, 7: 1, 8: {1: None, 2: 1, 3: []}, 11: {1: None, 2: 1, 3: []}, 12: 1, 13: {1: None, 2: 1, 3: []}, 15: {1: None, 2: 1, 3: []}, 16: [], 17: {1: None, 2: 1, 3: []}, 19: [], 20: {1: None, 2: 1, 3: []}, 27: <__main__.TestMapping object at 0x7fd6f41384d0>, 29: ItemsView(<__main__.TestMapping object at 0x7fd6f41384d0>), 37: {1: 2, 2: 2}, 38: {1: 2, 2: 2}, 41: {1: 2, 2: 2}, 43: {1: 2, 2: 2}, 44: 1, 45: {1: 1, 2: 2}, 48: {1: 3, 2: 2}, 49: {1: 2, 2: 2}, 51: {1: 2, 2: 2}, 52: {1: 3, 2: 2}, 55: {2: [1, 2]}, 56: {1: [1, 2, 3, 4], 2: [1, 2]}, 58: {2: [1, 2]}, 59: {1: [1, 2, 3, 4], 2: [1, 2]}, 62: {1: [1, 2, 3], 2: [1, 2]}, 63: {2: [1, 2]}, 65: {2: [1, 2]}, 66: {1: [1, 2, 3], 2: [1, 2]}, 68: True, 70: {2: [1, 2]}, 71: {1: [1, 2, 3], 2: [1, 2]}, 74: ['a', 'A', 'C'], 79: {'a': [11, 22], 'A': [33, 44], 'C': [55, 66], 1: 2}, 81: {1: 2}, 86: {1: 2}, 92: <class 'list'>, 96: [1, 2], 97: [1, 2], 98: [], 99: defaultdict(<class 'list'>, {1: [1, 2], 2: [3, 4], 3: []}), 100: <class 'list'>, 103: {'2': 'two', '4': 'four'}, 107: {'2': 'two', '4': 'four'}, 108: 'two', 110: 'two', 114: {'2': 'two', '4': 'four'}, 115: 'two', 116: 'two', 119: 'two', 122: {'2': 'two', '4': 'four'}, 123: 'two', 124: 'two', 126: 'two', 127: 'two', 130: ..., 133: ChainMap({}, {2: 2}, {3: 3}), 134: 1, 135: ItemsView(ChainMap({}, {2: 2}, {3: 3})), 136: [(3, 3), (2, 2), (1, 1)], 137: 1, 138: {}, 139: {}, 140: {2: 2}, 141: {}}, '_dh': ['/home/hby/projects/wps12th/python/fluentpython/notebook'], 'In': ['', '__builtins__', '__builtins__.__dict__', 'a = {1:1, 2:2}', 'a.pop()', 'a.popitem()', 'a', 'a.pop(1)', 'a', 'a.pop(1)', 'a.setdefault(1)', 'a', 'a.setdefault(2, 1)', 'a', 'a.setdefault(1, [])', 'a', 'a.setdefault(3, [])', 'a', 'a.setdefault(3, [], 2)', 'a.setdefault(3, [])', 'a', 'from collections import Mapping', 'from collections.abc import Mapping', 'help(Mapping)', 'a = Mapping()', \"class TestMapping(Mapping):\\n    def __getitem__(self):\\n        return ''\\n    \\n    def __iter__(self):\\n        return ''\\n    \\n    def __len__(self):\\n        return 0\", 'a = TestMapping()', 'a', 'a[1] = 1', 'a.items()', 'list(a.items())', 'a = [1, 2]\\nb = [3,4]', \"for ab in (f'{a} : {b}' for a, b in zip(a, b)):\\n    print(ab)\", \"for c in (f'{x} : {y}' for x in a for y in b):\\n    print(c)\", 'a = {1:1, 2:2}', 'b = a', 'a[1] = 2', 'b', 'a', 'a = {1:1, 2:2}', 'b = a.copy()', 'b', 'b[1] = 2', 'b', '1', 'a', 'from copy import copy', 'a = copy(b)', 'a', 'b', 'a[1] = 3', 'b', 'a', 'a = {1:[1, 2], 2: [1, 2]}', 'b = copy(a)', 'a', 'b', 'b[1].append(3)', 'a', 'b', 'from copy import deepcopy', 'b = deepcopy(a)', 'b', 'a', 'a[1].append(4)', 'a', 'b', 'a in b', '1 in b', 'del a[1]', 'a', 'b', \"a = {'a':[11, 22], 'A': [33, 44], 'C': [55, 66]}\", 'b = sorted(a, key=str.upper)', 'b', \"class ComportDict(Dict):\\n    def __missing__(self):\\n        return 'a'\", \"class ComportDict(dict):\\n    def __missing__(self):\\n        return 'a'\", 'aa = ComportDict()', 'a[1] = 2', 'a', 'aa[1] = 2', 'aa', 'aa[2]', 'class DefaultListDict(dict):\\n    def __missing__(self, key):\\n        self[key] = []\\n        return self[key]', 'aa = ComportDict()', 'aa[1] = 2', 'aa', 'aa[2]', 'from collections import defaultdict', 'a = defaultdict(a)', 'a = defaultdict(list)', 'a.defaylt)factiry', 'a.default_factory', 'help(a)', 'a = defaultdict(list)', 'a = defaultdict(list)\\na[1] = [1, 2]\\na[2] = [3, 4]', 'a = defaultdict(list)\\na[1] = [1, 2]\\na[2] = [3, 4]\\na[1]', 'a[1]', 'a[3]', 'a', 'a.default_factory', 'class StrKeyDict0(dict):\\n    def __missing__(self, key):\\n        if isinstance(key, str):\\n            raise KeyError(Key)\\n        return self[str[key]]\\n    \\n    ', \"a = StrKeyDict0([('2', 'two'), ('4', 'four')])\", 'a', 'a[2]', 'class StrKeyDict0(dict):\\n    def __missing__(self, key):\\n        if isinstance(key, str):\\n            raise KeyError(Key)\\n        return self[str(key)]\\n    \\n    ', \"a = StrKeyDict0([('2', 'two'), ('4', 'four')])\", 'a', 'a[2]', \"a['2]']\", \"a['2']\", 'a[1]', 'class StrKeyDict0(dict):\\n    def __missing__(self, key):\\n        if isinstance(key, str):\\n            raise KeyError(key)\\n        return self[str(key)]\\n    \\n    ', \"a = StrKeyDict0([('2', 'two'), ('4', 'four')])\", 'a', 'a[2]', \"a['2']\", 'a[1]', 'a.get(2)', \"a.get('2')\", 'class StrKeyDict0(dict):\\n    def __missing__(self, key):\\n        if isinstance(key, str):\\n            raise KeyError(key)\\n        return self[str(key)]\\n    \\n    def get(self, key, default=None):\\n        try:\\n            return self[key]\\n        except KeyError:\\n            return default\\n        \\n    \\n    ', \"a = StrKeyDict0([('2', 'two'), ('4', 'four')])\", 'a', 'a[2]', \"a['2']\", 'a[1]', \"a.get('2')\", 'a.get(2)', 'class StrKeyDict0(dict):\\n    def __missing__(self, key):\\n        if isinstance(key, str):\\n            raise KeyError(key)\\n        return self[str(key)]\\n    \\n    def get(self, key, default=None):\\n        try:\\n            return self[key]\\n        except KeyError:\\n            return default\\n        \\n    def __contains__(self, key):\\n        return key in self.keys() or str(key) in self.keys()\\n        \\n    \\n    ', 'import builtins\\nfrom collections import ChainMap\\n\\npylookup = ChainMap(locals(), globals(), vars(builtins))', 'pylookup', 'a = {1:1}\\nb = {2:2}\\nc = {3:3}', 'chain = ChainMap(a, b, c)', 'chain', 'chain[1]', 'chain.items()', 'list(chain.items())', 'chain.pop(1)', 'a', 'a and b', 'a or b', 'a and b and c', 'locals()'], 'Out': {1: <module 'builtins' (built-in)>, 2: {'__name__': 'builtins', '__doc__': \"Built-in functions, exceptions, and other objects.\\n\\nNoteworthy: None is the `nil' object; Ellipsis represents `...' in slices.\", '__package__': '', '__loader__': <class '_frozen_importlib.BuiltinImporter'>, '__spec__': ModuleSpec(name='builtins', loader=<class '_frozen_importlib.BuiltinImporter'>), '__build_class__': <built-in function __build_class__>, '__import__': <built-in function __import__>, 'abs': <built-in function abs>, 'all': <built-in function all>, 'any': <built-in function any>, 'ascii': <built-in function ascii>, 'bin': <built-in function bin>, 'breakpoint': <built-in function breakpoint>, 'callable': <built-in function callable>, 'chr': <built-in function chr>, 'compile': <built-in function compile>, 'delattr': <built-in function delattr>, 'dir': <built-in function dir>, 'divmod': <built-in function divmod>, 'eval': <built-in function eval>, 'exec': <built-in function exec>, 'format': <built-in function format>, 'getattr': <built-in function getattr>, 'globals': <built-in function globals>, 'hasattr': <built-in function hasattr>, 'hash': <built-in function hash>, 'hex': <built-in function hex>, 'id': <built-in function id>, 'input': <bound method Kernel.raw_input of <ipykernel.ipkernel.IPythonKernel object at 0x7fd6f62ba850>>, 'isinstance': <built-in function isinstance>, 'issubclass': <built-in function issubclass>, 'iter': <built-in function iter>, 'len': <built-in function len>, 'locals': <built-in function locals>, 'max': <built-in function max>, 'min': <built-in function min>, 'next': <built-in function next>, 'oct': <built-in function oct>, 'ord': <built-in function ord>, 'pow': <built-in function pow>, 'print': <built-in function print>, 'repr': <built-in function repr>, 'round': <built-in function round>, 'setattr': <built-in function setattr>, 'sorted': <built-in function sorted>, 'sum': <built-in function sum>, 'vars': <built-in function vars>, 'None': None, 'Ellipsis': Ellipsis, 'NotImplemented': NotImplemented, 'False': False, 'True': True, 'bool': <class 'bool'>, 'memoryview': <class 'memoryview'>, 'bytearray': <class 'bytearray'>, 'bytes': <class 'bytes'>, 'classmethod': <class 'classmethod'>, 'complex': <class 'complex'>, 'dict': <class 'dict'>, 'enumerate': <class 'enumerate'>, 'filter': <class 'filter'>, 'float': <class 'float'>, 'frozenset': <class 'frozenset'>, 'property': <class 'property'>, 'int': <class 'int'>, 'list': <class 'list'>, 'map': <class 'map'>, 'object': <class 'object'>, 'range': <class 'range'>, 'reversed': <class 'reversed'>, 'set': <class 'set'>, 'slice': <class 'slice'>, 'staticmethod': <class 'staticmethod'>, 'str': <class 'str'>, 'super': <class 'super'>, 'tuple': <class 'tuple'>, 'type': <class 'type'>, 'zip': <class 'zip'>, '__debug__': True, 'BaseException': <class 'BaseException'>, 'Exception': <class 'Exception'>, 'TypeError': <class 'TypeError'>, 'StopAsyncIteration': <class 'StopAsyncIteration'>, 'StopIteration': <class 'StopIteration'>, 'GeneratorExit': <class 'GeneratorExit'>, 'SystemExit': <class 'SystemExit'>, 'KeyboardInterrupt': <class 'KeyboardInterrupt'>, 'ImportError': <class 'ImportError'>, 'ModuleNotFoundError': <class 'ModuleNotFoundError'>, 'OSError': <class 'OSError'>, 'EnvironmentError': <class 'OSError'>, 'IOError': <class 'OSError'>, 'EOFError': <class 'EOFError'>, 'RuntimeError': <class 'RuntimeError'>, 'RecursionError': <class 'RecursionError'>, 'NotImplementedError': <class 'NotImplementedError'>, 'NameError': <class 'NameError'>, 'UnboundLocalError': <class 'UnboundLocalError'>, 'AttributeError': <class 'AttributeError'>, 'SyntaxError': <class 'SyntaxError'>, 'IndentationError': <class 'IndentationError'>, 'TabError': <class 'TabError'>, 'LookupError': <class 'LookupError'>, 'IndexError': <class 'IndexError'>, 'KeyError': <class 'KeyError'>, 'ValueError': <class 'ValueError'>, 'UnicodeError': <class 'UnicodeError'>, 'UnicodeEncodeError': <class 'UnicodeEncodeError'>, 'UnicodeDecodeError': <class 'UnicodeDecodeError'>, 'UnicodeTranslateError': <class 'UnicodeTranslateError'>, 'AssertionError': <class 'AssertionError'>, 'ArithmeticError': <class 'ArithmeticError'>, 'FloatingPointError': <class 'FloatingPointError'>, 'OverflowError': <class 'OverflowError'>, 'ZeroDivisionError': <class 'ZeroDivisionError'>, 'SystemError': <class 'SystemError'>, 'ReferenceError': <class 'ReferenceError'>, 'MemoryError': <class 'MemoryError'>, 'BufferError': <class 'BufferError'>, 'Warning': <class 'Warning'>, 'UserWarning': <class 'UserWarning'>, 'DeprecationWarning': <class 'DeprecationWarning'>, 'PendingDeprecationWarning': <class 'PendingDeprecationWarning'>, 'SyntaxWarning': <class 'SyntaxWarning'>, 'RuntimeWarning': <class 'RuntimeWarning'>, 'FutureWarning': <class 'FutureWarning'>, 'ImportWarning': <class 'ImportWarning'>, 'UnicodeWarning': <class 'UnicodeWarning'>, 'BytesWarning': <class 'BytesWarning'>, 'ResourceWarning': <class 'ResourceWarning'>, 'ConnectionError': <class 'ConnectionError'>, 'BlockingIOError': <class 'BlockingIOError'>, 'BrokenPipeError': <class 'BrokenPipeError'>, 'ChildProcessError': <class 'ChildProcessError'>, 'ConnectionAbortedError': <class 'ConnectionAbortedError'>, 'ConnectionRefusedError': <class 'ConnectionRefusedError'>, 'ConnectionResetError': <class 'ConnectionResetError'>, 'FileExistsError': <class 'FileExistsError'>, 'FileNotFoundError': <class 'FileNotFoundError'>, 'IsADirectoryError': <class 'IsADirectoryError'>, 'NotADirectoryError': <class 'NotADirectoryError'>, 'InterruptedError': <class 'InterruptedError'>, 'PermissionError': <class 'PermissionError'>, 'ProcessLookupError': <class 'ProcessLookupError'>, 'TimeoutError': <class 'TimeoutError'>, 'open': <built-in function open>, 'copyright': Copyright (c) 2001-2019 Python Software Foundation.\n",
       "  All Rights Reserved.\n",
       "  \n",
       "  Copyright (c) 2000 BeOpen.com.\n",
       "  All Rights Reserved.\n",
       "  \n",
       "  Copyright (c) 1995-2001 Corporation for National Research Initiatives.\n",
       "  All Rights Reserved.\n",
       "  \n",
       "  Copyright (c) 1991-1995 Stichting Mathematisch Centrum, Amsterdam.\n",
       "  All Rights Reserved., 'credits':     Thanks to CWI, CNRI, BeOpen.com, Zope Corporation and a cast of thousands\n",
       "      for supporting Python development.  See www.python.org for more information., 'license': Type license() to see the full license text, 'help': Type help() for interactive help, or help(object) for help about object., '__IPYTHON__': True, 'display': <function display at 0x7fd6fee21200>, 'get_ipython': <bound method InteractiveShell.get_ipython of <ipykernel.zmqshell.ZMQInteractiveShell object at 0x7fd6f629f210>>}, 5: (2, 2), 6: {1: None, 2: 1, 3: []}, 7: 1, 8: {1: None, 2: 1, 3: []}, 11: {1: None, 2: 1, 3: []}, 12: 1, 13: {1: None, 2: 1, 3: []}, 15: {1: None, 2: 1, 3: []}, 16: [], 17: {1: None, 2: 1, 3: []}, 19: [], 20: {1: None, 2: 1, 3: []}, 27: <__main__.TestMapping object at 0x7fd6f41384d0>, 29: ItemsView(<__main__.TestMapping object at 0x7fd6f41384d0>), 37: {1: 2, 2: 2}, 38: {1: 2, 2: 2}, 41: {1: 2, 2: 2}, 43: {1: 2, 2: 2}, 44: 1, 45: {1: 1, 2: 2}, 48: {1: 3, 2: 2}, 49: {1: 2, 2: 2}, 51: {1: 2, 2: 2}, 52: {1: 3, 2: 2}, 55: {2: [1, 2]}, 56: {1: [1, 2, 3, 4], 2: [1, 2]}, 58: {2: [1, 2]}, 59: {1: [1, 2, 3, 4], 2: [1, 2]}, 62: {1: [1, 2, 3], 2: [1, 2]}, 63: {2: [1, 2]}, 65: {2: [1, 2]}, 66: {1: [1, 2, 3], 2: [1, 2]}, 68: True, 70: {2: [1, 2]}, 71: {1: [1, 2, 3], 2: [1, 2]}, 74: ['a', 'A', 'C'], 79: {'a': [11, 22], 'A': [33, 44], 'C': [55, 66], 1: 2}, 81: {1: 2}, 86: {1: 2}, 92: <class 'list'>, 96: [1, 2], 97: [1, 2], 98: [], 99: defaultdict(<class 'list'>, {1: [1, 2], 2: [3, 4], 3: []}), 100: <class 'list'>, 103: {'2': 'two', '4': 'four'}, 107: {'2': 'two', '4': 'four'}, 108: 'two', 110: 'two', 114: {'2': 'two', '4': 'four'}, 115: 'two', 116: 'two', 119: 'two', 122: {'2': 'two', '4': 'four'}, 123: 'two', 124: 'two', 126: 'two', 127: 'two', 130: ..., 133: ChainMap({}, {2: 2}, {3: 3}), 134: 1, 135: ItemsView(ChainMap({}, {2: 2}, {3: 3})), 136: [(3, 3), (2, 2), (1, 1)], 137: 1, 138: {}, 139: {}, 140: {2: 2}, 141: {}}, 'get_ipython': <bound method InteractiveShell.get_ipython of <ipykernel.zmqshell.ZMQInteractiveShell object at 0x7fd6f629f210>>, 'exit': <IPython.core.autocall.ZMQExitAutocall object at 0x7fd6f627ded0>, 'quit': <IPython.core.autocall.ZMQExitAutocall object at 0x7fd6f627ded0>, '_': {}, '__': {2: 2}, '___': {}, '_i': 'a and b and c', '_ii': 'a or b', '_iii': 'a and b', '_i1': '__builtins__', '_1': <module 'builtins' (built-in)>, '_i2': '__builtins__.__dict__', '_2': {'__name__': 'builtins', '__doc__': \"Built-in functions, exceptions, and other objects.\\n\\nNoteworthy: None is the `nil' object; Ellipsis represents `...' in slices.\", '__package__': '', '__loader__': <class '_frozen_importlib.BuiltinImporter'>, '__spec__': ModuleSpec(name='builtins', loader=<class '_frozen_importlib.BuiltinImporter'>), '__build_class__': <built-in function __build_class__>, '__import__': <built-in function __import__>, 'abs': <built-in function abs>, 'all': <built-in function all>, 'any': <built-in function any>, 'ascii': <built-in function ascii>, 'bin': <built-in function bin>, 'breakpoint': <built-in function breakpoint>, 'callable': <built-in function callable>, 'chr': <built-in function chr>, 'compile': <built-in function compile>, 'delattr': <built-in function delattr>, 'dir': <built-in function dir>, 'divmod': <built-in function divmod>, 'eval': <built-in function eval>, 'exec': <built-in function exec>, 'format': <built-in function format>, 'getattr': <built-in function getattr>, 'globals': <built-in function globals>, 'hasattr': <built-in function hasattr>, 'hash': <built-in function hash>, 'hex': <built-in function hex>, 'id': <built-in function id>, 'input': <bound method Kernel.raw_input of <ipykernel.ipkernel.IPythonKernel object at 0x7fd6f62ba850>>, 'isinstance': <built-in function isinstance>, 'issubclass': <built-in function issubclass>, 'iter': <built-in function iter>, 'len': <built-in function len>, 'locals': <built-in function locals>, 'max': <built-in function max>, 'min': <built-in function min>, 'next': <built-in function next>, 'oct': <built-in function oct>, 'ord': <built-in function ord>, 'pow': <built-in function pow>, 'print': <built-in function print>, 'repr': <built-in function repr>, 'round': <built-in function round>, 'setattr': <built-in function setattr>, 'sorted': <built-in function sorted>, 'sum': <built-in function sum>, 'vars': <built-in function vars>, 'None': None, 'Ellipsis': Ellipsis, 'NotImplemented': NotImplemented, 'False': False, 'True': True, 'bool': <class 'bool'>, 'memoryview': <class 'memoryview'>, 'bytearray': <class 'bytearray'>, 'bytes': <class 'bytes'>, 'classmethod': <class 'classmethod'>, 'complex': <class 'complex'>, 'dict': <class 'dict'>, 'enumerate': <class 'enumerate'>, 'filter': <class 'filter'>, 'float': <class 'float'>, 'frozenset': <class 'frozenset'>, 'property': <class 'property'>, 'int': <class 'int'>, 'list': <class 'list'>, 'map': <class 'map'>, 'object': <class 'object'>, 'range': <class 'range'>, 'reversed': <class 'reversed'>, 'set': <class 'set'>, 'slice': <class 'slice'>, 'staticmethod': <class 'staticmethod'>, 'str': <class 'str'>, 'super': <class 'super'>, 'tuple': <class 'tuple'>, 'type': <class 'type'>, 'zip': <class 'zip'>, '__debug__': True, 'BaseException': <class 'BaseException'>, 'Exception': <class 'Exception'>, 'TypeError': <class 'TypeError'>, 'StopAsyncIteration': <class 'StopAsyncIteration'>, 'StopIteration': <class 'StopIteration'>, 'GeneratorExit': <class 'GeneratorExit'>, 'SystemExit': <class 'SystemExit'>, 'KeyboardInterrupt': <class 'KeyboardInterrupt'>, 'ImportError': <class 'ImportError'>, 'ModuleNotFoundError': <class 'ModuleNotFoundError'>, 'OSError': <class 'OSError'>, 'EnvironmentError': <class 'OSError'>, 'IOError': <class 'OSError'>, 'EOFError': <class 'EOFError'>, 'RuntimeError': <class 'RuntimeError'>, 'RecursionError': <class 'RecursionError'>, 'NotImplementedError': <class 'NotImplementedError'>, 'NameError': <class 'NameError'>, 'UnboundLocalError': <class 'UnboundLocalError'>, 'AttributeError': <class 'AttributeError'>, 'SyntaxError': <class 'SyntaxError'>, 'IndentationError': <class 'IndentationError'>, 'TabError': <class 'TabError'>, 'LookupError': <class 'LookupError'>, 'IndexError': <class 'IndexError'>, 'KeyError': <class 'KeyError'>, 'ValueError': <class 'ValueError'>, 'UnicodeError': <class 'UnicodeError'>, 'UnicodeEncodeError': <class 'UnicodeEncodeError'>, 'UnicodeDecodeError': <class 'UnicodeDecodeError'>, 'UnicodeTranslateError': <class 'UnicodeTranslateError'>, 'AssertionError': <class 'AssertionError'>, 'ArithmeticError': <class 'ArithmeticError'>, 'FloatingPointError': <class 'FloatingPointError'>, 'OverflowError': <class 'OverflowError'>, 'ZeroDivisionError': <class 'ZeroDivisionError'>, 'SystemError': <class 'SystemError'>, 'ReferenceError': <class 'ReferenceError'>, 'MemoryError': <class 'MemoryError'>, 'BufferError': <class 'BufferError'>, 'Warning': <class 'Warning'>, 'UserWarning': <class 'UserWarning'>, 'DeprecationWarning': <class 'DeprecationWarning'>, 'PendingDeprecationWarning': <class 'PendingDeprecationWarning'>, 'SyntaxWarning': <class 'SyntaxWarning'>, 'RuntimeWarning': <class 'RuntimeWarning'>, 'FutureWarning': <class 'FutureWarning'>, 'ImportWarning': <class 'ImportWarning'>, 'UnicodeWarning': <class 'UnicodeWarning'>, 'BytesWarning': <class 'BytesWarning'>, 'ResourceWarning': <class 'ResourceWarning'>, 'ConnectionError': <class 'ConnectionError'>, 'BlockingIOError': <class 'BlockingIOError'>, 'BrokenPipeError': <class 'BrokenPipeError'>, 'ChildProcessError': <class 'ChildProcessError'>, 'ConnectionAbortedError': <class 'ConnectionAbortedError'>, 'ConnectionRefusedError': <class 'ConnectionRefusedError'>, 'ConnectionResetError': <class 'ConnectionResetError'>, 'FileExistsError': <class 'FileExistsError'>, 'FileNotFoundError': <class 'FileNotFoundError'>, 'IsADirectoryError': <class 'IsADirectoryError'>, 'NotADirectoryError': <class 'NotADirectoryError'>, 'InterruptedError': <class 'InterruptedError'>, 'PermissionError': <class 'PermissionError'>, 'ProcessLookupError': <class 'ProcessLookupError'>, 'TimeoutError': <class 'TimeoutError'>, 'open': <built-in function open>, 'copyright': Copyright (c) 2001-2019 Python Software Foundation.\n",
       "  All Rights Reserved.\n",
       "  \n",
       "  Copyright (c) 2000 BeOpen.com.\n",
       "  All Rights Reserved.\n",
       "  \n",
       "  Copyright (c) 1995-2001 Corporation for National Research Initiatives.\n",
       "  All Rights Reserved.\n",
       "  \n",
       "  Copyright (c) 1991-1995 Stichting Mathematisch Centrum, Amsterdam.\n",
       "  All Rights Reserved., 'credits':     Thanks to CWI, CNRI, BeOpen.com, Zope Corporation and a cast of thousands\n",
       "      for supporting Python development.  See www.python.org for more information., 'license': Type license() to see the full license text, 'help': Type help() for interactive help, or help(object) for help about object., '__IPYTHON__': True, 'display': <function display at 0x7fd6fee21200>, 'get_ipython': <bound method InteractiveShell.get_ipython of <ipykernel.zmqshell.ZMQInteractiveShell object at 0x7fd6f629f210>>}, '_i3': 'a = {1:1, 2:2}', 'a': {}, '_i4': 'a.pop()', '_i5': 'a.popitem()', '_5': (2, 2), '_i6': 'a', '_6': {1: None, 2: 1, 3: []}, '_i7': 'a.pop(1)', '_7': 1, '_i8': 'a', '_8': {1: None, 2: 1, 3: []}, '_i9': 'a.pop(1)', '_i10': 'a.setdefault(1)', '_i11': 'a', '_11': {1: None, 2: 1, 3: []}, '_i12': 'a.setdefault(2, 1)', '_12': 1, '_i13': 'a', '_13': {1: None, 2: 1, 3: []}, '_i14': 'a.setdefault(1, [])', '_i15': 'a', '_15': {1: None, 2: 1, 3: []}, '_i16': 'a.setdefault(3, [])', '_16': [], '_i17': 'a', '_17': {1: None, 2: 1, 3: []}, '_i18': 'a.setdefault(3, [], 2)', '_i19': 'a.setdefault(3, [])', '_19': [], '_i20': 'a', '_20': {1: None, 2: 1, 3: []}, '_i21': 'from collections import Mapping', 'Mapping': <class 'collections.abc.Mapping'>, '_i22': 'from collections.abc import Mapping', '_i23': 'help(Mapping)', '_i24': 'a = Mapping()', '_i25': \"class TestMapping(Mapping):\\n    def __getitem__(self):\\n        return ''\\n    \\n    def __iter__(self):\\n        return ''\\n    \\n    def __len__(self):\\n        return 0\", 'TestMapping': <class '__main__.TestMapping'>, '_i26': 'a = TestMapping()', '_i27': 'a', '_27': <__main__.TestMapping object at 0x7fd6f41384d0>, '_i28': 'a[1] = 1', '_i29': 'a.items()', '_29': ItemsView(<__main__.TestMapping object at 0x7fd6f41384d0>), '_i30': 'list(a.items())', '_i31': 'a = [1, 2]\\nb = [3,4]', 'b': {2: 2}, '_i32': \"for ab in (f'{a} : {b}' for a, b in zip(a, b)):\\n    print(ab)\", 'ab': '2 : 4', '_i33': \"for c in (f'{x} : {y}' for x in a for y in b):\\n    print(c)\", 'c': {3: 3}, '_i34': 'a = {1:1, 2:2}', '_i35': 'b = a', '_i36': 'a[1] = 2', '_i37': 'b', '_37': {1: 2, 2: 2}, '_i38': 'a', '_38': {1: 2, 2: 2}, '_i39': 'a = {1:1, 2:2}', '_i40': 'b = a.copy()', '_i41': 'b', '_41': {1: 2, 2: 2}, '_i42': 'b[1] = 2', '_i43': 'b', '_43': {1: 2, 2: 2}, '_i44': '1', '_44': 1, '_i45': 'a', '_45': {1: 1, 2: 2}, '_i46': 'from copy import copy', 'copy': <function copy at 0x7fd6feeaa3b0>, '_i47': 'a = copy(b)', '_i48': 'a', '_48': {1: 3, 2: 2}, '_i49': 'b', '_49': {1: 2, 2: 2}, '_i50': 'a[1] = 3', '_i51': 'b', '_51': {1: 2, 2: 2}, '_i52': 'a', '_52': {1: 3, 2: 2}, '_i53': 'a = {1:[1, 2], 2: [1, 2]}', '_i54': 'b = copy(a)', '_i55': 'a', '_55': {2: [1, 2]}, '_i56': 'b', '_56': {1: [1, 2, 3, 4], 2: [1, 2]}, '_i57': 'b[1].append(3)', '_i58': 'a', '_58': {2: [1, 2]}, '_i59': 'b', '_59': {1: [1, 2, 3, 4], 2: [1, 2]}, '_i60': 'from copy import deepcopy', 'deepcopy': <function deepcopy at 0x7fd6feeaad40>, '_i61': 'b = deepcopy(a)', '_i62': 'b', '_62': {1: [1, 2, 3], 2: [1, 2]}, '_i63': 'a', '_63': {2: [1, 2]}, '_i64': 'a[1].append(4)', '_i65': 'a', '_65': {2: [1, 2]}, '_i66': 'b', '_66': {1: [1, 2, 3], 2: [1, 2]}, '_i67': 'a in b', '_i68': '1 in b', '_68': True, '_i69': 'del a[1]', '_i70': 'a', '_70': {2: [1, 2]}, '_i71': 'b', '_71': {1: [1, 2, 3], 2: [1, 2]}, '_i72': \"a = {'a':[11, 22], 'A': [33, 44], 'C': [55, 66]}\", '_i73': 'b = sorted(a, key=str.upper)', '_i74': 'b', '_74': ['a', 'A', 'C'], '_i75': \"class ComportDict(Dict):\\n    def __missing__(self):\\n        return 'a'\", '_i76': \"class ComportDict(dict):\\n    def __missing__(self):\\n        return 'a'\", 'ComportDict': <class '__main__.ComportDict'>, '_i77': 'aa = ComportDict()', 'aa': {1: 2}, '_i78': 'a[1] = 2', '_i79': 'a', '_79': {'a': [11, 22], 'A': [33, 44], 'C': [55, 66], 1: 2}, '_i80': 'aa[1] = 2', '_i81': 'aa', '_81': {1: 2}, '_i82': 'aa[2]', '_i83': 'class DefaultListDict(dict):\\n    def __missing__(self, key):\\n        self[key] = []\\n        return self[key]', 'DefaultListDict': <class '__main__.DefaultListDict'>, '_i84': 'aa = ComportDict()', '_i85': 'aa[1] = 2', '_i86': 'aa', '_86': {1: 2}, '_i87': 'aa[2]', '_i88': 'from collections import defaultdict', 'defaultdict': <class 'collections.defaultdict'>, '_i89': 'a = defaultdict(a)', '_i90': 'a = defaultdict(list)', '_i91': 'a.defaylt)factiry', '_i92': 'a.default_factory', '_92': <class 'list'>, '_i93': 'help(a)', '_i94': 'a = defaultdict(list)', '_i95': 'a = defaultdict(list)\\na[1] = [1, 2]\\na[2] = [3, 4]', '_i96': 'a = defaultdict(list)\\na[1] = [1, 2]\\na[2] = [3, 4]\\na[1]', '_96': [1, 2], '_i97': 'a[1]', '_97': [1, 2], '_i98': 'a[3]', '_98': [], '_i99': 'a', '_99': defaultdict(<class 'list'>, {1: [1, 2], 2: [3, 4], 3: []}), '_i100': 'a.default_factory', '_100': <class 'list'>, '_i101': 'class StrKeyDict0(dict):\\n    def __missing__(self, key):\\n        if isinstance(key, str):\\n            raise KeyError(Key)\\n        return self[str[key]]\\n    \\n    ', 'StrKeyDict0': <class '__main__.StrKeyDict0'>, '_i102': \"a = StrKeyDict0([('2', 'two'), ('4', 'four')])\", '_i103': 'a', '_103': {'2': 'two', '4': 'four'}, '_i104': 'a[2]', '_i105': 'class StrKeyDict0(dict):\\n    def __missing__(self, key):\\n        if isinstance(key, str):\\n            raise KeyError(Key)\\n        return self[str(key)]\\n    \\n    ', '_i106': \"a = StrKeyDict0([('2', 'two'), ('4', 'four')])\", '_i107': 'a', '_107': {'2': 'two', '4': 'four'}, '_i108': 'a[2]', '_108': 'two', '_i109': \"a['2]']\", '_i110': \"a['2']\", '_110': 'two', '_i111': 'a[1]', '_i112': 'class StrKeyDict0(dict):\\n    def __missing__(self, key):\\n        if isinstance(key, str):\\n            raise KeyError(key)\\n        return self[str(key)]\\n    \\n    ', '_i113': \"a = StrKeyDict0([('2', 'two'), ('4', 'four')])\", '_i114': 'a', '_114': {'2': 'two', '4': 'four'}, '_i115': 'a[2]', '_115': 'two', '_i116': \"a['2']\", '_116': 'two', '_i117': 'a[1]', '_i118': 'a.get(2)', '_i119': \"a.get('2')\", '_119': 'two', '_i120': 'class StrKeyDict0(dict):\\n    def __missing__(self, key):\\n        if isinstance(key, str):\\n            raise KeyError(key)\\n        return self[str(key)]\\n    \\n    def get(self, key, default=None):\\n        try:\\n            return self[key]\\n        except KeyError:\\n            return default\\n        \\n    \\n    ', '_i121': \"a = StrKeyDict0([('2', 'two'), ('4', 'four')])\", '_i122': 'a', '_122': {'2': 'two', '4': 'four'}, '_i123': 'a[2]', '_123': 'two', '_i124': \"a['2']\", '_124': 'two', '_i125': 'a[1]', '_i126': \"a.get('2')\", '_126': 'two', '_i127': 'a.get(2)', '_127': 'two', '_i128': 'class StrKeyDict0(dict):\\n    def __missing__(self, key):\\n        if isinstance(key, str):\\n            raise KeyError(key)\\n        return self[str(key)]\\n    \\n    def get(self, key, default=None):\\n        try:\\n            return self[key]\\n        except KeyError:\\n            return default\\n        \\n    def __contains__(self, key):\\n        return key in self.keys() or str(key) in self.keys()\\n        \\n    \\n    ', '_i129': 'import builtins\\nfrom collections import ChainMap\\n\\npylookup = ChainMap(locals(), globals(), vars(builtins))', 'builtins': <module 'builtins' (built-in)>, 'ChainMap': <class 'collections.ChainMap'>, 'pylookup': ..., '_i130': 'pylookup', '_130': ..., '_i131': 'a = {1:1}\\nb = {2:2}\\nc = {3:3}', '_i132': 'chain = ChainMap(a, b, c)', 'chain': ChainMap({}, {2: 2}, {3: 3}), '_i133': 'chain', '_133': ChainMap({}, {2: 2}, {3: 3}), '_i134': 'chain[1]', '_134': 1, '_i135': 'chain.items()', '_135': ItemsView(ChainMap({}, {2: 2}, {3: 3})), '_i136': 'list(chain.items())', '_136': [(3, 3), (2, 2), (1, 1)], '_i137': 'chain.pop(1)', '_137': 1, '_i138': 'a', '_138': {}, '_i139': 'a and b', '_139': {}, '_i140': 'a or b', '_140': {2: 2}, '_i141': 'a and b and c', '_141': {}, '_i142': 'locals()'}, {'__name__': '__main__', '__doc__': 'Automatically created module for IPython interactive environment', '__package__': None, '__loader__': None, '__spec__': None, '__builtin__': <module 'builtins' (built-in)>, '__builtins__': <module 'builtins' (built-in)>, '_ih': ['', '__builtins__', '__builtins__.__dict__', 'a = {1:1, 2:2}', 'a.pop()', 'a.popitem()', 'a', 'a.pop(1)', 'a', 'a.pop(1)', 'a.setdefault(1)', 'a', 'a.setdefault(2, 1)', 'a', 'a.setdefault(1, [])', 'a', 'a.setdefault(3, [])', 'a', 'a.setdefault(3, [], 2)', 'a.setdefault(3, [])', 'a', 'from collections import Mapping', 'from collections.abc import Mapping', 'help(Mapping)', 'a = Mapping()', \"class TestMapping(Mapping):\\n    def __getitem__(self):\\n        return ''\\n    \\n    def __iter__(self):\\n        return ''\\n    \\n    def __len__(self):\\n        return 0\", 'a = TestMapping()', 'a', 'a[1] = 1', 'a.items()', 'list(a.items())', 'a = [1, 2]\\nb = [3,4]', \"for ab in (f'{a} : {b}' for a, b in zip(a, b)):\\n    print(ab)\", \"for c in (f'{x} : {y}' for x in a for y in b):\\n    print(c)\", 'a = {1:1, 2:2}', 'b = a', 'a[1] = 2', 'b', 'a', 'a = {1:1, 2:2}', 'b = a.copy()', 'b', 'b[1] = 2', 'b', '1', 'a', 'from copy import copy', 'a = copy(b)', 'a', 'b', 'a[1] = 3', 'b', 'a', 'a = {1:[1, 2], 2: [1, 2]}', 'b = copy(a)', 'a', 'b', 'b[1].append(3)', 'a', 'b', 'from copy import deepcopy', 'b = deepcopy(a)', 'b', 'a', 'a[1].append(4)', 'a', 'b', 'a in b', '1 in b', 'del a[1]', 'a', 'b', \"a = {'a':[11, 22], 'A': [33, 44], 'C': [55, 66]}\", 'b = sorted(a, key=str.upper)', 'b', \"class ComportDict(Dict):\\n    def __missing__(self):\\n        return 'a'\", \"class ComportDict(dict):\\n    def __missing__(self):\\n        return 'a'\", 'aa = ComportDict()', 'a[1] = 2', 'a', 'aa[1] = 2', 'aa', 'aa[2]', 'class DefaultListDict(dict):\\n    def __missing__(self, key):\\n        self[key] = []\\n        return self[key]', 'aa = ComportDict()', 'aa[1] = 2', 'aa', 'aa[2]', 'from collections import defaultdict', 'a = defaultdict(a)', 'a = defaultdict(list)', 'a.defaylt)factiry', 'a.default_factory', 'help(a)', 'a = defaultdict(list)', 'a = defaultdict(list)\\na[1] = [1, 2]\\na[2] = [3, 4]', 'a = defaultdict(list)\\na[1] = [1, 2]\\na[2] = [3, 4]\\na[1]', 'a[1]', 'a[3]', 'a', 'a.default_factory', 'class StrKeyDict0(dict):\\n    def __missing__(self, key):\\n        if isinstance(key, str):\\n            raise KeyError(Key)\\n        return self[str[key]]\\n    \\n    ', \"a = StrKeyDict0([('2', 'two'), ('4', 'four')])\", 'a', 'a[2]', 'class StrKeyDict0(dict):\\n    def __missing__(self, key):\\n        if isinstance(key, str):\\n            raise KeyError(Key)\\n        return self[str(key)]\\n    \\n    ', \"a = StrKeyDict0([('2', 'two'), ('4', 'four')])\", 'a', 'a[2]', \"a['2]']\", \"a['2']\", 'a[1]', 'class StrKeyDict0(dict):\\n    def __missing__(self, key):\\n        if isinstance(key, str):\\n            raise KeyError(key)\\n        return self[str(key)]\\n    \\n    ', \"a = StrKeyDict0([('2', 'two'), ('4', 'four')])\", 'a', 'a[2]', \"a['2']\", 'a[1]', 'a.get(2)', \"a.get('2')\", 'class StrKeyDict0(dict):\\n    def __missing__(self, key):\\n        if isinstance(key, str):\\n            raise KeyError(key)\\n        return self[str(key)]\\n    \\n    def get(self, key, default=None):\\n        try:\\n            return self[key]\\n        except KeyError:\\n            return default\\n        \\n    \\n    ', \"a = StrKeyDict0([('2', 'two'), ('4', 'four')])\", 'a', 'a[2]', \"a['2']\", 'a[1]', \"a.get('2')\", 'a.get(2)', 'class StrKeyDict0(dict):\\n    def __missing__(self, key):\\n        if isinstance(key, str):\\n            raise KeyError(key)\\n        return self[str(key)]\\n    \\n    def get(self, key, default=None):\\n        try:\\n            return self[key]\\n        except KeyError:\\n            return default\\n        \\n    def __contains__(self, key):\\n        return key in self.keys() or str(key) in self.keys()\\n        \\n    \\n    ', 'import builtins\\nfrom collections import ChainMap\\n\\npylookup = ChainMap(locals(), globals(), vars(builtins))', 'pylookup', 'a = {1:1}\\nb = {2:2}\\nc = {3:3}', 'chain = ChainMap(a, b, c)', 'chain', 'chain[1]', 'chain.items()', 'list(chain.items())', 'chain.pop(1)', 'a', 'a and b', 'a or b', 'a and b and c', 'locals()'], '_oh': {1: <module 'builtins' (built-in)>, 2: {'__name__': 'builtins', '__doc__': \"Built-in functions, exceptions, and other objects.\\n\\nNoteworthy: None is the `nil' object; Ellipsis represents `...' in slices.\", '__package__': '', '__loader__': <class '_frozen_importlib.BuiltinImporter'>, '__spec__': ModuleSpec(name='builtins', loader=<class '_frozen_importlib.BuiltinImporter'>), '__build_class__': <built-in function __build_class__>, '__import__': <built-in function __import__>, 'abs': <built-in function abs>, 'all': <built-in function all>, 'any': <built-in function any>, 'ascii': <built-in function ascii>, 'bin': <built-in function bin>, 'breakpoint': <built-in function breakpoint>, 'callable': <built-in function callable>, 'chr': <built-in function chr>, 'compile': <built-in function compile>, 'delattr': <built-in function delattr>, 'dir': <built-in function dir>, 'divmod': <built-in function divmod>, 'eval': <built-in function eval>, 'exec': <built-in function exec>, 'format': <built-in function format>, 'getattr': <built-in function getattr>, 'globals': <built-in function globals>, 'hasattr': <built-in function hasattr>, 'hash': <built-in function hash>, 'hex': <built-in function hex>, 'id': <built-in function id>, 'input': <bound method Kernel.raw_input of <ipykernel.ipkernel.IPythonKernel object at 0x7fd6f62ba850>>, 'isinstance': <built-in function isinstance>, 'issubclass': <built-in function issubclass>, 'iter': <built-in function iter>, 'len': <built-in function len>, 'locals': <built-in function locals>, 'max': <built-in function max>, 'min': <built-in function min>, 'next': <built-in function next>, 'oct': <built-in function oct>, 'ord': <built-in function ord>, 'pow': <built-in function pow>, 'print': <built-in function print>, 'repr': <built-in function repr>, 'round': <built-in function round>, 'setattr': <built-in function setattr>, 'sorted': <built-in function sorted>, 'sum': <built-in function sum>, 'vars': <built-in function vars>, 'None': None, 'Ellipsis': Ellipsis, 'NotImplemented': NotImplemented, 'False': False, 'True': True, 'bool': <class 'bool'>, 'memoryview': <class 'memoryview'>, 'bytearray': <class 'bytearray'>, 'bytes': <class 'bytes'>, 'classmethod': <class 'classmethod'>, 'complex': <class 'complex'>, 'dict': <class 'dict'>, 'enumerate': <class 'enumerate'>, 'filter': <class 'filter'>, 'float': <class 'float'>, 'frozenset': <class 'frozenset'>, 'property': <class 'property'>, 'int': <class 'int'>, 'list': <class 'list'>, 'map': <class 'map'>, 'object': <class 'object'>, 'range': <class 'range'>, 'reversed': <class 'reversed'>, 'set': <class 'set'>, 'slice': <class 'slice'>, 'staticmethod': <class 'staticmethod'>, 'str': <class 'str'>, 'super': <class 'super'>, 'tuple': <class 'tuple'>, 'type': <class 'type'>, 'zip': <class 'zip'>, '__debug__': True, 'BaseException': <class 'BaseException'>, 'Exception': <class 'Exception'>, 'TypeError': <class 'TypeError'>, 'StopAsyncIteration': <class 'StopAsyncIteration'>, 'StopIteration': <class 'StopIteration'>, 'GeneratorExit': <class 'GeneratorExit'>, 'SystemExit': <class 'SystemExit'>, 'KeyboardInterrupt': <class 'KeyboardInterrupt'>, 'ImportError': <class 'ImportError'>, 'ModuleNotFoundError': <class 'ModuleNotFoundError'>, 'OSError': <class 'OSError'>, 'EnvironmentError': <class 'OSError'>, 'IOError': <class 'OSError'>, 'EOFError': <class 'EOFError'>, 'RuntimeError': <class 'RuntimeError'>, 'RecursionError': <class 'RecursionError'>, 'NotImplementedError': <class 'NotImplementedError'>, 'NameError': <class 'NameError'>, 'UnboundLocalError': <class 'UnboundLocalError'>, 'AttributeError': <class 'AttributeError'>, 'SyntaxError': <class 'SyntaxError'>, 'IndentationError': <class 'IndentationError'>, 'TabError': <class 'TabError'>, 'LookupError': <class 'LookupError'>, 'IndexError': <class 'IndexError'>, 'KeyError': <class 'KeyError'>, 'ValueError': <class 'ValueError'>, 'UnicodeError': <class 'UnicodeError'>, 'UnicodeEncodeError': <class 'UnicodeEncodeError'>, 'UnicodeDecodeError': <class 'UnicodeDecodeError'>, 'UnicodeTranslateError': <class 'UnicodeTranslateError'>, 'AssertionError': <class 'AssertionError'>, 'ArithmeticError': <class 'ArithmeticError'>, 'FloatingPointError': <class 'FloatingPointError'>, 'OverflowError': <class 'OverflowError'>, 'ZeroDivisionError': <class 'ZeroDivisionError'>, 'SystemError': <class 'SystemError'>, 'ReferenceError': <class 'ReferenceError'>, 'MemoryError': <class 'MemoryError'>, 'BufferError': <class 'BufferError'>, 'Warning': <class 'Warning'>, 'UserWarning': <class 'UserWarning'>, 'DeprecationWarning': <class 'DeprecationWarning'>, 'PendingDeprecationWarning': <class 'PendingDeprecationWarning'>, 'SyntaxWarning': <class 'SyntaxWarning'>, 'RuntimeWarning': <class 'RuntimeWarning'>, 'FutureWarning': <class 'FutureWarning'>, 'ImportWarning': <class 'ImportWarning'>, 'UnicodeWarning': <class 'UnicodeWarning'>, 'BytesWarning': <class 'BytesWarning'>, 'ResourceWarning': <class 'ResourceWarning'>, 'ConnectionError': <class 'ConnectionError'>, 'BlockingIOError': <class 'BlockingIOError'>, 'BrokenPipeError': <class 'BrokenPipeError'>, 'ChildProcessError': <class 'ChildProcessError'>, 'ConnectionAbortedError': <class 'ConnectionAbortedError'>, 'ConnectionRefusedError': <class 'ConnectionRefusedError'>, 'ConnectionResetError': <class 'ConnectionResetError'>, 'FileExistsError': <class 'FileExistsError'>, 'FileNotFoundError': <class 'FileNotFoundError'>, 'IsADirectoryError': <class 'IsADirectoryError'>, 'NotADirectoryError': <class 'NotADirectoryError'>, 'InterruptedError': <class 'InterruptedError'>, 'PermissionError': <class 'PermissionError'>, 'ProcessLookupError': <class 'ProcessLookupError'>, 'TimeoutError': <class 'TimeoutError'>, 'open': <built-in function open>, 'copyright': Copyright (c) 2001-2019 Python Software Foundation.\n",
       "  All Rights Reserved.\n",
       "  \n",
       "  Copyright (c) 2000 BeOpen.com.\n",
       "  All Rights Reserved.\n",
       "  \n",
       "  Copyright (c) 1995-2001 Corporation for National Research Initiatives.\n",
       "  All Rights Reserved.\n",
       "  \n",
       "  Copyright (c) 1991-1995 Stichting Mathematisch Centrum, Amsterdam.\n",
       "  All Rights Reserved., 'credits':     Thanks to CWI, CNRI, BeOpen.com, Zope Corporation and a cast of thousands\n",
       "      for supporting Python development.  See www.python.org for more information., 'license': Type license() to see the full license text, 'help': Type help() for interactive help, or help(object) for help about object., '__IPYTHON__': True, 'display': <function display at 0x7fd6fee21200>, 'get_ipython': <bound method InteractiveShell.get_ipython of <ipykernel.zmqshell.ZMQInteractiveShell object at 0x7fd6f629f210>>}, 5: (2, 2), 6: {1: None, 2: 1, 3: []}, 7: 1, 8: {1: None, 2: 1, 3: []}, 11: {1: None, 2: 1, 3: []}, 12: 1, 13: {1: None, 2: 1, 3: []}, 15: {1: None, 2: 1, 3: []}, 16: [], 17: {1: None, 2: 1, 3: []}, 19: [], 20: {1: None, 2: 1, 3: []}, 27: <__main__.TestMapping object at 0x7fd6f41384d0>, 29: ItemsView(<__main__.TestMapping object at 0x7fd6f41384d0>), 37: {1: 2, 2: 2}, 38: {1: 2, 2: 2}, 41: {1: 2, 2: 2}, 43: {1: 2, 2: 2}, 44: 1, 45: {1: 1, 2: 2}, 48: {1: 3, 2: 2}, 49: {1: 2, 2: 2}, 51: {1: 2, 2: 2}, 52: {1: 3, 2: 2}, 55: {2: [1, 2]}, 56: {1: [1, 2, 3, 4], 2: [1, 2]}, 58: {2: [1, 2]}, 59: {1: [1, 2, 3, 4], 2: [1, 2]}, 62: {1: [1, 2, 3], 2: [1, 2]}, 63: {2: [1, 2]}, 65: {2: [1, 2]}, 66: {1: [1, 2, 3], 2: [1, 2]}, 68: True, 70: {2: [1, 2]}, 71: {1: [1, 2, 3], 2: [1, 2]}, 74: ['a', 'A', 'C'], 79: {'a': [11, 22], 'A': [33, 44], 'C': [55, 66], 1: 2}, 81: {1: 2}, 86: {1: 2}, 92: <class 'list'>, 96: [1, 2], 97: [1, 2], 98: [], 99: defaultdict(<class 'list'>, {1: [1, 2], 2: [3, 4], 3: []}), 100: <class 'list'>, 103: {'2': 'two', '4': 'four'}, 107: {'2': 'two', '4': 'four'}, 108: 'two', 110: 'two', 114: {'2': 'two', '4': 'four'}, 115: 'two', 116: 'two', 119: 'two', 122: {'2': 'two', '4': 'four'}, 123: 'two', 124: 'two', 126: 'two', 127: 'two', 130: ..., 133: ChainMap({}, {2: 2}, {3: 3}), 134: 1, 135: ItemsView(ChainMap({}, {2: 2}, {3: 3})), 136: [(3, 3), (2, 2), (1, 1)], 137: 1, 138: {}, 139: {}, 140: {2: 2}, 141: {}}, '_dh': ['/home/hby/projects/wps12th/python/fluentpython/notebook'], 'In': ['', '__builtins__', '__builtins__.__dict__', 'a = {1:1, 2:2}', 'a.pop()', 'a.popitem()', 'a', 'a.pop(1)', 'a', 'a.pop(1)', 'a.setdefault(1)', 'a', 'a.setdefault(2, 1)', 'a', 'a.setdefault(1, [])', 'a', 'a.setdefault(3, [])', 'a', 'a.setdefault(3, [], 2)', 'a.setdefault(3, [])', 'a', 'from collections import Mapping', 'from collections.abc import Mapping', 'help(Mapping)', 'a = Mapping()', \"class TestMapping(Mapping):\\n    def __getitem__(self):\\n        return ''\\n    \\n    def __iter__(self):\\n        return ''\\n    \\n    def __len__(self):\\n        return 0\", 'a = TestMapping()', 'a', 'a[1] = 1', 'a.items()', 'list(a.items())', 'a = [1, 2]\\nb = [3,4]', \"for ab in (f'{a} : {b}' for a, b in zip(a, b)):\\n    print(ab)\", \"for c in (f'{x} : {y}' for x in a for y in b):\\n    print(c)\", 'a = {1:1, 2:2}', 'b = a', 'a[1] = 2', 'b', 'a', 'a = {1:1, 2:2}', 'b = a.copy()', 'b', 'b[1] = 2', 'b', '1', 'a', 'from copy import copy', 'a = copy(b)', 'a', 'b', 'a[1] = 3', 'b', 'a', 'a = {1:[1, 2], 2: [1, 2]}', 'b = copy(a)', 'a', 'b', 'b[1].append(3)', 'a', 'b', 'from copy import deepcopy', 'b = deepcopy(a)', 'b', 'a', 'a[1].append(4)', 'a', 'b', 'a in b', '1 in b', 'del a[1]', 'a', 'b', \"a = {'a':[11, 22], 'A': [33, 44], 'C': [55, 66]}\", 'b = sorted(a, key=str.upper)', 'b', \"class ComportDict(Dict):\\n    def __missing__(self):\\n        return 'a'\", \"class ComportDict(dict):\\n    def __missing__(self):\\n        return 'a'\", 'aa = ComportDict()', 'a[1] = 2', 'a', 'aa[1] = 2', 'aa', 'aa[2]', 'class DefaultListDict(dict):\\n    def __missing__(self, key):\\n        self[key] = []\\n        return self[key]', 'aa = ComportDict()', 'aa[1] = 2', 'aa', 'aa[2]', 'from collections import defaultdict', 'a = defaultdict(a)', 'a = defaultdict(list)', 'a.defaylt)factiry', 'a.default_factory', 'help(a)', 'a = defaultdict(list)', 'a = defaultdict(list)\\na[1] = [1, 2]\\na[2] = [3, 4]', 'a = defaultdict(list)\\na[1] = [1, 2]\\na[2] = [3, 4]\\na[1]', 'a[1]', 'a[3]', 'a', 'a.default_factory', 'class StrKeyDict0(dict):\\n    def __missing__(self, key):\\n        if isinstance(key, str):\\n            raise KeyError(Key)\\n        return self[str[key]]\\n    \\n    ', \"a = StrKeyDict0([('2', 'two'), ('4', 'four')])\", 'a', 'a[2]', 'class StrKeyDict0(dict):\\n    def __missing__(self, key):\\n        if isinstance(key, str):\\n            raise KeyError(Key)\\n        return self[str(key)]\\n    \\n    ', \"a = StrKeyDict0([('2', 'two'), ('4', 'four')])\", 'a', 'a[2]', \"a['2]']\", \"a['2']\", 'a[1]', 'class StrKeyDict0(dict):\\n    def __missing__(self, key):\\n        if isinstance(key, str):\\n            raise KeyError(key)\\n        return self[str(key)]\\n    \\n    ', \"a = StrKeyDict0([('2', 'two'), ('4', 'four')])\", 'a', 'a[2]', \"a['2']\", 'a[1]', 'a.get(2)', \"a.get('2')\", 'class StrKeyDict0(dict):\\n    def __missing__(self, key):\\n        if isinstance(key, str):\\n            raise KeyError(key)\\n        return self[str(key)]\\n    \\n    def get(self, key, default=None):\\n        try:\\n            return self[key]\\n        except KeyError:\\n            return default\\n        \\n    \\n    ', \"a = StrKeyDict0([('2', 'two'), ('4', 'four')])\", 'a', 'a[2]', \"a['2']\", 'a[1]', \"a.get('2')\", 'a.get(2)', 'class StrKeyDict0(dict):\\n    def __missing__(self, key):\\n        if isinstance(key, str):\\n            raise KeyError(key)\\n        return self[str(key)]\\n    \\n    def get(self, key, default=None):\\n        try:\\n            return self[key]\\n        except KeyError:\\n            return default\\n        \\n    def __contains__(self, key):\\n        return key in self.keys() or str(key) in self.keys()\\n        \\n    \\n    ', 'import builtins\\nfrom collections import ChainMap\\n\\npylookup = ChainMap(locals(), globals(), vars(builtins))', 'pylookup', 'a = {1:1}\\nb = {2:2}\\nc = {3:3}', 'chain = ChainMap(a, b, c)', 'chain', 'chain[1]', 'chain.items()', 'list(chain.items())', 'chain.pop(1)', 'a', 'a and b', 'a or b', 'a and b and c', 'locals()'], 'Out': {1: <module 'builtins' (built-in)>, 2: {'__name__': 'builtins', '__doc__': \"Built-in functions, exceptions, and other objects.\\n\\nNoteworthy: None is the `nil' object; Ellipsis represents `...' in slices.\", '__package__': '', '__loader__': <class '_frozen_importlib.BuiltinImporter'>, '__spec__': ModuleSpec(name='builtins', loader=<class '_frozen_importlib.BuiltinImporter'>), '__build_class__': <built-in function __build_class__>, '__import__': <built-in function __import__>, 'abs': <built-in function abs>, 'all': <built-in function all>, 'any': <built-in function any>, 'ascii': <built-in function ascii>, 'bin': <built-in function bin>, 'breakpoint': <built-in function breakpoint>, 'callable': <built-in function callable>, 'chr': <built-in function chr>, 'compile': <built-in function compile>, 'delattr': <built-in function delattr>, 'dir': <built-in function dir>, 'divmod': <built-in function divmod>, 'eval': <built-in function eval>, 'exec': <built-in function exec>, 'format': <built-in function format>, 'getattr': <built-in function getattr>, 'globals': <built-in function globals>, 'hasattr': <built-in function hasattr>, 'hash': <built-in function hash>, 'hex': <built-in function hex>, 'id': <built-in function id>, 'input': <bound method Kernel.raw_input of <ipykernel.ipkernel.IPythonKernel object at 0x7fd6f62ba850>>, 'isinstance': <built-in function isinstance>, 'issubclass': <built-in function issubclass>, 'iter': <built-in function iter>, 'len': <built-in function len>, 'locals': <built-in function locals>, 'max': <built-in function max>, 'min': <built-in function min>, 'next': <built-in function next>, 'oct': <built-in function oct>, 'ord': <built-in function ord>, 'pow': <built-in function pow>, 'print': <built-in function print>, 'repr': <built-in function repr>, 'round': <built-in function round>, 'setattr': <built-in function setattr>, 'sorted': <built-in function sorted>, 'sum': <built-in function sum>, 'vars': <built-in function vars>, 'None': None, 'Ellipsis': Ellipsis, 'NotImplemented': NotImplemented, 'False': False, 'True': True, 'bool': <class 'bool'>, 'memoryview': <class 'memoryview'>, 'bytearray': <class 'bytearray'>, 'bytes': <class 'bytes'>, 'classmethod': <class 'classmethod'>, 'complex': <class 'complex'>, 'dict': <class 'dict'>, 'enumerate': <class 'enumerate'>, 'filter': <class 'filter'>, 'float': <class 'float'>, 'frozenset': <class 'frozenset'>, 'property': <class 'property'>, 'int': <class 'int'>, 'list': <class 'list'>, 'map': <class 'map'>, 'object': <class 'object'>, 'range': <class 'range'>, 'reversed': <class 'reversed'>, 'set': <class 'set'>, 'slice': <class 'slice'>, 'staticmethod': <class 'staticmethod'>, 'str': <class 'str'>, 'super': <class 'super'>, 'tuple': <class 'tuple'>, 'type': <class 'type'>, 'zip': <class 'zip'>, '__debug__': True, 'BaseException': <class 'BaseException'>, 'Exception': <class 'Exception'>, 'TypeError': <class 'TypeError'>, 'StopAsyncIteration': <class 'StopAsyncIteration'>, 'StopIteration': <class 'StopIteration'>, 'GeneratorExit': <class 'GeneratorExit'>, 'SystemExit': <class 'SystemExit'>, 'KeyboardInterrupt': <class 'KeyboardInterrupt'>, 'ImportError': <class 'ImportError'>, 'ModuleNotFoundError': <class 'ModuleNotFoundError'>, 'OSError': <class 'OSError'>, 'EnvironmentError': <class 'OSError'>, 'IOError': <class 'OSError'>, 'EOFError': <class 'EOFError'>, 'RuntimeError': <class 'RuntimeError'>, 'RecursionError': <class 'RecursionError'>, 'NotImplementedError': <class 'NotImplementedError'>, 'NameError': <class 'NameError'>, 'UnboundLocalError': <class 'UnboundLocalError'>, 'AttributeError': <class 'AttributeError'>, 'SyntaxError': <class 'SyntaxError'>, 'IndentationError': <class 'IndentationError'>, 'TabError': <class 'TabError'>, 'LookupError': <class 'LookupError'>, 'IndexError': <class 'IndexError'>, 'KeyError': <class 'KeyError'>, 'ValueError': <class 'ValueError'>, 'UnicodeError': <class 'UnicodeError'>, 'UnicodeEncodeError': <class 'UnicodeEncodeError'>, 'UnicodeDecodeError': <class 'UnicodeDecodeError'>, 'UnicodeTranslateError': <class 'UnicodeTranslateError'>, 'AssertionError': <class 'AssertionError'>, 'ArithmeticError': <class 'ArithmeticError'>, 'FloatingPointError': <class 'FloatingPointError'>, 'OverflowError': <class 'OverflowError'>, 'ZeroDivisionError': <class 'ZeroDivisionError'>, 'SystemError': <class 'SystemError'>, 'ReferenceError': <class 'ReferenceError'>, 'MemoryError': <class 'MemoryError'>, 'BufferError': <class 'BufferError'>, 'Warning': <class 'Warning'>, 'UserWarning': <class 'UserWarning'>, 'DeprecationWarning': <class 'DeprecationWarning'>, 'PendingDeprecationWarning': <class 'PendingDeprecationWarning'>, 'SyntaxWarning': <class 'SyntaxWarning'>, 'RuntimeWarning': <class 'RuntimeWarning'>, 'FutureWarning': <class 'FutureWarning'>, 'ImportWarning': <class 'ImportWarning'>, 'UnicodeWarning': <class 'UnicodeWarning'>, 'BytesWarning': <class 'BytesWarning'>, 'ResourceWarning': <class 'ResourceWarning'>, 'ConnectionError': <class 'ConnectionError'>, 'BlockingIOError': <class 'BlockingIOError'>, 'BrokenPipeError': <class 'BrokenPipeError'>, 'ChildProcessError': <class 'ChildProcessError'>, 'ConnectionAbortedError': <class 'ConnectionAbortedError'>, 'ConnectionRefusedError': <class 'ConnectionRefusedError'>, 'ConnectionResetError': <class 'ConnectionResetError'>, 'FileExistsError': <class 'FileExistsError'>, 'FileNotFoundError': <class 'FileNotFoundError'>, 'IsADirectoryError': <class 'IsADirectoryError'>, 'NotADirectoryError': <class 'NotADirectoryError'>, 'InterruptedError': <class 'InterruptedError'>, 'PermissionError': <class 'PermissionError'>, 'ProcessLookupError': <class 'ProcessLookupError'>, 'TimeoutError': <class 'TimeoutError'>, 'open': <built-in function open>, 'copyright': Copyright (c) 2001-2019 Python Software Foundation.\n",
       "  All Rights Reserved.\n",
       "  \n",
       "  Copyright (c) 2000 BeOpen.com.\n",
       "  All Rights Reserved.\n",
       "  \n",
       "  Copyright (c) 1995-2001 Corporation for National Research Initiatives.\n",
       "  All Rights Reserved.\n",
       "  \n",
       "  Copyright (c) 1991-1995 Stichting Mathematisch Centrum, Amsterdam.\n",
       "  All Rights Reserved., 'credits':     Thanks to CWI, CNRI, BeOpen.com, Zope Corporation and a cast of thousands\n",
       "      for supporting Python development.  See www.python.org for more information., 'license': Type license() to see the full license text, 'help': Type help() for interactive help, or help(object) for help about object., '__IPYTHON__': True, 'display': <function display at 0x7fd6fee21200>, 'get_ipython': <bound method InteractiveShell.get_ipython of <ipykernel.zmqshell.ZMQInteractiveShell object at 0x7fd6f629f210>>}, 5: (2, 2), 6: {1: None, 2: 1, 3: []}, 7: 1, 8: {1: None, 2: 1, 3: []}, 11: {1: None, 2: 1, 3: []}, 12: 1, 13: {1: None, 2: 1, 3: []}, 15: {1: None, 2: 1, 3: []}, 16: [], 17: {1: None, 2: 1, 3: []}, 19: [], 20: {1: None, 2: 1, 3: []}, 27: <__main__.TestMapping object at 0x7fd6f41384d0>, 29: ItemsView(<__main__.TestMapping object at 0x7fd6f41384d0>), 37: {1: 2, 2: 2}, 38: {1: 2, 2: 2}, 41: {1: 2, 2: 2}, 43: {1: 2, 2: 2}, 44: 1, 45: {1: 1, 2: 2}, 48: {1: 3, 2: 2}, 49: {1: 2, 2: 2}, 51: {1: 2, 2: 2}, 52: {1: 3, 2: 2}, 55: {2: [1, 2]}, 56: {1: [1, 2, 3, 4], 2: [1, 2]}, 58: {2: [1, 2]}, 59: {1: [1, 2, 3, 4], 2: [1, 2]}, 62: {1: [1, 2, 3], 2: [1, 2]}, 63: {2: [1, 2]}, 65: {2: [1, 2]}, 66: {1: [1, 2, 3], 2: [1, 2]}, 68: True, 70: {2: [1, 2]}, 71: {1: [1, 2, 3], 2: [1, 2]}, 74: ['a', 'A', 'C'], 79: {'a': [11, 22], 'A': [33, 44], 'C': [55, 66], 1: 2}, 81: {1: 2}, 86: {1: 2}, 92: <class 'list'>, 96: [1, 2], 97: [1, 2], 98: [], 99: defaultdict(<class 'list'>, {1: [1, 2], 2: [3, 4], 3: []}), 100: <class 'list'>, 103: {'2': 'two', '4': 'four'}, 107: {'2': 'two', '4': 'four'}, 108: 'two', 110: 'two', 114: {'2': 'two', '4': 'four'}, 115: 'two', 116: 'two', 119: 'two', 122: {'2': 'two', '4': 'four'}, 123: 'two', 124: 'two', 126: 'two', 127: 'two', 130: ..., 133: ChainMap({}, {2: 2}, {3: 3}), 134: 1, 135: ItemsView(ChainMap({}, {2: 2}, {3: 3})), 136: [(3, 3), (2, 2), (1, 1)], 137: 1, 138: {}, 139: {}, 140: {2: 2}, 141: {}}, 'get_ipython': <bound method InteractiveShell.get_ipython of <ipykernel.zmqshell.ZMQInteractiveShell object at 0x7fd6f629f210>>, 'exit': <IPython.core.autocall.ZMQExitAutocall object at 0x7fd6f627ded0>, 'quit': <IPython.core.autocall.ZMQExitAutocall object at 0x7fd6f627ded0>, '_': {}, '__': {2: 2}, '___': {}, '_i': 'a and b and c', '_ii': 'a or b', '_iii': 'a and b', '_i1': '__builtins__', '_1': <module 'builtins' (built-in)>, '_i2': '__builtins__.__dict__', '_2': {'__name__': 'builtins', '__doc__': \"Built-in functions, exceptions, and other objects.\\n\\nNoteworthy: None is the `nil' object; Ellipsis represents `...' in slices.\", '__package__': '', '__loader__': <class '_frozen_importlib.BuiltinImporter'>, '__spec__': ModuleSpec(name='builtins', loader=<class '_frozen_importlib.BuiltinImporter'>), '__build_class__': <built-in function __build_class__>, '__import__': <built-in function __import__>, 'abs': <built-in function abs>, 'all': <built-in function all>, 'any': <built-in function any>, 'ascii': <built-in function ascii>, 'bin': <built-in function bin>, 'breakpoint': <built-in function breakpoint>, 'callable': <built-in function callable>, 'chr': <built-in function chr>, 'compile': <built-in function compile>, 'delattr': <built-in function delattr>, 'dir': <built-in function dir>, 'divmod': <built-in function divmod>, 'eval': <built-in function eval>, 'exec': <built-in function exec>, 'format': <built-in function format>, 'getattr': <built-in function getattr>, 'globals': <built-in function globals>, 'hasattr': <built-in function hasattr>, 'hash': <built-in function hash>, 'hex': <built-in function hex>, 'id': <built-in function id>, 'input': <bound method Kernel.raw_input of <ipykernel.ipkernel.IPythonKernel object at 0x7fd6f62ba850>>, 'isinstance': <built-in function isinstance>, 'issubclass': <built-in function issubclass>, 'iter': <built-in function iter>, 'len': <built-in function len>, 'locals': <built-in function locals>, 'max': <built-in function max>, 'min': <built-in function min>, 'next': <built-in function next>, 'oct': <built-in function oct>, 'ord': <built-in function ord>, 'pow': <built-in function pow>, 'print': <built-in function print>, 'repr': <built-in function repr>, 'round': <built-in function round>, 'setattr': <built-in function setattr>, 'sorted': <built-in function sorted>, 'sum': <built-in function sum>, 'vars': <built-in function vars>, 'None': None, 'Ellipsis': Ellipsis, 'NotImplemented': NotImplemented, 'False': False, 'True': True, 'bool': <class 'bool'>, 'memoryview': <class 'memoryview'>, 'bytearray': <class 'bytearray'>, 'bytes': <class 'bytes'>, 'classmethod': <class 'classmethod'>, 'complex': <class 'complex'>, 'dict': <class 'dict'>, 'enumerate': <class 'enumerate'>, 'filter': <class 'filter'>, 'float': <class 'float'>, 'frozenset': <class 'frozenset'>, 'property': <class 'property'>, 'int': <class 'int'>, 'list': <class 'list'>, 'map': <class 'map'>, 'object': <class 'object'>, 'range': <class 'range'>, 'reversed': <class 'reversed'>, 'set': <class 'set'>, 'slice': <class 'slice'>, 'staticmethod': <class 'staticmethod'>, 'str': <class 'str'>, 'super': <class 'super'>, 'tuple': <class 'tuple'>, 'type': <class 'type'>, 'zip': <class 'zip'>, '__debug__': True, 'BaseException': <class 'BaseException'>, 'Exception': <class 'Exception'>, 'TypeError': <class 'TypeError'>, 'StopAsyncIteration': <class 'StopAsyncIteration'>, 'StopIteration': <class 'StopIteration'>, 'GeneratorExit': <class 'GeneratorExit'>, 'SystemExit': <class 'SystemExit'>, 'KeyboardInterrupt': <class 'KeyboardInterrupt'>, 'ImportError': <class 'ImportError'>, 'ModuleNotFoundError': <class 'ModuleNotFoundError'>, 'OSError': <class 'OSError'>, 'EnvironmentError': <class 'OSError'>, 'IOError': <class 'OSError'>, 'EOFError': <class 'EOFError'>, 'RuntimeError': <class 'RuntimeError'>, 'RecursionError': <class 'RecursionError'>, 'NotImplementedError': <class 'NotImplementedError'>, 'NameError': <class 'NameError'>, 'UnboundLocalError': <class 'UnboundLocalError'>, 'AttributeError': <class 'AttributeError'>, 'SyntaxError': <class 'SyntaxError'>, 'IndentationError': <class 'IndentationError'>, 'TabError': <class 'TabError'>, 'LookupError': <class 'LookupError'>, 'IndexError': <class 'IndexError'>, 'KeyError': <class 'KeyError'>, 'ValueError': <class 'ValueError'>, 'UnicodeError': <class 'UnicodeError'>, 'UnicodeEncodeError': <class 'UnicodeEncodeError'>, 'UnicodeDecodeError': <class 'UnicodeDecodeError'>, 'UnicodeTranslateError': <class 'UnicodeTranslateError'>, 'AssertionError': <class 'AssertionError'>, 'ArithmeticError': <class 'ArithmeticError'>, 'FloatingPointError': <class 'FloatingPointError'>, 'OverflowError': <class 'OverflowError'>, 'ZeroDivisionError': <class 'ZeroDivisionError'>, 'SystemError': <class 'SystemError'>, 'ReferenceError': <class 'ReferenceError'>, 'MemoryError': <class 'MemoryError'>, 'BufferError': <class 'BufferError'>, 'Warning': <class 'Warning'>, 'UserWarning': <class 'UserWarning'>, 'DeprecationWarning': <class 'DeprecationWarning'>, 'PendingDeprecationWarning': <class 'PendingDeprecationWarning'>, 'SyntaxWarning': <class 'SyntaxWarning'>, 'RuntimeWarning': <class 'RuntimeWarning'>, 'FutureWarning': <class 'FutureWarning'>, 'ImportWarning': <class 'ImportWarning'>, 'UnicodeWarning': <class 'UnicodeWarning'>, 'BytesWarning': <class 'BytesWarning'>, 'ResourceWarning': <class 'ResourceWarning'>, 'ConnectionError': <class 'ConnectionError'>, 'BlockingIOError': <class 'BlockingIOError'>, 'BrokenPipeError': <class 'BrokenPipeError'>, 'ChildProcessError': <class 'ChildProcessError'>, 'ConnectionAbortedError': <class 'ConnectionAbortedError'>, 'ConnectionRefusedError': <class 'ConnectionRefusedError'>, 'ConnectionResetError': <class 'ConnectionResetError'>, 'FileExistsError': <class 'FileExistsError'>, 'FileNotFoundError': <class 'FileNotFoundError'>, 'IsADirectoryError': <class 'IsADirectoryError'>, 'NotADirectoryError': <class 'NotADirectoryError'>, 'InterruptedError': <class 'InterruptedError'>, 'PermissionError': <class 'PermissionError'>, 'ProcessLookupError': <class 'ProcessLookupError'>, 'TimeoutError': <class 'TimeoutError'>, 'open': <built-in function open>, 'copyright': Copyright (c) 2001-2019 Python Software Foundation.\n",
       "  All Rights Reserved.\n",
       "  \n",
       "  Copyright (c) 2000 BeOpen.com.\n",
       "  All Rights Reserved.\n",
       "  \n",
       "  Copyright (c) 1995-2001 Corporation for National Research Initiatives.\n",
       "  All Rights Reserved.\n",
       "  \n",
       "  Copyright (c) 1991-1995 Stichting Mathematisch Centrum, Amsterdam.\n",
       "  All Rights Reserved., 'credits':     Thanks to CWI, CNRI, BeOpen.com, Zope Corporation and a cast of thousands\n",
       "      for supporting Python development.  See www.python.org for more information., 'license': Type license() to see the full license text, 'help': Type help() for interactive help, or help(object) for help about object., '__IPYTHON__': True, 'display': <function display at 0x7fd6fee21200>, 'get_ipython': <bound method InteractiveShell.get_ipython of <ipykernel.zmqshell.ZMQInteractiveShell object at 0x7fd6f629f210>>}, '_i3': 'a = {1:1, 2:2}', 'a': {}, '_i4': 'a.pop()', '_i5': 'a.popitem()', '_5': (2, 2), '_i6': 'a', '_6': {1: None, 2: 1, 3: []}, '_i7': 'a.pop(1)', '_7': 1, '_i8': 'a', '_8': {1: None, 2: 1, 3: []}, '_i9': 'a.pop(1)', '_i10': 'a.setdefault(1)', '_i11': 'a', '_11': {1: None, 2: 1, 3: []}, '_i12': 'a.setdefault(2, 1)', '_12': 1, '_i13': 'a', '_13': {1: None, 2: 1, 3: []}, '_i14': 'a.setdefault(1, [])', '_i15': 'a', '_15': {1: None, 2: 1, 3: []}, '_i16': 'a.setdefault(3, [])', '_16': [], '_i17': 'a', '_17': {1: None, 2: 1, 3: []}, '_i18': 'a.setdefault(3, [], 2)', '_i19': 'a.setdefault(3, [])', '_19': [], '_i20': 'a', '_20': {1: None, 2: 1, 3: []}, '_i21': 'from collections import Mapping', 'Mapping': <class 'collections.abc.Mapping'>, '_i22': 'from collections.abc import Mapping', '_i23': 'help(Mapping)', '_i24': 'a = Mapping()', '_i25': \"class TestMapping(Mapping):\\n    def __getitem__(self):\\n        return ''\\n    \\n    def __iter__(self):\\n        return ''\\n    \\n    def __len__(self):\\n        return 0\", 'TestMapping': <class '__main__.TestMapping'>, '_i26': 'a = TestMapping()', '_i27': 'a', '_27': <__main__.TestMapping object at 0x7fd6f41384d0>, '_i28': 'a[1] = 1', '_i29': 'a.items()', '_29': ItemsView(<__main__.TestMapping object at 0x7fd6f41384d0>), '_i30': 'list(a.items())', '_i31': 'a = [1, 2]\\nb = [3,4]', 'b': {2: 2}, '_i32': \"for ab in (f'{a} : {b}' for a, b in zip(a, b)):\\n    print(ab)\", 'ab': '2 : 4', '_i33': \"for c in (f'{x} : {y}' for x in a for y in b):\\n    print(c)\", 'c': {3: 3}, '_i34': 'a = {1:1, 2:2}', '_i35': 'b = a', '_i36': 'a[1] = 2', '_i37': 'b', '_37': {1: 2, 2: 2}, '_i38': 'a', '_38': {1: 2, 2: 2}, '_i39': 'a = {1:1, 2:2}', '_i40': 'b = a.copy()', '_i41': 'b', '_41': {1: 2, 2: 2}, '_i42': 'b[1] = 2', '_i43': 'b', '_43': {1: 2, 2: 2}, '_i44': '1', '_44': 1, '_i45': 'a', '_45': {1: 1, 2: 2}, '_i46': 'from copy import copy', 'copy': <function copy at 0x7fd6feeaa3b0>, '_i47': 'a = copy(b)', '_i48': 'a', '_48': {1: 3, 2: 2}, '_i49': 'b', '_49': {1: 2, 2: 2}, '_i50': 'a[1] = 3', '_i51': 'b', '_51': {1: 2, 2: 2}, '_i52': 'a', '_52': {1: 3, 2: 2}, '_i53': 'a = {1:[1, 2], 2: [1, 2]}', '_i54': 'b = copy(a)', '_i55': 'a', '_55': {2: [1, 2]}, '_i56': 'b', '_56': {1: [1, 2, 3, 4], 2: [1, 2]}, '_i57': 'b[1].append(3)', '_i58': 'a', '_58': {2: [1, 2]}, '_i59': 'b', '_59': {1: [1, 2, 3, 4], 2: [1, 2]}, '_i60': 'from copy import deepcopy', 'deepcopy': <function deepcopy at 0x7fd6feeaad40>, '_i61': 'b = deepcopy(a)', '_i62': 'b', '_62': {1: [1, 2, 3], 2: [1, 2]}, '_i63': 'a', '_63': {2: [1, 2]}, '_i64': 'a[1].append(4)', '_i65': 'a', '_65': {2: [1, 2]}, '_i66': 'b', '_66': {1: [1, 2, 3], 2: [1, 2]}, '_i67': 'a in b', '_i68': '1 in b', '_68': True, '_i69': 'del a[1]', '_i70': 'a', '_70': {2: [1, 2]}, '_i71': 'b', '_71': {1: [1, 2, 3], 2: [1, 2]}, '_i72': \"a = {'a':[11, 22], 'A': [33, 44], 'C': [55, 66]}\", '_i73': 'b = sorted(a, key=str.upper)', '_i74': 'b', '_74': ['a', 'A', 'C'], '_i75': \"class ComportDict(Dict):\\n    def __missing__(self):\\n        return 'a'\", '_i76': \"class ComportDict(dict):\\n    def __missing__(self):\\n        return 'a'\", 'ComportDict': <class '__main__.ComportDict'>, '_i77': 'aa = ComportDict()', 'aa': {1: 2}, '_i78': 'a[1] = 2', '_i79': 'a', '_79': {'a': [11, 22], 'A': [33, 44], 'C': [55, 66], 1: 2}, '_i80': 'aa[1] = 2', '_i81': 'aa', '_81': {1: 2}, '_i82': 'aa[2]', '_i83': 'class DefaultListDict(dict):\\n    def __missing__(self, key):\\n        self[key] = []\\n        return self[key]', 'DefaultListDict': <class '__main__.DefaultListDict'>, '_i84': 'aa = ComportDict()', '_i85': 'aa[1] = 2', '_i86': 'aa', '_86': {1: 2}, '_i87': 'aa[2]', '_i88': 'from collections import defaultdict', 'defaultdict': <class 'collections.defaultdict'>, '_i89': 'a = defaultdict(a)', '_i90': 'a = defaultdict(list)', '_i91': 'a.defaylt)factiry', '_i92': 'a.default_factory', '_92': <class 'list'>, '_i93': 'help(a)', '_i94': 'a = defaultdict(list)', '_i95': 'a = defaultdict(list)\\na[1] = [1, 2]\\na[2] = [3, 4]', '_i96': 'a = defaultdict(list)\\na[1] = [1, 2]\\na[2] = [3, 4]\\na[1]', '_96': [1, 2], '_i97': 'a[1]', '_97': [1, 2], '_i98': 'a[3]', '_98': [], '_i99': 'a', '_99': defaultdict(<class 'list'>, {1: [1, 2], 2: [3, 4], 3: []}), '_i100': 'a.default_factory', '_100': <class 'list'>, '_i101': 'class StrKeyDict0(dict):\\n    def __missing__(self, key):\\n        if isinstance(key, str):\\n            raise KeyError(Key)\\n        return self[str[key]]\\n    \\n    ', 'StrKeyDict0': <class '__main__.StrKeyDict0'>, '_i102': \"a = StrKeyDict0([('2', 'two'), ('4', 'four')])\", '_i103': 'a', '_103': {'2': 'two', '4': 'four'}, '_i104': 'a[2]', '_i105': 'class StrKeyDict0(dict):\\n    def __missing__(self, key):\\n        if isinstance(key, str):\\n            raise KeyError(Key)\\n        return self[str(key)]\\n    \\n    ', '_i106': \"a = StrKeyDict0([('2', 'two'), ('4', 'four')])\", '_i107': 'a', '_107': {'2': 'two', '4': 'four'}, '_i108': 'a[2]', '_108': 'two', '_i109': \"a['2]']\", '_i110': \"a['2']\", '_110': 'two', '_i111': 'a[1]', '_i112': 'class StrKeyDict0(dict):\\n    def __missing__(self, key):\\n        if isinstance(key, str):\\n            raise KeyError(key)\\n        return self[str(key)]\\n    \\n    ', '_i113': \"a = StrKeyDict0([('2', 'two'), ('4', 'four')])\", '_i114': 'a', '_114': {'2': 'two', '4': 'four'}, '_i115': 'a[2]', '_115': 'two', '_i116': \"a['2']\", '_116': 'two', '_i117': 'a[1]', '_i118': 'a.get(2)', '_i119': \"a.get('2')\", '_119': 'two', '_i120': 'class StrKeyDict0(dict):\\n    def __missing__(self, key):\\n        if isinstance(key, str):\\n            raise KeyError(key)\\n        return self[str(key)]\\n    \\n    def get(self, key, default=None):\\n        try:\\n            return self[key]\\n        except KeyError:\\n            return default\\n        \\n    \\n    ', '_i121': \"a = StrKeyDict0([('2', 'two'), ('4', 'four')])\", '_i122': 'a', '_122': {'2': 'two', '4': 'four'}, '_i123': 'a[2]', '_123': 'two', '_i124': \"a['2']\", '_124': 'two', '_i125': 'a[1]', '_i126': \"a.get('2')\", '_126': 'two', '_i127': 'a.get(2)', '_127': 'two', '_i128': 'class StrKeyDict0(dict):\\n    def __missing__(self, key):\\n        if isinstance(key, str):\\n            raise KeyError(key)\\n        return self[str(key)]\\n    \\n    def get(self, key, default=None):\\n        try:\\n            return self[key]\\n        except KeyError:\\n            return default\\n        \\n    def __contains__(self, key):\\n        return key in self.keys() or str(key) in self.keys()\\n        \\n    \\n    ', '_i129': 'import builtins\\nfrom collections import ChainMap\\n\\npylookup = ChainMap(locals(), globals(), vars(builtins))', 'builtins': <module 'builtins' (built-in)>, 'ChainMap': <class 'collections.ChainMap'>, 'pylookup': ..., '_i130': 'pylookup', '_130': ..., '_i131': 'a = {1:1}\\nb = {2:2}\\nc = {3:3}', '_i132': 'chain = ChainMap(a, b, c)', 'chain': ChainMap({}, {2: 2}, {3: 3}), '_i133': 'chain', '_133': ChainMap({}, {2: 2}, {3: 3}), '_i134': 'chain[1]', '_134': 1, '_i135': 'chain.items()', '_135': ItemsView(ChainMap({}, {2: 2}, {3: 3})), '_i136': 'list(chain.items())', '_136': [(3, 3), (2, 2), (1, 1)], '_i137': 'chain.pop(1)', '_137': 1, '_i138': 'a', '_138': {}, '_i139': 'a and b', '_139': {}, '_i140': 'a or b', '_140': {2: 2}, '_i141': 'a and b and c', '_141': {}, '_i142': 'locals()'}, {'__name__': 'builtins', '__doc__': \"Built-in functions, exceptions, and other objects.\\n\\nNoteworthy: None is the `nil' object; Ellipsis represents `...' in slices.\", '__package__': '', '__loader__': <class '_frozen_importlib.BuiltinImporter'>, '__spec__': ModuleSpec(name='builtins', loader=<class '_frozen_importlib.BuiltinImporter'>), '__build_class__': <built-in function __build_class__>, '__import__': <built-in function __import__>, 'abs': <built-in function abs>, 'all': <built-in function all>, 'any': <built-in function any>, 'ascii': <built-in function ascii>, 'bin': <built-in function bin>, 'breakpoint': <built-in function breakpoint>, 'callable': <built-in function callable>, 'chr': <built-in function chr>, 'compile': <built-in function compile>, 'delattr': <built-in function delattr>, 'dir': <built-in function dir>, 'divmod': <built-in function divmod>, 'eval': <built-in function eval>, 'exec': <built-in function exec>, 'format': <built-in function format>, 'getattr': <built-in function getattr>, 'globals': <built-in function globals>, 'hasattr': <built-in function hasattr>, 'hash': <built-in function hash>, 'hex': <built-in function hex>, 'id': <built-in function id>, 'input': <bound method Kernel.raw_input of <ipykernel.ipkernel.IPythonKernel object at 0x7fd6f62ba850>>, 'isinstance': <built-in function isinstance>, 'issubclass': <built-in function issubclass>, 'iter': <built-in function iter>, 'len': <built-in function len>, 'locals': <built-in function locals>, 'max': <built-in function max>, 'min': <built-in function min>, 'next': <built-in function next>, 'oct': <built-in function oct>, 'ord': <built-in function ord>, 'pow': <built-in function pow>, 'print': <built-in function print>, 'repr': <built-in function repr>, 'round': <built-in function round>, 'setattr': <built-in function setattr>, 'sorted': <built-in function sorted>, 'sum': <built-in function sum>, 'vars': <built-in function vars>, 'None': None, 'Ellipsis': Ellipsis, 'NotImplemented': NotImplemented, 'False': False, 'True': True, 'bool': <class 'bool'>, 'memoryview': <class 'memoryview'>, 'bytearray': <class 'bytearray'>, 'bytes': <class 'bytes'>, 'classmethod': <class 'classmethod'>, 'complex': <class 'complex'>, 'dict': <class 'dict'>, 'enumerate': <class 'enumerate'>, 'filter': <class 'filter'>, 'float': <class 'float'>, 'frozenset': <class 'frozenset'>, 'property': <class 'property'>, 'int': <class 'int'>, 'list': <class 'list'>, 'map': <class 'map'>, 'object': <class 'object'>, 'range': <class 'range'>, 'reversed': <class 'reversed'>, 'set': <class 'set'>, 'slice': <class 'slice'>, 'staticmethod': <class 'staticmethod'>, 'str': <class 'str'>, 'super': <class 'super'>, 'tuple': <class 'tuple'>, 'type': <class 'type'>, 'zip': <class 'zip'>, '__debug__': True, 'BaseException': <class 'BaseException'>, 'Exception': <class 'Exception'>, 'TypeError': <class 'TypeError'>, 'StopAsyncIteration': <class 'StopAsyncIteration'>, 'StopIteration': <class 'StopIteration'>, 'GeneratorExit': <class 'GeneratorExit'>, 'SystemExit': <class 'SystemExit'>, 'KeyboardInterrupt': <class 'KeyboardInterrupt'>, 'ImportError': <class 'ImportError'>, 'ModuleNotFoundError': <class 'ModuleNotFoundError'>, 'OSError': <class 'OSError'>, 'EnvironmentError': <class 'OSError'>, 'IOError': <class 'OSError'>, 'EOFError': <class 'EOFError'>, 'RuntimeError': <class 'RuntimeError'>, 'RecursionError': <class 'RecursionError'>, 'NotImplementedError': <class 'NotImplementedError'>, 'NameError': <class 'NameError'>, 'UnboundLocalError': <class 'UnboundLocalError'>, 'AttributeError': <class 'AttributeError'>, 'SyntaxError': <class 'SyntaxError'>, 'IndentationError': <class 'IndentationError'>, 'TabError': <class 'TabError'>, 'LookupError': <class 'LookupError'>, 'IndexError': <class 'IndexError'>, 'KeyError': <class 'KeyError'>, 'ValueError': <class 'ValueError'>, 'UnicodeError': <class 'UnicodeError'>, 'UnicodeEncodeError': <class 'UnicodeEncodeError'>, 'UnicodeDecodeError': <class 'UnicodeDecodeError'>, 'UnicodeTranslateError': <class 'UnicodeTranslateError'>, 'AssertionError': <class 'AssertionError'>, 'ArithmeticError': <class 'ArithmeticError'>, 'FloatingPointError': <class 'FloatingPointError'>, 'OverflowError': <class 'OverflowError'>, 'ZeroDivisionError': <class 'ZeroDivisionError'>, 'SystemError': <class 'SystemError'>, 'ReferenceError': <class 'ReferenceError'>, 'MemoryError': <class 'MemoryError'>, 'BufferError': <class 'BufferError'>, 'Warning': <class 'Warning'>, 'UserWarning': <class 'UserWarning'>, 'DeprecationWarning': <class 'DeprecationWarning'>, 'PendingDeprecationWarning': <class 'PendingDeprecationWarning'>, 'SyntaxWarning': <class 'SyntaxWarning'>, 'RuntimeWarning': <class 'RuntimeWarning'>, 'FutureWarning': <class 'FutureWarning'>, 'ImportWarning': <class 'ImportWarning'>, 'UnicodeWarning': <class 'UnicodeWarning'>, 'BytesWarning': <class 'BytesWarning'>, 'ResourceWarning': <class 'ResourceWarning'>, 'ConnectionError': <class 'ConnectionError'>, 'BlockingIOError': <class 'BlockingIOError'>, 'BrokenPipeError': <class 'BrokenPipeError'>, 'ChildProcessError': <class 'ChildProcessError'>, 'ConnectionAbortedError': <class 'ConnectionAbortedError'>, 'ConnectionRefusedError': <class 'ConnectionRefusedError'>, 'ConnectionResetError': <class 'ConnectionResetError'>, 'FileExistsError': <class 'FileExistsError'>, 'FileNotFoundError': <class 'FileNotFoundError'>, 'IsADirectoryError': <class 'IsADirectoryError'>, 'NotADirectoryError': <class 'NotADirectoryError'>, 'InterruptedError': <class 'InterruptedError'>, 'PermissionError': <class 'PermissionError'>, 'ProcessLookupError': <class 'ProcessLookupError'>, 'TimeoutError': <class 'TimeoutError'>, 'open': <built-in function open>, 'copyright': Copyright (c) 2001-2019 Python Software Foundation.\n",
       "  All Rights Reserved.\n",
       "  \n",
       "  Copyright (c) 2000 BeOpen.com.\n",
       "  All Rights Reserved.\n",
       "  \n",
       "  Copyright (c) 1995-2001 Corporation for National Research Initiatives.\n",
       "  All Rights Reserved.\n",
       "  \n",
       "  Copyright (c) 1991-1995 Stichting Mathematisch Centrum, Amsterdam.\n",
       "  All Rights Reserved., 'credits':     Thanks to CWI, CNRI, BeOpen.com, Zope Corporation and a cast of thousands\n",
       "      for supporting Python development.  See www.python.org for more information., 'license': Type license() to see the full license text, 'help': Type help() for interactive help, or help(object) for help about object., '__IPYTHON__': True, 'display': <function display at 0x7fd6fee21200>, 'get_ipython': <bound method InteractiveShell.get_ipython of <ipykernel.zmqshell.ZMQInteractiveShell object at 0x7fd6f629f210>>}),\n",
       "  133: ChainMap({}, {2: 2}, {3: 3}),\n",
       "  134: 1,\n",
       "  135: ItemsView(ChainMap({}, {2: 2}, {3: 3})),\n",
       "  136: [(3, 3), (2, 2), (1, 1)],\n",
       "  137: 1,\n",
       "  138: {},\n",
       "  139: {},\n",
       "  140: {2: 2},\n",
       "  141: {}},\n",
       " 'get_ipython': <bound method InteractiveShell.get_ipython of <ipykernel.zmqshell.ZMQInteractiveShell object at 0x7fd6f629f210>>,\n",
       " 'exit': <IPython.core.autocall.ZMQExitAutocall at 0x7fd6f627ded0>,\n",
       " 'quit': <IPython.core.autocall.ZMQExitAutocall at 0x7fd6f627ded0>,\n",
       " '_': {},\n",
       " '__': {2: 2},\n",
       " '___': {},\n",
       " '_i': 'a and b and c',\n",
       " '_ii': 'a or b',\n",
       " '_iii': 'a and b',\n",
       " '_i1': '__builtins__',\n",
       " '_1': <module 'builtins' (built-in)>,\n",
       " '_i2': '__builtins__.__dict__',\n",
       " '_2': {'__name__': 'builtins',\n",
       "  '__doc__': \"Built-in functions, exceptions, and other objects.\\n\\nNoteworthy: None is the `nil' object; Ellipsis represents `...' in slices.\",\n",
       "  '__package__': '',\n",
       "  '__loader__': _frozen_importlib.BuiltinImporter,\n",
       "  '__spec__': ModuleSpec(name='builtins', loader=<class '_frozen_importlib.BuiltinImporter'>),\n",
       "  '__build_class__': <function __build_class__>,\n",
       "  '__import__': <function __import__>,\n",
       "  'abs': <function abs(x, /)>,\n",
       "  'all': <function all(iterable, /)>,\n",
       "  'any': <function any(iterable, /)>,\n",
       "  'ascii': <function ascii(obj, /)>,\n",
       "  'bin': <function bin(number, /)>,\n",
       "  'breakpoint': <function breakpoint>,\n",
       "  'callable': <function callable(obj, /)>,\n",
       "  'chr': <function chr(i, /)>,\n",
       "  'compile': <function compile(source, filename, mode, flags=0, dont_inherit=False, optimize=-1)>,\n",
       "  'delattr': <function delattr(obj, name, /)>,\n",
       "  'dir': <function dir>,\n",
       "  'divmod': <function divmod(x, y, /)>,\n",
       "  'eval': <function eval(source, globals=None, locals=None, /)>,\n",
       "  'exec': <function exec(source, globals=None, locals=None, /)>,\n",
       "  'format': <function format(value, format_spec='', /)>,\n",
       "  'getattr': <function getattr>,\n",
       "  'globals': <function globals()>,\n",
       "  'hasattr': <function hasattr(obj, name, /)>,\n",
       "  'hash': <function hash(obj, /)>,\n",
       "  'hex': <function hex(number, /)>,\n",
       "  'id': <function id(obj, /)>,\n",
       "  'input': <bound method Kernel.raw_input of <ipykernel.ipkernel.IPythonKernel object at 0x7fd6f62ba850>>,\n",
       "  'isinstance': <function isinstance(obj, class_or_tuple, /)>,\n",
       "  'issubclass': <function issubclass(cls, class_or_tuple, /)>,\n",
       "  'iter': <function iter>,\n",
       "  'len': <function len(obj, /)>,\n",
       "  'locals': <function locals()>,\n",
       "  'max': <function max>,\n",
       "  'min': <function min>,\n",
       "  'next': <function next>,\n",
       "  'oct': <function oct(number, /)>,\n",
       "  'ord': <function ord(c, /)>,\n",
       "  'pow': <function pow(x, y, z=None, /)>,\n",
       "  'print': <function print>,\n",
       "  'repr': <function repr(obj, /)>,\n",
       "  'round': <function round(number, ndigits=None)>,\n",
       "  'setattr': <function setattr(obj, name, value, /)>,\n",
       "  'sorted': <function sorted(iterable, /, *, key=None, reverse=False)>,\n",
       "  'sum': <function sum(iterable, start=0, /)>,\n",
       "  'vars': <function vars>,\n",
       "  'None': None,\n",
       "  'Ellipsis': Ellipsis,\n",
       "  'NotImplemented': NotImplemented,\n",
       "  'False': False,\n",
       "  'True': True,\n",
       "  'bool': bool,\n",
       "  'memoryview': memoryview,\n",
       "  'bytearray': bytearray,\n",
       "  'bytes': bytes,\n",
       "  'classmethod': classmethod,\n",
       "  'complex': complex,\n",
       "  'dict': dict,\n",
       "  'enumerate': enumerate,\n",
       "  'filter': filter,\n",
       "  'float': float,\n",
       "  'frozenset': frozenset,\n",
       "  'property': property,\n",
       "  'int': int,\n",
       "  'list': list,\n",
       "  'map': map,\n",
       "  'object': object,\n",
       "  'range': range,\n",
       "  'reversed': reversed,\n",
       "  'set': set,\n",
       "  'slice': slice,\n",
       "  'staticmethod': staticmethod,\n",
       "  'str': str,\n",
       "  'super': super,\n",
       "  'tuple': tuple,\n",
       "  'type': type,\n",
       "  'zip': zip,\n",
       "  '__debug__': True,\n",
       "  'BaseException': BaseException,\n",
       "  'Exception': Exception,\n",
       "  'TypeError': TypeError,\n",
       "  'StopAsyncIteration': StopAsyncIteration,\n",
       "  'StopIteration': StopIteration,\n",
       "  'GeneratorExit': GeneratorExit,\n",
       "  'SystemExit': SystemExit,\n",
       "  'KeyboardInterrupt': KeyboardInterrupt,\n",
       "  'ImportError': ImportError,\n",
       "  'ModuleNotFoundError': ModuleNotFoundError,\n",
       "  'OSError': OSError,\n",
       "  'EnvironmentError': OSError,\n",
       "  'IOError': OSError,\n",
       "  'EOFError': EOFError,\n",
       "  'RuntimeError': RuntimeError,\n",
       "  'RecursionError': RecursionError,\n",
       "  'NotImplementedError': NotImplementedError,\n",
       "  'NameError': NameError,\n",
       "  'UnboundLocalError': UnboundLocalError,\n",
       "  'AttributeError': AttributeError,\n",
       "  'SyntaxError': SyntaxError,\n",
       "  'IndentationError': IndentationError,\n",
       "  'TabError': TabError,\n",
       "  'LookupError': LookupError,\n",
       "  'IndexError': IndexError,\n",
       "  'KeyError': KeyError,\n",
       "  'ValueError': ValueError,\n",
       "  'UnicodeError': UnicodeError,\n",
       "  'UnicodeEncodeError': UnicodeEncodeError,\n",
       "  'UnicodeDecodeError': UnicodeDecodeError,\n",
       "  'UnicodeTranslateError': UnicodeTranslateError,\n",
       "  'AssertionError': AssertionError,\n",
       "  'ArithmeticError': ArithmeticError,\n",
       "  'FloatingPointError': FloatingPointError,\n",
       "  'OverflowError': OverflowError,\n",
       "  'ZeroDivisionError': ZeroDivisionError,\n",
       "  'SystemError': SystemError,\n",
       "  'ReferenceError': ReferenceError,\n",
       "  'MemoryError': MemoryError,\n",
       "  'BufferError': BufferError,\n",
       "  'Warning': Warning,\n",
       "  'UserWarning': UserWarning,\n",
       "  'DeprecationWarning': DeprecationWarning,\n",
       "  'PendingDeprecationWarning': PendingDeprecationWarning,\n",
       "  'SyntaxWarning': SyntaxWarning,\n",
       "  'RuntimeWarning': RuntimeWarning,\n",
       "  'FutureWarning': FutureWarning,\n",
       "  'ImportWarning': ImportWarning,\n",
       "  'UnicodeWarning': UnicodeWarning,\n",
       "  'BytesWarning': BytesWarning,\n",
       "  'ResourceWarning': ResourceWarning,\n",
       "  'ConnectionError': ConnectionError,\n",
       "  'BlockingIOError': BlockingIOError,\n",
       "  'BrokenPipeError': BrokenPipeError,\n",
       "  'ChildProcessError': ChildProcessError,\n",
       "  'ConnectionAbortedError': ConnectionAbortedError,\n",
       "  'ConnectionRefusedError': ConnectionRefusedError,\n",
       "  'ConnectionResetError': ConnectionResetError,\n",
       "  'FileExistsError': FileExistsError,\n",
       "  'FileNotFoundError': FileNotFoundError,\n",
       "  'IsADirectoryError': IsADirectoryError,\n",
       "  'NotADirectoryError': NotADirectoryError,\n",
       "  'InterruptedError': InterruptedError,\n",
       "  'PermissionError': PermissionError,\n",
       "  'ProcessLookupError': ProcessLookupError,\n",
       "  'TimeoutError': TimeoutError,\n",
       "  'open': <function io.open(file, mode='r', buffering=-1, encoding=None, errors=None, newline=None, closefd=True, opener=None)>,\n",
       "  'copyright': Copyright (c) 2001-2019 Python Software Foundation.\n",
       "  All Rights Reserved.\n",
       "  \n",
       "  Copyright (c) 2000 BeOpen.com.\n",
       "  All Rights Reserved.\n",
       "  \n",
       "  Copyright (c) 1995-2001 Corporation for National Research Initiatives.\n",
       "  All Rights Reserved.\n",
       "  \n",
       "  Copyright (c) 1991-1995 Stichting Mathematisch Centrum, Amsterdam.\n",
       "  All Rights Reserved.,\n",
       "  'credits':     Thanks to CWI, CNRI, BeOpen.com, Zope Corporation and a cast of thousands\n",
       "      for supporting Python development.  See www.python.org for more information.,\n",
       "  'license': Type license() to see the full license text,\n",
       "  'help': Type help() for interactive help, or help(object) for help about object.,\n",
       "  '__IPYTHON__': True,\n",
       "  'display': <function IPython.core.display.display(*objs, include=None, exclude=None, metadata=None, transient=None, display_id=None, **kwargs)>,\n",
       "  'get_ipython': <bound method InteractiveShell.get_ipython of <ipykernel.zmqshell.ZMQInteractiveShell object at 0x7fd6f629f210>>},\n",
       " '_i3': 'a = {1:1, 2:2}',\n",
       " 'a': {},\n",
       " '_i4': 'a.pop()',\n",
       " '_i5': 'a.popitem()',\n",
       " '_5': (2, 2),\n",
       " '_i6': 'a',\n",
       " '_6': {1: None, 2: 1, 3: []},\n",
       " '_i7': 'a.pop(1)',\n",
       " '_7': 1,\n",
       " '_i8': 'a',\n",
       " '_8': {1: None, 2: 1, 3: []},\n",
       " '_i9': 'a.pop(1)',\n",
       " '_i10': 'a.setdefault(1)',\n",
       " '_i11': 'a',\n",
       " '_11': {1: None, 2: 1, 3: []},\n",
       " '_i12': 'a.setdefault(2, 1)',\n",
       " '_12': 1,\n",
       " '_i13': 'a',\n",
       " '_13': {1: None, 2: 1, 3: []},\n",
       " '_i14': 'a.setdefault(1, [])',\n",
       " '_i15': 'a',\n",
       " '_15': {1: None, 2: 1, 3: []},\n",
       " '_i16': 'a.setdefault(3, [])',\n",
       " '_16': [],\n",
       " '_i17': 'a',\n",
       " '_17': {1: None, 2: 1, 3: []},\n",
       " '_i18': 'a.setdefault(3, [], 2)',\n",
       " '_i19': 'a.setdefault(3, [])',\n",
       " '_19': [],\n",
       " '_i20': 'a',\n",
       " '_20': {1: None, 2: 1, 3: []},\n",
       " '_i21': 'from collections import Mapping',\n",
       " 'Mapping': collections.abc.Mapping,\n",
       " '_i22': 'from collections.abc import Mapping',\n",
       " '_i23': 'help(Mapping)',\n",
       " '_i24': 'a = Mapping()',\n",
       " '_i25': \"class TestMapping(Mapping):\\n    def __getitem__(self):\\n        return ''\\n    \\n    def __iter__(self):\\n        return ''\\n    \\n    def __len__(self):\\n        return 0\",\n",
       " 'TestMapping': __main__.TestMapping,\n",
       " '_i26': 'a = TestMapping()',\n",
       " '_i27': 'a',\n",
       " '_27': <__main__.TestMapping at 0x7fd6f41384d0>,\n",
       " '_i28': 'a[1] = 1',\n",
       " '_i29': 'a.items()',\n",
       " '_29': ItemsView(<__main__.TestMapping object at 0x7fd6f41384d0>),\n",
       " '_i30': 'list(a.items())',\n",
       " '_i31': 'a = [1, 2]\\nb = [3,4]',\n",
       " 'b': {2: 2},\n",
       " '_i32': \"for ab in (f'{a} : {b}' for a, b in zip(a, b)):\\n    print(ab)\",\n",
       " 'ab': '2 : 4',\n",
       " '_i33': \"for c in (f'{x} : {y}' for x in a for y in b):\\n    print(c)\",\n",
       " 'c': {3: 3},\n",
       " '_i34': 'a = {1:1, 2:2}',\n",
       " '_i35': 'b = a',\n",
       " '_i36': 'a[1] = 2',\n",
       " '_i37': 'b',\n",
       " '_37': {1: 2, 2: 2},\n",
       " '_i38': 'a',\n",
       " '_38': {1: 2, 2: 2},\n",
       " '_i39': 'a = {1:1, 2:2}',\n",
       " '_i40': 'b = a.copy()',\n",
       " '_i41': 'b',\n",
       " '_41': {1: 2, 2: 2},\n",
       " '_i42': 'b[1] = 2',\n",
       " '_i43': 'b',\n",
       " '_43': {1: 2, 2: 2},\n",
       " '_i44': '1',\n",
       " '_44': 1,\n",
       " '_i45': 'a',\n",
       " '_45': {1: 1, 2: 2},\n",
       " '_i46': 'from copy import copy',\n",
       " 'copy': <function copy.copy(x)>,\n",
       " '_i47': 'a = copy(b)',\n",
       " '_i48': 'a',\n",
       " '_48': {1: 3, 2: 2},\n",
       " '_i49': 'b',\n",
       " '_49': {1: 2, 2: 2},\n",
       " '_i50': 'a[1] = 3',\n",
       " '_i51': 'b',\n",
       " '_51': {1: 2, 2: 2},\n",
       " '_i52': 'a',\n",
       " '_52': {1: 3, 2: 2},\n",
       " '_i53': 'a = {1:[1, 2], 2: [1, 2]}',\n",
       " '_i54': 'b = copy(a)',\n",
       " '_i55': 'a',\n",
       " '_55': {2: [1, 2]},\n",
       " '_i56': 'b',\n",
       " '_56': {1: [1, 2, 3, 4], 2: [1, 2]},\n",
       " '_i57': 'b[1].append(3)',\n",
       " '_i58': 'a',\n",
       " '_58': {2: [1, 2]},\n",
       " '_i59': 'b',\n",
       " '_59': {1: [1, 2, 3, 4], 2: [1, 2]},\n",
       " '_i60': 'from copy import deepcopy',\n",
       " 'deepcopy': <function copy.deepcopy(x, memo=None, _nil=[])>,\n",
       " '_i61': 'b = deepcopy(a)',\n",
       " '_i62': 'b',\n",
       " '_62': {1: [1, 2, 3], 2: [1, 2]},\n",
       " '_i63': 'a',\n",
       " '_63': {2: [1, 2]},\n",
       " '_i64': 'a[1].append(4)',\n",
       " '_i65': 'a',\n",
       " '_65': {2: [1, 2]},\n",
       " '_i66': 'b',\n",
       " '_66': {1: [1, 2, 3], 2: [1, 2]},\n",
       " '_i67': 'a in b',\n",
       " '_i68': '1 in b',\n",
       " '_68': True,\n",
       " '_i69': 'del a[1]',\n",
       " '_i70': 'a',\n",
       " '_70': {2: [1, 2]},\n",
       " '_i71': 'b',\n",
       " '_71': {1: [1, 2, 3], 2: [1, 2]},\n",
       " '_i72': \"a = {'a':[11, 22], 'A': [33, 44], 'C': [55, 66]}\",\n",
       " '_i73': 'b = sorted(a, key=str.upper)',\n",
       " '_i74': 'b',\n",
       " '_74': ['a', 'A', 'C'],\n",
       " '_i75': \"class ComportDict(Dict):\\n    def __missing__(self):\\n        return 'a'\",\n",
       " '_i76': \"class ComportDict(dict):\\n    def __missing__(self):\\n        return 'a'\",\n",
       " 'ComportDict': __main__.ComportDict,\n",
       " '_i77': 'aa = ComportDict()',\n",
       " 'aa': {1: 2},\n",
       " '_i78': 'a[1] = 2',\n",
       " '_i79': 'a',\n",
       " '_79': {'a': [11, 22], 'A': [33, 44], 'C': [55, 66], 1: 2},\n",
       " '_i80': 'aa[1] = 2',\n",
       " '_i81': 'aa',\n",
       " '_81': {1: 2},\n",
       " '_i82': 'aa[2]',\n",
       " '_i83': 'class DefaultListDict(dict):\\n    def __missing__(self, key):\\n        self[key] = []\\n        return self[key]',\n",
       " 'DefaultListDict': __main__.DefaultListDict,\n",
       " '_i84': 'aa = ComportDict()',\n",
       " '_i85': 'aa[1] = 2',\n",
       " '_i86': 'aa',\n",
       " '_86': {1: 2},\n",
       " '_i87': 'aa[2]',\n",
       " '_i88': 'from collections import defaultdict',\n",
       " 'defaultdict': collections.defaultdict,\n",
       " '_i89': 'a = defaultdict(a)',\n",
       " '_i90': 'a = defaultdict(list)',\n",
       " '_i91': 'a.defaylt)factiry',\n",
       " '_i92': 'a.default_factory',\n",
       " '_92': list,\n",
       " '_i93': 'help(a)',\n",
       " '_i94': 'a = defaultdict(list)',\n",
       " '_i95': 'a = defaultdict(list)\\na[1] = [1, 2]\\na[2] = [3, 4]',\n",
       " '_i96': 'a = defaultdict(list)\\na[1] = [1, 2]\\na[2] = [3, 4]\\na[1]',\n",
       " '_96': [1, 2],\n",
       " '_i97': 'a[1]',\n",
       " '_97': [1, 2],\n",
       " '_i98': 'a[3]',\n",
       " '_98': [],\n",
       " '_i99': 'a',\n",
       " '_99': defaultdict(list, {1: [1, 2], 2: [3, 4], 3: []}),\n",
       " '_i100': 'a.default_factory',\n",
       " '_100': list,\n",
       " '_i101': 'class StrKeyDict0(dict):\\n    def __missing__(self, key):\\n        if isinstance(key, str):\\n            raise KeyError(Key)\\n        return self[str[key]]\\n    \\n    ',\n",
       " 'StrKeyDict0': __main__.StrKeyDict0,\n",
       " '_i102': \"a = StrKeyDict0([('2', 'two'), ('4', 'four')])\",\n",
       " '_i103': 'a',\n",
       " '_103': {'2': 'two', '4': 'four'},\n",
       " '_i104': 'a[2]',\n",
       " '_i105': 'class StrKeyDict0(dict):\\n    def __missing__(self, key):\\n        if isinstance(key, str):\\n            raise KeyError(Key)\\n        return self[str(key)]\\n    \\n    ',\n",
       " '_i106': \"a = StrKeyDict0([('2', 'two'), ('4', 'four')])\",\n",
       " '_i107': 'a',\n",
       " '_107': {'2': 'two', '4': 'four'},\n",
       " '_i108': 'a[2]',\n",
       " '_108': 'two',\n",
       " '_i109': \"a['2]']\",\n",
       " '_i110': \"a['2']\",\n",
       " '_110': 'two',\n",
       " '_i111': 'a[1]',\n",
       " '_i112': 'class StrKeyDict0(dict):\\n    def __missing__(self, key):\\n        if isinstance(key, str):\\n            raise KeyError(key)\\n        return self[str(key)]\\n    \\n    ',\n",
       " '_i113': \"a = StrKeyDict0([('2', 'two'), ('4', 'four')])\",\n",
       " '_i114': 'a',\n",
       " '_114': {'2': 'two', '4': 'four'},\n",
       " '_i115': 'a[2]',\n",
       " '_115': 'two',\n",
       " '_i116': \"a['2']\",\n",
       " '_116': 'two',\n",
       " '_i117': 'a[1]',\n",
       " '_i118': 'a.get(2)',\n",
       " '_i119': \"a.get('2')\",\n",
       " '_119': 'two',\n",
       " '_i120': 'class StrKeyDict0(dict):\\n    def __missing__(self, key):\\n        if isinstance(key, str):\\n            raise KeyError(key)\\n        return self[str(key)]\\n    \\n    def get(self, key, default=None):\\n        try:\\n            return self[key]\\n        except KeyError:\\n            return default\\n        \\n    \\n    ',\n",
       " '_i121': \"a = StrKeyDict0([('2', 'two'), ('4', 'four')])\",\n",
       " '_i122': 'a',\n",
       " '_122': {'2': 'two', '4': 'four'},\n",
       " '_i123': 'a[2]',\n",
       " '_123': 'two',\n",
       " '_i124': \"a['2']\",\n",
       " '_124': 'two',\n",
       " '_i125': 'a[1]',\n",
       " '_i126': \"a.get('2')\",\n",
       " '_126': 'two',\n",
       " '_i127': 'a.get(2)',\n",
       " '_127': 'two',\n",
       " '_i128': 'class StrKeyDict0(dict):\\n    def __missing__(self, key):\\n        if isinstance(key, str):\\n            raise KeyError(key)\\n        return self[str(key)]\\n    \\n    def get(self, key, default=None):\\n        try:\\n            return self[key]\\n        except KeyError:\\n            return default\\n        \\n    def __contains__(self, key):\\n        return key in self.keys() or str(key) in self.keys()\\n        \\n    \\n    ',\n",
       " '_i129': 'import builtins\\nfrom collections import ChainMap\\n\\npylookup = ChainMap(locals(), globals(), vars(builtins))',\n",
       " 'builtins': <module 'builtins' (built-in)>,\n",
       " 'ChainMap': collections.ChainMap,\n",
       " 'pylookup': ChainMap({'__name__': '__main__', '__doc__': 'Automatically created module for IPython interactive environment', '__package__': None, '__loader__': None, '__spec__': None, '__builtin__': <module 'builtins' (built-in)>, '__builtins__': <module 'builtins' (built-in)>, '_ih': ['', '__builtins__', '__builtins__.__dict__', 'a = {1:1, 2:2}', 'a.pop()', 'a.popitem()', 'a', 'a.pop(1)', 'a', 'a.pop(1)', 'a.setdefault(1)', 'a', 'a.setdefault(2, 1)', 'a', 'a.setdefault(1, [])', 'a', 'a.setdefault(3, [])', 'a', 'a.setdefault(3, [], 2)', 'a.setdefault(3, [])', 'a', 'from collections import Mapping', 'from collections.abc import Mapping', 'help(Mapping)', 'a = Mapping()', \"class TestMapping(Mapping):\\n    def __getitem__(self):\\n        return ''\\n    \\n    def __iter__(self):\\n        return ''\\n    \\n    def __len__(self):\\n        return 0\", 'a = TestMapping()', 'a', 'a[1] = 1', 'a.items()', 'list(a.items())', 'a = [1, 2]\\nb = [3,4]', \"for ab in (f'{a} : {b}' for a, b in zip(a, b)):\\n    print(ab)\", \"for c in (f'{x} : {y}' for x in a for y in b):\\n    print(c)\", 'a = {1:1, 2:2}', 'b = a', 'a[1] = 2', 'b', 'a', 'a = {1:1, 2:2}', 'b = a.copy()', 'b', 'b[1] = 2', 'b', '1', 'a', 'from copy import copy', 'a = copy(b)', 'a', 'b', 'a[1] = 3', 'b', 'a', 'a = {1:[1, 2], 2: [1, 2]}', 'b = copy(a)', 'a', 'b', 'b[1].append(3)', 'a', 'b', 'from copy import deepcopy', 'b = deepcopy(a)', 'b', 'a', 'a[1].append(4)', 'a', 'b', 'a in b', '1 in b', 'del a[1]', 'a', 'b', \"a = {'a':[11, 22], 'A': [33, 44], 'C': [55, 66]}\", 'b = sorted(a, key=str.upper)', 'b', \"class ComportDict(Dict):\\n    def __missing__(self):\\n        return 'a'\", \"class ComportDict(dict):\\n    def __missing__(self):\\n        return 'a'\", 'aa = ComportDict()', 'a[1] = 2', 'a', 'aa[1] = 2', 'aa', 'aa[2]', 'class DefaultListDict(dict):\\n    def __missing__(self, key):\\n        self[key] = []\\n        return self[key]', 'aa = ComportDict()', 'aa[1] = 2', 'aa', 'aa[2]', 'from collections import defaultdict', 'a = defaultdict(a)', 'a = defaultdict(list)', 'a.defaylt)factiry', 'a.default_factory', 'help(a)', 'a = defaultdict(list)', 'a = defaultdict(list)\\na[1] = [1, 2]\\na[2] = [3, 4]', 'a = defaultdict(list)\\na[1] = [1, 2]\\na[2] = [3, 4]\\na[1]', 'a[1]', 'a[3]', 'a', 'a.default_factory', 'class StrKeyDict0(dict):\\n    def __missing__(self, key):\\n        if isinstance(key, str):\\n            raise KeyError(Key)\\n        return self[str[key]]\\n    \\n    ', \"a = StrKeyDict0([('2', 'two'), ('4', 'four')])\", 'a', 'a[2]', 'class StrKeyDict0(dict):\\n    def __missing__(self, key):\\n        if isinstance(key, str):\\n            raise KeyError(Key)\\n        return self[str(key)]\\n    \\n    ', \"a = StrKeyDict0([('2', 'two'), ('4', 'four')])\", 'a', 'a[2]', \"a['2]']\", \"a['2']\", 'a[1]', 'class StrKeyDict0(dict):\\n    def __missing__(self, key):\\n        if isinstance(key, str):\\n            raise KeyError(key)\\n        return self[str(key)]\\n    \\n    ', \"a = StrKeyDict0([('2', 'two'), ('4', 'four')])\", 'a', 'a[2]', \"a['2']\", 'a[1]', 'a.get(2)', \"a.get('2')\", 'class StrKeyDict0(dict):\\n    def __missing__(self, key):\\n        if isinstance(key, str):\\n            raise KeyError(key)\\n        return self[str(key)]\\n    \\n    def get(self, key, default=None):\\n        try:\\n            return self[key]\\n        except KeyError:\\n            return default\\n        \\n    \\n    ', \"a = StrKeyDict0([('2', 'two'), ('4', 'four')])\", 'a', 'a[2]', \"a['2']\", 'a[1]', \"a.get('2')\", 'a.get(2)', 'class StrKeyDict0(dict):\\n    def __missing__(self, key):\\n        if isinstance(key, str):\\n            raise KeyError(key)\\n        return self[str(key)]\\n    \\n    def get(self, key, default=None):\\n        try:\\n            return self[key]\\n        except KeyError:\\n            return default\\n        \\n    def __contains__(self, key):\\n        return key in self.keys() or str(key) in self.keys()\\n        \\n    \\n    ', 'import builtins\\nfrom collections import ChainMap\\n\\npylookup = ChainMap(locals(), globals(), vars(builtins))', 'pylookup', 'a = {1:1}\\nb = {2:2}\\nc = {3:3}', 'chain = ChainMap(a, b, c)', 'chain', 'chain[1]', 'chain.items()', 'list(chain.items())', 'chain.pop(1)', 'a', 'a and b', 'a or b', 'a and b and c', 'locals()'], '_oh': {1: <module 'builtins' (built-in)>, 2: {'__name__': 'builtins', '__doc__': \"Built-in functions, exceptions, and other objects.\\n\\nNoteworthy: None is the `nil' object; Ellipsis represents `...' in slices.\", '__package__': '', '__loader__': <class '_frozen_importlib.BuiltinImporter'>, '__spec__': ModuleSpec(name='builtins', loader=<class '_frozen_importlib.BuiltinImporter'>), '__build_class__': <built-in function __build_class__>, '__import__': <built-in function __import__>, 'abs': <built-in function abs>, 'all': <built-in function all>, 'any': <built-in function any>, 'ascii': <built-in function ascii>, 'bin': <built-in function bin>, 'breakpoint': <built-in function breakpoint>, 'callable': <built-in function callable>, 'chr': <built-in function chr>, 'compile': <built-in function compile>, 'delattr': <built-in function delattr>, 'dir': <built-in function dir>, 'divmod': <built-in function divmod>, 'eval': <built-in function eval>, 'exec': <built-in function exec>, 'format': <built-in function format>, 'getattr': <built-in function getattr>, 'globals': <built-in function globals>, 'hasattr': <built-in function hasattr>, 'hash': <built-in function hash>, 'hex': <built-in function hex>, 'id': <built-in function id>, 'input': <bound method Kernel.raw_input of <ipykernel.ipkernel.IPythonKernel object at 0x7fd6f62ba850>>, 'isinstance': <built-in function isinstance>, 'issubclass': <built-in function issubclass>, 'iter': <built-in function iter>, 'len': <built-in function len>, 'locals': <built-in function locals>, 'max': <built-in function max>, 'min': <built-in function min>, 'next': <built-in function next>, 'oct': <built-in function oct>, 'ord': <built-in function ord>, 'pow': <built-in function pow>, 'print': <built-in function print>, 'repr': <built-in function repr>, 'round': <built-in function round>, 'setattr': <built-in function setattr>, 'sorted': <built-in function sorted>, 'sum': <built-in function sum>, 'vars': <built-in function vars>, 'None': None, 'Ellipsis': Ellipsis, 'NotImplemented': NotImplemented, 'False': False, 'True': True, 'bool': <class 'bool'>, 'memoryview': <class 'memoryview'>, 'bytearray': <class 'bytearray'>, 'bytes': <class 'bytes'>, 'classmethod': <class 'classmethod'>, 'complex': <class 'complex'>, 'dict': <class 'dict'>, 'enumerate': <class 'enumerate'>, 'filter': <class 'filter'>, 'float': <class 'float'>, 'frozenset': <class 'frozenset'>, 'property': <class 'property'>, 'int': <class 'int'>, 'list': <class 'list'>, 'map': <class 'map'>, 'object': <class 'object'>, 'range': <class 'range'>, 'reversed': <class 'reversed'>, 'set': <class 'set'>, 'slice': <class 'slice'>, 'staticmethod': <class 'staticmethod'>, 'str': <class 'str'>, 'super': <class 'super'>, 'tuple': <class 'tuple'>, 'type': <class 'type'>, 'zip': <class 'zip'>, '__debug__': True, 'BaseException': <class 'BaseException'>, 'Exception': <class 'Exception'>, 'TypeError': <class 'TypeError'>, 'StopAsyncIteration': <class 'StopAsyncIteration'>, 'StopIteration': <class 'StopIteration'>, 'GeneratorExit': <class 'GeneratorExit'>, 'SystemExit': <class 'SystemExit'>, 'KeyboardInterrupt': <class 'KeyboardInterrupt'>, 'ImportError': <class 'ImportError'>, 'ModuleNotFoundError': <class 'ModuleNotFoundError'>, 'OSError': <class 'OSError'>, 'EnvironmentError': <class 'OSError'>, 'IOError': <class 'OSError'>, 'EOFError': <class 'EOFError'>, 'RuntimeError': <class 'RuntimeError'>, 'RecursionError': <class 'RecursionError'>, 'NotImplementedError': <class 'NotImplementedError'>, 'NameError': <class 'NameError'>, 'UnboundLocalError': <class 'UnboundLocalError'>, 'AttributeError': <class 'AttributeError'>, 'SyntaxError': <class 'SyntaxError'>, 'IndentationError': <class 'IndentationError'>, 'TabError': <class 'TabError'>, 'LookupError': <class 'LookupError'>, 'IndexError': <class 'IndexError'>, 'KeyError': <class 'KeyError'>, 'ValueError': <class 'ValueError'>, 'UnicodeError': <class 'UnicodeError'>, 'UnicodeEncodeError': <class 'UnicodeEncodeError'>, 'UnicodeDecodeError': <class 'UnicodeDecodeError'>, 'UnicodeTranslateError': <class 'UnicodeTranslateError'>, 'AssertionError': <class 'AssertionError'>, 'ArithmeticError': <class 'ArithmeticError'>, 'FloatingPointError': <class 'FloatingPointError'>, 'OverflowError': <class 'OverflowError'>, 'ZeroDivisionError': <class 'ZeroDivisionError'>, 'SystemError': <class 'SystemError'>, 'ReferenceError': <class 'ReferenceError'>, 'MemoryError': <class 'MemoryError'>, 'BufferError': <class 'BufferError'>, 'Warning': <class 'Warning'>, 'UserWarning': <class 'UserWarning'>, 'DeprecationWarning': <class 'DeprecationWarning'>, 'PendingDeprecationWarning': <class 'PendingDeprecationWarning'>, 'SyntaxWarning': <class 'SyntaxWarning'>, 'RuntimeWarning': <class 'RuntimeWarning'>, 'FutureWarning': <class 'FutureWarning'>, 'ImportWarning': <class 'ImportWarning'>, 'UnicodeWarning': <class 'UnicodeWarning'>, 'BytesWarning': <class 'BytesWarning'>, 'ResourceWarning': <class 'ResourceWarning'>, 'ConnectionError': <class 'ConnectionError'>, 'BlockingIOError': <class 'BlockingIOError'>, 'BrokenPipeError': <class 'BrokenPipeError'>, 'ChildProcessError': <class 'ChildProcessError'>, 'ConnectionAbortedError': <class 'ConnectionAbortedError'>, 'ConnectionRefusedError': <class 'ConnectionRefusedError'>, 'ConnectionResetError': <class 'ConnectionResetError'>, 'FileExistsError': <class 'FileExistsError'>, 'FileNotFoundError': <class 'FileNotFoundError'>, 'IsADirectoryError': <class 'IsADirectoryError'>, 'NotADirectoryError': <class 'NotADirectoryError'>, 'InterruptedError': <class 'InterruptedError'>, 'PermissionError': <class 'PermissionError'>, 'ProcessLookupError': <class 'ProcessLookupError'>, 'TimeoutError': <class 'TimeoutError'>, 'open': <built-in function open>, 'copyright': Copyright (c) 2001-2019 Python Software Foundation.\n",
       " All Rights Reserved.\n",
       " \n",
       " Copyright (c) 2000 BeOpen.com.\n",
       " All Rights Reserved.\n",
       " \n",
       " Copyright (c) 1995-2001 Corporation for National Research Initiatives.\n",
       " All Rights Reserved.\n",
       " \n",
       " Copyright (c) 1991-1995 Stichting Mathematisch Centrum, Amsterdam.\n",
       " All Rights Reserved., 'credits':     Thanks to CWI, CNRI, BeOpen.com, Zope Corporation and a cast of thousands\n",
       "     for supporting Python development.  See www.python.org for more information., 'license': Type license() to see the full license text, 'help': Type help() for interactive help, or help(object) for help about object., '__IPYTHON__': True, 'display': <function display at 0x7fd6fee21200>, 'get_ipython': <bound method InteractiveShell.get_ipython of <ipykernel.zmqshell.ZMQInteractiveShell object at 0x7fd6f629f210>>}, 5: (2, 2), 6: {1: None, 2: 1, 3: []}, 7: 1, 8: {1: None, 2: 1, 3: []}, 11: {1: None, 2: 1, 3: []}, 12: 1, 13: {1: None, 2: 1, 3: []}, 15: {1: None, 2: 1, 3: []}, 16: [], 17: {1: None, 2: 1, 3: []}, 19: [], 20: {1: None, 2: 1, 3: []}, 27: <__main__.TestMapping object at 0x7fd6f41384d0>, 29: ItemsView(<__main__.TestMapping object at 0x7fd6f41384d0>), 37: {1: 2, 2: 2}, 38: {1: 2, 2: 2}, 41: {1: 2, 2: 2}, 43: {1: 2, 2: 2}, 44: 1, 45: {1: 1, 2: 2}, 48: {1: 3, 2: 2}, 49: {1: 2, 2: 2}, 51: {1: 2, 2: 2}, 52: {1: 3, 2: 2}, 55: {2: [1, 2]}, 56: {1: [1, 2, 3, 4], 2: [1, 2]}, 58: {2: [1, 2]}, 59: {1: [1, 2, 3, 4], 2: [1, 2]}, 62: {1: [1, 2, 3], 2: [1, 2]}, 63: {2: [1, 2]}, 65: {2: [1, 2]}, 66: {1: [1, 2, 3], 2: [1, 2]}, 68: True, 70: {2: [1, 2]}, 71: {1: [1, 2, 3], 2: [1, 2]}, 74: ['a', 'A', 'C'], 79: {'a': [11, 22], 'A': [33, 44], 'C': [55, 66], 1: 2}, 81: {1: 2}, 86: {1: 2}, 92: <class 'list'>, 96: [1, 2], 97: [1, 2], 98: [], 99: defaultdict(<class 'list'>, {1: [1, 2], 2: [3, 4], 3: []}), 100: <class 'list'>, 103: {'2': 'two', '4': 'four'}, 107: {'2': 'two', '4': 'four'}, 108: 'two', 110: 'two', 114: {'2': 'two', '4': 'four'}, 115: 'two', 116: 'two', 119: 'two', 122: {'2': 'two', '4': 'four'}, 123: 'two', 124: 'two', 126: 'two', 127: 'two', 130: ..., 133: ChainMap({}, {2: 2}, {3: 3}), 134: 1, 135: ItemsView(ChainMap({}, {2: 2}, {3: 3})), 136: [(3, 3), (2, 2), (1, 1)], 137: 1, 138: {}, 139: {}, 140: {2: 2}, 141: {}}, '_dh': ['/home/hby/projects/wps12th/python/fluentpython/notebook'], 'In': ['', '__builtins__', '__builtins__.__dict__', 'a = {1:1, 2:2}', 'a.pop()', 'a.popitem()', 'a', 'a.pop(1)', 'a', 'a.pop(1)', 'a.setdefault(1)', 'a', 'a.setdefault(2, 1)', 'a', 'a.setdefault(1, [])', 'a', 'a.setdefault(3, [])', 'a', 'a.setdefault(3, [], 2)', 'a.setdefault(3, [])', 'a', 'from collections import Mapping', 'from collections.abc import Mapping', 'help(Mapping)', 'a = Mapping()', \"class TestMapping(Mapping):\\n    def __getitem__(self):\\n        return ''\\n    \\n    def __iter__(self):\\n        return ''\\n    \\n    def __len__(self):\\n        return 0\", 'a = TestMapping()', 'a', 'a[1] = 1', 'a.items()', 'list(a.items())', 'a = [1, 2]\\nb = [3,4]', \"for ab in (f'{a} : {b}' for a, b in zip(a, b)):\\n    print(ab)\", \"for c in (f'{x} : {y}' for x in a for y in b):\\n    print(c)\", 'a = {1:1, 2:2}', 'b = a', 'a[1] = 2', 'b', 'a', 'a = {1:1, 2:2}', 'b = a.copy()', 'b', 'b[1] = 2', 'b', '1', 'a', 'from copy import copy', 'a = copy(b)', 'a', 'b', 'a[1] = 3', 'b', 'a', 'a = {1:[1, 2], 2: [1, 2]}', 'b = copy(a)', 'a', 'b', 'b[1].append(3)', 'a', 'b', 'from copy import deepcopy', 'b = deepcopy(a)', 'b', 'a', 'a[1].append(4)', 'a', 'b', 'a in b', '1 in b', 'del a[1]', 'a', 'b', \"a = {'a':[11, 22], 'A': [33, 44], 'C': [55, 66]}\", 'b = sorted(a, key=str.upper)', 'b', \"class ComportDict(Dict):\\n    def __missing__(self):\\n        return 'a'\", \"class ComportDict(dict):\\n    def __missing__(self):\\n        return 'a'\", 'aa = ComportDict()', 'a[1] = 2', 'a', 'aa[1] = 2', 'aa', 'aa[2]', 'class DefaultListDict(dict):\\n    def __missing__(self, key):\\n        self[key] = []\\n        return self[key]', 'aa = ComportDict()', 'aa[1] = 2', 'aa', 'aa[2]', 'from collections import defaultdict', 'a = defaultdict(a)', 'a = defaultdict(list)', 'a.defaylt)factiry', 'a.default_factory', 'help(a)', 'a = defaultdict(list)', 'a = defaultdict(list)\\na[1] = [1, 2]\\na[2] = [3, 4]', 'a = defaultdict(list)\\na[1] = [1, 2]\\na[2] = [3, 4]\\na[1]', 'a[1]', 'a[3]', 'a', 'a.default_factory', 'class StrKeyDict0(dict):\\n    def __missing__(self, key):\\n        if isinstance(key, str):\\n            raise KeyError(Key)\\n        return self[str[key]]\\n    \\n    ', \"a = StrKeyDict0([('2', 'two'), ('4', 'four')])\", 'a', 'a[2]', 'class StrKeyDict0(dict):\\n    def __missing__(self, key):\\n        if isinstance(key, str):\\n            raise KeyError(Key)\\n        return self[str(key)]\\n    \\n    ', \"a = StrKeyDict0([('2', 'two'), ('4', 'four')])\", 'a', 'a[2]', \"a['2]']\", \"a['2']\", 'a[1]', 'class StrKeyDict0(dict):\\n    def __missing__(self, key):\\n        if isinstance(key, str):\\n            raise KeyError(key)\\n        return self[str(key)]\\n    \\n    ', \"a = StrKeyDict0([('2', 'two'), ('4', 'four')])\", 'a', 'a[2]', \"a['2']\", 'a[1]', 'a.get(2)', \"a.get('2')\", 'class StrKeyDict0(dict):\\n    def __missing__(self, key):\\n        if isinstance(key, str):\\n            raise KeyError(key)\\n        return self[str(key)]\\n    \\n    def get(self, key, default=None):\\n        try:\\n            return self[key]\\n        except KeyError:\\n            return default\\n        \\n    \\n    ', \"a = StrKeyDict0([('2', 'two'), ('4', 'four')])\", 'a', 'a[2]', \"a['2']\", 'a[1]', \"a.get('2')\", 'a.get(2)', 'class StrKeyDict0(dict):\\n    def __missing__(self, key):\\n        if isinstance(key, str):\\n            raise KeyError(key)\\n        return self[str(key)]\\n    \\n    def get(self, key, default=None):\\n        try:\\n            return self[key]\\n        except KeyError:\\n            return default\\n        \\n    def __contains__(self, key):\\n        return key in self.keys() or str(key) in self.keys()\\n        \\n    \\n    ', 'import builtins\\nfrom collections import ChainMap\\n\\npylookup = ChainMap(locals(), globals(), vars(builtins))', 'pylookup', 'a = {1:1}\\nb = {2:2}\\nc = {3:3}', 'chain = ChainMap(a, b, c)', 'chain', 'chain[1]', 'chain.items()', 'list(chain.items())', 'chain.pop(1)', 'a', 'a and b', 'a or b', 'a and b and c', 'locals()'], 'Out': {1: <module 'builtins' (built-in)>, 2: {'__name__': 'builtins', '__doc__': \"Built-in functions, exceptions, and other objects.\\n\\nNoteworthy: None is the `nil' object; Ellipsis represents `...' in slices.\", '__package__': '', '__loader__': <class '_frozen_importlib.BuiltinImporter'>, '__spec__': ModuleSpec(name='builtins', loader=<class '_frozen_importlib.BuiltinImporter'>), '__build_class__': <built-in function __build_class__>, '__import__': <built-in function __import__>, 'abs': <built-in function abs>, 'all': <built-in function all>, 'any': <built-in function any>, 'ascii': <built-in function ascii>, 'bin': <built-in function bin>, 'breakpoint': <built-in function breakpoint>, 'callable': <built-in function callable>, 'chr': <built-in function chr>, 'compile': <built-in function compile>, 'delattr': <built-in function delattr>, 'dir': <built-in function dir>, 'divmod': <built-in function divmod>, 'eval': <built-in function eval>, 'exec': <built-in function exec>, 'format': <built-in function format>, 'getattr': <built-in function getattr>, 'globals': <built-in function globals>, 'hasattr': <built-in function hasattr>, 'hash': <built-in function hash>, 'hex': <built-in function hex>, 'id': <built-in function id>, 'input': <bound method Kernel.raw_input of <ipykernel.ipkernel.IPythonKernel object at 0x7fd6f62ba850>>, 'isinstance': <built-in function isinstance>, 'issubclass': <built-in function issubclass>, 'iter': <built-in function iter>, 'len': <built-in function len>, 'locals': <built-in function locals>, 'max': <built-in function max>, 'min': <built-in function min>, 'next': <built-in function next>, 'oct': <built-in function oct>, 'ord': <built-in function ord>, 'pow': <built-in function pow>, 'print': <built-in function print>, 'repr': <built-in function repr>, 'round': <built-in function round>, 'setattr': <built-in function setattr>, 'sorted': <built-in function sorted>, 'sum': <built-in function sum>, 'vars': <built-in function vars>, 'None': None, 'Ellipsis': Ellipsis, 'NotImplemented': NotImplemented, 'False': False, 'True': True, 'bool': <class 'bool'>, 'memoryview': <class 'memoryview'>, 'bytearray': <class 'bytearray'>, 'bytes': <class 'bytes'>, 'classmethod': <class 'classmethod'>, 'complex': <class 'complex'>, 'dict': <class 'dict'>, 'enumerate': <class 'enumerate'>, 'filter': <class 'filter'>, 'float': <class 'float'>, 'frozenset': <class 'frozenset'>, 'property': <class 'property'>, 'int': <class 'int'>, 'list': <class 'list'>, 'map': <class 'map'>, 'object': <class 'object'>, 'range': <class 'range'>, 'reversed': <class 'reversed'>, 'set': <class 'set'>, 'slice': <class 'slice'>, 'staticmethod': <class 'staticmethod'>, 'str': <class 'str'>, 'super': <class 'super'>, 'tuple': <class 'tuple'>, 'type': <class 'type'>, 'zip': <class 'zip'>, '__debug__': True, 'BaseException': <class 'BaseException'>, 'Exception': <class 'Exception'>, 'TypeError': <class 'TypeError'>, 'StopAsyncIteration': <class 'StopAsyncIteration'>, 'StopIteration': <class 'StopIteration'>, 'GeneratorExit': <class 'GeneratorExit'>, 'SystemExit': <class 'SystemExit'>, 'KeyboardInterrupt': <class 'KeyboardInterrupt'>, 'ImportError': <class 'ImportError'>, 'ModuleNotFoundError': <class 'ModuleNotFoundError'>, 'OSError': <class 'OSError'>, 'EnvironmentError': <class 'OSError'>, 'IOError': <class 'OSError'>, 'EOFError': <class 'EOFError'>, 'RuntimeError': <class 'RuntimeError'>, 'RecursionError': <class 'RecursionError'>, 'NotImplementedError': <class 'NotImplementedError'>, 'NameError': <class 'NameError'>, 'UnboundLocalError': <class 'UnboundLocalError'>, 'AttributeError': <class 'AttributeError'>, 'SyntaxError': <class 'SyntaxError'>, 'IndentationError': <class 'IndentationError'>, 'TabError': <class 'TabError'>, 'LookupError': <class 'LookupError'>, 'IndexError': <class 'IndexError'>, 'KeyError': <class 'KeyError'>, 'ValueError': <class 'ValueError'>, 'UnicodeError': <class 'UnicodeError'>, 'UnicodeEncodeError': <class 'UnicodeEncodeError'>, 'UnicodeDecodeError': <class 'UnicodeDecodeError'>, 'UnicodeTranslateError': <class 'UnicodeTranslateError'>, 'AssertionError': <class 'AssertionError'>, 'ArithmeticError': <class 'ArithmeticError'>, 'FloatingPointError': <class 'FloatingPointError'>, 'OverflowError': <class 'OverflowError'>, 'ZeroDivisionError': <class 'ZeroDivisionError'>, 'SystemError': <class 'SystemError'>, 'ReferenceError': <class 'ReferenceError'>, 'MemoryError': <class 'MemoryError'>, 'BufferError': <class 'BufferError'>, 'Warning': <class 'Warning'>, 'UserWarning': <class 'UserWarning'>, 'DeprecationWarning': <class 'DeprecationWarning'>, 'PendingDeprecationWarning': <class 'PendingDeprecationWarning'>, 'SyntaxWarning': <class 'SyntaxWarning'>, 'RuntimeWarning': <class 'RuntimeWarning'>, 'FutureWarning': <class 'FutureWarning'>, 'ImportWarning': <class 'ImportWarning'>, 'UnicodeWarning': <class 'UnicodeWarning'>, 'BytesWarning': <class 'BytesWarning'>, 'ResourceWarning': <class 'ResourceWarning'>, 'ConnectionError': <class 'ConnectionError'>, 'BlockingIOError': <class 'BlockingIOError'>, 'BrokenPipeError': <class 'BrokenPipeError'>, 'ChildProcessError': <class 'ChildProcessError'>, 'ConnectionAbortedError': <class 'ConnectionAbortedError'>, 'ConnectionRefusedError': <class 'ConnectionRefusedError'>, 'ConnectionResetError': <class 'ConnectionResetError'>, 'FileExistsError': <class 'FileExistsError'>, 'FileNotFoundError': <class 'FileNotFoundError'>, 'IsADirectoryError': <class 'IsADirectoryError'>, 'NotADirectoryError': <class 'NotADirectoryError'>, 'InterruptedError': <class 'InterruptedError'>, 'PermissionError': <class 'PermissionError'>, 'ProcessLookupError': <class 'ProcessLookupError'>, 'TimeoutError': <class 'TimeoutError'>, 'open': <built-in function open>, 'copyright': Copyright (c) 2001-2019 Python Software Foundation.\n",
       " All Rights Reserved.\n",
       " \n",
       " Copyright (c) 2000 BeOpen.com.\n",
       " All Rights Reserved.\n",
       " \n",
       " Copyright (c) 1995-2001 Corporation for National Research Initiatives.\n",
       " All Rights Reserved.\n",
       " \n",
       " Copyright (c) 1991-1995 Stichting Mathematisch Centrum, Amsterdam.\n",
       " All Rights Reserved., 'credits':     Thanks to CWI, CNRI, BeOpen.com, Zope Corporation and a cast of thousands\n",
       "     for supporting Python development.  See www.python.org for more information., 'license': Type license() to see the full license text, 'help': Type help() for interactive help, or help(object) for help about object., '__IPYTHON__': True, 'display': <function display at 0x7fd6fee21200>, 'get_ipython': <bound method InteractiveShell.get_ipython of <ipykernel.zmqshell.ZMQInteractiveShell object at 0x7fd6f629f210>>}, 5: (2, 2), 6: {1: None, 2: 1, 3: []}, 7: 1, 8: {1: None, 2: 1, 3: []}, 11: {1: None, 2: 1, 3: []}, 12: 1, 13: {1: None, 2: 1, 3: []}, 15: {1: None, 2: 1, 3: []}, 16: [], 17: {1: None, 2: 1, 3: []}, 19: [], 20: {1: None, 2: 1, 3: []}, 27: <__main__.TestMapping object at 0x7fd6f41384d0>, 29: ItemsView(<__main__.TestMapping object at 0x7fd6f41384d0>), 37: {1: 2, 2: 2}, 38: {1: 2, 2: 2}, 41: {1: 2, 2: 2}, 43: {1: 2, 2: 2}, 44: 1, 45: {1: 1, 2: 2}, 48: {1: 3, 2: 2}, 49: {1: 2, 2: 2}, 51: {1: 2, 2: 2}, 52: {1: 3, 2: 2}, 55: {2: [1, 2]}, 56: {1: [1, 2, 3, 4], 2: [1, 2]}, 58: {2: [1, 2]}, 59: {1: [1, 2, 3, 4], 2: [1, 2]}, 62: {1: [1, 2, 3], 2: [1, 2]}, 63: {2: [1, 2]}, 65: {2: [1, 2]}, 66: {1: [1, 2, 3], 2: [1, 2]}, 68: True, 70: {2: [1, 2]}, 71: {1: [1, 2, 3], 2: [1, 2]}, 74: ['a', 'A', 'C'], 79: {'a': [11, 22], 'A': [33, 44], 'C': [55, 66], 1: 2}, 81: {1: 2}, 86: {1: 2}, 92: <class 'list'>, 96: [1, 2], 97: [1, 2], 98: [], 99: defaultdict(<class 'list'>, {1: [1, 2], 2: [3, 4], 3: []}), 100: <class 'list'>, 103: {'2': 'two', '4': 'four'}, 107: {'2': 'two', '4': 'four'}, 108: 'two', 110: 'two', 114: {'2': 'two', '4': 'four'}, 115: 'two', 116: 'two', 119: 'two', 122: {'2': 'two', '4': 'four'}, 123: 'two', 124: 'two', 126: 'two', 127: 'two', 130: ..., 133: ChainMap({}, {2: 2}, {3: 3}), 134: 1, 135: ItemsView(ChainMap({}, {2: 2}, {3: 3})), 136: [(3, 3), (2, 2), (1, 1)], 137: 1, 138: {}, 139: {}, 140: {2: 2}, 141: {}}, 'get_ipython': <bound method InteractiveShell.get_ipython of <ipykernel.zmqshell.ZMQInteractiveShell object at 0x7fd6f629f210>>, 'exit': <IPython.core.autocall.ZMQExitAutocall object at 0x7fd6f627ded0>, 'quit': <IPython.core.autocall.ZMQExitAutocall object at 0x7fd6f627ded0>, '_': {}, '__': {2: 2}, '___': {}, '_i': 'a and b and c', '_ii': 'a or b', '_iii': 'a and b', '_i1': '__builtins__', '_1': <module 'builtins' (built-in)>, '_i2': '__builtins__.__dict__', '_2': {'__name__': 'builtins', '__doc__': \"Built-in functions, exceptions, and other objects.\\n\\nNoteworthy: None is the `nil' object; Ellipsis represents `...' in slices.\", '__package__': '', '__loader__': <class '_frozen_importlib.BuiltinImporter'>, '__spec__': ModuleSpec(name='builtins', loader=<class '_frozen_importlib.BuiltinImporter'>), '__build_class__': <built-in function __build_class__>, '__import__': <built-in function __import__>, 'abs': <built-in function abs>, 'all': <built-in function all>, 'any': <built-in function any>, 'ascii': <built-in function ascii>, 'bin': <built-in function bin>, 'breakpoint': <built-in function breakpoint>, 'callable': <built-in function callable>, 'chr': <built-in function chr>, 'compile': <built-in function compile>, 'delattr': <built-in function delattr>, 'dir': <built-in function dir>, 'divmod': <built-in function divmod>, 'eval': <built-in function eval>, 'exec': <built-in function exec>, 'format': <built-in function format>, 'getattr': <built-in function getattr>, 'globals': <built-in function globals>, 'hasattr': <built-in function hasattr>, 'hash': <built-in function hash>, 'hex': <built-in function hex>, 'id': <built-in function id>, 'input': <bound method Kernel.raw_input of <ipykernel.ipkernel.IPythonKernel object at 0x7fd6f62ba850>>, 'isinstance': <built-in function isinstance>, 'issubclass': <built-in function issubclass>, 'iter': <built-in function iter>, 'len': <built-in function len>, 'locals': <built-in function locals>, 'max': <built-in function max>, 'min': <built-in function min>, 'next': <built-in function next>, 'oct': <built-in function oct>, 'ord': <built-in function ord>, 'pow': <built-in function pow>, 'print': <built-in function print>, 'repr': <built-in function repr>, 'round': <built-in function round>, 'setattr': <built-in function setattr>, 'sorted': <built-in function sorted>, 'sum': <built-in function sum>, 'vars': <built-in function vars>, 'None': None, 'Ellipsis': Ellipsis, 'NotImplemented': NotImplemented, 'False': False, 'True': True, 'bool': <class 'bool'>, 'memoryview': <class 'memoryview'>, 'bytearray': <class 'bytearray'>, 'bytes': <class 'bytes'>, 'classmethod': <class 'classmethod'>, 'complex': <class 'complex'>, 'dict': <class 'dict'>, 'enumerate': <class 'enumerate'>, 'filter': <class 'filter'>, 'float': <class 'float'>, 'frozenset': <class 'frozenset'>, 'property': <class 'property'>, 'int': <class 'int'>, 'list': <class 'list'>, 'map': <class 'map'>, 'object': <class 'object'>, 'range': <class 'range'>, 'reversed': <class 'reversed'>, 'set': <class 'set'>, 'slice': <class 'slice'>, 'staticmethod': <class 'staticmethod'>, 'str': <class 'str'>, 'super': <class 'super'>, 'tuple': <class 'tuple'>, 'type': <class 'type'>, 'zip': <class 'zip'>, '__debug__': True, 'BaseException': <class 'BaseException'>, 'Exception': <class 'Exception'>, 'TypeError': <class 'TypeError'>, 'StopAsyncIteration': <class 'StopAsyncIteration'>, 'StopIteration': <class 'StopIteration'>, 'GeneratorExit': <class 'GeneratorExit'>, 'SystemExit': <class 'SystemExit'>, 'KeyboardInterrupt': <class 'KeyboardInterrupt'>, 'ImportError': <class 'ImportError'>, 'ModuleNotFoundError': <class 'ModuleNotFoundError'>, 'OSError': <class 'OSError'>, 'EnvironmentError': <class 'OSError'>, 'IOError': <class 'OSError'>, 'EOFError': <class 'EOFError'>, 'RuntimeError': <class 'RuntimeError'>, 'RecursionError': <class 'RecursionError'>, 'NotImplementedError': <class 'NotImplementedError'>, 'NameError': <class 'NameError'>, 'UnboundLocalError': <class 'UnboundLocalError'>, 'AttributeError': <class 'AttributeError'>, 'SyntaxError': <class 'SyntaxError'>, 'IndentationError': <class 'IndentationError'>, 'TabError': <class 'TabError'>, 'LookupError': <class 'LookupError'>, 'IndexError': <class 'IndexError'>, 'KeyError': <class 'KeyError'>, 'ValueError': <class 'ValueError'>, 'UnicodeError': <class 'UnicodeError'>, 'UnicodeEncodeError': <class 'UnicodeEncodeError'>, 'UnicodeDecodeError': <class 'UnicodeDecodeError'>, 'UnicodeTranslateError': <class 'UnicodeTranslateError'>, 'AssertionError': <class 'AssertionError'>, 'ArithmeticError': <class 'ArithmeticError'>, 'FloatingPointError': <class 'FloatingPointError'>, 'OverflowError': <class 'OverflowError'>, 'ZeroDivisionError': <class 'ZeroDivisionError'>, 'SystemError': <class 'SystemError'>, 'ReferenceError': <class 'ReferenceError'>, 'MemoryError': <class 'MemoryError'>, 'BufferError': <class 'BufferError'>, 'Warning': <class 'Warning'>, 'UserWarning': <class 'UserWarning'>, 'DeprecationWarning': <class 'DeprecationWarning'>, 'PendingDeprecationWarning': <class 'PendingDeprecationWarning'>, 'SyntaxWarning': <class 'SyntaxWarning'>, 'RuntimeWarning': <class 'RuntimeWarning'>, 'FutureWarning': <class 'FutureWarning'>, 'ImportWarning': <class 'ImportWarning'>, 'UnicodeWarning': <class 'UnicodeWarning'>, 'BytesWarning': <class 'BytesWarning'>, 'ResourceWarning': <class 'ResourceWarning'>, 'ConnectionError': <class 'ConnectionError'>, 'BlockingIOError': <class 'BlockingIOError'>, 'BrokenPipeError': <class 'BrokenPipeError'>, 'ChildProcessError': <class 'ChildProcessError'>, 'ConnectionAbortedError': <class 'ConnectionAbortedError'>, 'ConnectionRefusedError': <class 'ConnectionRefusedError'>, 'ConnectionResetError': <class 'ConnectionResetError'>, 'FileExistsError': <class 'FileExistsError'>, 'FileNotFoundError': <class 'FileNotFoundError'>, 'IsADirectoryError': <class 'IsADirectoryError'>, 'NotADirectoryError': <class 'NotADirectoryError'>, 'InterruptedError': <class 'InterruptedError'>, 'PermissionError': <class 'PermissionError'>, 'ProcessLookupError': <class 'ProcessLookupError'>, 'TimeoutError': <class 'TimeoutError'>, 'open': <built-in function open>, 'copyright': Copyright (c) 2001-2019 Python Software Foundation.\n",
       " All Rights Reserved.\n",
       " \n",
       " Copyright (c) 2000 BeOpen.com.\n",
       " All Rights Reserved.\n",
       " \n",
       " Copyright (c) 1995-2001 Corporation for National Research Initiatives.\n",
       " All Rights Reserved.\n",
       " \n",
       " Copyright (c) 1991-1995 Stichting Mathematisch Centrum, Amsterdam.\n",
       " All Rights Reserved., 'credits':     Thanks to CWI, CNRI, BeOpen.com, Zope Corporation and a cast of thousands\n",
       "     for supporting Python development.  See www.python.org for more information., 'license': Type license() to see the full license text, 'help': Type help() for interactive help, or help(object) for help about object., '__IPYTHON__': True, 'display': <function display at 0x7fd6fee21200>, 'get_ipython': <bound method InteractiveShell.get_ipython of <ipykernel.zmqshell.ZMQInteractiveShell object at 0x7fd6f629f210>>}, '_i3': 'a = {1:1, 2:2}', 'a': {}, '_i4': 'a.pop()', '_i5': 'a.popitem()', '_5': (2, 2), '_i6': 'a', '_6': {1: None, 2: 1, 3: []}, '_i7': 'a.pop(1)', '_7': 1, '_i8': 'a', '_8': {1: None, 2: 1, 3: []}, '_i9': 'a.pop(1)', '_i10': 'a.setdefault(1)', '_i11': 'a', '_11': {1: None, 2: 1, 3: []}, '_i12': 'a.setdefault(2, 1)', '_12': 1, '_i13': 'a', '_13': {1: None, 2: 1, 3: []}, '_i14': 'a.setdefault(1, [])', '_i15': 'a', '_15': {1: None, 2: 1, 3: []}, '_i16': 'a.setdefault(3, [])', '_16': [], '_i17': 'a', '_17': {1: None, 2: 1, 3: []}, '_i18': 'a.setdefault(3, [], 2)', '_i19': 'a.setdefault(3, [])', '_19': [], '_i20': 'a', '_20': {1: None, 2: 1, 3: []}, '_i21': 'from collections import Mapping', 'Mapping': <class 'collections.abc.Mapping'>, '_i22': 'from collections.abc import Mapping', '_i23': 'help(Mapping)', '_i24': 'a = Mapping()', '_i25': \"class TestMapping(Mapping):\\n    def __getitem__(self):\\n        return ''\\n    \\n    def __iter__(self):\\n        return ''\\n    \\n    def __len__(self):\\n        return 0\", 'TestMapping': <class '__main__.TestMapping'>, '_i26': 'a = TestMapping()', '_i27': 'a', '_27': <__main__.TestMapping object at 0x7fd6f41384d0>, '_i28': 'a[1] = 1', '_i29': 'a.items()', '_29': ItemsView(<__main__.TestMapping object at 0x7fd6f41384d0>), '_i30': 'list(a.items())', '_i31': 'a = [1, 2]\\nb = [3,4]', 'b': {2: 2}, '_i32': \"for ab in (f'{a} : {b}' for a, b in zip(a, b)):\\n    print(ab)\", 'ab': '2 : 4', '_i33': \"for c in (f'{x} : {y}' for x in a for y in b):\\n    print(c)\", 'c': {3: 3}, '_i34': 'a = {1:1, 2:2}', '_i35': 'b = a', '_i36': 'a[1] = 2', '_i37': 'b', '_37': {1: 2, 2: 2}, '_i38': 'a', '_38': {1: 2, 2: 2}, '_i39': 'a = {1:1, 2:2}', '_i40': 'b = a.copy()', '_i41': 'b', '_41': {1: 2, 2: 2}, '_i42': 'b[1] = 2', '_i43': 'b', '_43': {1: 2, 2: 2}, '_i44': '1', '_44': 1, '_i45': 'a', '_45': {1: 1, 2: 2}, '_i46': 'from copy import copy', 'copy': <function copy at 0x7fd6feeaa3b0>, '_i47': 'a = copy(b)', '_i48': 'a', '_48': {1: 3, 2: 2}, '_i49': 'b', '_49': {1: 2, 2: 2}, '_i50': 'a[1] = 3', '_i51': 'b', '_51': {1: 2, 2: 2}, '_i52': 'a', '_52': {1: 3, 2: 2}, '_i53': 'a = {1:[1, 2], 2: [1, 2]}', '_i54': 'b = copy(a)', '_i55': 'a', '_55': {2: [1, 2]}, '_i56': 'b', '_56': {1: [1, 2, 3, 4], 2: [1, 2]}, '_i57': 'b[1].append(3)', '_i58': 'a', '_58': {2: [1, 2]}, '_i59': 'b', '_59': {1: [1, 2, 3, 4], 2: [1, 2]}, '_i60': 'from copy import deepcopy', 'deepcopy': <function deepcopy at 0x7fd6feeaad40>, '_i61': 'b = deepcopy(a)', '_i62': 'b', '_62': {1: [1, 2, 3], 2: [1, 2]}, '_i63': 'a', '_63': {2: [1, 2]}, '_i64': 'a[1].append(4)', '_i65': 'a', '_65': {2: [1, 2]}, '_i66': 'b', '_66': {1: [1, 2, 3], 2: [1, 2]}, '_i67': 'a in b', '_i68': '1 in b', '_68': True, '_i69': 'del a[1]', '_i70': 'a', '_70': {2: [1, 2]}, '_i71': 'b', '_71': {1: [1, 2, 3], 2: [1, 2]}, '_i72': \"a = {'a':[11, 22], 'A': [33, 44], 'C': [55, 66]}\", '_i73': 'b = sorted(a, key=str.upper)', '_i74': 'b', '_74': ['a', 'A', 'C'], '_i75': \"class ComportDict(Dict):\\n    def __missing__(self):\\n        return 'a'\", '_i76': \"class ComportDict(dict):\\n    def __missing__(self):\\n        return 'a'\", 'ComportDict': <class '__main__.ComportDict'>, '_i77': 'aa = ComportDict()', 'aa': {1: 2}, '_i78': 'a[1] = 2', '_i79': 'a', '_79': {'a': [11, 22], 'A': [33, 44], 'C': [55, 66], 1: 2}, '_i80': 'aa[1] = 2', '_i81': 'aa', '_81': {1: 2}, '_i82': 'aa[2]', '_i83': 'class DefaultListDict(dict):\\n    def __missing__(self, key):\\n        self[key] = []\\n        return self[key]', 'DefaultListDict': <class '__main__.DefaultListDict'>, '_i84': 'aa = ComportDict()', '_i85': 'aa[1] = 2', '_i86': 'aa', '_86': {1: 2}, '_i87': 'aa[2]', '_i88': 'from collections import defaultdict', 'defaultdict': <class 'collections.defaultdict'>, '_i89': 'a = defaultdict(a)', '_i90': 'a = defaultdict(list)', '_i91': 'a.defaylt)factiry', '_i92': 'a.default_factory', '_92': <class 'list'>, '_i93': 'help(a)', '_i94': 'a = defaultdict(list)', '_i95': 'a = defaultdict(list)\\na[1] = [1, 2]\\na[2] = [3, 4]', '_i96': 'a = defaultdict(list)\\na[1] = [1, 2]\\na[2] = [3, 4]\\na[1]', '_96': [1, 2], '_i97': 'a[1]', '_97': [1, 2], '_i98': 'a[3]', '_98': [], '_i99': 'a', '_99': defaultdict(<class 'list'>, {1: [1, 2], 2: [3, 4], 3: []}), '_i100': 'a.default_factory', '_100': <class 'list'>, '_i101': 'class StrKeyDict0(dict):\\n    def __missing__(self, key):\\n        if isinstance(key, str):\\n            raise KeyError(Key)\\n        return self[str[key]]\\n    \\n    ', 'StrKeyDict0': <class '__main__.StrKeyDict0'>, '_i102': \"a = StrKeyDict0([('2', 'two'), ('4', 'four')])\", '_i103': 'a', '_103': {'2': 'two', '4': 'four'}, '_i104': 'a[2]', '_i105': 'class StrKeyDict0(dict):\\n    def __missing__(self, key):\\n        if isinstance(key, str):\\n            raise KeyError(Key)\\n        return self[str(key)]\\n    \\n    ', '_i106': \"a = StrKeyDict0([('2', 'two'), ('4', 'four')])\", '_i107': 'a', '_107': {'2': 'two', '4': 'four'}, '_i108': 'a[2]', '_108': 'two', '_i109': \"a['2]']\", '_i110': \"a['2']\", '_110': 'two', '_i111': 'a[1]', '_i112': 'class StrKeyDict0(dict):\\n    def __missing__(self, key):\\n        if isinstance(key, str):\\n            raise KeyError(key)\\n        return self[str(key)]\\n    \\n    ', '_i113': \"a = StrKeyDict0([('2', 'two'), ('4', 'four')])\", '_i114': 'a', '_114': {'2': 'two', '4': 'four'}, '_i115': 'a[2]', '_115': 'two', '_i116': \"a['2']\", '_116': 'two', '_i117': 'a[1]', '_i118': 'a.get(2)', '_i119': \"a.get('2')\", '_119': 'two', '_i120': 'class StrKeyDict0(dict):\\n    def __missing__(self, key):\\n        if isinstance(key, str):\\n            raise KeyError(key)\\n        return self[str(key)]\\n    \\n    def get(self, key, default=None):\\n        try:\\n            return self[key]\\n        except KeyError:\\n            return default\\n        \\n    \\n    ', '_i121': \"a = StrKeyDict0([('2', 'two'), ('4', 'four')])\", '_i122': 'a', '_122': {'2': 'two', '4': 'four'}, '_i123': 'a[2]', '_123': 'two', '_i124': \"a['2']\", '_124': 'two', '_i125': 'a[1]', '_i126': \"a.get('2')\", '_126': 'two', '_i127': 'a.get(2)', '_127': 'two', '_i128': 'class StrKeyDict0(dict):\\n    def __missing__(self, key):\\n        if isinstance(key, str):\\n            raise KeyError(key)\\n        return self[str(key)]\\n    \\n    def get(self, key, default=None):\\n        try:\\n            return self[key]\\n        except KeyError:\\n            return default\\n        \\n    def __contains__(self, key):\\n        return key in self.keys() or str(key) in self.keys()\\n        \\n    \\n    ', '_i129': 'import builtins\\nfrom collections import ChainMap\\n\\npylookup = ChainMap(locals(), globals(), vars(builtins))', 'builtins': <module 'builtins' (built-in)>, 'ChainMap': <class 'collections.ChainMap'>, 'pylookup': ..., '_i130': 'pylookup', '_130': ..., '_i131': 'a = {1:1}\\nb = {2:2}\\nc = {3:3}', '_i132': 'chain = ChainMap(a, b, c)', 'chain': ChainMap({}, {2: 2}, {3: 3}), '_i133': 'chain', '_133': ChainMap({}, {2: 2}, {3: 3}), '_i134': 'chain[1]', '_134': 1, '_i135': 'chain.items()', '_135': ItemsView(ChainMap({}, {2: 2}, {3: 3})), '_i136': 'list(chain.items())', '_136': [(3, 3), (2, 2), (1, 1)], '_i137': 'chain.pop(1)', '_137': 1, '_i138': 'a', '_138': {}, '_i139': 'a and b', '_139': {}, '_i140': 'a or b', '_140': {2: 2}, '_i141': 'a and b and c', '_141': {}, '_i142': 'locals()'}, {'__name__': '__main__', '__doc__': 'Automatically created module for IPython interactive environment', '__package__': None, '__loader__': None, '__spec__': None, '__builtin__': <module 'builtins' (built-in)>, '__builtins__': <module 'builtins' (built-in)>, '_ih': ['', '__builtins__', '__builtins__.__dict__', 'a = {1:1, 2:2}', 'a.pop()', 'a.popitem()', 'a', 'a.pop(1)', 'a', 'a.pop(1)', 'a.setdefault(1)', 'a', 'a.setdefault(2, 1)', 'a', 'a.setdefault(1, [])', 'a', 'a.setdefault(3, [])', 'a', 'a.setdefault(3, [], 2)', 'a.setdefault(3, [])', 'a', 'from collections import Mapping', 'from collections.abc import Mapping', 'help(Mapping)', 'a = Mapping()', \"class TestMapping(Mapping):\\n    def __getitem__(self):\\n        return ''\\n    \\n    def __iter__(self):\\n        return ''\\n    \\n    def __len__(self):\\n        return 0\", 'a = TestMapping()', 'a', 'a[1] = 1', 'a.items()', 'list(a.items())', 'a = [1, 2]\\nb = [3,4]', \"for ab in (f'{a} : {b}' for a, b in zip(a, b)):\\n    print(ab)\", \"for c in (f'{x} : {y}' for x in a for y in b):\\n    print(c)\", 'a = {1:1, 2:2}', 'b = a', 'a[1] = 2', 'b', 'a', 'a = {1:1, 2:2}', 'b = a.copy()', 'b', 'b[1] = 2', 'b', '1', 'a', 'from copy import copy', 'a = copy(b)', 'a', 'b', 'a[1] = 3', 'b', 'a', 'a = {1:[1, 2], 2: [1, 2]}', 'b = copy(a)', 'a', 'b', 'b[1].append(3)', 'a', 'b', 'from copy import deepcopy', 'b = deepcopy(a)', 'b', 'a', 'a[1].append(4)', 'a', 'b', 'a in b', '1 in b', 'del a[1]', 'a', 'b', \"a = {'a':[11, 22], 'A': [33, 44], 'C': [55, 66]}\", 'b = sorted(a, key=str.upper)', 'b', \"class ComportDict(Dict):\\n    def __missing__(self):\\n        return 'a'\", \"class ComportDict(dict):\\n    def __missing__(self):\\n        return 'a'\", 'aa = ComportDict()', 'a[1] = 2', 'a', 'aa[1] = 2', 'aa', 'aa[2]', 'class DefaultListDict(dict):\\n    def __missing__(self, key):\\n        self[key] = []\\n        return self[key]', 'aa = ComportDict()', 'aa[1] = 2', 'aa', 'aa[2]', 'from collections import defaultdict', 'a = defaultdict(a)', 'a = defaultdict(list)', 'a.defaylt)factiry', 'a.default_factory', 'help(a)', 'a = defaultdict(list)', 'a = defaultdict(list)\\na[1] = [1, 2]\\na[2] = [3, 4]', 'a = defaultdict(list)\\na[1] = [1, 2]\\na[2] = [3, 4]\\na[1]', 'a[1]', 'a[3]', 'a', 'a.default_factory', 'class StrKeyDict0(dict):\\n    def __missing__(self, key):\\n        if isinstance(key, str):\\n            raise KeyError(Key)\\n        return self[str[key]]\\n    \\n    ', \"a = StrKeyDict0([('2', 'two'), ('4', 'four')])\", 'a', 'a[2]', 'class StrKeyDict0(dict):\\n    def __missing__(self, key):\\n        if isinstance(key, str):\\n            raise KeyError(Key)\\n        return self[str(key)]\\n    \\n    ', \"a = StrKeyDict0([('2', 'two'), ('4', 'four')])\", 'a', 'a[2]', \"a['2]']\", \"a['2']\", 'a[1]', 'class StrKeyDict0(dict):\\n    def __missing__(self, key):\\n        if isinstance(key, str):\\n            raise KeyError(key)\\n        return self[str(key)]\\n    \\n    ', \"a = StrKeyDict0([('2', 'two'), ('4', 'four')])\", 'a', 'a[2]', \"a['2']\", 'a[1]', 'a.get(2)', \"a.get('2')\", 'class StrKeyDict0(dict):\\n    def __missing__(self, key):\\n        if isinstance(key, str):\\n            raise KeyError(key)\\n        return self[str(key)]\\n    \\n    def get(self, key, default=None):\\n        try:\\n            return self[key]\\n        except KeyError:\\n            return default\\n        \\n    \\n    ', \"a = StrKeyDict0([('2', 'two'), ('4', 'four')])\", 'a', 'a[2]', \"a['2']\", 'a[1]', \"a.get('2')\", 'a.get(2)', 'class StrKeyDict0(dict):\\n    def __missing__(self, key):\\n        if isinstance(key, str):\\n            raise KeyError(key)\\n        return self[str(key)]\\n    \\n    def get(self, key, default=None):\\n        try:\\n            return self[key]\\n        except KeyError:\\n            return default\\n        \\n    def __contains__(self, key):\\n        return key in self.keys() or str(key) in self.keys()\\n        \\n    \\n    ', 'import builtins\\nfrom collections import ChainMap\\n\\npylookup = ChainMap(locals(), globals(), vars(builtins))', 'pylookup', 'a = {1:1}\\nb = {2:2}\\nc = {3:3}', 'chain = ChainMap(a, b, c)', 'chain', 'chain[1]', 'chain.items()', 'list(chain.items())', 'chain.pop(1)', 'a', 'a and b', 'a or b', 'a and b and c', 'locals()'], '_oh': {1: <module 'builtins' (built-in)>, 2: {'__name__': 'builtins', '__doc__': \"Built-in functions, exceptions, and other objects.\\n\\nNoteworthy: None is the `nil' object; Ellipsis represents `...' in slices.\", '__package__': '', '__loader__': <class '_frozen_importlib.BuiltinImporter'>, '__spec__': ModuleSpec(name='builtins', loader=<class '_frozen_importlib.BuiltinImporter'>), '__build_class__': <built-in function __build_class__>, '__import__': <built-in function __import__>, 'abs': <built-in function abs>, 'all': <built-in function all>, 'any': <built-in function any>, 'ascii': <built-in function ascii>, 'bin': <built-in function bin>, 'breakpoint': <built-in function breakpoint>, 'callable': <built-in function callable>, 'chr': <built-in function chr>, 'compile': <built-in function compile>, 'delattr': <built-in function delattr>, 'dir': <built-in function dir>, 'divmod': <built-in function divmod>, 'eval': <built-in function eval>, 'exec': <built-in function exec>, 'format': <built-in function format>, 'getattr': <built-in function getattr>, 'globals': <built-in function globals>, 'hasattr': <built-in function hasattr>, 'hash': <built-in function hash>, 'hex': <built-in function hex>, 'id': <built-in function id>, 'input': <bound method Kernel.raw_input of <ipykernel.ipkernel.IPythonKernel object at 0x7fd6f62ba850>>, 'isinstance': <built-in function isinstance>, 'issubclass': <built-in function issubclass>, 'iter': <built-in function iter>, 'len': <built-in function len>, 'locals': <built-in function locals>, 'max': <built-in function max>, 'min': <built-in function min>, 'next': <built-in function next>, 'oct': <built-in function oct>, 'ord': <built-in function ord>, 'pow': <built-in function pow>, 'print': <built-in function print>, 'repr': <built-in function repr>, 'round': <built-in function round>, 'setattr': <built-in function setattr>, 'sorted': <built-in function sorted>, 'sum': <built-in function sum>, 'vars': <built-in function vars>, 'None': None, 'Ellipsis': Ellipsis, 'NotImplemented': NotImplemented, 'False': False, 'True': True, 'bool': <class 'bool'>, 'memoryview': <class 'memoryview'>, 'bytearray': <class 'bytearray'>, 'bytes': <class 'bytes'>, 'classmethod': <class 'classmethod'>, 'complex': <class 'complex'>, 'dict': <class 'dict'>, 'enumerate': <class 'enumerate'>, 'filter': <class 'filter'>, 'float': <class 'float'>, 'frozenset': <class 'frozenset'>, 'property': <class 'property'>, 'int': <class 'int'>, 'list': <class 'list'>, 'map': <class 'map'>, 'object': <class 'object'>, 'range': <class 'range'>, 'reversed': <class 'reversed'>, 'set': <class 'set'>, 'slice': <class 'slice'>, 'staticmethod': <class 'staticmethod'>, 'str': <class 'str'>, 'super': <class 'super'>, 'tuple': <class 'tuple'>, 'type': <class 'type'>, 'zip': <class 'zip'>, '__debug__': True, 'BaseException': <class 'BaseException'>, 'Exception': <class 'Exception'>, 'TypeError': <class 'TypeError'>, 'StopAsyncIteration': <class 'StopAsyncIteration'>, 'StopIteration': <class 'StopIteration'>, 'GeneratorExit': <class 'GeneratorExit'>, 'SystemExit': <class 'SystemExit'>, 'KeyboardInterrupt': <class 'KeyboardInterrupt'>, 'ImportError': <class 'ImportError'>, 'ModuleNotFoundError': <class 'ModuleNotFoundError'>, 'OSError': <class 'OSError'>, 'EnvironmentError': <class 'OSError'>, 'IOError': <class 'OSError'>, 'EOFError': <class 'EOFError'>, 'RuntimeError': <class 'RuntimeError'>, 'RecursionError': <class 'RecursionError'>, 'NotImplementedError': <class 'NotImplementedError'>, 'NameError': <class 'NameError'>, 'UnboundLocalError': <class 'UnboundLocalError'>, 'AttributeError': <class 'AttributeError'>, 'SyntaxError': <class 'SyntaxError'>, 'IndentationError': <class 'IndentationError'>, 'TabError': <class 'TabError'>, 'LookupError': <class 'LookupError'>, 'IndexError': <class 'IndexError'>, 'KeyError': <class 'KeyError'>, 'ValueError': <class 'ValueError'>, 'UnicodeError': <class 'UnicodeError'>, 'UnicodeEncodeError': <class 'UnicodeEncodeError'>, 'UnicodeDecodeError': <class 'UnicodeDecodeError'>, 'UnicodeTranslateError': <class 'UnicodeTranslateError'>, 'AssertionError': <class 'AssertionError'>, 'ArithmeticError': <class 'ArithmeticError'>, 'FloatingPointError': <class 'FloatingPointError'>, 'OverflowError': <class 'OverflowError'>, 'ZeroDivisionError': <class 'ZeroDivisionError'>, 'SystemError': <class 'SystemError'>, 'ReferenceError': <class 'ReferenceError'>, 'MemoryError': <class 'MemoryError'>, 'BufferError': <class 'BufferError'>, 'Warning': <class 'Warning'>, 'UserWarning': <class 'UserWarning'>, 'DeprecationWarning': <class 'DeprecationWarning'>, 'PendingDeprecationWarning': <class 'PendingDeprecationWarning'>, 'SyntaxWarning': <class 'SyntaxWarning'>, 'RuntimeWarning': <class 'RuntimeWarning'>, 'FutureWarning': <class 'FutureWarning'>, 'ImportWarning': <class 'ImportWarning'>, 'UnicodeWarning': <class 'UnicodeWarning'>, 'BytesWarning': <class 'BytesWarning'>, 'ResourceWarning': <class 'ResourceWarning'>, 'ConnectionError': <class 'ConnectionError'>, 'BlockingIOError': <class 'BlockingIOError'>, 'BrokenPipeError': <class 'BrokenPipeError'>, 'ChildProcessError': <class 'ChildProcessError'>, 'ConnectionAbortedError': <class 'ConnectionAbortedError'>, 'ConnectionRefusedError': <class 'ConnectionRefusedError'>, 'ConnectionResetError': <class 'ConnectionResetError'>, 'FileExistsError': <class 'FileExistsError'>, 'FileNotFoundError': <class 'FileNotFoundError'>, 'IsADirectoryError': <class 'IsADirectoryError'>, 'NotADirectoryError': <class 'NotADirectoryError'>, 'InterruptedError': <class 'InterruptedError'>, 'PermissionError': <class 'PermissionError'>, 'ProcessLookupError': <class 'ProcessLookupError'>, 'TimeoutError': <class 'TimeoutError'>, 'open': <built-in function open>, 'copyright': Copyright (c) 2001-2019 Python Software Foundation.\n",
       " All Rights Reserved.\n",
       " \n",
       " Copyright (c) 2000 BeOpen.com.\n",
       " All Rights Reserved.\n",
       " \n",
       " Copyright (c) 1995-2001 Corporation for National Research Initiatives.\n",
       " All Rights Reserved.\n",
       " \n",
       " Copyright (c) 1991-1995 Stichting Mathematisch Centrum, Amsterdam.\n",
       " All Rights Reserved., 'credits':     Thanks to CWI, CNRI, BeOpen.com, Zope Corporation and a cast of thousands\n",
       "     for supporting Python development.  See www.python.org for more information., 'license': Type license() to see the full license text, 'help': Type help() for interactive help, or help(object) for help about object., '__IPYTHON__': True, 'display': <function display at 0x7fd6fee21200>, 'get_ipython': <bound method InteractiveShell.get_ipython of <ipykernel.zmqshell.ZMQInteractiveShell object at 0x7fd6f629f210>>}, 5: (2, 2), 6: {1: None, 2: 1, 3: []}, 7: 1, 8: {1: None, 2: 1, 3: []}, 11: {1: None, 2: 1, 3: []}, 12: 1, 13: {1: None, 2: 1, 3: []}, 15: {1: None, 2: 1, 3: []}, 16: [], 17: {1: None, 2: 1, 3: []}, 19: [], 20: {1: None, 2: 1, 3: []}, 27: <__main__.TestMapping object at 0x7fd6f41384d0>, 29: ItemsView(<__main__.TestMapping object at 0x7fd6f41384d0>), 37: {1: 2, 2: 2}, 38: {1: 2, 2: 2}, 41: {1: 2, 2: 2}, 43: {1: 2, 2: 2}, 44: 1, 45: {1: 1, 2: 2}, 48: {1: 3, 2: 2}, 49: {1: 2, 2: 2}, 51: {1: 2, 2: 2}, 52: {1: 3, 2: 2}, 55: {2: [1, 2]}, 56: {1: [1, 2, 3, 4], 2: [1, 2]}, 58: {2: [1, 2]}, 59: {1: [1, 2, 3, 4], 2: [1, 2]}, 62: {1: [1, 2, 3], 2: [1, 2]}, 63: {2: [1, 2]}, 65: {2: [1, 2]}, 66: {1: [1, 2, 3], 2: [1, 2]}, 68: True, 70: {2: [1, 2]}, 71: {1: [1, 2, 3], 2: [1, 2]}, 74: ['a', 'A', 'C'], 79: {'a': [11, 22], 'A': [33, 44], 'C': [55, 66], 1: 2}, 81: {1: 2}, 86: {1: 2}, 92: <class 'list'>, 96: [1, 2], 97: [1, 2], 98: [], 99: defaultdict(<class 'list'>, {1: [1, 2], 2: [3, 4], 3: []}), 100: <class 'list'>, 103: {'2': 'two', '4': 'four'}, 107: {'2': 'two', '4': 'four'}, 108: 'two', 110: 'two', 114: {'2': 'two', '4': 'four'}, 115: 'two', 116: 'two', 119: 'two', 122: {'2': 'two', '4': 'four'}, 123: 'two', 124: 'two', 126: 'two', 127: 'two', 130: ..., 133: ChainMap({}, {2: 2}, {3: 3}), 134: 1, 135: ItemsView(ChainMap({}, {2: 2}, {3: 3})), 136: [(3, 3), (2, 2), (1, 1)], 137: 1, 138: {}, 139: {}, 140: {2: 2}, 141: {}}, '_dh': ['/home/hby/projects/wps12th/python/fluentpython/notebook'], 'In': ['', '__builtins__', '__builtins__.__dict__', 'a = {1:1, 2:2}', 'a.pop()', 'a.popitem()', 'a', 'a.pop(1)', 'a', 'a.pop(1)', 'a.setdefault(1)', 'a', 'a.setdefault(2, 1)', 'a', 'a.setdefault(1, [])', 'a', 'a.setdefault(3, [])', 'a', 'a.setdefault(3, [], 2)', 'a.setdefault(3, [])', 'a', 'from collections import Mapping', 'from collections.abc import Mapping', 'help(Mapping)', 'a = Mapping()', \"class TestMapping(Mapping):\\n    def __getitem__(self):\\n        return ''\\n    \\n    def __iter__(self):\\n        return ''\\n    \\n    def __len__(self):\\n        return 0\", 'a = TestMapping()', 'a', 'a[1] = 1', 'a.items()', 'list(a.items())', 'a = [1, 2]\\nb = [3,4]', \"for ab in (f'{a} : {b}' for a, b in zip(a, b)):\\n    print(ab)\", \"for c in (f'{x} : {y}' for x in a for y in b):\\n    print(c)\", 'a = {1:1, 2:2}', 'b = a', 'a[1] = 2', 'b', 'a', 'a = {1:1, 2:2}', 'b = a.copy()', 'b', 'b[1] = 2', 'b', '1', 'a', 'from copy import copy', 'a = copy(b)', 'a', 'b', 'a[1] = 3', 'b', 'a', 'a = {1:[1, 2], 2: [1, 2]}', 'b = copy(a)', 'a', 'b', 'b[1].append(3)', 'a', 'b', 'from copy import deepcopy', 'b = deepcopy(a)', 'b', 'a', 'a[1].append(4)', 'a', 'b', 'a in b', '1 in b', 'del a[1]', 'a', 'b', \"a = {'a':[11, 22], 'A': [33, 44], 'C': [55, 66]}\", 'b = sorted(a, key=str.upper)', 'b', \"class ComportDict(Dict):\\n    def __missing__(self):\\n        return 'a'\", \"class ComportDict(dict):\\n    def __missing__(self):\\n        return 'a'\", 'aa = ComportDict()', 'a[1] = 2', 'a', 'aa[1] = 2', 'aa', 'aa[2]', 'class DefaultListDict(dict):\\n    def __missing__(self, key):\\n        self[key] = []\\n        return self[key]', 'aa = ComportDict()', 'aa[1] = 2', 'aa', 'aa[2]', 'from collections import defaultdict', 'a = defaultdict(a)', 'a = defaultdict(list)', 'a.defaylt)factiry', 'a.default_factory', 'help(a)', 'a = defaultdict(list)', 'a = defaultdict(list)\\na[1] = [1, 2]\\na[2] = [3, 4]', 'a = defaultdict(list)\\na[1] = [1, 2]\\na[2] = [3, 4]\\na[1]', 'a[1]', 'a[3]', 'a', 'a.default_factory', 'class StrKeyDict0(dict):\\n    def __missing__(self, key):\\n        if isinstance(key, str):\\n            raise KeyError(Key)\\n        return self[str[key]]\\n    \\n    ', \"a = StrKeyDict0([('2', 'two'), ('4', 'four')])\", 'a', 'a[2]', 'class StrKeyDict0(dict):\\n    def __missing__(self, key):\\n        if isinstance(key, str):\\n            raise KeyError(Key)\\n        return self[str(key)]\\n    \\n    ', \"a = StrKeyDict0([('2', 'two'), ('4', 'four')])\", 'a', 'a[2]', \"a['2]']\", \"a['2']\", 'a[1]', 'class StrKeyDict0(dict):\\n    def __missing__(self, key):\\n        if isinstance(key, str):\\n            raise KeyError(key)\\n        return self[str(key)]\\n    \\n    ', \"a = StrKeyDict0([('2', 'two'), ('4', 'four')])\", 'a', 'a[2]', \"a['2']\", 'a[1]', 'a.get(2)', \"a.get('2')\", 'class StrKeyDict0(dict):\\n    def __missing__(self, key):\\n        if isinstance(key, str):\\n            raise KeyError(key)\\n        return self[str(key)]\\n    \\n    def get(self, key, default=None):\\n        try:\\n            return self[key]\\n        except KeyError:\\n            return default\\n        \\n    \\n    ', \"a = StrKeyDict0([('2', 'two'), ('4', 'four')])\", 'a', 'a[2]', \"a['2']\", 'a[1]', \"a.get('2')\", 'a.get(2)', 'class StrKeyDict0(dict):\\n    def __missing__(self, key):\\n        if isinstance(key, str):\\n            raise KeyError(key)\\n        return self[str(key)]\\n    \\n    def get(self, key, default=None):\\n        try:\\n            return self[key]\\n        except KeyError:\\n            return default\\n        \\n    def __contains__(self, key):\\n        return key in self.keys() or str(key) in self.keys()\\n        \\n    \\n    ', 'import builtins\\nfrom collections import ChainMap\\n\\npylookup = ChainMap(locals(), globals(), vars(builtins))', 'pylookup', 'a = {1:1}\\nb = {2:2}\\nc = {3:3}', 'chain = ChainMap(a, b, c)', 'chain', 'chain[1]', 'chain.items()', 'list(chain.items())', 'chain.pop(1)', 'a', 'a and b', 'a or b', 'a and b and c', 'locals()'], 'Out': {1: <module 'builtins' (built-in)>, 2: {'__name__': 'builtins', '__doc__': \"Built-in functions, exceptions, and other objects.\\n\\nNoteworthy: None is the `nil' object; Ellipsis represents `...' in slices.\", '__package__': '', '__loader__': <class '_frozen_importlib.BuiltinImporter'>, '__spec__': ModuleSpec(name='builtins', loader=<class '_frozen_importlib.BuiltinImporter'>), '__build_class__': <built-in function __build_class__>, '__import__': <built-in function __import__>, 'abs': <built-in function abs>, 'all': <built-in function all>, 'any': <built-in function any>, 'ascii': <built-in function ascii>, 'bin': <built-in function bin>, 'breakpoint': <built-in function breakpoint>, 'callable': <built-in function callable>, 'chr': <built-in function chr>, 'compile': <built-in function compile>, 'delattr': <built-in function delattr>, 'dir': <built-in function dir>, 'divmod': <built-in function divmod>, 'eval': <built-in function eval>, 'exec': <built-in function exec>, 'format': <built-in function format>, 'getattr': <built-in function getattr>, 'globals': <built-in function globals>, 'hasattr': <built-in function hasattr>, 'hash': <built-in function hash>, 'hex': <built-in function hex>, 'id': <built-in function id>, 'input': <bound method Kernel.raw_input of <ipykernel.ipkernel.IPythonKernel object at 0x7fd6f62ba850>>, 'isinstance': <built-in function isinstance>, 'issubclass': <built-in function issubclass>, 'iter': <built-in function iter>, 'len': <built-in function len>, 'locals': <built-in function locals>, 'max': <built-in function max>, 'min': <built-in function min>, 'next': <built-in function next>, 'oct': <built-in function oct>, 'ord': <built-in function ord>, 'pow': <built-in function pow>, 'print': <built-in function print>, 'repr': <built-in function repr>, 'round': <built-in function round>, 'setattr': <built-in function setattr>, 'sorted': <built-in function sorted>, 'sum': <built-in function sum>, 'vars': <built-in function vars>, 'None': None, 'Ellipsis': Ellipsis, 'NotImplemented': NotImplemented, 'False': False, 'True': True, 'bool': <class 'bool'>, 'memoryview': <class 'memoryview'>, 'bytearray': <class 'bytearray'>, 'bytes': <class 'bytes'>, 'classmethod': <class 'classmethod'>, 'complex': <class 'complex'>, 'dict': <class 'dict'>, 'enumerate': <class 'enumerate'>, 'filter': <class 'filter'>, 'float': <class 'float'>, 'frozenset': <class 'frozenset'>, 'property': <class 'property'>, 'int': <class 'int'>, 'list': <class 'list'>, 'map': <class 'map'>, 'object': <class 'object'>, 'range': <class 'range'>, 'reversed': <class 'reversed'>, 'set': <class 'set'>, 'slice': <class 'slice'>, 'staticmethod': <class 'staticmethod'>, 'str': <class 'str'>, 'super': <class 'super'>, 'tuple': <class 'tuple'>, 'type': <class 'type'>, 'zip': <class 'zip'>, '__debug__': True, 'BaseException': <class 'BaseException'>, 'Exception': <class 'Exception'>, 'TypeError': <class 'TypeError'>, 'StopAsyncIteration': <class 'StopAsyncIteration'>, 'StopIteration': <class 'StopIteration'>, 'GeneratorExit': <class 'GeneratorExit'>, 'SystemExit': <class 'SystemExit'>, 'KeyboardInterrupt': <class 'KeyboardInterrupt'>, 'ImportError': <class 'ImportError'>, 'ModuleNotFoundError': <class 'ModuleNotFoundError'>, 'OSError': <class 'OSError'>, 'EnvironmentError': <class 'OSError'>, 'IOError': <class 'OSError'>, 'EOFError': <class 'EOFError'>, 'RuntimeError': <class 'RuntimeError'>, 'RecursionError': <class 'RecursionError'>, 'NotImplementedError': <class 'NotImplementedError'>, 'NameError': <class 'NameError'>, 'UnboundLocalError': <class 'UnboundLocalError'>, 'AttributeError': <class 'AttributeError'>, 'SyntaxError': <class 'SyntaxError'>, 'IndentationError': <class 'IndentationError'>, 'TabError': <class 'TabError'>, 'LookupError': <class 'LookupError'>, 'IndexError': <class 'IndexError'>, 'KeyError': <class 'KeyError'>, 'ValueError': <class 'ValueError'>, 'UnicodeError': <class 'UnicodeError'>, 'UnicodeEncodeError': <class 'UnicodeEncodeError'>, 'UnicodeDecodeError': <class 'UnicodeDecodeError'>, 'UnicodeTranslateError': <class 'UnicodeTranslateError'>, 'AssertionError': <class 'AssertionError'>, 'ArithmeticError': <class 'ArithmeticError'>, 'FloatingPointError': <class 'FloatingPointError'>, 'OverflowError': <class 'OverflowError'>, 'ZeroDivisionError': <class 'ZeroDivisionError'>, 'SystemError': <class 'SystemError'>, 'ReferenceError': <class 'ReferenceError'>, 'MemoryError': <class 'MemoryError'>, 'BufferError': <class 'BufferError'>, 'Warning': <class 'Warning'>, 'UserWarning': <class 'UserWarning'>, 'DeprecationWarning': <class 'DeprecationWarning'>, 'PendingDeprecationWarning': <class 'PendingDeprecationWarning'>, 'SyntaxWarning': <class 'SyntaxWarning'>, 'RuntimeWarning': <class 'RuntimeWarning'>, 'FutureWarning': <class 'FutureWarning'>, 'ImportWarning': <class 'ImportWarning'>, 'UnicodeWarning': <class 'UnicodeWarning'>, 'BytesWarning': <class 'BytesWarning'>, 'ResourceWarning': <class 'ResourceWarning'>, 'ConnectionError': <class 'ConnectionError'>, 'BlockingIOError': <class 'BlockingIOError'>, 'BrokenPipeError': <class 'BrokenPipeError'>, 'ChildProcessError': <class 'ChildProcessError'>, 'ConnectionAbortedError': <class 'ConnectionAbortedError'>, 'ConnectionRefusedError': <class 'ConnectionRefusedError'>, 'ConnectionResetError': <class 'ConnectionResetError'>, 'FileExistsError': <class 'FileExistsError'>, 'FileNotFoundError': <class 'FileNotFoundError'>, 'IsADirectoryError': <class 'IsADirectoryError'>, 'NotADirectoryError': <class 'NotADirectoryError'>, 'InterruptedError': <class 'InterruptedError'>, 'PermissionError': <class 'PermissionError'>, 'ProcessLookupError': <class 'ProcessLookupError'>, 'TimeoutError': <class 'TimeoutError'>, 'open': <built-in function open>, 'copyright': Copyright (c) 2001-2019 Python Software Foundation.\n",
       " All Rights Reserved.\n",
       " \n",
       " Copyright (c) 2000 BeOpen.com.\n",
       " All Rights Reserved.\n",
       " \n",
       " Copyright (c) 1995-2001 Corporation for National Research Initiatives.\n",
       " All Rights Reserved.\n",
       " \n",
       " Copyright (c) 1991-1995 Stichting Mathematisch Centrum, Amsterdam.\n",
       " All Rights Reserved., 'credits':     Thanks to CWI, CNRI, BeOpen.com, Zope Corporation and a cast of thousands\n",
       "     for supporting Python development.  See www.python.org for more information., 'license': Type license() to see the full license text, 'help': Type help() for interactive help, or help(object) for help about object., '__IPYTHON__': True, 'display': <function display at 0x7fd6fee21200>, 'get_ipython': <bound method InteractiveShell.get_ipython of <ipykernel.zmqshell.ZMQInteractiveShell object at 0x7fd6f629f210>>}, 5: (2, 2), 6: {1: None, 2: 1, 3: []}, 7: 1, 8: {1: None, 2: 1, 3: []}, 11: {1: None, 2: 1, 3: []}, 12: 1, 13: {1: None, 2: 1, 3: []}, 15: {1: None, 2: 1, 3: []}, 16: [], 17: {1: None, 2: 1, 3: []}, 19: [], 20: {1: None, 2: 1, 3: []}, 27: <__main__.TestMapping object at 0x7fd6f41384d0>, 29: ItemsView(<__main__.TestMapping object at 0x7fd6f41384d0>), 37: {1: 2, 2: 2}, 38: {1: 2, 2: 2}, 41: {1: 2, 2: 2}, 43: {1: 2, 2: 2}, 44: 1, 45: {1: 1, 2: 2}, 48: {1: 3, 2: 2}, 49: {1: 2, 2: 2}, 51: {1: 2, 2: 2}, 52: {1: 3, 2: 2}, 55: {2: [1, 2]}, 56: {1: [1, 2, 3, 4], 2: [1, 2]}, 58: {2: [1, 2]}, 59: {1: [1, 2, 3, 4], 2: [1, 2]}, 62: {1: [1, 2, 3], 2: [1, 2]}, 63: {2: [1, 2]}, 65: {2: [1, 2]}, 66: {1: [1, 2, 3], 2: [1, 2]}, 68: True, 70: {2: [1, 2]}, 71: {1: [1, 2, 3], 2: [1, 2]}, 74: ['a', 'A', 'C'], 79: {'a': [11, 22], 'A': [33, 44], 'C': [55, 66], 1: 2}, 81: {1: 2}, 86: {1: 2}, 92: <class 'list'>, 96: [1, 2], 97: [1, 2], 98: [], 99: defaultdict(<class 'list'>, {1: [1, 2], 2: [3, 4], 3: []}), 100: <class 'list'>, 103: {'2': 'two', '4': 'four'}, 107: {'2': 'two', '4': 'four'}, 108: 'two', 110: 'two', 114: {'2': 'two', '4': 'four'}, 115: 'two', 116: 'two', 119: 'two', 122: {'2': 'two', '4': 'four'}, 123: 'two', 124: 'two', 126: 'two', 127: 'two', 130: ..., 133: ChainMap({}, {2: 2}, {3: 3}), 134: 1, 135: ItemsView(ChainMap({}, {2: 2}, {3: 3})), 136: [(3, 3), (2, 2), (1, 1)], 137: 1, 138: {}, 139: {}, 140: {2: 2}, 141: {}}, 'get_ipython': <bound method InteractiveShell.get_ipython of <ipykernel.zmqshell.ZMQInteractiveShell object at 0x7fd6f629f210>>, 'exit': <IPython.core.autocall.ZMQExitAutocall object at 0x7fd6f627ded0>, 'quit': <IPython.core.autocall.ZMQExitAutocall object at 0x7fd6f627ded0>, '_': {}, '__': {2: 2}, '___': {}, '_i': 'a and b and c', '_ii': 'a or b', '_iii': 'a and b', '_i1': '__builtins__', '_1': <module 'builtins' (built-in)>, '_i2': '__builtins__.__dict__', '_2': {'__name__': 'builtins', '__doc__': \"Built-in functions, exceptions, and other objects.\\n\\nNoteworthy: None is the `nil' object; Ellipsis represents `...' in slices.\", '__package__': '', '__loader__': <class '_frozen_importlib.BuiltinImporter'>, '__spec__': ModuleSpec(name='builtins', loader=<class '_frozen_importlib.BuiltinImporter'>), '__build_class__': <built-in function __build_class__>, '__import__': <built-in function __import__>, 'abs': <built-in function abs>, 'all': <built-in function all>, 'any': <built-in function any>, 'ascii': <built-in function ascii>, 'bin': <built-in function bin>, 'breakpoint': <built-in function breakpoint>, 'callable': <built-in function callable>, 'chr': <built-in function chr>, 'compile': <built-in function compile>, 'delattr': <built-in function delattr>, 'dir': <built-in function dir>, 'divmod': <built-in function divmod>, 'eval': <built-in function eval>, 'exec': <built-in function exec>, 'format': <built-in function format>, 'getattr': <built-in function getattr>, 'globals': <built-in function globals>, 'hasattr': <built-in function hasattr>, 'hash': <built-in function hash>, 'hex': <built-in function hex>, 'id': <built-in function id>, 'input': <bound method Kernel.raw_input of <ipykernel.ipkernel.IPythonKernel object at 0x7fd6f62ba850>>, 'isinstance': <built-in function isinstance>, 'issubclass': <built-in function issubclass>, 'iter': <built-in function iter>, 'len': <built-in function len>, 'locals': <built-in function locals>, 'max': <built-in function max>, 'min': <built-in function min>, 'next': <built-in function next>, 'oct': <built-in function oct>, 'ord': <built-in function ord>, 'pow': <built-in function pow>, 'print': <built-in function print>, 'repr': <built-in function repr>, 'round': <built-in function round>, 'setattr': <built-in function setattr>, 'sorted': <built-in function sorted>, 'sum': <built-in function sum>, 'vars': <built-in function vars>, 'None': None, 'Ellipsis': Ellipsis, 'NotImplemented': NotImplemented, 'False': False, 'True': True, 'bool': <class 'bool'>, 'memoryview': <class 'memoryview'>, 'bytearray': <class 'bytearray'>, 'bytes': <class 'bytes'>, 'classmethod': <class 'classmethod'>, 'complex': <class 'complex'>, 'dict': <class 'dict'>, 'enumerate': <class 'enumerate'>, 'filter': <class 'filter'>, 'float': <class 'float'>, 'frozenset': <class 'frozenset'>, 'property': <class 'property'>, 'int': <class 'int'>, 'list': <class 'list'>, 'map': <class 'map'>, 'object': <class 'object'>, 'range': <class 'range'>, 'reversed': <class 'reversed'>, 'set': <class 'set'>, 'slice': <class 'slice'>, 'staticmethod': <class 'staticmethod'>, 'str': <class 'str'>, 'super': <class 'super'>, 'tuple': <class 'tuple'>, 'type': <class 'type'>, 'zip': <class 'zip'>, '__debug__': True, 'BaseException': <class 'BaseException'>, 'Exception': <class 'Exception'>, 'TypeError': <class 'TypeError'>, 'StopAsyncIteration': <class 'StopAsyncIteration'>, 'StopIteration': <class 'StopIteration'>, 'GeneratorExit': <class 'GeneratorExit'>, 'SystemExit': <class 'SystemExit'>, 'KeyboardInterrupt': <class 'KeyboardInterrupt'>, 'ImportError': <class 'ImportError'>, 'ModuleNotFoundError': <class 'ModuleNotFoundError'>, 'OSError': <class 'OSError'>, 'EnvironmentError': <class 'OSError'>, 'IOError': <class 'OSError'>, 'EOFError': <class 'EOFError'>, 'RuntimeError': <class 'RuntimeError'>, 'RecursionError': <class 'RecursionError'>, 'NotImplementedError': <class 'NotImplementedError'>, 'NameError': <class 'NameError'>, 'UnboundLocalError': <class 'UnboundLocalError'>, 'AttributeError': <class 'AttributeError'>, 'SyntaxError': <class 'SyntaxError'>, 'IndentationError': <class 'IndentationError'>, 'TabError': <class 'TabError'>, 'LookupError': <class 'LookupError'>, 'IndexError': <class 'IndexError'>, 'KeyError': <class 'KeyError'>, 'ValueError': <class 'ValueError'>, 'UnicodeError': <class 'UnicodeError'>, 'UnicodeEncodeError': <class 'UnicodeEncodeError'>, 'UnicodeDecodeError': <class 'UnicodeDecodeError'>, 'UnicodeTranslateError': <class 'UnicodeTranslateError'>, 'AssertionError': <class 'AssertionError'>, 'ArithmeticError': <class 'ArithmeticError'>, 'FloatingPointError': <class 'FloatingPointError'>, 'OverflowError': <class 'OverflowError'>, 'ZeroDivisionError': <class 'ZeroDivisionError'>, 'SystemError': <class 'SystemError'>, 'ReferenceError': <class 'ReferenceError'>, 'MemoryError': <class 'MemoryError'>, 'BufferError': <class 'BufferError'>, 'Warning': <class 'Warning'>, 'UserWarning': <class 'UserWarning'>, 'DeprecationWarning': <class 'DeprecationWarning'>, 'PendingDeprecationWarning': <class 'PendingDeprecationWarning'>, 'SyntaxWarning': <class 'SyntaxWarning'>, 'RuntimeWarning': <class 'RuntimeWarning'>, 'FutureWarning': <class 'FutureWarning'>, 'ImportWarning': <class 'ImportWarning'>, 'UnicodeWarning': <class 'UnicodeWarning'>, 'BytesWarning': <class 'BytesWarning'>, 'ResourceWarning': <class 'ResourceWarning'>, 'ConnectionError': <class 'ConnectionError'>, 'BlockingIOError': <class 'BlockingIOError'>, 'BrokenPipeError': <class 'BrokenPipeError'>, 'ChildProcessError': <class 'ChildProcessError'>, 'ConnectionAbortedError': <class 'ConnectionAbortedError'>, 'ConnectionRefusedError': <class 'ConnectionRefusedError'>, 'ConnectionResetError': <class 'ConnectionResetError'>, 'FileExistsError': <class 'FileExistsError'>, 'FileNotFoundError': <class 'FileNotFoundError'>, 'IsADirectoryError': <class 'IsADirectoryError'>, 'NotADirectoryError': <class 'NotADirectoryError'>, 'InterruptedError': <class 'InterruptedError'>, 'PermissionError': <class 'PermissionError'>, 'ProcessLookupError': <class 'ProcessLookupError'>, 'TimeoutError': <class 'TimeoutError'>, 'open': <built-in function open>, 'copyright': Copyright (c) 2001-2019 Python Software Foundation.\n",
       " All Rights Reserved.\n",
       " \n",
       " Copyright (c) 2000 BeOpen.com.\n",
       " All Rights Reserved.\n",
       " \n",
       " Copyright (c) 1995-2001 Corporation for National Research Initiatives.\n",
       " All Rights Reserved.\n",
       " \n",
       " Copyright (c) 1991-1995 Stichting Mathematisch Centrum, Amsterdam.\n",
       " All Rights Reserved., 'credits':     Thanks to CWI, CNRI, BeOpen.com, Zope Corporation and a cast of thousands\n",
       "     for supporting Python development.  See www.python.org for more information., 'license': Type license() to see the full license text, 'help': Type help() for interactive help, or help(object) for help about object., '__IPYTHON__': True, 'display': <function display at 0x7fd6fee21200>, 'get_ipython': <bound method InteractiveShell.get_ipython of <ipykernel.zmqshell.ZMQInteractiveShell object at 0x7fd6f629f210>>}, '_i3': 'a = {1:1, 2:2}', 'a': {}, '_i4': 'a.pop()', '_i5': 'a.popitem()', '_5': (2, 2), '_i6': 'a', '_6': {1: None, 2: 1, 3: []}, '_i7': 'a.pop(1)', '_7': 1, '_i8': 'a', '_8': {1: None, 2: 1, 3: []}, '_i9': 'a.pop(1)', '_i10': 'a.setdefault(1)', '_i11': 'a', '_11': {1: None, 2: 1, 3: []}, '_i12': 'a.setdefault(2, 1)', '_12': 1, '_i13': 'a', '_13': {1: None, 2: 1, 3: []}, '_i14': 'a.setdefault(1, [])', '_i15': 'a', '_15': {1: None, 2: 1, 3: []}, '_i16': 'a.setdefault(3, [])', '_16': [], '_i17': 'a', '_17': {1: None, 2: 1, 3: []}, '_i18': 'a.setdefault(3, [], 2)', '_i19': 'a.setdefault(3, [])', '_19': [], '_i20': 'a', '_20': {1: None, 2: 1, 3: []}, '_i21': 'from collections import Mapping', 'Mapping': <class 'collections.abc.Mapping'>, '_i22': 'from collections.abc import Mapping', '_i23': 'help(Mapping)', '_i24': 'a = Mapping()', '_i25': \"class TestMapping(Mapping):\\n    def __getitem__(self):\\n        return ''\\n    \\n    def __iter__(self):\\n        return ''\\n    \\n    def __len__(self):\\n        return 0\", 'TestMapping': <class '__main__.TestMapping'>, '_i26': 'a = TestMapping()', '_i27': 'a', '_27': <__main__.TestMapping object at 0x7fd6f41384d0>, '_i28': 'a[1] = 1', '_i29': 'a.items()', '_29': ItemsView(<__main__.TestMapping object at 0x7fd6f41384d0>), '_i30': 'list(a.items())', '_i31': 'a = [1, 2]\\nb = [3,4]', 'b': {2: 2}, '_i32': \"for ab in (f'{a} : {b}' for a, b in zip(a, b)):\\n    print(ab)\", 'ab': '2 : 4', '_i33': \"for c in (f'{x} : {y}' for x in a for y in b):\\n    print(c)\", 'c': {3: 3}, '_i34': 'a = {1:1, 2:2}', '_i35': 'b = a', '_i36': 'a[1] = 2', '_i37': 'b', '_37': {1: 2, 2: 2}, '_i38': 'a', '_38': {1: 2, 2: 2}, '_i39': 'a = {1:1, 2:2}', '_i40': 'b = a.copy()', '_i41': 'b', '_41': {1: 2, 2: 2}, '_i42': 'b[1] = 2', '_i43': 'b', '_43': {1: 2, 2: 2}, '_i44': '1', '_44': 1, '_i45': 'a', '_45': {1: 1, 2: 2}, '_i46': 'from copy import copy', 'copy': <function copy at 0x7fd6feeaa3b0>, '_i47': 'a = copy(b)', '_i48': 'a', '_48': {1: 3, 2: 2}, '_i49': 'b', '_49': {1: 2, 2: 2}, '_i50': 'a[1] = 3', '_i51': 'b', '_51': {1: 2, 2: 2}, '_i52': 'a', '_52': {1: 3, 2: 2}, '_i53': 'a = {1:[1, 2], 2: [1, 2]}', '_i54': 'b = copy(a)', '_i55': 'a', '_55': {2: [1, 2]}, '_i56': 'b', '_56': {1: [1, 2, 3, 4], 2: [1, 2]}, '_i57': 'b[1].append(3)', '_i58': 'a', '_58': {2: [1, 2]}, '_i59': 'b', '_59': {1: [1, 2, 3, 4], 2: [1, 2]}, '_i60': 'from copy import deepcopy', 'deepcopy': <function deepcopy at 0x7fd6feeaad40>, '_i61': 'b = deepcopy(a)', '_i62': 'b', '_62': {1: [1, 2, 3], 2: [1, 2]}, '_i63': 'a', '_63': {2: [1, 2]}, '_i64': 'a[1].append(4)', '_i65': 'a', '_65': {2: [1, 2]}, '_i66': 'b', '_66': {1: [1, 2, 3], 2: [1, 2]}, '_i67': 'a in b', '_i68': '1 in b', '_68': True, '_i69': 'del a[1]', '_i70': 'a', '_70': {2: [1, 2]}, '_i71': 'b', '_71': {1: [1, 2, 3], 2: [1, 2]}, '_i72': \"a = {'a':[11, 22], 'A': [33, 44], 'C': [55, 66]}\", '_i73': 'b = sorted(a, key=str.upper)', '_i74': 'b', '_74': ['a', 'A', 'C'], '_i75': \"class ComportDict(Dict):\\n    def __missing__(self):\\n        return 'a'\", '_i76': \"class ComportDict(dict):\\n    def __missing__(self):\\n        return 'a'\", 'ComportDict': <class '__main__.ComportDict'>, '_i77': 'aa = ComportDict()', 'aa': {1: 2}, '_i78': 'a[1] = 2', '_i79': 'a', '_79': {'a': [11, 22], 'A': [33, 44], 'C': [55, 66], 1: 2}, '_i80': 'aa[1] = 2', '_i81': 'aa', '_81': {1: 2}, '_i82': 'aa[2]', '_i83': 'class DefaultListDict(dict):\\n    def __missing__(self, key):\\n        self[key] = []\\n        return self[key]', 'DefaultListDict': <class '__main__.DefaultListDict'>, '_i84': 'aa = ComportDict()', '_i85': 'aa[1] = 2', '_i86': 'aa', '_86': {1: 2}, '_i87': 'aa[2]', '_i88': 'from collections import defaultdict', 'defaultdict': <class 'collections.defaultdict'>, '_i89': 'a = defaultdict(a)', '_i90': 'a = defaultdict(list)', '_i91': 'a.defaylt)factiry', '_i92': 'a.default_factory', '_92': <class 'list'>, '_i93': 'help(a)', '_i94': 'a = defaultdict(list)', '_i95': 'a = defaultdict(list)\\na[1] = [1, 2]\\na[2] = [3, 4]', '_i96': 'a = defaultdict(list)\\na[1] = [1, 2]\\na[2] = [3, 4]\\na[1]', '_96': [1, 2], '_i97': 'a[1]', '_97': [1, 2], '_i98': 'a[3]', '_98': [], '_i99': 'a', '_99': defaultdict(<class 'list'>, {1: [1, 2], 2: [3, 4], 3: []}), '_i100': 'a.default_factory', '_100': <class 'list'>, '_i101': 'class StrKeyDict0(dict):\\n    def __missing__(self, key):\\n        if isinstance(key, str):\\n            raise KeyError(Key)\\n        return self[str[key]]\\n    \\n    ', 'StrKeyDict0': <class '__main__.StrKeyDict0'>, '_i102': \"a = StrKeyDict0([('2', 'two'), ('4', 'four')])\", '_i103': 'a', '_103': {'2': 'two', '4': 'four'}, '_i104': 'a[2]', '_i105': 'class StrKeyDict0(dict):\\n    def __missing__(self, key):\\n        if isinstance(key, str):\\n            raise KeyError(Key)\\n        return self[str(key)]\\n    \\n    ', '_i106': \"a = StrKeyDict0([('2', 'two'), ('4', 'four')])\", '_i107': 'a', '_107': {'2': 'two', '4': 'four'}, '_i108': 'a[2]', '_108': 'two', '_i109': \"a['2]']\", '_i110': \"a['2']\", '_110': 'two', '_i111': 'a[1]', '_i112': 'class StrKeyDict0(dict):\\n    def __missing__(self, key):\\n        if isinstance(key, str):\\n            raise KeyError(key)\\n        return self[str(key)]\\n    \\n    ', '_i113': \"a = StrKeyDict0([('2', 'two'), ('4', 'four')])\", '_i114': 'a', '_114': {'2': 'two', '4': 'four'}, '_i115': 'a[2]', '_115': 'two', '_i116': \"a['2']\", '_116': 'two', '_i117': 'a[1]', '_i118': 'a.get(2)', '_i119': \"a.get('2')\", '_119': 'two', '_i120': 'class StrKeyDict0(dict):\\n    def __missing__(self, key):\\n        if isinstance(key, str):\\n            raise KeyError(key)\\n        return self[str(key)]\\n    \\n    def get(self, key, default=None):\\n        try:\\n            return self[key]\\n        except KeyError:\\n            return default\\n        \\n    \\n    ', '_i121': \"a = StrKeyDict0([('2', 'two'), ('4', 'four')])\", '_i122': 'a', '_122': {'2': 'two', '4': 'four'}, '_i123': 'a[2]', '_123': 'two', '_i124': \"a['2']\", '_124': 'two', '_i125': 'a[1]', '_i126': \"a.get('2')\", '_126': 'two', '_i127': 'a.get(2)', '_127': 'two', '_i128': 'class StrKeyDict0(dict):\\n    def __missing__(self, key):\\n        if isinstance(key, str):\\n            raise KeyError(key)\\n        return self[str(key)]\\n    \\n    def get(self, key, default=None):\\n        try:\\n            return self[key]\\n        except KeyError:\\n            return default\\n        \\n    def __contains__(self, key):\\n        return key in self.keys() or str(key) in self.keys()\\n        \\n    \\n    ', '_i129': 'import builtins\\nfrom collections import ChainMap\\n\\npylookup = ChainMap(locals(), globals(), vars(builtins))', 'builtins': <module 'builtins' (built-in)>, 'ChainMap': <class 'collections.ChainMap'>, 'pylookup': ..., '_i130': 'pylookup', '_130': ..., '_i131': 'a = {1:1}\\nb = {2:2}\\nc = {3:3}', '_i132': 'chain = ChainMap(a, b, c)', 'chain': ChainMap({}, {2: 2}, {3: 3}), '_i133': 'chain', '_133': ChainMap({}, {2: 2}, {3: 3}), '_i134': 'chain[1]', '_134': 1, '_i135': 'chain.items()', '_135': ItemsView(ChainMap({}, {2: 2}, {3: 3})), '_i136': 'list(chain.items())', '_136': [(3, 3), (2, 2), (1, 1)], '_i137': 'chain.pop(1)', '_137': 1, '_i138': 'a', '_138': {}, '_i139': 'a and b', '_139': {}, '_i140': 'a or b', '_140': {2: 2}, '_i141': 'a and b and c', '_141': {}, '_i142': 'locals()'}, {'__name__': 'builtins', '__doc__': \"Built-in functions, exceptions, and other objects.\\n\\nNoteworthy: None is the `nil' object; Ellipsis represents `...' in slices.\", '__package__': '', '__loader__': <class '_frozen_importlib.BuiltinImporter'>, '__spec__': ModuleSpec(name='builtins', loader=<class '_frozen_importlib.BuiltinImporter'>), '__build_class__': <built-in function __build_class__>, '__import__': <built-in function __import__>, 'abs': <built-in function abs>, 'all': <built-in function all>, 'any': <built-in function any>, 'ascii': <built-in function ascii>, 'bin': <built-in function bin>, 'breakpoint': <built-in function breakpoint>, 'callable': <built-in function callable>, 'chr': <built-in function chr>, 'compile': <built-in function compile>, 'delattr': <built-in function delattr>, 'dir': <built-in function dir>, 'divmod': <built-in function divmod>, 'eval': <built-in function eval>, 'exec': <built-in function exec>, 'format': <built-in function format>, 'getattr': <built-in function getattr>, 'globals': <built-in function globals>, 'hasattr': <built-in function hasattr>, 'hash': <built-in function hash>, 'hex': <built-in function hex>, 'id': <built-in function id>, 'input': <bound method Kernel.raw_input of <ipykernel.ipkernel.IPythonKernel object at 0x7fd6f62ba850>>, 'isinstance': <built-in function isinstance>, 'issubclass': <built-in function issubclass>, 'iter': <built-in function iter>, 'len': <built-in function len>, 'locals': <built-in function locals>, 'max': <built-in function max>, 'min': <built-in function min>, 'next': <built-in function next>, 'oct': <built-in function oct>, 'ord': <built-in function ord>, 'pow': <built-in function pow>, 'print': <built-in function print>, 'repr': <built-in function repr>, 'round': <built-in function round>, 'setattr': <built-in function setattr>, 'sorted': <built-in function sorted>, 'sum': <built-in function sum>, 'vars': <built-in function vars>, 'None': None, 'Ellipsis': Ellipsis, 'NotImplemented': NotImplemented, 'False': False, 'True': True, 'bool': <class 'bool'>, 'memoryview': <class 'memoryview'>, 'bytearray': <class 'bytearray'>, 'bytes': <class 'bytes'>, 'classmethod': <class 'classmethod'>, 'complex': <class 'complex'>, 'dict': <class 'dict'>, 'enumerate': <class 'enumerate'>, 'filter': <class 'filter'>, 'float': <class 'float'>, 'frozenset': <class 'frozenset'>, 'property': <class 'property'>, 'int': <class 'int'>, 'list': <class 'list'>, 'map': <class 'map'>, 'object': <class 'object'>, 'range': <class 'range'>, 'reversed': <class 'reversed'>, 'set': <class 'set'>, 'slice': <class 'slice'>, 'staticmethod': <class 'staticmethod'>, 'str': <class 'str'>, 'super': <class 'super'>, 'tuple': <class 'tuple'>, 'type': <class 'type'>, 'zip': <class 'zip'>, '__debug__': True, 'BaseException': <class 'BaseException'>, 'Exception': <class 'Exception'>, 'TypeError': <class 'TypeError'>, 'StopAsyncIteration': <class 'StopAsyncIteration'>, 'StopIteration': <class 'StopIteration'>, 'GeneratorExit': <class 'GeneratorExit'>, 'SystemExit': <class 'SystemExit'>, 'KeyboardInterrupt': <class 'KeyboardInterrupt'>, 'ImportError': <class 'ImportError'>, 'ModuleNotFoundError': <class 'ModuleNotFoundError'>, 'OSError': <class 'OSError'>, 'EnvironmentError': <class 'OSError'>, 'IOError': <class 'OSError'>, 'EOFError': <class 'EOFError'>, 'RuntimeError': <class 'RuntimeError'>, 'RecursionError': <class 'RecursionError'>, 'NotImplementedError': <class 'NotImplementedError'>, 'NameError': <class 'NameError'>, 'UnboundLocalError': <class 'UnboundLocalError'>, 'AttributeError': <class 'AttributeError'>, 'SyntaxError': <class 'SyntaxError'>, 'IndentationError': <class 'IndentationError'>, 'TabError': <class 'TabError'>, 'LookupError': <class 'LookupError'>, 'IndexError': <class 'IndexError'>, 'KeyError': <class 'KeyError'>, 'ValueError': <class 'ValueError'>, 'UnicodeError': <class 'UnicodeError'>, 'UnicodeEncodeError': <class 'UnicodeEncodeError'>, 'UnicodeDecodeError': <class 'UnicodeDecodeError'>, 'UnicodeTranslateError': <class 'UnicodeTranslateError'>, 'AssertionError': <class 'AssertionError'>, 'ArithmeticError': <class 'ArithmeticError'>, 'FloatingPointError': <class 'FloatingPointError'>, 'OverflowError': <class 'OverflowError'>, 'ZeroDivisionError': <class 'ZeroDivisionError'>, 'SystemError': <class 'SystemError'>, 'ReferenceError': <class 'ReferenceError'>, 'MemoryError': <class 'MemoryError'>, 'BufferError': <class 'BufferError'>, 'Warning': <class 'Warning'>, 'UserWarning': <class 'UserWarning'>, 'DeprecationWarning': <class 'DeprecationWarning'>, 'PendingDeprecationWarning': <class 'PendingDeprecationWarning'>, 'SyntaxWarning': <class 'SyntaxWarning'>, 'RuntimeWarning': <class 'RuntimeWarning'>, 'FutureWarning': <class 'FutureWarning'>, 'ImportWarning': <class 'ImportWarning'>, 'UnicodeWarning': <class 'UnicodeWarning'>, 'BytesWarning': <class 'BytesWarning'>, 'ResourceWarning': <class 'ResourceWarning'>, 'ConnectionError': <class 'ConnectionError'>, 'BlockingIOError': <class 'BlockingIOError'>, 'BrokenPipeError': <class 'BrokenPipeError'>, 'ChildProcessError': <class 'ChildProcessError'>, 'ConnectionAbortedError': <class 'ConnectionAbortedError'>, 'ConnectionRefusedError': <class 'ConnectionRefusedError'>, 'ConnectionResetError': <class 'ConnectionResetError'>, 'FileExistsError': <class 'FileExistsError'>, 'FileNotFoundError': <class 'FileNotFoundError'>, 'IsADirectoryError': <class 'IsADirectoryError'>, 'NotADirectoryError': <class 'NotADirectoryError'>, 'InterruptedError': <class 'InterruptedError'>, 'PermissionError': <class 'PermissionError'>, 'ProcessLookupError': <class 'ProcessLookupError'>, 'TimeoutError': <class 'TimeoutError'>, 'open': <built-in function open>, 'copyright': Copyright (c) 2001-2019 Python Software Foundation.\n",
       " All Rights Reserved.\n",
       " \n",
       " Copyright (c) 2000 BeOpen.com.\n",
       " All Rights Reserved.\n",
       " \n",
       " Copyright (c) 1995-2001 Corporation for National Research Initiatives.\n",
       " All Rights Reserved.\n",
       " \n",
       " Copyright (c) 1991-1995 Stichting Mathematisch Centrum, Amsterdam.\n",
       " All Rights Reserved., 'credits':     Thanks to CWI, CNRI, BeOpen.com, Zope Corporation and a cast of thousands\n",
       "     for supporting Python development.  See www.python.org for more information., 'license': Type license() to see the full license text, 'help': Type help() for interactive help, or help(object) for help about object., '__IPYTHON__': True, 'display': <function display at 0x7fd6fee21200>, 'get_ipython': <bound method InteractiveShell.get_ipython of <ipykernel.zmqshell.ZMQInteractiveShell object at 0x7fd6f629f210>>}),\n",
       " '_i130': 'pylookup',\n",
       " '_130': ChainMap({'__name__': '__main__', '__doc__': 'Automatically created module for IPython interactive environment', '__package__': None, '__loader__': None, '__spec__': None, '__builtin__': <module 'builtins' (built-in)>, '__builtins__': <module 'builtins' (built-in)>, '_ih': ['', '__builtins__', '__builtins__.__dict__', 'a = {1:1, 2:2}', 'a.pop()', 'a.popitem()', 'a', 'a.pop(1)', 'a', 'a.pop(1)', 'a.setdefault(1)', 'a', 'a.setdefault(2, 1)', 'a', 'a.setdefault(1, [])', 'a', 'a.setdefault(3, [])', 'a', 'a.setdefault(3, [], 2)', 'a.setdefault(3, [])', 'a', 'from collections import Mapping', 'from collections.abc import Mapping', 'help(Mapping)', 'a = Mapping()', \"class TestMapping(Mapping):\\n    def __getitem__(self):\\n        return ''\\n    \\n    def __iter__(self):\\n        return ''\\n    \\n    def __len__(self):\\n        return 0\", 'a = TestMapping()', 'a', 'a[1] = 1', 'a.items()', 'list(a.items())', 'a = [1, 2]\\nb = [3,4]', \"for ab in (f'{a} : {b}' for a, b in zip(a, b)):\\n    print(ab)\", \"for c in (f'{x} : {y}' for x in a for y in b):\\n    print(c)\", 'a = {1:1, 2:2}', 'b = a', 'a[1] = 2', 'b', 'a', 'a = {1:1, 2:2}', 'b = a.copy()', 'b', 'b[1] = 2', 'b', '1', 'a', 'from copy import copy', 'a = copy(b)', 'a', 'b', 'a[1] = 3', 'b', 'a', 'a = {1:[1, 2], 2: [1, 2]}', 'b = copy(a)', 'a', 'b', 'b[1].append(3)', 'a', 'b', 'from copy import deepcopy', 'b = deepcopy(a)', 'b', 'a', 'a[1].append(4)', 'a', 'b', 'a in b', '1 in b', 'del a[1]', 'a', 'b', \"a = {'a':[11, 22], 'A': [33, 44], 'C': [55, 66]}\", 'b = sorted(a, key=str.upper)', 'b', \"class ComportDict(Dict):\\n    def __missing__(self):\\n        return 'a'\", \"class ComportDict(dict):\\n    def __missing__(self):\\n        return 'a'\", 'aa = ComportDict()', 'a[1] = 2', 'a', 'aa[1] = 2', 'aa', 'aa[2]', 'class DefaultListDict(dict):\\n    def __missing__(self, key):\\n        self[key] = []\\n        return self[key]', 'aa = ComportDict()', 'aa[1] = 2', 'aa', 'aa[2]', 'from collections import defaultdict', 'a = defaultdict(a)', 'a = defaultdict(list)', 'a.defaylt)factiry', 'a.default_factory', 'help(a)', 'a = defaultdict(list)', 'a = defaultdict(list)\\na[1] = [1, 2]\\na[2] = [3, 4]', 'a = defaultdict(list)\\na[1] = [1, 2]\\na[2] = [3, 4]\\na[1]', 'a[1]', 'a[3]', 'a', 'a.default_factory', 'class StrKeyDict0(dict):\\n    def __missing__(self, key):\\n        if isinstance(key, str):\\n            raise KeyError(Key)\\n        return self[str[key]]\\n    \\n    ', \"a = StrKeyDict0([('2', 'two'), ('4', 'four')])\", 'a', 'a[2]', 'class StrKeyDict0(dict):\\n    def __missing__(self, key):\\n        if isinstance(key, str):\\n            raise KeyError(Key)\\n        return self[str(key)]\\n    \\n    ', \"a = StrKeyDict0([('2', 'two'), ('4', 'four')])\", 'a', 'a[2]', \"a['2]']\", \"a['2']\", 'a[1]', 'class StrKeyDict0(dict):\\n    def __missing__(self, key):\\n        if isinstance(key, str):\\n            raise KeyError(key)\\n        return self[str(key)]\\n    \\n    ', \"a = StrKeyDict0([('2', 'two'), ('4', 'four')])\", 'a', 'a[2]', \"a['2']\", 'a[1]', 'a.get(2)', \"a.get('2')\", 'class StrKeyDict0(dict):\\n    def __missing__(self, key):\\n        if isinstance(key, str):\\n            raise KeyError(key)\\n        return self[str(key)]\\n    \\n    def get(self, key, default=None):\\n        try:\\n            return self[key]\\n        except KeyError:\\n            return default\\n        \\n    \\n    ', \"a = StrKeyDict0([('2', 'two'), ('4', 'four')])\", 'a', 'a[2]', \"a['2']\", 'a[1]', \"a.get('2')\", 'a.get(2)', 'class StrKeyDict0(dict):\\n    def __missing__(self, key):\\n        if isinstance(key, str):\\n            raise KeyError(key)\\n        return self[str(key)]\\n    \\n    def get(self, key, default=None):\\n        try:\\n            return self[key]\\n        except KeyError:\\n            return default\\n        \\n    def __contains__(self, key):\\n        return key in self.keys() or str(key) in self.keys()\\n        \\n    \\n    ', 'import builtins\\nfrom collections import ChainMap\\n\\npylookup = ChainMap(locals(), globals(), vars(builtins))', 'pylookup', 'a = {1:1}\\nb = {2:2}\\nc = {3:3}', 'chain = ChainMap(a, b, c)', 'chain', 'chain[1]', 'chain.items()', 'list(chain.items())', 'chain.pop(1)', 'a', 'a and b', 'a or b', 'a and b and c', 'locals()'], '_oh': {1: <module 'builtins' (built-in)>, 2: {'__name__': 'builtins', '__doc__': \"Built-in functions, exceptions, and other objects.\\n\\nNoteworthy: None is the `nil' object; Ellipsis represents `...' in slices.\", '__package__': '', '__loader__': <class '_frozen_importlib.BuiltinImporter'>, '__spec__': ModuleSpec(name='builtins', loader=<class '_frozen_importlib.BuiltinImporter'>), '__build_class__': <built-in function __build_class__>, '__import__': <built-in function __import__>, 'abs': <built-in function abs>, 'all': <built-in function all>, 'any': <built-in function any>, 'ascii': <built-in function ascii>, 'bin': <built-in function bin>, 'breakpoint': <built-in function breakpoint>, 'callable': <built-in function callable>, 'chr': <built-in function chr>, 'compile': <built-in function compile>, 'delattr': <built-in function delattr>, 'dir': <built-in function dir>, 'divmod': <built-in function divmod>, 'eval': <built-in function eval>, 'exec': <built-in function exec>, 'format': <built-in function format>, 'getattr': <built-in function getattr>, 'globals': <built-in function globals>, 'hasattr': <built-in function hasattr>, 'hash': <built-in function hash>, 'hex': <built-in function hex>, 'id': <built-in function id>, 'input': <bound method Kernel.raw_input of <ipykernel.ipkernel.IPythonKernel object at 0x7fd6f62ba850>>, 'isinstance': <built-in function isinstance>, 'issubclass': <built-in function issubclass>, 'iter': <built-in function iter>, 'len': <built-in function len>, 'locals': <built-in function locals>, 'max': <built-in function max>, 'min': <built-in function min>, 'next': <built-in function next>, 'oct': <built-in function oct>, 'ord': <built-in function ord>, 'pow': <built-in function pow>, 'print': <built-in function print>, 'repr': <built-in function repr>, 'round': <built-in function round>, 'setattr': <built-in function setattr>, 'sorted': <built-in function sorted>, 'sum': <built-in function sum>, 'vars': <built-in function vars>, 'None': None, 'Ellipsis': Ellipsis, 'NotImplemented': NotImplemented, 'False': False, 'True': True, 'bool': <class 'bool'>, 'memoryview': <class 'memoryview'>, 'bytearray': <class 'bytearray'>, 'bytes': <class 'bytes'>, 'classmethod': <class 'classmethod'>, 'complex': <class 'complex'>, 'dict': <class 'dict'>, 'enumerate': <class 'enumerate'>, 'filter': <class 'filter'>, 'float': <class 'float'>, 'frozenset': <class 'frozenset'>, 'property': <class 'property'>, 'int': <class 'int'>, 'list': <class 'list'>, 'map': <class 'map'>, 'object': <class 'object'>, 'range': <class 'range'>, 'reversed': <class 'reversed'>, 'set': <class 'set'>, 'slice': <class 'slice'>, 'staticmethod': <class 'staticmethod'>, 'str': <class 'str'>, 'super': <class 'super'>, 'tuple': <class 'tuple'>, 'type': <class 'type'>, 'zip': <class 'zip'>, '__debug__': True, 'BaseException': <class 'BaseException'>, 'Exception': <class 'Exception'>, 'TypeError': <class 'TypeError'>, 'StopAsyncIteration': <class 'StopAsyncIteration'>, 'StopIteration': <class 'StopIteration'>, 'GeneratorExit': <class 'GeneratorExit'>, 'SystemExit': <class 'SystemExit'>, 'KeyboardInterrupt': <class 'KeyboardInterrupt'>, 'ImportError': <class 'ImportError'>, 'ModuleNotFoundError': <class 'ModuleNotFoundError'>, 'OSError': <class 'OSError'>, 'EnvironmentError': <class 'OSError'>, 'IOError': <class 'OSError'>, 'EOFError': <class 'EOFError'>, 'RuntimeError': <class 'RuntimeError'>, 'RecursionError': <class 'RecursionError'>, 'NotImplementedError': <class 'NotImplementedError'>, 'NameError': <class 'NameError'>, 'UnboundLocalError': <class 'UnboundLocalError'>, 'AttributeError': <class 'AttributeError'>, 'SyntaxError': <class 'SyntaxError'>, 'IndentationError': <class 'IndentationError'>, 'TabError': <class 'TabError'>, 'LookupError': <class 'LookupError'>, 'IndexError': <class 'IndexError'>, 'KeyError': <class 'KeyError'>, 'ValueError': <class 'ValueError'>, 'UnicodeError': <class 'UnicodeError'>, 'UnicodeEncodeError': <class 'UnicodeEncodeError'>, 'UnicodeDecodeError': <class 'UnicodeDecodeError'>, 'UnicodeTranslateError': <class 'UnicodeTranslateError'>, 'AssertionError': <class 'AssertionError'>, 'ArithmeticError': <class 'ArithmeticError'>, 'FloatingPointError': <class 'FloatingPointError'>, 'OverflowError': <class 'OverflowError'>, 'ZeroDivisionError': <class 'ZeroDivisionError'>, 'SystemError': <class 'SystemError'>, 'ReferenceError': <class 'ReferenceError'>, 'MemoryError': <class 'MemoryError'>, 'BufferError': <class 'BufferError'>, 'Warning': <class 'Warning'>, 'UserWarning': <class 'UserWarning'>, 'DeprecationWarning': <class 'DeprecationWarning'>, 'PendingDeprecationWarning': <class 'PendingDeprecationWarning'>, 'SyntaxWarning': <class 'SyntaxWarning'>, 'RuntimeWarning': <class 'RuntimeWarning'>, 'FutureWarning': <class 'FutureWarning'>, 'ImportWarning': <class 'ImportWarning'>, 'UnicodeWarning': <class 'UnicodeWarning'>, 'BytesWarning': <class 'BytesWarning'>, 'ResourceWarning': <class 'ResourceWarning'>, 'ConnectionError': <class 'ConnectionError'>, 'BlockingIOError': <class 'BlockingIOError'>, 'BrokenPipeError': <class 'BrokenPipeError'>, 'ChildProcessError': <class 'ChildProcessError'>, 'ConnectionAbortedError': <class 'ConnectionAbortedError'>, 'ConnectionRefusedError': <class 'ConnectionRefusedError'>, 'ConnectionResetError': <class 'ConnectionResetError'>, 'FileExistsError': <class 'FileExistsError'>, 'FileNotFoundError': <class 'FileNotFoundError'>, 'IsADirectoryError': <class 'IsADirectoryError'>, 'NotADirectoryError': <class 'NotADirectoryError'>, 'InterruptedError': <class 'InterruptedError'>, 'PermissionError': <class 'PermissionError'>, 'ProcessLookupError': <class 'ProcessLookupError'>, 'TimeoutError': <class 'TimeoutError'>, 'open': <built-in function open>, 'copyright': Copyright (c) 2001-2019 Python Software Foundation.\n",
       " All Rights Reserved.\n",
       " \n",
       " Copyright (c) 2000 BeOpen.com.\n",
       " All Rights Reserved.\n",
       " \n",
       " Copyright (c) 1995-2001 Corporation for National Research Initiatives.\n",
       " All Rights Reserved.\n",
       " \n",
       " Copyright (c) 1991-1995 Stichting Mathematisch Centrum, Amsterdam.\n",
       " All Rights Reserved., 'credits':     Thanks to CWI, CNRI, BeOpen.com, Zope Corporation and a cast of thousands\n",
       "     for supporting Python development.  See www.python.org for more information., 'license': Type license() to see the full license text, 'help': Type help() for interactive help, or help(object) for help about object., '__IPYTHON__': True, 'display': <function display at 0x7fd6fee21200>, 'get_ipython': <bound method InteractiveShell.get_ipython of <ipykernel.zmqshell.ZMQInteractiveShell object at 0x7fd6f629f210>>}, 5: (2, 2), 6: {1: None, 2: 1, 3: []}, 7: 1, 8: {1: None, 2: 1, 3: []}, 11: {1: None, 2: 1, 3: []}, 12: 1, 13: {1: None, 2: 1, 3: []}, 15: {1: None, 2: 1, 3: []}, 16: [], 17: {1: None, 2: 1, 3: []}, 19: [], 20: {1: None, 2: 1, 3: []}, 27: <__main__.TestMapping object at 0x7fd6f41384d0>, 29: ItemsView(<__main__.TestMapping object at 0x7fd6f41384d0>), 37: {1: 2, 2: 2}, 38: {1: 2, 2: 2}, 41: {1: 2, 2: 2}, 43: {1: 2, 2: 2}, 44: 1, 45: {1: 1, 2: 2}, 48: {1: 3, 2: 2}, 49: {1: 2, 2: 2}, 51: {1: 2, 2: 2}, 52: {1: 3, 2: 2}, 55: {2: [1, 2]}, 56: {1: [1, 2, 3, 4], 2: [1, 2]}, 58: {2: [1, 2]}, 59: {1: [1, 2, 3, 4], 2: [1, 2]}, 62: {1: [1, 2, 3], 2: [1, 2]}, 63: {2: [1, 2]}, 65: {2: [1, 2]}, 66: {1: [1, 2, 3], 2: [1, 2]}, 68: True, 70: {2: [1, 2]}, 71: {1: [1, 2, 3], 2: [1, 2]}, 74: ['a', 'A', 'C'], 79: {'a': [11, 22], 'A': [33, 44], 'C': [55, 66], 1: 2}, 81: {1: 2}, 86: {1: 2}, 92: <class 'list'>, 96: [1, 2], 97: [1, 2], 98: [], 99: defaultdict(<class 'list'>, {1: [1, 2], 2: [3, 4], 3: []}), 100: <class 'list'>, 103: {'2': 'two', '4': 'four'}, 107: {'2': 'two', '4': 'four'}, 108: 'two', 110: 'two', 114: {'2': 'two', '4': 'four'}, 115: 'two', 116: 'two', 119: 'two', 122: {'2': 'two', '4': 'four'}, 123: 'two', 124: 'two', 126: 'two', 127: 'two', 130: ..., 133: ChainMap({}, {2: 2}, {3: 3}), 134: 1, 135: ItemsView(ChainMap({}, {2: 2}, {3: 3})), 136: [(3, 3), (2, 2), (1, 1)], 137: 1, 138: {}, 139: {}, 140: {2: 2}, 141: {}}, '_dh': ['/home/hby/projects/wps12th/python/fluentpython/notebook'], 'In': ['', '__builtins__', '__builtins__.__dict__', 'a = {1:1, 2:2}', 'a.pop()', 'a.popitem()', 'a', 'a.pop(1)', 'a', 'a.pop(1)', 'a.setdefault(1)', 'a', 'a.setdefault(2, 1)', 'a', 'a.setdefault(1, [])', 'a', 'a.setdefault(3, [])', 'a', 'a.setdefault(3, [], 2)', 'a.setdefault(3, [])', 'a', 'from collections import Mapping', 'from collections.abc import Mapping', 'help(Mapping)', 'a = Mapping()', \"class TestMapping(Mapping):\\n    def __getitem__(self):\\n        return ''\\n    \\n    def __iter__(self):\\n        return ''\\n    \\n    def __len__(self):\\n        return 0\", 'a = TestMapping()', 'a', 'a[1] = 1', 'a.items()', 'list(a.items())', 'a = [1, 2]\\nb = [3,4]', \"for ab in (f'{a} : {b}' for a, b in zip(a, b)):\\n    print(ab)\", \"for c in (f'{x} : {y}' for x in a for y in b):\\n    print(c)\", 'a = {1:1, 2:2}', 'b = a', 'a[1] = 2', 'b', 'a', 'a = {1:1, 2:2}', 'b = a.copy()', 'b', 'b[1] = 2', 'b', '1', 'a', 'from copy import copy', 'a = copy(b)', 'a', 'b', 'a[1] = 3', 'b', 'a', 'a = {1:[1, 2], 2: [1, 2]}', 'b = copy(a)', 'a', 'b', 'b[1].append(3)', 'a', 'b', 'from copy import deepcopy', 'b = deepcopy(a)', 'b', 'a', 'a[1].append(4)', 'a', 'b', 'a in b', '1 in b', 'del a[1]', 'a', 'b', \"a = {'a':[11, 22], 'A': [33, 44], 'C': [55, 66]}\", 'b = sorted(a, key=str.upper)', 'b', \"class ComportDict(Dict):\\n    def __missing__(self):\\n        return 'a'\", \"class ComportDict(dict):\\n    def __missing__(self):\\n        return 'a'\", 'aa = ComportDict()', 'a[1] = 2', 'a', 'aa[1] = 2', 'aa', 'aa[2]', 'class DefaultListDict(dict):\\n    def __missing__(self, key):\\n        self[key] = []\\n        return self[key]', 'aa = ComportDict()', 'aa[1] = 2', 'aa', 'aa[2]', 'from collections import defaultdict', 'a = defaultdict(a)', 'a = defaultdict(list)', 'a.defaylt)factiry', 'a.default_factory', 'help(a)', 'a = defaultdict(list)', 'a = defaultdict(list)\\na[1] = [1, 2]\\na[2] = [3, 4]', 'a = defaultdict(list)\\na[1] = [1, 2]\\na[2] = [3, 4]\\na[1]', 'a[1]', 'a[3]', 'a', 'a.default_factory', 'class StrKeyDict0(dict):\\n    def __missing__(self, key):\\n        if isinstance(key, str):\\n            raise KeyError(Key)\\n        return self[str[key]]\\n    \\n    ', \"a = StrKeyDict0([('2', 'two'), ('4', 'four')])\", 'a', 'a[2]', 'class StrKeyDict0(dict):\\n    def __missing__(self, key):\\n        if isinstance(key, str):\\n            raise KeyError(Key)\\n        return self[str(key)]\\n    \\n    ', \"a = StrKeyDict0([('2', 'two'), ('4', 'four')])\", 'a', 'a[2]', \"a['2]']\", \"a['2']\", 'a[1]', 'class StrKeyDict0(dict):\\n    def __missing__(self, key):\\n        if isinstance(key, str):\\n            raise KeyError(key)\\n        return self[str(key)]\\n    \\n    ', \"a = StrKeyDict0([('2', 'two'), ('4', 'four')])\", 'a', 'a[2]', \"a['2']\", 'a[1]', 'a.get(2)', \"a.get('2')\", 'class StrKeyDict0(dict):\\n    def __missing__(self, key):\\n        if isinstance(key, str):\\n            raise KeyError(key)\\n        return self[str(key)]\\n    \\n    def get(self, key, default=None):\\n        try:\\n            return self[key]\\n        except KeyError:\\n            return default\\n        \\n    \\n    ', \"a = StrKeyDict0([('2', 'two'), ('4', 'four')])\", 'a', 'a[2]', \"a['2']\", 'a[1]', \"a.get('2')\", 'a.get(2)', 'class StrKeyDict0(dict):\\n    def __missing__(self, key):\\n        if isinstance(key, str):\\n            raise KeyError(key)\\n        return self[str(key)]\\n    \\n    def get(self, key, default=None):\\n        try:\\n            return self[key]\\n        except KeyError:\\n            return default\\n        \\n    def __contains__(self, key):\\n        return key in self.keys() or str(key) in self.keys()\\n        \\n    \\n    ', 'import builtins\\nfrom collections import ChainMap\\n\\npylookup = ChainMap(locals(), globals(), vars(builtins))', 'pylookup', 'a = {1:1}\\nb = {2:2}\\nc = {3:3}', 'chain = ChainMap(a, b, c)', 'chain', 'chain[1]', 'chain.items()', 'list(chain.items())', 'chain.pop(1)', 'a', 'a and b', 'a or b', 'a and b and c', 'locals()'], 'Out': {1: <module 'builtins' (built-in)>, 2: {'__name__': 'builtins', '__doc__': \"Built-in functions, exceptions, and other objects.\\n\\nNoteworthy: None is the `nil' object; Ellipsis represents `...' in slices.\", '__package__': '', '__loader__': <class '_frozen_importlib.BuiltinImporter'>, '__spec__': ModuleSpec(name='builtins', loader=<class '_frozen_importlib.BuiltinImporter'>), '__build_class__': <built-in function __build_class__>, '__import__': <built-in function __import__>, 'abs': <built-in function abs>, 'all': <built-in function all>, 'any': <built-in function any>, 'ascii': <built-in function ascii>, 'bin': <built-in function bin>, 'breakpoint': <built-in function breakpoint>, 'callable': <built-in function callable>, 'chr': <built-in function chr>, 'compile': <built-in function compile>, 'delattr': <built-in function delattr>, 'dir': <built-in function dir>, 'divmod': <built-in function divmod>, 'eval': <built-in function eval>, 'exec': <built-in function exec>, 'format': <built-in function format>, 'getattr': <built-in function getattr>, 'globals': <built-in function globals>, 'hasattr': <built-in function hasattr>, 'hash': <built-in function hash>, 'hex': <built-in function hex>, 'id': <built-in function id>, 'input': <bound method Kernel.raw_input of <ipykernel.ipkernel.IPythonKernel object at 0x7fd6f62ba850>>, 'isinstance': <built-in function isinstance>, 'issubclass': <built-in function issubclass>, 'iter': <built-in function iter>, 'len': <built-in function len>, 'locals': <built-in function locals>, 'max': <built-in function max>, 'min': <built-in function min>, 'next': <built-in function next>, 'oct': <built-in function oct>, 'ord': <built-in function ord>, 'pow': <built-in function pow>, 'print': <built-in function print>, 'repr': <built-in function repr>, 'round': <built-in function round>, 'setattr': <built-in function setattr>, 'sorted': <built-in function sorted>, 'sum': <built-in function sum>, 'vars': <built-in function vars>, 'None': None, 'Ellipsis': Ellipsis, 'NotImplemented': NotImplemented, 'False': False, 'True': True, 'bool': <class 'bool'>, 'memoryview': <class 'memoryview'>, 'bytearray': <class 'bytearray'>, 'bytes': <class 'bytes'>, 'classmethod': <class 'classmethod'>, 'complex': <class 'complex'>, 'dict': <class 'dict'>, 'enumerate': <class 'enumerate'>, 'filter': <class 'filter'>, 'float': <class 'float'>, 'frozenset': <class 'frozenset'>, 'property': <class 'property'>, 'int': <class 'int'>, 'list': <class 'list'>, 'map': <class 'map'>, 'object': <class 'object'>, 'range': <class 'range'>, 'reversed': <class 'reversed'>, 'set': <class 'set'>, 'slice': <class 'slice'>, 'staticmethod': <class 'staticmethod'>, 'str': <class 'str'>, 'super': <class 'super'>, 'tuple': <class 'tuple'>, 'type': <class 'type'>, 'zip': <class 'zip'>, '__debug__': True, 'BaseException': <class 'BaseException'>, 'Exception': <class 'Exception'>, 'TypeError': <class 'TypeError'>, 'StopAsyncIteration': <class 'StopAsyncIteration'>, 'StopIteration': <class 'StopIteration'>, 'GeneratorExit': <class 'GeneratorExit'>, 'SystemExit': <class 'SystemExit'>, 'KeyboardInterrupt': <class 'KeyboardInterrupt'>, 'ImportError': <class 'ImportError'>, 'ModuleNotFoundError': <class 'ModuleNotFoundError'>, 'OSError': <class 'OSError'>, 'EnvironmentError': <class 'OSError'>, 'IOError': <class 'OSError'>, 'EOFError': <class 'EOFError'>, 'RuntimeError': <class 'RuntimeError'>, 'RecursionError': <class 'RecursionError'>, 'NotImplementedError': <class 'NotImplementedError'>, 'NameError': <class 'NameError'>, 'UnboundLocalError': <class 'UnboundLocalError'>, 'AttributeError': <class 'AttributeError'>, 'SyntaxError': <class 'SyntaxError'>, 'IndentationError': <class 'IndentationError'>, 'TabError': <class 'TabError'>, 'LookupError': <class 'LookupError'>, 'IndexError': <class 'IndexError'>, 'KeyError': <class 'KeyError'>, 'ValueError': <class 'ValueError'>, 'UnicodeError': <class 'UnicodeError'>, 'UnicodeEncodeError': <class 'UnicodeEncodeError'>, 'UnicodeDecodeError': <class 'UnicodeDecodeError'>, 'UnicodeTranslateError': <class 'UnicodeTranslateError'>, 'AssertionError': <class 'AssertionError'>, 'ArithmeticError': <class 'ArithmeticError'>, 'FloatingPointError': <class 'FloatingPointError'>, 'OverflowError': <class 'OverflowError'>, 'ZeroDivisionError': <class 'ZeroDivisionError'>, 'SystemError': <class 'SystemError'>, 'ReferenceError': <class 'ReferenceError'>, 'MemoryError': <class 'MemoryError'>, 'BufferError': <class 'BufferError'>, 'Warning': <class 'Warning'>, 'UserWarning': <class 'UserWarning'>, 'DeprecationWarning': <class 'DeprecationWarning'>, 'PendingDeprecationWarning': <class 'PendingDeprecationWarning'>, 'SyntaxWarning': <class 'SyntaxWarning'>, 'RuntimeWarning': <class 'RuntimeWarning'>, 'FutureWarning': <class 'FutureWarning'>, 'ImportWarning': <class 'ImportWarning'>, 'UnicodeWarning': <class 'UnicodeWarning'>, 'BytesWarning': <class 'BytesWarning'>, 'ResourceWarning': <class 'ResourceWarning'>, 'ConnectionError': <class 'ConnectionError'>, 'BlockingIOError': <class 'BlockingIOError'>, 'BrokenPipeError': <class 'BrokenPipeError'>, 'ChildProcessError': <class 'ChildProcessError'>, 'ConnectionAbortedError': <class 'ConnectionAbortedError'>, 'ConnectionRefusedError': <class 'ConnectionRefusedError'>, 'ConnectionResetError': <class 'ConnectionResetError'>, 'FileExistsError': <class 'FileExistsError'>, 'FileNotFoundError': <class 'FileNotFoundError'>, 'IsADirectoryError': <class 'IsADirectoryError'>, 'NotADirectoryError': <class 'NotADirectoryError'>, 'InterruptedError': <class 'InterruptedError'>, 'PermissionError': <class 'PermissionError'>, 'ProcessLookupError': <class 'ProcessLookupError'>, 'TimeoutError': <class 'TimeoutError'>, 'open': <built-in function open>, 'copyright': Copyright (c) 2001-2019 Python Software Foundation.\n",
       " All Rights Reserved.\n",
       " \n",
       " Copyright (c) 2000 BeOpen.com.\n",
       " All Rights Reserved.\n",
       " \n",
       " Copyright (c) 1995-2001 Corporation for National Research Initiatives.\n",
       " All Rights Reserved.\n",
       " \n",
       " Copyright (c) 1991-1995 Stichting Mathematisch Centrum, Amsterdam.\n",
       " All Rights Reserved., 'credits':     Thanks to CWI, CNRI, BeOpen.com, Zope Corporation and a cast of thousands\n",
       "     for supporting Python development.  See www.python.org for more information., 'license': Type license() to see the full license text, 'help': Type help() for interactive help, or help(object) for help about object., '__IPYTHON__': True, 'display': <function display at 0x7fd6fee21200>, 'get_ipython': <bound method InteractiveShell.get_ipython of <ipykernel.zmqshell.ZMQInteractiveShell object at 0x7fd6f629f210>>}, 5: (2, 2), 6: {1: None, 2: 1, 3: []}, 7: 1, 8: {1: None, 2: 1, 3: []}, 11: {1: None, 2: 1, 3: []}, 12: 1, 13: {1: None, 2: 1, 3: []}, 15: {1: None, 2: 1, 3: []}, 16: [], 17: {1: None, 2: 1, 3: []}, 19: [], 20: {1: None, 2: 1, 3: []}, 27: <__main__.TestMapping object at 0x7fd6f41384d0>, 29: ItemsView(<__main__.TestMapping object at 0x7fd6f41384d0>), 37: {1: 2, 2: 2}, 38: {1: 2, 2: 2}, 41: {1: 2, 2: 2}, 43: {1: 2, 2: 2}, 44: 1, 45: {1: 1, 2: 2}, 48: {1: 3, 2: 2}, 49: {1: 2, 2: 2}, 51: {1: 2, 2: 2}, 52: {1: 3, 2: 2}, 55: {2: [1, 2]}, 56: {1: [1, 2, 3, 4], 2: [1, 2]}, 58: {2: [1, 2]}, 59: {1: [1, 2, 3, 4], 2: [1, 2]}, 62: {1: [1, 2, 3], 2: [1, 2]}, 63: {2: [1, 2]}, 65: {2: [1, 2]}, 66: {1: [1, 2, 3], 2: [1, 2]}, 68: True, 70: {2: [1, 2]}, 71: {1: [1, 2, 3], 2: [1, 2]}, 74: ['a', 'A', 'C'], 79: {'a': [11, 22], 'A': [33, 44], 'C': [55, 66], 1: 2}, 81: {1: 2}, 86: {1: 2}, 92: <class 'list'>, 96: [1, 2], 97: [1, 2], 98: [], 99: defaultdict(<class 'list'>, {1: [1, 2], 2: [3, 4], 3: []}), 100: <class 'list'>, 103: {'2': 'two', '4': 'four'}, 107: {'2': 'two', '4': 'four'}, 108: 'two', 110: 'two', 114: {'2': 'two', '4': 'four'}, 115: 'two', 116: 'two', 119: 'two', 122: {'2': 'two', '4': 'four'}, 123: 'two', 124: 'two', 126: 'two', 127: 'two', 130: ..., 133: ChainMap({}, {2: 2}, {3: 3}), 134: 1, 135: ItemsView(ChainMap({}, {2: 2}, {3: 3})), 136: [(3, 3), (2, 2), (1, 1)], 137: 1, 138: {}, 139: {}, 140: {2: 2}, 141: {}}, 'get_ipython': <bound method InteractiveShell.get_ipython of <ipykernel.zmqshell.ZMQInteractiveShell object at 0x7fd6f629f210>>, 'exit': <IPython.core.autocall.ZMQExitAutocall object at 0x7fd6f627ded0>, 'quit': <IPython.core.autocall.ZMQExitAutocall object at 0x7fd6f627ded0>, '_': {}, '__': {2: 2}, '___': {}, '_i': 'a and b and c', '_ii': 'a or b', '_iii': 'a and b', '_i1': '__builtins__', '_1': <module 'builtins' (built-in)>, '_i2': '__builtins__.__dict__', '_2': {'__name__': 'builtins', '__doc__': \"Built-in functions, exceptions, and other objects.\\n\\nNoteworthy: None is the `nil' object; Ellipsis represents `...' in slices.\", '__package__': '', '__loader__': <class '_frozen_importlib.BuiltinImporter'>, '__spec__': ModuleSpec(name='builtins', loader=<class '_frozen_importlib.BuiltinImporter'>), '__build_class__': <built-in function __build_class__>, '__import__': <built-in function __import__>, 'abs': <built-in function abs>, 'all': <built-in function all>, 'any': <built-in function any>, 'ascii': <built-in function ascii>, 'bin': <built-in function bin>, 'breakpoint': <built-in function breakpoint>, 'callable': <built-in function callable>, 'chr': <built-in function chr>, 'compile': <built-in function compile>, 'delattr': <built-in function delattr>, 'dir': <built-in function dir>, 'divmod': <built-in function divmod>, 'eval': <built-in function eval>, 'exec': <built-in function exec>, 'format': <built-in function format>, 'getattr': <built-in function getattr>, 'globals': <built-in function globals>, 'hasattr': <built-in function hasattr>, 'hash': <built-in function hash>, 'hex': <built-in function hex>, 'id': <built-in function id>, 'input': <bound method Kernel.raw_input of <ipykernel.ipkernel.IPythonKernel object at 0x7fd6f62ba850>>, 'isinstance': <built-in function isinstance>, 'issubclass': <built-in function issubclass>, 'iter': <built-in function iter>, 'len': <built-in function len>, 'locals': <built-in function locals>, 'max': <built-in function max>, 'min': <built-in function min>, 'next': <built-in function next>, 'oct': <built-in function oct>, 'ord': <built-in function ord>, 'pow': <built-in function pow>, 'print': <built-in function print>, 'repr': <built-in function repr>, 'round': <built-in function round>, 'setattr': <built-in function setattr>, 'sorted': <built-in function sorted>, 'sum': <built-in function sum>, 'vars': <built-in function vars>, 'None': None, 'Ellipsis': Ellipsis, 'NotImplemented': NotImplemented, 'False': False, 'True': True, 'bool': <class 'bool'>, 'memoryview': <class 'memoryview'>, 'bytearray': <class 'bytearray'>, 'bytes': <class 'bytes'>, 'classmethod': <class 'classmethod'>, 'complex': <class 'complex'>, 'dict': <class 'dict'>, 'enumerate': <class 'enumerate'>, 'filter': <class 'filter'>, 'float': <class 'float'>, 'frozenset': <class 'frozenset'>, 'property': <class 'property'>, 'int': <class 'int'>, 'list': <class 'list'>, 'map': <class 'map'>, 'object': <class 'object'>, 'range': <class 'range'>, 'reversed': <class 'reversed'>, 'set': <class 'set'>, 'slice': <class 'slice'>, 'staticmethod': <class 'staticmethod'>, 'str': <class 'str'>, 'super': <class 'super'>, 'tuple': <class 'tuple'>, 'type': <class 'type'>, 'zip': <class 'zip'>, '__debug__': True, 'BaseException': <class 'BaseException'>, 'Exception': <class 'Exception'>, 'TypeError': <class 'TypeError'>, 'StopAsyncIteration': <class 'StopAsyncIteration'>, 'StopIteration': <class 'StopIteration'>, 'GeneratorExit': <class 'GeneratorExit'>, 'SystemExit': <class 'SystemExit'>, 'KeyboardInterrupt': <class 'KeyboardInterrupt'>, 'ImportError': <class 'ImportError'>, 'ModuleNotFoundError': <class 'ModuleNotFoundError'>, 'OSError': <class 'OSError'>, 'EnvironmentError': <class 'OSError'>, 'IOError': <class 'OSError'>, 'EOFError': <class 'EOFError'>, 'RuntimeError': <class 'RuntimeError'>, 'RecursionError': <class 'RecursionError'>, 'NotImplementedError': <class 'NotImplementedError'>, 'NameError': <class 'NameError'>, 'UnboundLocalError': <class 'UnboundLocalError'>, 'AttributeError': <class 'AttributeError'>, 'SyntaxError': <class 'SyntaxError'>, 'IndentationError': <class 'IndentationError'>, 'TabError': <class 'TabError'>, 'LookupError': <class 'LookupError'>, 'IndexError': <class 'IndexError'>, 'KeyError': <class 'KeyError'>, 'ValueError': <class 'ValueError'>, 'UnicodeError': <class 'UnicodeError'>, 'UnicodeEncodeError': <class 'UnicodeEncodeError'>, 'UnicodeDecodeError': <class 'UnicodeDecodeError'>, 'UnicodeTranslateError': <class 'UnicodeTranslateError'>, 'AssertionError': <class 'AssertionError'>, 'ArithmeticError': <class 'ArithmeticError'>, 'FloatingPointError': <class 'FloatingPointError'>, 'OverflowError': <class 'OverflowError'>, 'ZeroDivisionError': <class 'ZeroDivisionError'>, 'SystemError': <class 'SystemError'>, 'ReferenceError': <class 'ReferenceError'>, 'MemoryError': <class 'MemoryError'>, 'BufferError': <class 'BufferError'>, 'Warning': <class 'Warning'>, 'UserWarning': <class 'UserWarning'>, 'DeprecationWarning': <class 'DeprecationWarning'>, 'PendingDeprecationWarning': <class 'PendingDeprecationWarning'>, 'SyntaxWarning': <class 'SyntaxWarning'>, 'RuntimeWarning': <class 'RuntimeWarning'>, 'FutureWarning': <class 'FutureWarning'>, 'ImportWarning': <class 'ImportWarning'>, 'UnicodeWarning': <class 'UnicodeWarning'>, 'BytesWarning': <class 'BytesWarning'>, 'ResourceWarning': <class 'ResourceWarning'>, 'ConnectionError': <class 'ConnectionError'>, 'BlockingIOError': <class 'BlockingIOError'>, 'BrokenPipeError': <class 'BrokenPipeError'>, 'ChildProcessError': <class 'ChildProcessError'>, 'ConnectionAbortedError': <class 'ConnectionAbortedError'>, 'ConnectionRefusedError': <class 'ConnectionRefusedError'>, 'ConnectionResetError': <class 'ConnectionResetError'>, 'FileExistsError': <class 'FileExistsError'>, 'FileNotFoundError': <class 'FileNotFoundError'>, 'IsADirectoryError': <class 'IsADirectoryError'>, 'NotADirectoryError': <class 'NotADirectoryError'>, 'InterruptedError': <class 'InterruptedError'>, 'PermissionError': <class 'PermissionError'>, 'ProcessLookupError': <class 'ProcessLookupError'>, 'TimeoutError': <class 'TimeoutError'>, 'open': <built-in function open>, 'copyright': Copyright (c) 2001-2019 Python Software Foundation.\n",
       " All Rights Reserved.\n",
       " \n",
       " Copyright (c) 2000 BeOpen.com.\n",
       " All Rights Reserved.\n",
       " \n",
       " Copyright (c) 1995-2001 Corporation for National Research Initiatives.\n",
       " All Rights Reserved.\n",
       " \n",
       " Copyright (c) 1991-1995 Stichting Mathematisch Centrum, Amsterdam.\n",
       " All Rights Reserved., 'credits':     Thanks to CWI, CNRI, BeOpen.com, Zope Corporation and a cast of thousands\n",
       "     for supporting Python development.  See www.python.org for more information., 'license': Type license() to see the full license text, 'help': Type help() for interactive help, or help(object) for help about object., '__IPYTHON__': True, 'display': <function display at 0x7fd6fee21200>, 'get_ipython': <bound method InteractiveShell.get_ipython of <ipykernel.zmqshell.ZMQInteractiveShell object at 0x7fd6f629f210>>}, '_i3': 'a = {1:1, 2:2}', 'a': {}, '_i4': 'a.pop()', '_i5': 'a.popitem()', '_5': (2, 2), '_i6': 'a', '_6': {1: None, 2: 1, 3: []}, '_i7': 'a.pop(1)', '_7': 1, '_i8': 'a', '_8': {1: None, 2: 1, 3: []}, '_i9': 'a.pop(1)', '_i10': 'a.setdefault(1)', '_i11': 'a', '_11': {1: None, 2: 1, 3: []}, '_i12': 'a.setdefault(2, 1)', '_12': 1, '_i13': 'a', '_13': {1: None, 2: 1, 3: []}, '_i14': 'a.setdefault(1, [])', '_i15': 'a', '_15': {1: None, 2: 1, 3: []}, '_i16': 'a.setdefault(3, [])', '_16': [], '_i17': 'a', '_17': {1: None, 2: 1, 3: []}, '_i18': 'a.setdefault(3, [], 2)', '_i19': 'a.setdefault(3, [])', '_19': [], '_i20': 'a', '_20': {1: None, 2: 1, 3: []}, '_i21': 'from collections import Mapping', 'Mapping': <class 'collections.abc.Mapping'>, '_i22': 'from collections.abc import Mapping', '_i23': 'help(Mapping)', '_i24': 'a = Mapping()', '_i25': \"class TestMapping(Mapping):\\n    def __getitem__(self):\\n        return ''\\n    \\n    def __iter__(self):\\n        return ''\\n    \\n    def __len__(self):\\n        return 0\", 'TestMapping': <class '__main__.TestMapping'>, '_i26': 'a = TestMapping()', '_i27': 'a', '_27': <__main__.TestMapping object at 0x7fd6f41384d0>, '_i28': 'a[1] = 1', '_i29': 'a.items()', '_29': ItemsView(<__main__.TestMapping object at 0x7fd6f41384d0>), '_i30': 'list(a.items())', '_i31': 'a = [1, 2]\\nb = [3,4]', 'b': {2: 2}, '_i32': \"for ab in (f'{a} : {b}' for a, b in zip(a, b)):\\n    print(ab)\", 'ab': '2 : 4', '_i33': \"for c in (f'{x} : {y}' for x in a for y in b):\\n    print(c)\", 'c': {3: 3}, '_i34': 'a = {1:1, 2:2}', '_i35': 'b = a', '_i36': 'a[1] = 2', '_i37': 'b', '_37': {1: 2, 2: 2}, '_i38': 'a', '_38': {1: 2, 2: 2}, '_i39': 'a = {1:1, 2:2}', '_i40': 'b = a.copy()', '_i41': 'b', '_41': {1: 2, 2: 2}, '_i42': 'b[1] = 2', '_i43': 'b', '_43': {1: 2, 2: 2}, '_i44': '1', '_44': 1, '_i45': 'a', '_45': {1: 1, 2: 2}, '_i46': 'from copy import copy', 'copy': <function copy at 0x7fd6feeaa3b0>, '_i47': 'a = copy(b)', '_i48': 'a', '_48': {1: 3, 2: 2}, '_i49': 'b', '_49': {1: 2, 2: 2}, '_i50': 'a[1] = 3', '_i51': 'b', '_51': {1: 2, 2: 2}, '_i52': 'a', '_52': {1: 3, 2: 2}, '_i53': 'a = {1:[1, 2], 2: [1, 2]}', '_i54': 'b = copy(a)', '_i55': 'a', '_55': {2: [1, 2]}, '_i56': 'b', '_56': {1: [1, 2, 3, 4], 2: [1, 2]}, '_i57': 'b[1].append(3)', '_i58': 'a', '_58': {2: [1, 2]}, '_i59': 'b', '_59': {1: [1, 2, 3, 4], 2: [1, 2]}, '_i60': 'from copy import deepcopy', 'deepcopy': <function deepcopy at 0x7fd6feeaad40>, '_i61': 'b = deepcopy(a)', '_i62': 'b', '_62': {1: [1, 2, 3], 2: [1, 2]}, '_i63': 'a', '_63': {2: [1, 2]}, '_i64': 'a[1].append(4)', '_i65': 'a', '_65': {2: [1, 2]}, '_i66': 'b', '_66': {1: [1, 2, 3], 2: [1, 2]}, '_i67': 'a in b', '_i68': '1 in b', '_68': True, '_i69': 'del a[1]', '_i70': 'a', '_70': {2: [1, 2]}, '_i71': 'b', '_71': {1: [1, 2, 3], 2: [1, 2]}, '_i72': \"a = {'a':[11, 22], 'A': [33, 44], 'C': [55, 66]}\", '_i73': 'b = sorted(a, key=str.upper)', '_i74': 'b', '_74': ['a', 'A', 'C'], '_i75': \"class ComportDict(Dict):\\n    def __missing__(self):\\n        return 'a'\", '_i76': \"class ComportDict(dict):\\n    def __missing__(self):\\n        return 'a'\", 'ComportDict': <class '__main__.ComportDict'>, '_i77': 'aa = ComportDict()', 'aa': {1: 2}, '_i78': 'a[1] = 2', '_i79': 'a', '_79': {'a': [11, 22], 'A': [33, 44], 'C': [55, 66], 1: 2}, '_i80': 'aa[1] = 2', '_i81': 'aa', '_81': {1: 2}, '_i82': 'aa[2]', '_i83': 'class DefaultListDict(dict):\\n    def __missing__(self, key):\\n        self[key] = []\\n        return self[key]', 'DefaultListDict': <class '__main__.DefaultListDict'>, '_i84': 'aa = ComportDict()', '_i85': 'aa[1] = 2', '_i86': 'aa', '_86': {1: 2}, '_i87': 'aa[2]', '_i88': 'from collections import defaultdict', 'defaultdict': <class 'collections.defaultdict'>, '_i89': 'a = defaultdict(a)', '_i90': 'a = defaultdict(list)', '_i91': 'a.defaylt)factiry', '_i92': 'a.default_factory', '_92': <class 'list'>, '_i93': 'help(a)', '_i94': 'a = defaultdict(list)', '_i95': 'a = defaultdict(list)\\na[1] = [1, 2]\\na[2] = [3, 4]', '_i96': 'a = defaultdict(list)\\na[1] = [1, 2]\\na[2] = [3, 4]\\na[1]', '_96': [1, 2], '_i97': 'a[1]', '_97': [1, 2], '_i98': 'a[3]', '_98': [], '_i99': 'a', '_99': defaultdict(<class 'list'>, {1: [1, 2], 2: [3, 4], 3: []}), '_i100': 'a.default_factory', '_100': <class 'list'>, '_i101': 'class StrKeyDict0(dict):\\n    def __missing__(self, key):\\n        if isinstance(key, str):\\n            raise KeyError(Key)\\n        return self[str[key]]\\n    \\n    ', 'StrKeyDict0': <class '__main__.StrKeyDict0'>, '_i102': \"a = StrKeyDict0([('2', 'two'), ('4', 'four')])\", '_i103': 'a', '_103': {'2': 'two', '4': 'four'}, '_i104': 'a[2]', '_i105': 'class StrKeyDict0(dict):\\n    def __missing__(self, key):\\n        if isinstance(key, str):\\n            raise KeyError(Key)\\n        return self[str(key)]\\n    \\n    ', '_i106': \"a = StrKeyDict0([('2', 'two'), ('4', 'four')])\", '_i107': 'a', '_107': {'2': 'two', '4': 'four'}, '_i108': 'a[2]', '_108': 'two', '_i109': \"a['2]']\", '_i110': \"a['2']\", '_110': 'two', '_i111': 'a[1]', '_i112': 'class StrKeyDict0(dict):\\n    def __missing__(self, key):\\n        if isinstance(key, str):\\n            raise KeyError(key)\\n        return self[str(key)]\\n    \\n    ', '_i113': \"a = StrKeyDict0([('2', 'two'), ('4', 'four')])\", '_i114': 'a', '_114': {'2': 'two', '4': 'four'}, '_i115': 'a[2]', '_115': 'two', '_i116': \"a['2']\", '_116': 'two', '_i117': 'a[1]', '_i118': 'a.get(2)', '_i119': \"a.get('2')\", '_119': 'two', '_i120': 'class StrKeyDict0(dict):\\n    def __missing__(self, key):\\n        if isinstance(key, str):\\n            raise KeyError(key)\\n        return self[str(key)]\\n    \\n    def get(self, key, default=None):\\n        try:\\n            return self[key]\\n        except KeyError:\\n            return default\\n        \\n    \\n    ', '_i121': \"a = StrKeyDict0([('2', 'two'), ('4', 'four')])\", '_i122': 'a', '_122': {'2': 'two', '4': 'four'}, '_i123': 'a[2]', '_123': 'two', '_i124': \"a['2']\", '_124': 'two', '_i125': 'a[1]', '_i126': \"a.get('2')\", '_126': 'two', '_i127': 'a.get(2)', '_127': 'two', '_i128': 'class StrKeyDict0(dict):\\n    def __missing__(self, key):\\n        if isinstance(key, str):\\n            raise KeyError(key)\\n        return self[str(key)]\\n    \\n    def get(self, key, default=None):\\n        try:\\n            return self[key]\\n        except KeyError:\\n            return default\\n        \\n    def __contains__(self, key):\\n        return key in self.keys() or str(key) in self.keys()\\n        \\n    \\n    ', '_i129': 'import builtins\\nfrom collections import ChainMap\\n\\npylookup = ChainMap(locals(), globals(), vars(builtins))', 'builtins': <module 'builtins' (built-in)>, 'ChainMap': <class 'collections.ChainMap'>, 'pylookup': ..., '_i130': 'pylookup', '_130': ..., '_i131': 'a = {1:1}\\nb = {2:2}\\nc = {3:3}', '_i132': 'chain = ChainMap(a, b, c)', 'chain': ChainMap({}, {2: 2}, {3: 3}), '_i133': 'chain', '_133': ChainMap({}, {2: 2}, {3: 3}), '_i134': 'chain[1]', '_134': 1, '_i135': 'chain.items()', '_135': ItemsView(ChainMap({}, {2: 2}, {3: 3})), '_i136': 'list(chain.items())', '_136': [(3, 3), (2, 2), (1, 1)], '_i137': 'chain.pop(1)', '_137': 1, '_i138': 'a', '_138': {}, '_i139': 'a and b', '_139': {}, '_i140': 'a or b', '_140': {2: 2}, '_i141': 'a and b and c', '_141': {}, '_i142': 'locals()'}, {'__name__': '__main__', '__doc__': 'Automatically created module for IPython interactive environment', '__package__': None, '__loader__': None, '__spec__': None, '__builtin__': <module 'builtins' (built-in)>, '__builtins__': <module 'builtins' (built-in)>, '_ih': ['', '__builtins__', '__builtins__.__dict__', 'a = {1:1, 2:2}', 'a.pop()', 'a.popitem()', 'a', 'a.pop(1)', 'a', 'a.pop(1)', 'a.setdefault(1)', 'a', 'a.setdefault(2, 1)', 'a', 'a.setdefault(1, [])', 'a', 'a.setdefault(3, [])', 'a', 'a.setdefault(3, [], 2)', 'a.setdefault(3, [])', 'a', 'from collections import Mapping', 'from collections.abc import Mapping', 'help(Mapping)', 'a = Mapping()', \"class TestMapping(Mapping):\\n    def __getitem__(self):\\n        return ''\\n    \\n    def __iter__(self):\\n        return ''\\n    \\n    def __len__(self):\\n        return 0\", 'a = TestMapping()', 'a', 'a[1] = 1', 'a.items()', 'list(a.items())', 'a = [1, 2]\\nb = [3,4]', \"for ab in (f'{a} : {b}' for a, b in zip(a, b)):\\n    print(ab)\", \"for c in (f'{x} : {y}' for x in a for y in b):\\n    print(c)\", 'a = {1:1, 2:2}', 'b = a', 'a[1] = 2', 'b', 'a', 'a = {1:1, 2:2}', 'b = a.copy()', 'b', 'b[1] = 2', 'b', '1', 'a', 'from copy import copy', 'a = copy(b)', 'a', 'b', 'a[1] = 3', 'b', 'a', 'a = {1:[1, 2], 2: [1, 2]}', 'b = copy(a)', 'a', 'b', 'b[1].append(3)', 'a', 'b', 'from copy import deepcopy', 'b = deepcopy(a)', 'b', 'a', 'a[1].append(4)', 'a', 'b', 'a in b', '1 in b', 'del a[1]', 'a', 'b', \"a = {'a':[11, 22], 'A': [33, 44], 'C': [55, 66]}\", 'b = sorted(a, key=str.upper)', 'b', \"class ComportDict(Dict):\\n    def __missing__(self):\\n        return 'a'\", \"class ComportDict(dict):\\n    def __missing__(self):\\n        return 'a'\", 'aa = ComportDict()', 'a[1] = 2', 'a', 'aa[1] = 2', 'aa', 'aa[2]', 'class DefaultListDict(dict):\\n    def __missing__(self, key):\\n        self[key] = []\\n        return self[key]', 'aa = ComportDict()', 'aa[1] = 2', 'aa', 'aa[2]', 'from collections import defaultdict', 'a = defaultdict(a)', 'a = defaultdict(list)', 'a.defaylt)factiry', 'a.default_factory', 'help(a)', 'a = defaultdict(list)', 'a = defaultdict(list)\\na[1] = [1, 2]\\na[2] = [3, 4]', 'a = defaultdict(list)\\na[1] = [1, 2]\\na[2] = [3, 4]\\na[1]', 'a[1]', 'a[3]', 'a', 'a.default_factory', 'class StrKeyDict0(dict):\\n    def __missing__(self, key):\\n        if isinstance(key, str):\\n            raise KeyError(Key)\\n        return self[str[key]]\\n    \\n    ', \"a = StrKeyDict0([('2', 'two'), ('4', 'four')])\", 'a', 'a[2]', 'class StrKeyDict0(dict):\\n    def __missing__(self, key):\\n        if isinstance(key, str):\\n            raise KeyError(Key)\\n        return self[str(key)]\\n    \\n    ', \"a = StrKeyDict0([('2', 'two'), ('4', 'four')])\", 'a', 'a[2]', \"a['2]']\", \"a['2']\", 'a[1]', 'class StrKeyDict0(dict):\\n    def __missing__(self, key):\\n        if isinstance(key, str):\\n            raise KeyError(key)\\n        return self[str(key)]\\n    \\n    ', \"a = StrKeyDict0([('2', 'two'), ('4', 'four')])\", 'a', 'a[2]', \"a['2']\", 'a[1]', 'a.get(2)', \"a.get('2')\", 'class StrKeyDict0(dict):\\n    def __missing__(self, key):\\n        if isinstance(key, str):\\n            raise KeyError(key)\\n        return self[str(key)]\\n    \\n    def get(self, key, default=None):\\n        try:\\n            return self[key]\\n        except KeyError:\\n            return default\\n        \\n    \\n    ', \"a = StrKeyDict0([('2', 'two'), ('4', 'four')])\", 'a', 'a[2]', \"a['2']\", 'a[1]', \"a.get('2')\", 'a.get(2)', 'class StrKeyDict0(dict):\\n    def __missing__(self, key):\\n        if isinstance(key, str):\\n            raise KeyError(key)\\n        return self[str(key)]\\n    \\n    def get(self, key, default=None):\\n        try:\\n            return self[key]\\n        except KeyError:\\n            return default\\n        \\n    def __contains__(self, key):\\n        return key in self.keys() or str(key) in self.keys()\\n        \\n    \\n    ', 'import builtins\\nfrom collections import ChainMap\\n\\npylookup = ChainMap(locals(), globals(), vars(builtins))', 'pylookup', 'a = {1:1}\\nb = {2:2}\\nc = {3:3}', 'chain = ChainMap(a, b, c)', 'chain', 'chain[1]', 'chain.items()', 'list(chain.items())', 'chain.pop(1)', 'a', 'a and b', 'a or b', 'a and b and c', 'locals()'], '_oh': {1: <module 'builtins' (built-in)>, 2: {'__name__': 'builtins', '__doc__': \"Built-in functions, exceptions, and other objects.\\n\\nNoteworthy: None is the `nil' object; Ellipsis represents `...' in slices.\", '__package__': '', '__loader__': <class '_frozen_importlib.BuiltinImporter'>, '__spec__': ModuleSpec(name='builtins', loader=<class '_frozen_importlib.BuiltinImporter'>), '__build_class__': <built-in function __build_class__>, '__import__': <built-in function __import__>, 'abs': <built-in function abs>, 'all': <built-in function all>, 'any': <built-in function any>, 'ascii': <built-in function ascii>, 'bin': <built-in function bin>, 'breakpoint': <built-in function breakpoint>, 'callable': <built-in function callable>, 'chr': <built-in function chr>, 'compile': <built-in function compile>, 'delattr': <built-in function delattr>, 'dir': <built-in function dir>, 'divmod': <built-in function divmod>, 'eval': <built-in function eval>, 'exec': <built-in function exec>, 'format': <built-in function format>, 'getattr': <built-in function getattr>, 'globals': <built-in function globals>, 'hasattr': <built-in function hasattr>, 'hash': <built-in function hash>, 'hex': <built-in function hex>, 'id': <built-in function id>, 'input': <bound method Kernel.raw_input of <ipykernel.ipkernel.IPythonKernel object at 0x7fd6f62ba850>>, 'isinstance': <built-in function isinstance>, 'issubclass': <built-in function issubclass>, 'iter': <built-in function iter>, 'len': <built-in function len>, 'locals': <built-in function locals>, 'max': <built-in function max>, 'min': <built-in function min>, 'next': <built-in function next>, 'oct': <built-in function oct>, 'ord': <built-in function ord>, 'pow': <built-in function pow>, 'print': <built-in function print>, 'repr': <built-in function repr>, 'round': <built-in function round>, 'setattr': <built-in function setattr>, 'sorted': <built-in function sorted>, 'sum': <built-in function sum>, 'vars': <built-in function vars>, 'None': None, 'Ellipsis': Ellipsis, 'NotImplemented': NotImplemented, 'False': False, 'True': True, 'bool': <class 'bool'>, 'memoryview': <class 'memoryview'>, 'bytearray': <class 'bytearray'>, 'bytes': <class 'bytes'>, 'classmethod': <class 'classmethod'>, 'complex': <class 'complex'>, 'dict': <class 'dict'>, 'enumerate': <class 'enumerate'>, 'filter': <class 'filter'>, 'float': <class 'float'>, 'frozenset': <class 'frozenset'>, 'property': <class 'property'>, 'int': <class 'int'>, 'list': <class 'list'>, 'map': <class 'map'>, 'object': <class 'object'>, 'range': <class 'range'>, 'reversed': <class 'reversed'>, 'set': <class 'set'>, 'slice': <class 'slice'>, 'staticmethod': <class 'staticmethod'>, 'str': <class 'str'>, 'super': <class 'super'>, 'tuple': <class 'tuple'>, 'type': <class 'type'>, 'zip': <class 'zip'>, '__debug__': True, 'BaseException': <class 'BaseException'>, 'Exception': <class 'Exception'>, 'TypeError': <class 'TypeError'>, 'StopAsyncIteration': <class 'StopAsyncIteration'>, 'StopIteration': <class 'StopIteration'>, 'GeneratorExit': <class 'GeneratorExit'>, 'SystemExit': <class 'SystemExit'>, 'KeyboardInterrupt': <class 'KeyboardInterrupt'>, 'ImportError': <class 'ImportError'>, 'ModuleNotFoundError': <class 'ModuleNotFoundError'>, 'OSError': <class 'OSError'>, 'EnvironmentError': <class 'OSError'>, 'IOError': <class 'OSError'>, 'EOFError': <class 'EOFError'>, 'RuntimeError': <class 'RuntimeError'>, 'RecursionError': <class 'RecursionError'>, 'NotImplementedError': <class 'NotImplementedError'>, 'NameError': <class 'NameError'>, 'UnboundLocalError': <class 'UnboundLocalError'>, 'AttributeError': <class 'AttributeError'>, 'SyntaxError': <class 'SyntaxError'>, 'IndentationError': <class 'IndentationError'>, 'TabError': <class 'TabError'>, 'LookupError': <class 'LookupError'>, 'IndexError': <class 'IndexError'>, 'KeyError': <class 'KeyError'>, 'ValueError': <class 'ValueError'>, 'UnicodeError': <class 'UnicodeError'>, 'UnicodeEncodeError': <class 'UnicodeEncodeError'>, 'UnicodeDecodeError': <class 'UnicodeDecodeError'>, 'UnicodeTranslateError': <class 'UnicodeTranslateError'>, 'AssertionError': <class 'AssertionError'>, 'ArithmeticError': <class 'ArithmeticError'>, 'FloatingPointError': <class 'FloatingPointError'>, 'OverflowError': <class 'OverflowError'>, 'ZeroDivisionError': <class 'ZeroDivisionError'>, 'SystemError': <class 'SystemError'>, 'ReferenceError': <class 'ReferenceError'>, 'MemoryError': <class 'MemoryError'>, 'BufferError': <class 'BufferError'>, 'Warning': <class 'Warning'>, 'UserWarning': <class 'UserWarning'>, 'DeprecationWarning': <class 'DeprecationWarning'>, 'PendingDeprecationWarning': <class 'PendingDeprecationWarning'>, 'SyntaxWarning': <class 'SyntaxWarning'>, 'RuntimeWarning': <class 'RuntimeWarning'>, 'FutureWarning': <class 'FutureWarning'>, 'ImportWarning': <class 'ImportWarning'>, 'UnicodeWarning': <class 'UnicodeWarning'>, 'BytesWarning': <class 'BytesWarning'>, 'ResourceWarning': <class 'ResourceWarning'>, 'ConnectionError': <class 'ConnectionError'>, 'BlockingIOError': <class 'BlockingIOError'>, 'BrokenPipeError': <class 'BrokenPipeError'>, 'ChildProcessError': <class 'ChildProcessError'>, 'ConnectionAbortedError': <class 'ConnectionAbortedError'>, 'ConnectionRefusedError': <class 'ConnectionRefusedError'>, 'ConnectionResetError': <class 'ConnectionResetError'>, 'FileExistsError': <class 'FileExistsError'>, 'FileNotFoundError': <class 'FileNotFoundError'>, 'IsADirectoryError': <class 'IsADirectoryError'>, 'NotADirectoryError': <class 'NotADirectoryError'>, 'InterruptedError': <class 'InterruptedError'>, 'PermissionError': <class 'PermissionError'>, 'ProcessLookupError': <class 'ProcessLookupError'>, 'TimeoutError': <class 'TimeoutError'>, 'open': <built-in function open>, 'copyright': Copyright (c) 2001-2019 Python Software Foundation.\n",
       " All Rights Reserved.\n",
       " \n",
       " Copyright (c) 2000 BeOpen.com.\n",
       " All Rights Reserved.\n",
       " \n",
       " Copyright (c) 1995-2001 Corporation for National Research Initiatives.\n",
       " All Rights Reserved.\n",
       " \n",
       " Copyright (c) 1991-1995 Stichting Mathematisch Centrum, Amsterdam.\n",
       " All Rights Reserved., 'credits':     Thanks to CWI, CNRI, BeOpen.com, Zope Corporation and a cast of thousands\n",
       "     for supporting Python development.  See www.python.org for more information., 'license': Type license() to see the full license text, 'help': Type help() for interactive help, or help(object) for help about object., '__IPYTHON__': True, 'display': <function display at 0x7fd6fee21200>, 'get_ipython': <bound method InteractiveShell.get_ipython of <ipykernel.zmqshell.ZMQInteractiveShell object at 0x7fd6f629f210>>}, 5: (2, 2), 6: {1: None, 2: 1, 3: []}, 7: 1, 8: {1: None, 2: 1, 3: []}, 11: {1: None, 2: 1, 3: []}, 12: 1, 13: {1: None, 2: 1, 3: []}, 15: {1: None, 2: 1, 3: []}, 16: [], 17: {1: None, 2: 1, 3: []}, 19: [], 20: {1: None, 2: 1, 3: []}, 27: <__main__.TestMapping object at 0x7fd6f41384d0>, 29: ItemsView(<__main__.TestMapping object at 0x7fd6f41384d0>), 37: {1: 2, 2: 2}, 38: {1: 2, 2: 2}, 41: {1: 2, 2: 2}, 43: {1: 2, 2: 2}, 44: 1, 45: {1: 1, 2: 2}, 48: {1: 3, 2: 2}, 49: {1: 2, 2: 2}, 51: {1: 2, 2: 2}, 52: {1: 3, 2: 2}, 55: {2: [1, 2]}, 56: {1: [1, 2, 3, 4], 2: [1, 2]}, 58: {2: [1, 2]}, 59: {1: [1, 2, 3, 4], 2: [1, 2]}, 62: {1: [1, 2, 3], 2: [1, 2]}, 63: {2: [1, 2]}, 65: {2: [1, 2]}, 66: {1: [1, 2, 3], 2: [1, 2]}, 68: True, 70: {2: [1, 2]}, 71: {1: [1, 2, 3], 2: [1, 2]}, 74: ['a', 'A', 'C'], 79: {'a': [11, 22], 'A': [33, 44], 'C': [55, 66], 1: 2}, 81: {1: 2}, 86: {1: 2}, 92: <class 'list'>, 96: [1, 2], 97: [1, 2], 98: [], 99: defaultdict(<class 'list'>, {1: [1, 2], 2: [3, 4], 3: []}), 100: <class 'list'>, 103: {'2': 'two', '4': 'four'}, 107: {'2': 'two', '4': 'four'}, 108: 'two', 110: 'two', 114: {'2': 'two', '4': 'four'}, 115: 'two', 116: 'two', 119: 'two', 122: {'2': 'two', '4': 'four'}, 123: 'two', 124: 'two', 126: 'two', 127: 'two', 130: ..., 133: ChainMap({}, {2: 2}, {3: 3}), 134: 1, 135: ItemsView(ChainMap({}, {2: 2}, {3: 3})), 136: [(3, 3), (2, 2), (1, 1)], 137: 1, 138: {}, 139: {}, 140: {2: 2}, 141: {}}, '_dh': ['/home/hby/projects/wps12th/python/fluentpython/notebook'], 'In': ['', '__builtins__', '__builtins__.__dict__', 'a = {1:1, 2:2}', 'a.pop()', 'a.popitem()', 'a', 'a.pop(1)', 'a', 'a.pop(1)', 'a.setdefault(1)', 'a', 'a.setdefault(2, 1)', 'a', 'a.setdefault(1, [])', 'a', 'a.setdefault(3, [])', 'a', 'a.setdefault(3, [], 2)', 'a.setdefault(3, [])', 'a', 'from collections import Mapping', 'from collections.abc import Mapping', 'help(Mapping)', 'a = Mapping()', \"class TestMapping(Mapping):\\n    def __getitem__(self):\\n        return ''\\n    \\n    def __iter__(self):\\n        return ''\\n    \\n    def __len__(self):\\n        return 0\", 'a = TestMapping()', 'a', 'a[1] = 1', 'a.items()', 'list(a.items())', 'a = [1, 2]\\nb = [3,4]', \"for ab in (f'{a} : {b}' for a, b in zip(a, b)):\\n    print(ab)\", \"for c in (f'{x} : {y}' for x in a for y in b):\\n    print(c)\", 'a = {1:1, 2:2}', 'b = a', 'a[1] = 2', 'b', 'a', 'a = {1:1, 2:2}', 'b = a.copy()', 'b', 'b[1] = 2', 'b', '1', 'a', 'from copy import copy', 'a = copy(b)', 'a', 'b', 'a[1] = 3', 'b', 'a', 'a = {1:[1, 2], 2: [1, 2]}', 'b = copy(a)', 'a', 'b', 'b[1].append(3)', 'a', 'b', 'from copy import deepcopy', 'b = deepcopy(a)', 'b', 'a', 'a[1].append(4)', 'a', 'b', 'a in b', '1 in b', 'del a[1]', 'a', 'b', \"a = {'a':[11, 22], 'A': [33, 44], 'C': [55, 66]}\", 'b = sorted(a, key=str.upper)', 'b', \"class ComportDict(Dict):\\n    def __missing__(self):\\n        return 'a'\", \"class ComportDict(dict):\\n    def __missing__(self):\\n        return 'a'\", 'aa = ComportDict()', 'a[1] = 2', 'a', 'aa[1] = 2', 'aa', 'aa[2]', 'class DefaultListDict(dict):\\n    def __missing__(self, key):\\n        self[key] = []\\n        return self[key]', 'aa = ComportDict()', 'aa[1] = 2', 'aa', 'aa[2]', 'from collections import defaultdict', 'a = defaultdict(a)', 'a = defaultdict(list)', 'a.defaylt)factiry', 'a.default_factory', 'help(a)', 'a = defaultdict(list)', 'a = defaultdict(list)\\na[1] = [1, 2]\\na[2] = [3, 4]', 'a = defaultdict(list)\\na[1] = [1, 2]\\na[2] = [3, 4]\\na[1]', 'a[1]', 'a[3]', 'a', 'a.default_factory', 'class StrKeyDict0(dict):\\n    def __missing__(self, key):\\n        if isinstance(key, str):\\n            raise KeyError(Key)\\n        return self[str[key]]\\n    \\n    ', \"a = StrKeyDict0([('2', 'two'), ('4', 'four')])\", 'a', 'a[2]', 'class StrKeyDict0(dict):\\n    def __missing__(self, key):\\n        if isinstance(key, str):\\n            raise KeyError(Key)\\n        return self[str(key)]\\n    \\n    ', \"a = StrKeyDict0([('2', 'two'), ('4', 'four')])\", 'a', 'a[2]', \"a['2]']\", \"a['2']\", 'a[1]', 'class StrKeyDict0(dict):\\n    def __missing__(self, key):\\n        if isinstance(key, str):\\n            raise KeyError(key)\\n        return self[str(key)]\\n    \\n    ', \"a = StrKeyDict0([('2', 'two'), ('4', 'four')])\", 'a', 'a[2]', \"a['2']\", 'a[1]', 'a.get(2)', \"a.get('2')\", 'class StrKeyDict0(dict):\\n    def __missing__(self, key):\\n        if isinstance(key, str):\\n            raise KeyError(key)\\n        return self[str(key)]\\n    \\n    def get(self, key, default=None):\\n        try:\\n            return self[key]\\n        except KeyError:\\n            return default\\n        \\n    \\n    ', \"a = StrKeyDict0([('2', 'two'), ('4', 'four')])\", 'a', 'a[2]', \"a['2']\", 'a[1]', \"a.get('2')\", 'a.get(2)', 'class StrKeyDict0(dict):\\n    def __missing__(self, key):\\n        if isinstance(key, str):\\n            raise KeyError(key)\\n        return self[str(key)]\\n    \\n    def get(self, key, default=None):\\n        try:\\n            return self[key]\\n        except KeyError:\\n            return default\\n        \\n    def __contains__(self, key):\\n        return key in self.keys() or str(key) in self.keys()\\n        \\n    \\n    ', 'import builtins\\nfrom collections import ChainMap\\n\\npylookup = ChainMap(locals(), globals(), vars(builtins))', 'pylookup', 'a = {1:1}\\nb = {2:2}\\nc = {3:3}', 'chain = ChainMap(a, b, c)', 'chain', 'chain[1]', 'chain.items()', 'list(chain.items())', 'chain.pop(1)', 'a', 'a and b', 'a or b', 'a and b and c', 'locals()'], 'Out': {1: <module 'builtins' (built-in)>, 2: {'__name__': 'builtins', '__doc__': \"Built-in functions, exceptions, and other objects.\\n\\nNoteworthy: None is the `nil' object; Ellipsis represents `...' in slices.\", '__package__': '', '__loader__': <class '_frozen_importlib.BuiltinImporter'>, '__spec__': ModuleSpec(name='builtins', loader=<class '_frozen_importlib.BuiltinImporter'>), '__build_class__': <built-in function __build_class__>, '__import__': <built-in function __import__>, 'abs': <built-in function abs>, 'all': <built-in function all>, 'any': <built-in function any>, 'ascii': <built-in function ascii>, 'bin': <built-in function bin>, 'breakpoint': <built-in function breakpoint>, 'callable': <built-in function callable>, 'chr': <built-in function chr>, 'compile': <built-in function compile>, 'delattr': <built-in function delattr>, 'dir': <built-in function dir>, 'divmod': <built-in function divmod>, 'eval': <built-in function eval>, 'exec': <built-in function exec>, 'format': <built-in function format>, 'getattr': <built-in function getattr>, 'globals': <built-in function globals>, 'hasattr': <built-in function hasattr>, 'hash': <built-in function hash>, 'hex': <built-in function hex>, 'id': <built-in function id>, 'input': <bound method Kernel.raw_input of <ipykernel.ipkernel.IPythonKernel object at 0x7fd6f62ba850>>, 'isinstance': <built-in function isinstance>, 'issubclass': <built-in function issubclass>, 'iter': <built-in function iter>, 'len': <built-in function len>, 'locals': <built-in function locals>, 'max': <built-in function max>, 'min': <built-in function min>, 'next': <built-in function next>, 'oct': <built-in function oct>, 'ord': <built-in function ord>, 'pow': <built-in function pow>, 'print': <built-in function print>, 'repr': <built-in function repr>, 'round': <built-in function round>, 'setattr': <built-in function setattr>, 'sorted': <built-in function sorted>, 'sum': <built-in function sum>, 'vars': <built-in function vars>, 'None': None, 'Ellipsis': Ellipsis, 'NotImplemented': NotImplemented, 'False': False, 'True': True, 'bool': <class 'bool'>, 'memoryview': <class 'memoryview'>, 'bytearray': <class 'bytearray'>, 'bytes': <class 'bytes'>, 'classmethod': <class 'classmethod'>, 'complex': <class 'complex'>, 'dict': <class 'dict'>, 'enumerate': <class 'enumerate'>, 'filter': <class 'filter'>, 'float': <class 'float'>, 'frozenset': <class 'frozenset'>, 'property': <class 'property'>, 'int': <class 'int'>, 'list': <class 'list'>, 'map': <class 'map'>, 'object': <class 'object'>, 'range': <class 'range'>, 'reversed': <class 'reversed'>, 'set': <class 'set'>, 'slice': <class 'slice'>, 'staticmethod': <class 'staticmethod'>, 'str': <class 'str'>, 'super': <class 'super'>, 'tuple': <class 'tuple'>, 'type': <class 'type'>, 'zip': <class 'zip'>, '__debug__': True, 'BaseException': <class 'BaseException'>, 'Exception': <class 'Exception'>, 'TypeError': <class 'TypeError'>, 'StopAsyncIteration': <class 'StopAsyncIteration'>, 'StopIteration': <class 'StopIteration'>, 'GeneratorExit': <class 'GeneratorExit'>, 'SystemExit': <class 'SystemExit'>, 'KeyboardInterrupt': <class 'KeyboardInterrupt'>, 'ImportError': <class 'ImportError'>, 'ModuleNotFoundError': <class 'ModuleNotFoundError'>, 'OSError': <class 'OSError'>, 'EnvironmentError': <class 'OSError'>, 'IOError': <class 'OSError'>, 'EOFError': <class 'EOFError'>, 'RuntimeError': <class 'RuntimeError'>, 'RecursionError': <class 'RecursionError'>, 'NotImplementedError': <class 'NotImplementedError'>, 'NameError': <class 'NameError'>, 'UnboundLocalError': <class 'UnboundLocalError'>, 'AttributeError': <class 'AttributeError'>, 'SyntaxError': <class 'SyntaxError'>, 'IndentationError': <class 'IndentationError'>, 'TabError': <class 'TabError'>, 'LookupError': <class 'LookupError'>, 'IndexError': <class 'IndexError'>, 'KeyError': <class 'KeyError'>, 'ValueError': <class 'ValueError'>, 'UnicodeError': <class 'UnicodeError'>, 'UnicodeEncodeError': <class 'UnicodeEncodeError'>, 'UnicodeDecodeError': <class 'UnicodeDecodeError'>, 'UnicodeTranslateError': <class 'UnicodeTranslateError'>, 'AssertionError': <class 'AssertionError'>, 'ArithmeticError': <class 'ArithmeticError'>, 'FloatingPointError': <class 'FloatingPointError'>, 'OverflowError': <class 'OverflowError'>, 'ZeroDivisionError': <class 'ZeroDivisionError'>, 'SystemError': <class 'SystemError'>, 'ReferenceError': <class 'ReferenceError'>, 'MemoryError': <class 'MemoryError'>, 'BufferError': <class 'BufferError'>, 'Warning': <class 'Warning'>, 'UserWarning': <class 'UserWarning'>, 'DeprecationWarning': <class 'DeprecationWarning'>, 'PendingDeprecationWarning': <class 'PendingDeprecationWarning'>, 'SyntaxWarning': <class 'SyntaxWarning'>, 'RuntimeWarning': <class 'RuntimeWarning'>, 'FutureWarning': <class 'FutureWarning'>, 'ImportWarning': <class 'ImportWarning'>, 'UnicodeWarning': <class 'UnicodeWarning'>, 'BytesWarning': <class 'BytesWarning'>, 'ResourceWarning': <class 'ResourceWarning'>, 'ConnectionError': <class 'ConnectionError'>, 'BlockingIOError': <class 'BlockingIOError'>, 'BrokenPipeError': <class 'BrokenPipeError'>, 'ChildProcessError': <class 'ChildProcessError'>, 'ConnectionAbortedError': <class 'ConnectionAbortedError'>, 'ConnectionRefusedError': <class 'ConnectionRefusedError'>, 'ConnectionResetError': <class 'ConnectionResetError'>, 'FileExistsError': <class 'FileExistsError'>, 'FileNotFoundError': <class 'FileNotFoundError'>, 'IsADirectoryError': <class 'IsADirectoryError'>, 'NotADirectoryError': <class 'NotADirectoryError'>, 'InterruptedError': <class 'InterruptedError'>, 'PermissionError': <class 'PermissionError'>, 'ProcessLookupError': <class 'ProcessLookupError'>, 'TimeoutError': <class 'TimeoutError'>, 'open': <built-in function open>, 'copyright': Copyright (c) 2001-2019 Python Software Foundation.\n",
       " All Rights Reserved.\n",
       " \n",
       " Copyright (c) 2000 BeOpen.com.\n",
       " All Rights Reserved.\n",
       " \n",
       " Copyright (c) 1995-2001 Corporation for National Research Initiatives.\n",
       " All Rights Reserved.\n",
       " \n",
       " Copyright (c) 1991-1995 Stichting Mathematisch Centrum, Amsterdam.\n",
       " All Rights Reserved., 'credits':     Thanks to CWI, CNRI, BeOpen.com, Zope Corporation and a cast of thousands\n",
       "     for supporting Python development.  See www.python.org for more information., 'license': Type license() to see the full license text, 'help': Type help() for interactive help, or help(object) for help about object., '__IPYTHON__': True, 'display': <function display at 0x7fd6fee21200>, 'get_ipython': <bound method InteractiveShell.get_ipython of <ipykernel.zmqshell.ZMQInteractiveShell object at 0x7fd6f629f210>>}, 5: (2, 2), 6: {1: None, 2: 1, 3: []}, 7: 1, 8: {1: None, 2: 1, 3: []}, 11: {1: None, 2: 1, 3: []}, 12: 1, 13: {1: None, 2: 1, 3: []}, 15: {1: None, 2: 1, 3: []}, 16: [], 17: {1: None, 2: 1, 3: []}, 19: [], 20: {1: None, 2: 1, 3: []}, 27: <__main__.TestMapping object at 0x7fd6f41384d0>, 29: ItemsView(<__main__.TestMapping object at 0x7fd6f41384d0>), 37: {1: 2, 2: 2}, 38: {1: 2, 2: 2}, 41: {1: 2, 2: 2}, 43: {1: 2, 2: 2}, 44: 1, 45: {1: 1, 2: 2}, 48: {1: 3, 2: 2}, 49: {1: 2, 2: 2}, 51: {1: 2, 2: 2}, 52: {1: 3, 2: 2}, 55: {2: [1, 2]}, 56: {1: [1, 2, 3, 4], 2: [1, 2]}, 58: {2: [1, 2]}, 59: {1: [1, 2, 3, 4], 2: [1, 2]}, 62: {1: [1, 2, 3], 2: [1, 2]}, 63: {2: [1, 2]}, 65: {2: [1, 2]}, 66: {1: [1, 2, 3], 2: [1, 2]}, 68: True, 70: {2: [1, 2]}, 71: {1: [1, 2, 3], 2: [1, 2]}, 74: ['a', 'A', 'C'], 79: {'a': [11, 22], 'A': [33, 44], 'C': [55, 66], 1: 2}, 81: {1: 2}, 86: {1: 2}, 92: <class 'list'>, 96: [1, 2], 97: [1, 2], 98: [], 99: defaultdict(<class 'list'>, {1: [1, 2], 2: [3, 4], 3: []}), 100: <class 'list'>, 103: {'2': 'two', '4': 'four'}, 107: {'2': 'two', '4': 'four'}, 108: 'two', 110: 'two', 114: {'2': 'two', '4': 'four'}, 115: 'two', 116: 'two', 119: 'two', 122: {'2': 'two', '4': 'four'}, 123: 'two', 124: 'two', 126: 'two', 127: 'two', 130: ..., 133: ChainMap({}, {2: 2}, {3: 3}), 134: 1, 135: ItemsView(ChainMap({}, {2: 2}, {3: 3})), 136: [(3, 3), (2, 2), (1, 1)], 137: 1, 138: {}, 139: {}, 140: {2: 2}, 141: {}}, 'get_ipython': <bound method InteractiveShell.get_ipython of <ipykernel.zmqshell.ZMQInteractiveShell object at 0x7fd6f629f210>>, 'exit': <IPython.core.autocall.ZMQExitAutocall object at 0x7fd6f627ded0>, 'quit': <IPython.core.autocall.ZMQExitAutocall object at 0x7fd6f627ded0>, '_': {}, '__': {2: 2}, '___': {}, '_i': 'a and b and c', '_ii': 'a or b', '_iii': 'a and b', '_i1': '__builtins__', '_1': <module 'builtins' (built-in)>, '_i2': '__builtins__.__dict__', '_2': {'__name__': 'builtins', '__doc__': \"Built-in functions, exceptions, and other objects.\\n\\nNoteworthy: None is the `nil' object; Ellipsis represents `...' in slices.\", '__package__': '', '__loader__': <class '_frozen_importlib.BuiltinImporter'>, '__spec__': ModuleSpec(name='builtins', loader=<class '_frozen_importlib.BuiltinImporter'>), '__build_class__': <built-in function __build_class__>, '__import__': <built-in function __import__>, 'abs': <built-in function abs>, 'all': <built-in function all>, 'any': <built-in function any>, 'ascii': <built-in function ascii>, 'bin': <built-in function bin>, 'breakpoint': <built-in function breakpoint>, 'callable': <built-in function callable>, 'chr': <built-in function chr>, 'compile': <built-in function compile>, 'delattr': <built-in function delattr>, 'dir': <built-in function dir>, 'divmod': <built-in function divmod>, 'eval': <built-in function eval>, 'exec': <built-in function exec>, 'format': <built-in function format>, 'getattr': <built-in function getattr>, 'globals': <built-in function globals>, 'hasattr': <built-in function hasattr>, 'hash': <built-in function hash>, 'hex': <built-in function hex>, 'id': <built-in function id>, 'input': <bound method Kernel.raw_input of <ipykernel.ipkernel.IPythonKernel object at 0x7fd6f62ba850>>, 'isinstance': <built-in function isinstance>, 'issubclass': <built-in function issubclass>, 'iter': <built-in function iter>, 'len': <built-in function len>, 'locals': <built-in function locals>, 'max': <built-in function max>, 'min': <built-in function min>, 'next': <built-in function next>, 'oct': <built-in function oct>, 'ord': <built-in function ord>, 'pow': <built-in function pow>, 'print': <built-in function print>, 'repr': <built-in function repr>, 'round': <built-in function round>, 'setattr': <built-in function setattr>, 'sorted': <built-in function sorted>, 'sum': <built-in function sum>, 'vars': <built-in function vars>, 'None': None, 'Ellipsis': Ellipsis, 'NotImplemented': NotImplemented, 'False': False, 'True': True, 'bool': <class 'bool'>, 'memoryview': <class 'memoryview'>, 'bytearray': <class 'bytearray'>, 'bytes': <class 'bytes'>, 'classmethod': <class 'classmethod'>, 'complex': <class 'complex'>, 'dict': <class 'dict'>, 'enumerate': <class 'enumerate'>, 'filter': <class 'filter'>, 'float': <class 'float'>, 'frozenset': <class 'frozenset'>, 'property': <class 'property'>, 'int': <class 'int'>, 'list': <class 'list'>, 'map': <class 'map'>, 'object': <class 'object'>, 'range': <class 'range'>, 'reversed': <class 'reversed'>, 'set': <class 'set'>, 'slice': <class 'slice'>, 'staticmethod': <class 'staticmethod'>, 'str': <class 'str'>, 'super': <class 'super'>, 'tuple': <class 'tuple'>, 'type': <class 'type'>, 'zip': <class 'zip'>, '__debug__': True, 'BaseException': <class 'BaseException'>, 'Exception': <class 'Exception'>, 'TypeError': <class 'TypeError'>, 'StopAsyncIteration': <class 'StopAsyncIteration'>, 'StopIteration': <class 'StopIteration'>, 'GeneratorExit': <class 'GeneratorExit'>, 'SystemExit': <class 'SystemExit'>, 'KeyboardInterrupt': <class 'KeyboardInterrupt'>, 'ImportError': <class 'ImportError'>, 'ModuleNotFoundError': <class 'ModuleNotFoundError'>, 'OSError': <class 'OSError'>, 'EnvironmentError': <class 'OSError'>, 'IOError': <class 'OSError'>, 'EOFError': <class 'EOFError'>, 'RuntimeError': <class 'RuntimeError'>, 'RecursionError': <class 'RecursionError'>, 'NotImplementedError': <class 'NotImplementedError'>, 'NameError': <class 'NameError'>, 'UnboundLocalError': <class 'UnboundLocalError'>, 'AttributeError': <class 'AttributeError'>, 'SyntaxError': <class 'SyntaxError'>, 'IndentationError': <class 'IndentationError'>, 'TabError': <class 'TabError'>, 'LookupError': <class 'LookupError'>, 'IndexError': <class 'IndexError'>, 'KeyError': <class 'KeyError'>, 'ValueError': <class 'ValueError'>, 'UnicodeError': <class 'UnicodeError'>, 'UnicodeEncodeError': <class 'UnicodeEncodeError'>, 'UnicodeDecodeError': <class 'UnicodeDecodeError'>, 'UnicodeTranslateError': <class 'UnicodeTranslateError'>, 'AssertionError': <class 'AssertionError'>, 'ArithmeticError': <class 'ArithmeticError'>, 'FloatingPointError': <class 'FloatingPointError'>, 'OverflowError': <class 'OverflowError'>, 'ZeroDivisionError': <class 'ZeroDivisionError'>, 'SystemError': <class 'SystemError'>, 'ReferenceError': <class 'ReferenceError'>, 'MemoryError': <class 'MemoryError'>, 'BufferError': <class 'BufferError'>, 'Warning': <class 'Warning'>, 'UserWarning': <class 'UserWarning'>, 'DeprecationWarning': <class 'DeprecationWarning'>, 'PendingDeprecationWarning': <class 'PendingDeprecationWarning'>, 'SyntaxWarning': <class 'SyntaxWarning'>, 'RuntimeWarning': <class 'RuntimeWarning'>, 'FutureWarning': <class 'FutureWarning'>, 'ImportWarning': <class 'ImportWarning'>, 'UnicodeWarning': <class 'UnicodeWarning'>, 'BytesWarning': <class 'BytesWarning'>, 'ResourceWarning': <class 'ResourceWarning'>, 'ConnectionError': <class 'ConnectionError'>, 'BlockingIOError': <class 'BlockingIOError'>, 'BrokenPipeError': <class 'BrokenPipeError'>, 'ChildProcessError': <class 'ChildProcessError'>, 'ConnectionAbortedError': <class 'ConnectionAbortedError'>, 'ConnectionRefusedError': <class 'ConnectionRefusedError'>, 'ConnectionResetError': <class 'ConnectionResetError'>, 'FileExistsError': <class 'FileExistsError'>, 'FileNotFoundError': <class 'FileNotFoundError'>, 'IsADirectoryError': <class 'IsADirectoryError'>, 'NotADirectoryError': <class 'NotADirectoryError'>, 'InterruptedError': <class 'InterruptedError'>, 'PermissionError': <class 'PermissionError'>, 'ProcessLookupError': <class 'ProcessLookupError'>, 'TimeoutError': <class 'TimeoutError'>, 'open': <built-in function open>, 'copyright': Copyright (c) 2001-2019 Python Software Foundation.\n",
       " All Rights Reserved.\n",
       " \n",
       " Copyright (c) 2000 BeOpen.com.\n",
       " All Rights Reserved.\n",
       " \n",
       " Copyright (c) 1995-2001 Corporation for National Research Initiatives.\n",
       " All Rights Reserved.\n",
       " \n",
       " Copyright (c) 1991-1995 Stichting Mathematisch Centrum, Amsterdam.\n",
       " All Rights Reserved., 'credits':     Thanks to CWI, CNRI, BeOpen.com, Zope Corporation and a cast of thousands\n",
       "     for supporting Python development.  See www.python.org for more information., 'license': Type license() to see the full license text, 'help': Type help() for interactive help, or help(object) for help about object., '__IPYTHON__': True, 'display': <function display at 0x7fd6fee21200>, 'get_ipython': <bound method InteractiveShell.get_ipython of <ipykernel.zmqshell.ZMQInteractiveShell object at 0x7fd6f629f210>>}, '_i3': 'a = {1:1, 2:2}', 'a': {}, '_i4': 'a.pop()', '_i5': 'a.popitem()', '_5': (2, 2), '_i6': 'a', '_6': {1: None, 2: 1, 3: []}, '_i7': 'a.pop(1)', '_7': 1, '_i8': 'a', '_8': {1: None, 2: 1, 3: []}, '_i9': 'a.pop(1)', '_i10': 'a.setdefault(1)', '_i11': 'a', '_11': {1: None, 2: 1, 3: []}, '_i12': 'a.setdefault(2, 1)', '_12': 1, '_i13': 'a', '_13': {1: None, 2: 1, 3: []}, '_i14': 'a.setdefault(1, [])', '_i15': 'a', '_15': {1: None, 2: 1, 3: []}, '_i16': 'a.setdefault(3, [])', '_16': [], '_i17': 'a', '_17': {1: None, 2: 1, 3: []}, '_i18': 'a.setdefault(3, [], 2)', '_i19': 'a.setdefault(3, [])', '_19': [], '_i20': 'a', '_20': {1: None, 2: 1, 3: []}, '_i21': 'from collections import Mapping', 'Mapping': <class 'collections.abc.Mapping'>, '_i22': 'from collections.abc import Mapping', '_i23': 'help(Mapping)', '_i24': 'a = Mapping()', '_i25': \"class TestMapping(Mapping):\\n    def __getitem__(self):\\n        return ''\\n    \\n    def __iter__(self):\\n        return ''\\n    \\n    def __len__(self):\\n        return 0\", 'TestMapping': <class '__main__.TestMapping'>, '_i26': 'a = TestMapping()', '_i27': 'a', '_27': <__main__.TestMapping object at 0x7fd6f41384d0>, '_i28': 'a[1] = 1', '_i29': 'a.items()', '_29': ItemsView(<__main__.TestMapping object at 0x7fd6f41384d0>), '_i30': 'list(a.items())', '_i31': 'a = [1, 2]\\nb = [3,4]', 'b': {2: 2}, '_i32': \"for ab in (f'{a} : {b}' for a, b in zip(a, b)):\\n    print(ab)\", 'ab': '2 : 4', '_i33': \"for c in (f'{x} : {y}' for x in a for y in b):\\n    print(c)\", 'c': {3: 3}, '_i34': 'a = {1:1, 2:2}', '_i35': 'b = a', '_i36': 'a[1] = 2', '_i37': 'b', '_37': {1: 2, 2: 2}, '_i38': 'a', '_38': {1: 2, 2: 2}, '_i39': 'a = {1:1, 2:2}', '_i40': 'b = a.copy()', '_i41': 'b', '_41': {1: 2, 2: 2}, '_i42': 'b[1] = 2', '_i43': 'b', '_43': {1: 2, 2: 2}, '_i44': '1', '_44': 1, '_i45': 'a', '_45': {1: 1, 2: 2}, '_i46': 'from copy import copy', 'copy': <function copy at 0x7fd6feeaa3b0>, '_i47': 'a = copy(b)', '_i48': 'a', '_48': {1: 3, 2: 2}, '_i49': 'b', '_49': {1: 2, 2: 2}, '_i50': 'a[1] = 3', '_i51': 'b', '_51': {1: 2, 2: 2}, '_i52': 'a', '_52': {1: 3, 2: 2}, '_i53': 'a = {1:[1, 2], 2: [1, 2]}', '_i54': 'b = copy(a)', '_i55': 'a', '_55': {2: [1, 2]}, '_i56': 'b', '_56': {1: [1, 2, 3, 4], 2: [1, 2]}, '_i57': 'b[1].append(3)', '_i58': 'a', '_58': {2: [1, 2]}, '_i59': 'b', '_59': {1: [1, 2, 3, 4], 2: [1, 2]}, '_i60': 'from copy import deepcopy', 'deepcopy': <function deepcopy at 0x7fd6feeaad40>, '_i61': 'b = deepcopy(a)', '_i62': 'b', '_62': {1: [1, 2, 3], 2: [1, 2]}, '_i63': 'a', '_63': {2: [1, 2]}, '_i64': 'a[1].append(4)', '_i65': 'a', '_65': {2: [1, 2]}, '_i66': 'b', '_66': {1: [1, 2, 3], 2: [1, 2]}, '_i67': 'a in b', '_i68': '1 in b', '_68': True, '_i69': 'del a[1]', '_i70': 'a', '_70': {2: [1, 2]}, '_i71': 'b', '_71': {1: [1, 2, 3], 2: [1, 2]}, '_i72': \"a = {'a':[11, 22], 'A': [33, 44], 'C': [55, 66]}\", '_i73': 'b = sorted(a, key=str.upper)', '_i74': 'b', '_74': ['a', 'A', 'C'], '_i75': \"class ComportDict(Dict):\\n    def __missing__(self):\\n        return 'a'\", '_i76': \"class ComportDict(dict):\\n    def __missing__(self):\\n        return 'a'\", 'ComportDict': <class '__main__.ComportDict'>, '_i77': 'aa = ComportDict()', 'aa': {1: 2}, '_i78': 'a[1] = 2', '_i79': 'a', '_79': {'a': [11, 22], 'A': [33, 44], 'C': [55, 66], 1: 2}, '_i80': 'aa[1] = 2', '_i81': 'aa', '_81': {1: 2}, '_i82': 'aa[2]', '_i83': 'class DefaultListDict(dict):\\n    def __missing__(self, key):\\n        self[key] = []\\n        return self[key]', 'DefaultListDict': <class '__main__.DefaultListDict'>, '_i84': 'aa = ComportDict()', '_i85': 'aa[1] = 2', '_i86': 'aa', '_86': {1: 2}, '_i87': 'aa[2]', '_i88': 'from collections import defaultdict', 'defaultdict': <class 'collections.defaultdict'>, '_i89': 'a = defaultdict(a)', '_i90': 'a = defaultdict(list)', '_i91': 'a.defaylt)factiry', '_i92': 'a.default_factory', '_92': <class 'list'>, '_i93': 'help(a)', '_i94': 'a = defaultdict(list)', '_i95': 'a = defaultdict(list)\\na[1] = [1, 2]\\na[2] = [3, 4]', '_i96': 'a = defaultdict(list)\\na[1] = [1, 2]\\na[2] = [3, 4]\\na[1]', '_96': [1, 2], '_i97': 'a[1]', '_97': [1, 2], '_i98': 'a[3]', '_98': [], '_i99': 'a', '_99': defaultdict(<class 'list'>, {1: [1, 2], 2: [3, 4], 3: []}), '_i100': 'a.default_factory', '_100': <class 'list'>, '_i101': 'class StrKeyDict0(dict):\\n    def __missing__(self, key):\\n        if isinstance(key, str):\\n            raise KeyError(Key)\\n        return self[str[key]]\\n    \\n    ', 'StrKeyDict0': <class '__main__.StrKeyDict0'>, '_i102': \"a = StrKeyDict0([('2', 'two'), ('4', 'four')])\", '_i103': 'a', '_103': {'2': 'two', '4': 'four'}, '_i104': 'a[2]', '_i105': 'class StrKeyDict0(dict):\\n    def __missing__(self, key):\\n        if isinstance(key, str):\\n            raise KeyError(Key)\\n        return self[str(key)]\\n    \\n    ', '_i106': \"a = StrKeyDict0([('2', 'two'), ('4', 'four')])\", '_i107': 'a', '_107': {'2': 'two', '4': 'four'}, '_i108': 'a[2]', '_108': 'two', '_i109': \"a['2]']\", '_i110': \"a['2']\", '_110': 'two', '_i111': 'a[1]', '_i112': 'class StrKeyDict0(dict):\\n    def __missing__(self, key):\\n        if isinstance(key, str):\\n            raise KeyError(key)\\n        return self[str(key)]\\n    \\n    ', '_i113': \"a = StrKeyDict0([('2', 'two'), ('4', 'four')])\", '_i114': 'a', '_114': {'2': 'two', '4': 'four'}, '_i115': 'a[2]', '_115': 'two', '_i116': \"a['2']\", '_116': 'two', '_i117': 'a[1]', '_i118': 'a.get(2)', '_i119': \"a.get('2')\", '_119': 'two', '_i120': 'class StrKeyDict0(dict):\\n    def __missing__(self, key):\\n        if isinstance(key, str):\\n            raise KeyError(key)\\n        return self[str(key)]\\n    \\n    def get(self, key, default=None):\\n        try:\\n            return self[key]\\n        except KeyError:\\n            return default\\n        \\n    \\n    ', '_i121': \"a = StrKeyDict0([('2', 'two'), ('4', 'four')])\", '_i122': 'a', '_122': {'2': 'two', '4': 'four'}, '_i123': 'a[2]', '_123': 'two', '_i124': \"a['2']\", '_124': 'two', '_i125': 'a[1]', '_i126': \"a.get('2')\", '_126': 'two', '_i127': 'a.get(2)', '_127': 'two', '_i128': 'class StrKeyDict0(dict):\\n    def __missing__(self, key):\\n        if isinstance(key, str):\\n            raise KeyError(key)\\n        return self[str(key)]\\n    \\n    def get(self, key, default=None):\\n        try:\\n            return self[key]\\n        except KeyError:\\n            return default\\n        \\n    def __contains__(self, key):\\n        return key in self.keys() or str(key) in self.keys()\\n        \\n    \\n    ', '_i129': 'import builtins\\nfrom collections import ChainMap\\n\\npylookup = ChainMap(locals(), globals(), vars(builtins))', 'builtins': <module 'builtins' (built-in)>, 'ChainMap': <class 'collections.ChainMap'>, 'pylookup': ..., '_i130': 'pylookup', '_130': ..., '_i131': 'a = {1:1}\\nb = {2:2}\\nc = {3:3}', '_i132': 'chain = ChainMap(a, b, c)', 'chain': ChainMap({}, {2: 2}, {3: 3}), '_i133': 'chain', '_133': ChainMap({}, {2: 2}, {3: 3}), '_i134': 'chain[1]', '_134': 1, '_i135': 'chain.items()', '_135': ItemsView(ChainMap({}, {2: 2}, {3: 3})), '_i136': 'list(chain.items())', '_136': [(3, 3), (2, 2), (1, 1)], '_i137': 'chain.pop(1)', '_137': 1, '_i138': 'a', '_138': {}, '_i139': 'a and b', '_139': {}, '_i140': 'a or b', '_140': {2: 2}, '_i141': 'a and b and c', '_141': {}, '_i142': 'locals()'}, {'__name__': 'builtins', '__doc__': \"Built-in functions, exceptions, and other objects.\\n\\nNoteworthy: None is the `nil' object; Ellipsis represents `...' in slices.\", '__package__': '', '__loader__': <class '_frozen_importlib.BuiltinImporter'>, '__spec__': ModuleSpec(name='builtins', loader=<class '_frozen_importlib.BuiltinImporter'>), '__build_class__': <built-in function __build_class__>, '__import__': <built-in function __import__>, 'abs': <built-in function abs>, 'all': <built-in function all>, 'any': <built-in function any>, 'ascii': <built-in function ascii>, 'bin': <built-in function bin>, 'breakpoint': <built-in function breakpoint>, 'callable': <built-in function callable>, 'chr': <built-in function chr>, 'compile': <built-in function compile>, 'delattr': <built-in function delattr>, 'dir': <built-in function dir>, 'divmod': <built-in function divmod>, 'eval': <built-in function eval>, 'exec': <built-in function exec>, 'format': <built-in function format>, 'getattr': <built-in function getattr>, 'globals': <built-in function globals>, 'hasattr': <built-in function hasattr>, 'hash': <built-in function hash>, 'hex': <built-in function hex>, 'id': <built-in function id>, 'input': <bound method Kernel.raw_input of <ipykernel.ipkernel.IPythonKernel object at 0x7fd6f62ba850>>, 'isinstance': <built-in function isinstance>, 'issubclass': <built-in function issubclass>, 'iter': <built-in function iter>, 'len': <built-in function len>, 'locals': <built-in function locals>, 'max': <built-in function max>, 'min': <built-in function min>, 'next': <built-in function next>, 'oct': <built-in function oct>, 'ord': <built-in function ord>, 'pow': <built-in function pow>, 'print': <built-in function print>, 'repr': <built-in function repr>, 'round': <built-in function round>, 'setattr': <built-in function setattr>, 'sorted': <built-in function sorted>, 'sum': <built-in function sum>, 'vars': <built-in function vars>, 'None': None, 'Ellipsis': Ellipsis, 'NotImplemented': NotImplemented, 'False': False, 'True': True, 'bool': <class 'bool'>, 'memoryview': <class 'memoryview'>, 'bytearray': <class 'bytearray'>, 'bytes': <class 'bytes'>, 'classmethod': <class 'classmethod'>, 'complex': <class 'complex'>, 'dict': <class 'dict'>, 'enumerate': <class 'enumerate'>, 'filter': <class 'filter'>, 'float': <class 'float'>, 'frozenset': <class 'frozenset'>, 'property': <class 'property'>, 'int': <class 'int'>, 'list': <class 'list'>, 'map': <class 'map'>, 'object': <class 'object'>, 'range': <class 'range'>, 'reversed': <class 'reversed'>, 'set': <class 'set'>, 'slice': <class 'slice'>, 'staticmethod': <class 'staticmethod'>, 'str': <class 'str'>, 'super': <class 'super'>, 'tuple': <class 'tuple'>, 'type': <class 'type'>, 'zip': <class 'zip'>, '__debug__': True, 'BaseException': <class 'BaseException'>, 'Exception': <class 'Exception'>, 'TypeError': <class 'TypeError'>, 'StopAsyncIteration': <class 'StopAsyncIteration'>, 'StopIteration': <class 'StopIteration'>, 'GeneratorExit': <class 'GeneratorExit'>, 'SystemExit': <class 'SystemExit'>, 'KeyboardInterrupt': <class 'KeyboardInterrupt'>, 'ImportError': <class 'ImportError'>, 'ModuleNotFoundError': <class 'ModuleNotFoundError'>, 'OSError': <class 'OSError'>, 'EnvironmentError': <class 'OSError'>, 'IOError': <class 'OSError'>, 'EOFError': <class 'EOFError'>, 'RuntimeError': <class 'RuntimeError'>, 'RecursionError': <class 'RecursionError'>, 'NotImplementedError': <class 'NotImplementedError'>, 'NameError': <class 'NameError'>, 'UnboundLocalError': <class 'UnboundLocalError'>, 'AttributeError': <class 'AttributeError'>, 'SyntaxError': <class 'SyntaxError'>, 'IndentationError': <class 'IndentationError'>, 'TabError': <class 'TabError'>, 'LookupError': <class 'LookupError'>, 'IndexError': <class 'IndexError'>, 'KeyError': <class 'KeyError'>, 'ValueError': <class 'ValueError'>, 'UnicodeError': <class 'UnicodeError'>, 'UnicodeEncodeError': <class 'UnicodeEncodeError'>, 'UnicodeDecodeError': <class 'UnicodeDecodeError'>, 'UnicodeTranslateError': <class 'UnicodeTranslateError'>, 'AssertionError': <class 'AssertionError'>, 'ArithmeticError': <class 'ArithmeticError'>, 'FloatingPointError': <class 'FloatingPointError'>, 'OverflowError': <class 'OverflowError'>, 'ZeroDivisionError': <class 'ZeroDivisionError'>, 'SystemError': <class 'SystemError'>, 'ReferenceError': <class 'ReferenceError'>, 'MemoryError': <class 'MemoryError'>, 'BufferError': <class 'BufferError'>, 'Warning': <class 'Warning'>, 'UserWarning': <class 'UserWarning'>, 'DeprecationWarning': <class 'DeprecationWarning'>, 'PendingDeprecationWarning': <class 'PendingDeprecationWarning'>, 'SyntaxWarning': <class 'SyntaxWarning'>, 'RuntimeWarning': <class 'RuntimeWarning'>, 'FutureWarning': <class 'FutureWarning'>, 'ImportWarning': <class 'ImportWarning'>, 'UnicodeWarning': <class 'UnicodeWarning'>, 'BytesWarning': <class 'BytesWarning'>, 'ResourceWarning': <class 'ResourceWarning'>, 'ConnectionError': <class 'ConnectionError'>, 'BlockingIOError': <class 'BlockingIOError'>, 'BrokenPipeError': <class 'BrokenPipeError'>, 'ChildProcessError': <class 'ChildProcessError'>, 'ConnectionAbortedError': <class 'ConnectionAbortedError'>, 'ConnectionRefusedError': <class 'ConnectionRefusedError'>, 'ConnectionResetError': <class 'ConnectionResetError'>, 'FileExistsError': <class 'FileExistsError'>, 'FileNotFoundError': <class 'FileNotFoundError'>, 'IsADirectoryError': <class 'IsADirectoryError'>, 'NotADirectoryError': <class 'NotADirectoryError'>, 'InterruptedError': <class 'InterruptedError'>, 'PermissionError': <class 'PermissionError'>, 'ProcessLookupError': <class 'ProcessLookupError'>, 'TimeoutError': <class 'TimeoutError'>, 'open': <built-in function open>, 'copyright': Copyright (c) 2001-2019 Python Software Foundation.\n",
       " All Rights Reserved.\n",
       " \n",
       " Copyright (c) 2000 BeOpen.com.\n",
       " All Rights Reserved.\n",
       " \n",
       " Copyright (c) 1995-2001 Corporation for National Research Initiatives.\n",
       " All Rights Reserved.\n",
       " \n",
       " Copyright (c) 1991-1995 Stichting Mathematisch Centrum, Amsterdam.\n",
       " All Rights Reserved., 'credits':     Thanks to CWI, CNRI, BeOpen.com, Zope Corporation and a cast of thousands\n",
       "     for supporting Python development.  See www.python.org for more information., 'license': Type license() to see the full license text, 'help': Type help() for interactive help, or help(object) for help about object., '__IPYTHON__': True, 'display': <function display at 0x7fd6fee21200>, 'get_ipython': <bound method InteractiveShell.get_ipython of <ipykernel.zmqshell.ZMQInteractiveShell object at 0x7fd6f629f210>>}),\n",
       " '_i131': 'a = {1:1}\\nb = {2:2}\\nc = {3:3}',\n",
       " '_i132': 'chain = ChainMap(a, b, c)',\n",
       " 'chain': ChainMap({}, {2: 2}, {3: 3}),\n",
       " '_i133': 'chain',\n",
       " '_133': ChainMap({}, {2: 2}, {3: 3}),\n",
       " '_i134': 'chain[1]',\n",
       " '_134': 1,\n",
       " '_i135': 'chain.items()',\n",
       " '_135': ItemsView(ChainMap({}, {2: 2}, {3: 3})),\n",
       " '_i136': 'list(chain.items())',\n",
       " '_136': [(3, 3), (2, 2), (1, 1)],\n",
       " '_i137': 'chain.pop(1)',\n",
       " '_137': 1,\n",
       " '_i138': 'a',\n",
       " '_138': {},\n",
       " '_i139': 'a and b',\n",
       " '_139': {},\n",
       " '_i140': 'a or b',\n",
       " '_140': {2: 2},\n",
       " '_i141': 'a and b and c',\n",
       " '_141': {},\n",
       " '_i142': 'locals()'}"
      ]
     },
     "execution_count": 142,
     "metadata": {},
     "output_type": "execute_result"
    }
   ],
   "source": [
    "locals()"
   ]
  },
  {
   "cell_type": "code",
   "execution_count": 143,
   "metadata": {},
   "outputs": [],
   "source": [
    "from collections import Counter"
   ]
  },
  {
   "cell_type": "code",
   "execution_count": 146,
   "metadata": {},
   "outputs": [],
   "source": [
    "a = Counter(b)"
   ]
  },
  {
   "cell_type": "code",
   "execution_count": 147,
   "metadata": {},
   "outputs": [
    {
     "data": {
      "text/plain": [
       "Counter({2: 2})"
      ]
     },
     "execution_count": 147,
     "metadata": {},
     "output_type": "execute_result"
    }
   ],
   "source": [
    "a"
   ]
  },
  {
   "cell_type": "code",
   "execution_count": 148,
   "metadata": {},
   "outputs": [
    {
     "data": {
      "text/plain": [
       "2"
      ]
     },
     "execution_count": 148,
     "metadata": {},
     "output_type": "execute_result"
    }
   ],
   "source": [
    "a[2]"
   ]
  },
  {
   "cell_type": "code",
   "execution_count": 149,
   "metadata": {},
   "outputs": [
    {
     "data": {
      "text/plain": [
       "Counter({2: 2})"
      ]
     },
     "execution_count": 149,
     "metadata": {},
     "output_type": "execute_result"
    }
   ],
   "source": [
    "a"
   ]
  },
  {
   "cell_type": "code",
   "execution_count": 150,
   "metadata": {},
   "outputs": [],
   "source": [
    "a[2]= 1"
   ]
  },
  {
   "cell_type": "code",
   "execution_count": 151,
   "metadata": {},
   "outputs": [
    {
     "data": {
      "text/plain": [
       "Counter({2: 1})"
      ]
     },
     "execution_count": 151,
     "metadata": {},
     "output_type": "execute_result"
    }
   ],
   "source": [
    "a"
   ]
  },
  {
   "cell_type": "code",
   "execution_count": 153,
   "metadata": {},
   "outputs": [],
   "source": [
    "a.update([2, 1, 3])"
   ]
  },
  {
   "cell_type": "code",
   "execution_count": 154,
   "metadata": {},
   "outputs": [
    {
     "data": {
      "text/plain": [
       "Counter({2: 2, 1: 1, 3: 1})"
      ]
     },
     "execution_count": 154,
     "metadata": {},
     "output_type": "execute_result"
    }
   ],
   "source": [
    "a"
   ]
  },
  {
   "cell_type": "code",
   "execution_count": 155,
   "metadata": {},
   "outputs": [],
   "source": [
    "from collections import OrderedDict"
   ]
  },
  {
   "cell_type": "code",
   "execution_count": 157,
   "metadata": {},
   "outputs": [],
   "source": [
    "a = OrderedDict(b)"
   ]
  },
  {
   "cell_type": "code",
   "execution_count": 158,
   "metadata": {},
   "outputs": [
    {
     "data": {
      "text/plain": [
       "OrderedDict([(2, 2)])"
      ]
     },
     "execution_count": 158,
     "metadata": {},
     "output_type": "execute_result"
    }
   ],
   "source": [
    "a"
   ]
  },
  {
   "cell_type": "code",
   "execution_count": 159,
   "metadata": {},
   "outputs": [],
   "source": [
    "a[1] = 1"
   ]
  },
  {
   "cell_type": "code",
   "execution_count": 160,
   "metadata": {},
   "outputs": [
    {
     "data": {
      "text/plain": [
       "OrderedDict([(2, 2), (1, 1)])"
      ]
     },
     "execution_count": 160,
     "metadata": {},
     "output_type": "execute_result"
    }
   ],
   "source": [
    "a"
   ]
  },
  {
   "cell_type": "code",
   "execution_count": 161,
   "metadata": {},
   "outputs": [
    {
     "data": {
      "text/plain": [
       "(1, 1)"
      ]
     },
     "execution_count": 161,
     "metadata": {},
     "output_type": "execute_result"
    }
   ],
   "source": [
    "a.popitem()"
   ]
  },
  {
   "cell_type": "code",
   "execution_count": 164,
   "metadata": {},
   "outputs": [],
   "source": [
    "a[1] = 1"
   ]
  },
  {
   "cell_type": "code",
   "execution_count": 165,
   "metadata": {},
   "outputs": [
    {
     "data": {
      "text/plain": [
       "(2, 2)"
      ]
     },
     "execution_count": 165,
     "metadata": {},
     "output_type": "execute_result"
    }
   ],
   "source": [
    "a.popitem(last=False)"
   ]
  },
  {
   "cell_type": "code",
   "execution_count": 166,
   "metadata": {},
   "outputs": [
    {
     "data": {
      "text/plain": [
       "Counter({'a': 4, 'b': 2, 'c': 2})"
      ]
     },
     "execution_count": 166,
     "metadata": {},
     "output_type": "execute_result"
    }
   ],
   "source": [
    "c = Counter('aaaabbcc')\n",
    "c"
   ]
  },
  {
   "cell_type": "code",
   "execution_count": 167,
   "metadata": {},
   "outputs": [],
   "source": [
    "c.update('aaab')"
   ]
  },
  {
   "cell_type": "code",
   "execution_count": 168,
   "metadata": {},
   "outputs": [
    {
     "data": {
      "text/plain": [
       "Counter({'a': 7, 'b': 3, 'c': 2})"
      ]
     },
     "execution_count": 168,
     "metadata": {},
     "output_type": "execute_result"
    }
   ],
   "source": [
    "c"
   ]
  },
  {
   "cell_type": "code",
   "execution_count": 169,
   "metadata": {},
   "outputs": [],
   "source": [
    "b = Counter('ccddde')"
   ]
  },
  {
   "cell_type": "code",
   "execution_count": 170,
   "metadata": {},
   "outputs": [
    {
     "data": {
      "text/plain": [
       "Counter({'c': 2, 'd': 3, 'e': 1})"
      ]
     },
     "execution_count": 170,
     "metadata": {},
     "output_type": "execute_result"
    }
   ],
   "source": [
    "b"
   ]
  },
  {
   "cell_type": "code",
   "execution_count": 171,
   "metadata": {},
   "outputs": [],
   "source": [
    "d = c + b"
   ]
  },
  {
   "cell_type": "code",
   "execution_count": 172,
   "metadata": {},
   "outputs": [
    {
     "data": {
      "text/plain": [
       "Counter({'a': 7, 'b': 3, 'c': 4, 'd': 3, 'e': 1})"
      ]
     },
     "execution_count": 172,
     "metadata": {},
     "output_type": "execute_result"
    }
   ],
   "source": [
    "d"
   ]
  },
  {
   "cell_type": "code",
   "execution_count": 173,
   "metadata": {},
   "outputs": [],
   "source": [
    "import collections"
   ]
  },
  {
   "cell_type": "code",
   "execution_count": 176,
   "metadata": {},
   "outputs": [],
   "source": [
    "class StrKeyDict(collections.UserDict):\n",
    "    def __missing__(self, key):\n",
    "        if isinstance(key, str):\n",
    "            raise KeyError(key)\n",
    "        return self[str(key)]\n",
    "    \n",
    "    # self.data 에 dict 형으로 값들이 들어있다\n",
    "    def __contains__(self, key):\n",
    "        return str(key) in self.data\n",
    "    \n",
    "    # 키 값을 매핑할 때 키를 str 형으로 변환해서 매핑한다\n",
    "    def __setitem__(self, key, item):\n",
    "        self.data[str(key)] = item"
   ]
  },
  {
   "cell_type": "code",
   "execution_count": 178,
   "metadata": {},
   "outputs": [],
   "source": [
    "a = StrKeyDict([(1,'one'), ('2','two'), (3,'three')])"
   ]
  },
  {
   "cell_type": "code",
   "execution_count": 179,
   "metadata": {},
   "outputs": [
    {
     "data": {
      "text/plain": [
       "{'1': 'one', '2': 'two', '3': 'three'}"
      ]
     },
     "execution_count": 179,
     "metadata": {},
     "output_type": "execute_result"
    }
   ],
   "source": [
    "a"
   ]
  },
  {
   "cell_type": "code",
   "execution_count": 180,
   "metadata": {},
   "outputs": [],
   "source": [
    "a[4] = 'four'"
   ]
  },
  {
   "cell_type": "code",
   "execution_count": 181,
   "metadata": {},
   "outputs": [
    {
     "data": {
      "text/plain": [
       "'four'"
      ]
     },
     "execution_count": 181,
     "metadata": {},
     "output_type": "execute_result"
    }
   ],
   "source": [
    "a[4]"
   ]
  },
  {
   "cell_type": "code",
   "execution_count": 182,
   "metadata": {},
   "outputs": [
    {
     "data": {
      "text/plain": [
       "'four'"
      ]
     },
     "execution_count": 182,
     "metadata": {},
     "output_type": "execute_result"
    }
   ],
   "source": [
    "a['4']"
   ]
  },
  {
   "cell_type": "code",
   "execution_count": 183,
   "metadata": {},
   "outputs": [
    {
     "data": {
      "text/plain": [
       "{'1': 'one', '2': 'two', '3': 'three', '4': 'four'}"
      ]
     },
     "execution_count": 183,
     "metadata": {},
     "output_type": "execute_result"
    }
   ],
   "source": [
    "a.data"
   ]
  },
  {
   "cell_type": "code",
   "execution_count": 184,
   "metadata": {},
   "outputs": [
    {
     "data": {
      "text/plain": [
       "dict"
      ]
     },
     "execution_count": 184,
     "metadata": {},
     "output_type": "execute_result"
    }
   ],
   "source": [
    "type(a.data)"
   ]
  },
  {
   "cell_type": "code",
   "execution_count": 185,
   "metadata": {},
   "outputs": [],
   "source": [
    "from types import MappingProxyType"
   ]
  },
  {
   "cell_type": "code",
   "execution_count": 186,
   "metadata": {},
   "outputs": [],
   "source": [
    "d = {1: 'A'}"
   ]
  },
  {
   "cell_type": "code",
   "execution_count": 187,
   "metadata": {},
   "outputs": [],
   "source": [
    "d_proxy = MappingProxyType(d)"
   ]
  },
  {
   "cell_type": "code",
   "execution_count": 188,
   "metadata": {},
   "outputs": [
    {
     "data": {
      "text/plain": [
       "mappingproxy({1: 'A'})"
      ]
     },
     "execution_count": 188,
     "metadata": {},
     "output_type": "execute_result"
    }
   ],
   "source": [
    "d_proxy"
   ]
  },
  {
   "cell_type": "code",
   "execution_count": 190,
   "metadata": {},
   "outputs": [
    {
     "ename": "TypeError",
     "evalue": "'mappingproxy' object does not support item assignment",
     "output_type": "error",
     "traceback": [
      "\u001b[0;31m---------------------------------------------------------------------------\u001b[0m",
      "\u001b[0;31mTypeError\u001b[0m                                 Traceback (most recent call last)",
      "\u001b[0;32m<ipython-input-190-26be05617dad>\u001b[0m in \u001b[0;36m<module>\u001b[0;34m\u001b[0m\n\u001b[0;32m----> 1\u001b[0;31m \u001b[0md_proxy\u001b[0m\u001b[0;34m[\u001b[0m\u001b[0;36m1\u001b[0m\u001b[0;34m]\u001b[0m \u001b[0;34m=\u001b[0m \u001b[0;36m1\u001b[0m\u001b[0;34m\u001b[0m\u001b[0;34m\u001b[0m\u001b[0m\n\u001b[0m",
      "\u001b[0;31mTypeError\u001b[0m: 'mappingproxy' object does not support item assignment"
     ]
    }
   ],
   "source": [
    "d_proxy[1] = 1"
   ]
  },
  {
   "cell_type": "code",
   "execution_count": 191,
   "metadata": {},
   "outputs": [
    {
     "ename": "TypeError",
     "evalue": "unhashable type: 'set'",
     "output_type": "error",
     "traceback": [
      "\u001b[0;31m---------------------------------------------------------------------------\u001b[0m",
      "\u001b[0;31mTypeError\u001b[0m                                 Traceback (most recent call last)",
      "\u001b[0;32m<ipython-input-191-42051ea12b27>\u001b[0m in \u001b[0;36m<module>\u001b[0;34m\u001b[0m\n\u001b[0;32m----> 1\u001b[0;31m \u001b[0mhash\u001b[0m\u001b[0;34m(\u001b[0m\u001b[0;34m{\u001b[0m\u001b[0;36m1\u001b[0m\u001b[0;34m,\u001b[0m \u001b[0;36m2\u001b[0m\u001b[0;34m}\u001b[0m\u001b[0;34m)\u001b[0m\u001b[0;34m\u001b[0m\u001b[0;34m\u001b[0m\u001b[0m\n\u001b[0m",
      "\u001b[0;31mTypeError\u001b[0m: unhashable type: 'set'"
     ]
    }
   ],
   "source": [
    "hash({1, 2})"
   ]
  },
  {
   "cell_type": "code",
   "execution_count": 194,
   "metadata": {},
   "outputs": [
    {
     "data": {
      "text/plain": [
       "-1826646154956904602"
      ]
     },
     "execution_count": 194,
     "metadata": {},
     "output_type": "execute_result"
    }
   ],
   "source": [
    "hash(frozenset([1, 2]))"
   ]
  },
  {
   "cell_type": "code",
   "execution_count": 196,
   "metadata": {},
   "outputs": [
    {
     "data": {
      "text/plain": [
       "frozenset({0, 1, 2, 3, 4, 5, 6, 7, 8, 9})"
      ]
     },
     "execution_count": 196,
     "metadata": {},
     "output_type": "execute_result"
    }
   ],
   "source": [
    "frozenset(x for x in range(10))"
   ]
  },
  {
   "cell_type": "code",
   "execution_count": 197,
   "metadata": {},
   "outputs": [
    {
     "ename": "TypeError",
     "evalue": "unhashable type: 'list'",
     "output_type": "error",
     "traceback": [
      "\u001b[0;31m---------------------------------------------------------------------------\u001b[0m",
      "\u001b[0;31mTypeError\u001b[0m                                 Traceback (most recent call last)",
      "\u001b[0;32m<ipython-input-197-02e9735e6944>\u001b[0m in \u001b[0;36m<module>\u001b[0;34m\u001b[0m\n\u001b[0;32m----> 1\u001b[0;31m \u001b[0mfrozenset\u001b[0m\u001b[0;34m(\u001b[0m\u001b[0;34m[\u001b[0m\u001b[0;34m[\u001b[0m\u001b[0;36m1\u001b[0m\u001b[0;34m,\u001b[0m\u001b[0;36m2\u001b[0m\u001b[0;34m]\u001b[0m\u001b[0;34m]\u001b[0m\u001b[0;34m)\u001b[0m\u001b[0;34m\u001b[0m\u001b[0;34m\u001b[0m\u001b[0m\n\u001b[0m",
      "\u001b[0;31mTypeError\u001b[0m: unhashable type: 'list'"
     ]
    }
   ],
   "source": [
    "frozenset([[1,2]])"
   ]
  },
  {
   "cell_type": "code",
   "execution_count": 198,
   "metadata": {},
   "outputs": [],
   "source": [
    "a = frozenset([1,2])\n",
    "b = frozenset([3, 4])"
   ]
  },
  {
   "cell_type": "code",
   "execution_count": 199,
   "metadata": {},
   "outputs": [],
   "source": [
    "c = a | b"
   ]
  },
  {
   "cell_type": "code",
   "execution_count": 200,
   "metadata": {},
   "outputs": [
    {
     "data": {
      "text/plain": [
       "frozenset({1, 2, 3, 4})"
      ]
     },
     "execution_count": 200,
     "metadata": {},
     "output_type": "execute_result"
    }
   ],
   "source": [
    "c"
   ]
  },
  {
   "cell_type": "code",
   "execution_count": 201,
   "metadata": {},
   "outputs": [],
   "source": [
    "c = a - b"
   ]
  },
  {
   "cell_type": "code",
   "execution_count": 202,
   "metadata": {},
   "outputs": [
    {
     "data": {
      "text/plain": [
       "frozenset({1, 2})"
      ]
     },
     "execution_count": 202,
     "metadata": {},
     "output_type": "execute_result"
    }
   ],
   "source": [
    "c"
   ]
  },
  {
   "cell_type": "code",
   "execution_count": 203,
   "metadata": {},
   "outputs": [
    {
     "data": {
      "text/plain": [
       "frozenset({1, 2, 3, 4})"
      ]
     },
     "execution_count": 203,
     "metadata": {},
     "output_type": "execute_result"
    }
   ],
   "source": [
    "a.union(b)"
   ]
  },
  {
   "cell_type": "code",
   "execution_count": 204,
   "metadata": {},
   "outputs": [
    {
     "data": {
      "text/plain": [
       "frozenset({1, 2})"
      ]
     },
     "execution_count": 204,
     "metadata": {},
     "output_type": "execute_result"
    }
   ],
   "source": [
    "a"
   ]
  },
  {
   "cell_type": "code",
   "execution_count": 206,
   "metadata": {},
   "outputs": [
    {
     "data": {
      "text/plain": [
       "True"
      ]
     },
     "execution_count": 206,
     "metadata": {},
     "output_type": "execute_result"
    }
   ],
   "source": [
    "a.issubset({1, 2, 3})"
   ]
  },
  {
   "cell_type": "code",
   "execution_count": 207,
   "metadata": {},
   "outputs": [
    {
     "data": {
      "text/plain": [
       "True"
      ]
     },
     "execution_count": 207,
     "metadata": {},
     "output_type": "execute_result"
    }
   ],
   "source": [
    "a.issuperset({1})"
   ]
  },
  {
   "cell_type": "code",
   "execution_count": 208,
   "metadata": {},
   "outputs": [],
   "source": [
    "c = set(a)"
   ]
  },
  {
   "cell_type": "code",
   "execution_count": 209,
   "metadata": {},
   "outputs": [
    {
     "data": {
      "text/plain": [
       "{1, 2}"
      ]
     },
     "execution_count": 209,
     "metadata": {},
     "output_type": "execute_result"
    }
   ],
   "source": [
    "c"
   ]
  },
  {
   "cell_type": "code",
   "execution_count": 210,
   "metadata": {},
   "outputs": [
    {
     "ename": "TypeError",
     "evalue": "unhashable type: 'set'",
     "output_type": "error",
     "traceback": [
      "\u001b[0;31m---------------------------------------------------------------------------\u001b[0m",
      "\u001b[0;31mTypeError\u001b[0m                                 Traceback (most recent call last)",
      "\u001b[0;32m<ipython-input-210-254e92622ba4>\u001b[0m in \u001b[0;36m<module>\u001b[0;34m\u001b[0m\n\u001b[0;32m----> 1\u001b[0;31m \u001b[0ma\u001b[0m \u001b[0;34m=\u001b[0m \u001b[0;34m{\u001b[0m\u001b[0;34m{\u001b[0m\u001b[0;36m1\u001b[0m\u001b[0;34m}\u001b[0m\u001b[0;34m}\u001b[0m\u001b[0;34m\u001b[0m\u001b[0;34m\u001b[0m\u001b[0m\n\u001b[0m",
      "\u001b[0;31mTypeError\u001b[0m: unhashable type: 'set'"
     ]
    }
   ],
   "source": [
    "a = {{1}}"
   ]
  },
  {
   "cell_type": "code",
   "execution_count": 211,
   "metadata": {},
   "outputs": [],
   "source": [
    "from dis import dis"
   ]
  },
  {
   "cell_type": "code",
   "execution_count": 212,
   "metadata": {},
   "outputs": [
    {
     "name": "stdout",
     "output_type": "stream",
     "text": [
      "  1           0 LOAD_CONST               0 (1)\n",
      "              2 BUILD_SET                1\n",
      "              4 RETURN_VALUE\n"
     ]
    }
   ],
   "source": [
    "dis('{1}')"
   ]
  },
  {
   "cell_type": "code",
   "execution_count": 213,
   "metadata": {},
   "outputs": [
    {
     "name": "stdout",
     "output_type": "stream",
     "text": [
      "  1           0 LOAD_NAME                0 (set)\n",
      "              2 LOAD_CONST               0 (1)\n",
      "              4 BUILD_LIST               1\n",
      "              6 CALL_FUNCTION            1\n",
      "              8 RETURN_VALUE\n"
     ]
    }
   ],
   "source": [
    "dis('set([1])')"
   ]
  },
  {
   "cell_type": "code",
   "execution_count": 214,
   "metadata": {},
   "outputs": [],
   "source": [
    "from unicodedata import name"
   ]
  },
  {
   "cell_type": "code",
   "execution_count": 225,
   "metadata": {},
   "outputs": [
    {
     "data": {
      "text/plain": [
       "'LATIN CAPITAL LETTER A'"
      ]
     },
     "execution_count": 225,
     "metadata": {},
     "output_type": "execute_result"
    }
   ],
   "source": [
    "name(chr(65))"
   ]
  },
  {
   "cell_type": "code",
   "execution_count": 223,
   "metadata": {},
   "outputs": [
    {
     "data": {
      "text/plain": [
       "['\\x00',\n",
       " '\\x01',\n",
       " '\\x02',\n",
       " '\\x03',\n",
       " '\\x04',\n",
       " '\\x05',\n",
       " '\\x06',\n",
       " '\\x07',\n",
       " '\\x08',\n",
       " '\\t',\n",
       " '\\n',\n",
       " '\\x0b',\n",
       " '\\x0c',\n",
       " '\\r',\n",
       " '\\x0e',\n",
       " '\\x0f',\n",
       " '\\x10',\n",
       " '\\x11',\n",
       " '\\x12',\n",
       " '\\x13',\n",
       " '\\x14',\n",
       " '\\x15',\n",
       " '\\x16',\n",
       " '\\x17',\n",
       " '\\x18',\n",
       " '\\x19',\n",
       " '\\x1a',\n",
       " '\\x1b',\n",
       " '\\x1c',\n",
       " '\\x1d',\n",
       " '\\x1e',\n",
       " '\\x1f',\n",
       " ' ',\n",
       " '!',\n",
       " '\"',\n",
       " '#',\n",
       " '$',\n",
       " '%',\n",
       " '&',\n",
       " \"'\",\n",
       " '(',\n",
       " ')',\n",
       " '*',\n",
       " '+',\n",
       " ',',\n",
       " '-',\n",
       " '.',\n",
       " '/',\n",
       " '0',\n",
       " '1',\n",
       " '2',\n",
       " '3',\n",
       " '4',\n",
       " '5',\n",
       " '6',\n",
       " '7',\n",
       " '8',\n",
       " '9',\n",
       " ':',\n",
       " ';',\n",
       " '<',\n",
       " '=',\n",
       " '>',\n",
       " '?',\n",
       " '@',\n",
       " 'A',\n",
       " 'B',\n",
       " 'C',\n",
       " 'D',\n",
       " 'E',\n",
       " 'F',\n",
       " 'G',\n",
       " 'H',\n",
       " 'I',\n",
       " 'J',\n",
       " 'K',\n",
       " 'L',\n",
       " 'M',\n",
       " 'N',\n",
       " 'O',\n",
       " 'P',\n",
       " 'Q',\n",
       " 'R',\n",
       " 'S',\n",
       " 'T',\n",
       " 'U',\n",
       " 'V',\n",
       " 'W',\n",
       " 'X',\n",
       " 'Y',\n",
       " 'Z',\n",
       " '[',\n",
       " '\\\\',\n",
       " ']',\n",
       " '^',\n",
       " '_',\n",
       " '`',\n",
       " 'a',\n",
       " 'b',\n",
       " 'c',\n",
       " 'd',\n",
       " 'e',\n",
       " 'f',\n",
       " 'g',\n",
       " 'h',\n",
       " 'i',\n",
       " 'j',\n",
       " 'k',\n",
       " 'l',\n",
       " 'm',\n",
       " 'n',\n",
       " 'o',\n",
       " 'p',\n",
       " 'q',\n",
       " 'r',\n",
       " 's',\n",
       " 't',\n",
       " 'u',\n",
       " 'v',\n",
       " 'w',\n",
       " 'x',\n",
       " 'y',\n",
       " 'z',\n",
       " '{',\n",
       " '|',\n",
       " '}',\n",
       " '~',\n",
       " '\\x7f',\n",
       " '\\x80',\n",
       " '\\x81',\n",
       " '\\x82',\n",
       " '\\x83',\n",
       " '\\x84',\n",
       " '\\x85',\n",
       " '\\x86',\n",
       " '\\x87',\n",
       " '\\x88',\n",
       " '\\x89',\n",
       " '\\x8a',\n",
       " '\\x8b',\n",
       " '\\x8c',\n",
       " '\\x8d',\n",
       " '\\x8e',\n",
       " '\\x8f',\n",
       " '\\x90',\n",
       " '\\x91',\n",
       " '\\x92',\n",
       " '\\x93',\n",
       " '\\x94',\n",
       " '\\x95',\n",
       " '\\x96',\n",
       " '\\x97',\n",
       " '\\x98',\n",
       " '\\x99',\n",
       " '\\x9a',\n",
       " '\\x9b',\n",
       " '\\x9c',\n",
       " '\\x9d',\n",
       " '\\x9e',\n",
       " '\\x9f',\n",
       " '\\xa0',\n",
       " '¡',\n",
       " '¢',\n",
       " '£',\n",
       " '¤',\n",
       " '¥',\n",
       " '¦',\n",
       " '§',\n",
       " '¨',\n",
       " '©',\n",
       " 'ª',\n",
       " '«',\n",
       " '¬',\n",
       " '\\xad',\n",
       " '®',\n",
       " '¯',\n",
       " '°',\n",
       " '±',\n",
       " '²',\n",
       " '³',\n",
       " '´',\n",
       " 'µ',\n",
       " '¶',\n",
       " '·',\n",
       " '¸',\n",
       " '¹',\n",
       " 'º',\n",
       " '»',\n",
       " '¼',\n",
       " '½',\n",
       " '¾',\n",
       " '¿',\n",
       " 'À',\n",
       " 'Á',\n",
       " 'Â',\n",
       " 'Ã',\n",
       " 'Ä',\n",
       " 'Å',\n",
       " 'Æ',\n",
       " 'Ç',\n",
       " 'È',\n",
       " 'É',\n",
       " 'Ê',\n",
       " 'Ë',\n",
       " 'Ì',\n",
       " 'Í',\n",
       " 'Î',\n",
       " 'Ï',\n",
       " 'Ð',\n",
       " 'Ñ',\n",
       " 'Ò',\n",
       " 'Ó',\n",
       " 'Ô',\n",
       " 'Õ',\n",
       " 'Ö',\n",
       " '×',\n",
       " 'Ø',\n",
       " 'Ù',\n",
       " 'Ú',\n",
       " 'Û',\n",
       " 'Ü',\n",
       " 'Ý',\n",
       " 'Þ',\n",
       " 'ß',\n",
       " 'à',\n",
       " 'á',\n",
       " 'â',\n",
       " 'ã',\n",
       " 'ä',\n",
       " 'å',\n",
       " 'æ',\n",
       " 'ç',\n",
       " 'è',\n",
       " 'é',\n",
       " 'ê',\n",
       " 'ë',\n",
       " 'ì',\n",
       " 'í',\n",
       " 'î',\n",
       " 'ï',\n",
       " 'ð',\n",
       " 'ñ',\n",
       " 'ò',\n",
       " 'ó',\n",
       " 'ô',\n",
       " 'õ',\n",
       " 'ö',\n",
       " '÷',\n",
       " 'ø',\n",
       " 'ù',\n",
       " 'ú',\n",
       " 'û',\n",
       " 'ü',\n",
       " 'ý',\n",
       " 'þ',\n",
       " 'ÿ']"
      ]
     },
     "execution_count": 223,
     "metadata": {},
     "output_type": "execute_result"
    }
   ],
   "source": [
    "[chr(i) for i in range(256)]"
   ]
  },
  {
   "cell_type": "code",
   "execution_count": 226,
   "metadata": {},
   "outputs": [
    {
     "data": {
      "text/plain": [
       "'A'"
      ]
     },
     "execution_count": 226,
     "metadata": {},
     "output_type": "execute_result"
    }
   ],
   "source": [
    "chr(ord('A'))"
   ]
  },
  {
   "cell_type": "code",
   "execution_count": 228,
   "metadata": {},
   "outputs": [
    {
     "data": {
      "text/plain": [
       "{'#',\n",
       " '$',\n",
       " '%',\n",
       " '+',\n",
       " '<',\n",
       " '=',\n",
       " '>',\n",
       " '¢',\n",
       " '£',\n",
       " '¤',\n",
       " '¥',\n",
       " '§',\n",
       " '©',\n",
       " '¬',\n",
       " '®',\n",
       " '°',\n",
       " '±',\n",
       " 'µ',\n",
       " '¶',\n",
       " '×',\n",
       " '÷'}"
      ]
     },
     "execution_count": 228,
     "metadata": {},
     "output_type": "execute_result"
    }
   ],
   "source": [
    "{chr(i) for i in range(32, 256) if 'SIGN' in name(chr(i), '')}"
   ]
  },
  {
   "cell_type": "code",
   "execution_count": 1,
   "metadata": {},
   "outputs": [
    {
     "ename": "NameError",
     "evalue": "name 'name' is not defined",
     "output_type": "error",
     "traceback": [
      "\u001b[0;31m---------------------------------------------------------------------------\u001b[0m",
      "\u001b[0;31mNameError\u001b[0m                                 Traceback (most recent call last)",
      "\u001b[0;32m<ipython-input-1-ce53c5a51a96>\u001b[0m in \u001b[0;36m<module>\u001b[0;34m\u001b[0m\n\u001b[0;32m----> 1\u001b[0;31m \u001b[0mhelp\u001b[0m\u001b[0;34m(\u001b[0m\u001b[0mname\u001b[0m\u001b[0;34m)\u001b[0m\u001b[0;34m\u001b[0m\u001b[0;34m\u001b[0m\u001b[0m\n\u001b[0m",
      "\u001b[0;31mNameError\u001b[0m: name 'name' is not defined"
     ]
    }
   ],
   "source": [
    "help(name)"
   ]
  },
  {
   "cell_type": "code",
   "execution_count": 2,
   "metadata": {},
   "outputs": [],
   "source": [
    "a = {1:1, 2:2}"
   ]
  },
  {
   "cell_type": "code",
   "execution_count": 3,
   "metadata": {},
   "outputs": [
    {
     "ename": "RuntimeError",
     "evalue": "dictionary changed size during iteration",
     "output_type": "error",
     "traceback": [
      "\u001b[0;31m---------------------------------------------------------------------------\u001b[0m",
      "\u001b[0;31mRuntimeError\u001b[0m                              Traceback (most recent call last)",
      "\u001b[0;32m<ipython-input-3-af200fcc7430>\u001b[0m in \u001b[0;36m<module>\u001b[0;34m\u001b[0m\n\u001b[0;32m----> 1\u001b[0;31m \u001b[0;32mfor\u001b[0m \u001b[0mkey\u001b[0m\u001b[0;34m,\u001b[0m\u001b[0mvalue\u001b[0m \u001b[0;32min\u001b[0m \u001b[0ma\u001b[0m\u001b[0;34m.\u001b[0m\u001b[0mitems\u001b[0m\u001b[0;34m(\u001b[0m\u001b[0;34m)\u001b[0m\u001b[0;34m:\u001b[0m\u001b[0;34m\u001b[0m\u001b[0;34m\u001b[0m\u001b[0m\n\u001b[0m\u001b[1;32m      2\u001b[0m     \u001b[0;32mfor\u001b[0m \u001b[0mi\u001b[0m \u001b[0;32min\u001b[0m \u001b[0mrange\u001b[0m\u001b[0;34m(\u001b[0m\u001b[0;36m3\u001b[0m\u001b[0;34m,\u001b[0m \u001b[0;36m5\u001b[0m\u001b[0;34m)\u001b[0m\u001b[0;34m:\u001b[0m\u001b[0;34m\u001b[0m\u001b[0;34m\u001b[0m\u001b[0m\n\u001b[1;32m      3\u001b[0m         \u001b[0ma\u001b[0m\u001b[0;34m[\u001b[0m\u001b[0mi\u001b[0m\u001b[0;34m]\u001b[0m \u001b[0;34m=\u001b[0m \u001b[0mi\u001b[0m\u001b[0;34m\u001b[0m\u001b[0;34m\u001b[0m\u001b[0m\n",
      "\u001b[0;31mRuntimeError\u001b[0m: dictionary changed size during iteration"
     ]
    }
   ],
   "source": [
    "for key,value in a.items():\n",
    "    for i in range(3, 5):\n",
    "        a[i] = i"
   ]
  },
  {
   "cell_type": "code",
   "execution_count": 4,
   "metadata": {},
   "outputs": [],
   "source": [
    "b = [1,2,3]"
   ]
  },
  {
   "cell_type": "code",
   "execution_count": 6,
   "metadata": {},
   "outputs": [
    {
     "name": "stderr",
     "output_type": "stream",
     "text": [
      "IOPub data rate exceeded.\n",
      "The notebook server will temporarily stop sending output\n",
      "to the client in order to avoid crashing it.\n",
      "To change this limit, set the config variable\n",
      "`--NotebookApp.iopub_data_rate_limit`.\n",
      "\n",
      "Current values:\n",
      "NotebookApp.iopub_data_rate_limit=1000000.0 (bytes/sec)\n",
      "NotebookApp.rate_limit_window=3.0 (secs)\n",
      "\n"
     ]
    },
    {
     "ename": "KeyboardInterrupt",
     "evalue": "",
     "output_type": "error",
     "traceback": [
      "\u001b[0;31m---------------------------------------------------------------------------\u001b[0m",
      "\u001b[0;31mKeyboardInterrupt\u001b[0m                         Traceback (most recent call last)",
      "\u001b[0;32m<ipython-input-6-11b2deb631a4>\u001b[0m in \u001b[0;36m<module>\u001b[0;34m\u001b[0m\n\u001b[1;32m      1\u001b[0m \u001b[0;32mfor\u001b[0m \u001b[0mn\u001b[0m \u001b[0;32min\u001b[0m \u001b[0mb\u001b[0m\u001b[0;34m:\u001b[0m\u001b[0;34m\u001b[0m\u001b[0;34m\u001b[0m\u001b[0m\n\u001b[0;32m----> 2\u001b[0;31m     \u001b[0mprint\u001b[0m\u001b[0;34m(\u001b[0m\u001b[0mb\u001b[0m\u001b[0;34m)\u001b[0m\u001b[0;34m\u001b[0m\u001b[0;34m\u001b[0m\u001b[0m\n\u001b[0m\u001b[1;32m      3\u001b[0m     \u001b[0mb\u001b[0m\u001b[0;34m.\u001b[0m\u001b[0mappend\u001b[0m\u001b[0;34m(\u001b[0m\u001b[0mn\u001b[0m\u001b[0;34m)\u001b[0m\u001b[0;34m\u001b[0m\u001b[0;34m\u001b[0m\u001b[0m\n",
      "\u001b[0;31mKeyboardInterrupt\u001b[0m: "
     ]
    }
   ],
   "source": [
    "for n in b:\n",
    "    print(b)\n",
    "    b.append(n)"
   ]
  },
  {
   "cell_type": "code",
   "execution_count": null,
   "metadata": {},
   "outputs": [],
   "source": []
  }
 ],
 "metadata": {
  "kernelspec": {
   "display_name": "Python 3",
   "language": "python",
   "name": "python3"
  },
  "language_info": {
   "codemirror_mode": {
    "name": "ipython",
    "version": 3
   },
   "file_extension": ".py",
   "mimetype": "text/x-python",
   "name": "python",
   "nbconvert_exporter": "python",
   "pygments_lexer": "ipython3",
   "version": "3.7.5"
  }
 },
 "nbformat": 4,
 "nbformat_minor": 2
}
