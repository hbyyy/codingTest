{
 "cells": [
  {
   "cell_type": "markdown",
   "metadata": {},
   "source": [
    "# 일급 함수\n",
    "- 파이썬의 **함수**는 일급 객체이다\n",
    "    - 일급 객체란?\n",
    "        - 런타임에 생성할 수 있다\n",
    "        - 데이터 구초제의 변수나 요소에 할당할 수 있다\n",
    "        - 함수 인수로 전달할 수 있다\n",
    "        - 함수 결과로 반환할 수 있다\n",
    "        \n",
    "> 정수, 딕셔너리, 문자열 들도 일급 객체이다."
   ]
  },
  {
   "cell_type": "markdown",
   "metadata": {},
   "source": [
    "## 5.1 함수를 객체처럼 다루기\n",
    "- 일급 함수가 있으면 함수형 스타일로 프로그래밍 할 수 있다\n"
   ]
  },
  {
   "cell_type": "code",
   "execution_count": 10,
   "metadata": {},
   "outputs": [
    {
     "name": "stdout",
     "output_type": "stream",
     "text": [
      "1405006117752879898543142606244511569936384000000000\n",
      "return n!\n",
      "<class 'function'>\n"
     ]
    }
   ],
   "source": [
    "def factorial(n: int) -> int:\n",
    "    \"\"\"return n!\"\"\"\n",
    "    \n",
    "    return 1 if n < 2 else n * factorial(n - 1)\n",
    "\n",
    "print(factorial(42))\n",
    "print(factorial.__doc__)\n",
    "# 정의한 factorial 함수는 function 클래스의 인스턴스이다!\n",
    "print(type(factorial))"
   ]
  },
  {
   "cell_type": "code",
   "execution_count": 19,
   "metadata": {},
   "outputs": [
    {
     "name": "stdout",
     "output_type": "stream",
     "text": [
      "<function factorial at 0x7f6cfa7d6b90>\n",
      "<map object at 0x7f6cfa7f4dd0>\n",
      "[1, 1, 2, 6, 24, 120, 720, 5040, 40320, 362880, 3628800]\n"
     ]
    }
   ],
   "source": [
    "fact = factorial\n",
    "print(fact)\n",
    "print(map(factorial, range(11)))\n",
    "print(list(map(fact, range(11))))"
   ]
  },
  {
   "cell_type": "markdown",
   "metadata": {},
   "source": [
    "## 5.2  고위 함수\n",
    "- 함수를 인수로 받거나, 함수를 결과로 반환하는 함수를 말한다 (high-order-function)"
   ]
  },
  {
   "cell_type": "code",
   "execution_count": 21,
   "metadata": {},
   "outputs": [
    {
     "name": "stdout",
     "output_type": "stream",
     "text": [
      "['banana', 'apple', 'fig', 'raspberry', 'strawberry', 'cherry']\n"
     ]
    }
   ],
   "source": [
    "def reverse(word):\n",
    "    return word[::-1]\n",
    "\n",
    "print(sorted(['apple', 'raspberry', 'banana', 'fig', 'strawberry', 'cherry'], key=reverse))"
   ]
  },
  {
   "cell_type": "code",
   "execution_count": 24,
   "metadata": {},
   "outputs": [
    {
     "name": "stdout",
     "output_type": "stream",
     "text": [
      "[1, 6, 120]\n",
      "[1, 6, 120]\n"
     ]
    }
   ],
   "source": [
    "# map, filter 고위 함수들은 리스트 컴프리헨션, 제너레이터 컴프리헨션으로 대체할 수 있어 중요성이 떨어졌다\n",
    "print(list(map(factorial, filter(lambda n: n % 2, range(6)))))\n",
    "print([factorial(n) for n in range(6) if n % 2])"
   ]
  },
  {
   "cell_type": "markdown",
   "metadata": {},
   "source": [
    "## 5.3 익명 함수 (lambda)\n",
    "- 람다 함수의 본체는 순수한 표현식으로만 구성되어야 한다\n",
    "    - while, try 등의 문장 사용 불가능\n",
    "- 이러한 구문 제한 때문에 고위 함수의 인수로 사용되는 경우를 제외하면 거의 사용되지 않는다"
   ]
  },
  {
   "cell_type": "markdown",
   "metadata": {},
   "source": [
    "### 5.4 콜러블 객체\n",
    "- 호출 연산자 ()는 사용자 정의 함수 이외의 다른 객체에도 적용할 수 있다\n",
    "- 호출할 수 있는 객체인지 알아보려면 `callable()` 내장 함수를 이용하면 된다"
   ]
  },
  {
   "cell_type": "code",
   "execution_count": 31,
   "metadata": {},
   "outputs": [
    {
     "name": "stdout",
     "output_type": "stream",
     "text": [
      "<built-in function abs> <class 'str'> 13\n",
      "[True, True, False]\n"
     ]
    }
   ],
   "source": [
    "print(abs, str, 13)\n",
    "print([callable(obj) for obj in [abs, str, 13]])"
   ]
  },
  {
   "cell_type": "markdown",
   "metadata": {},
   "source": [
    "## 5.5 사용자 정의 콜러블\n",
    "- 모든 파이썬 객체가 함수처럼 동작하게 만들 수 있다\n",
    "- `__call__()` 인스턴스 메서드를 구현하면 된다"
   ]
  },
  {
   "cell_type": "code",
   "execution_count": 38,
   "metadata": {},
   "outputs": [
    {
     "name": "stdout",
     "output_type": "stream",
     "text": [
      "2\n",
      "1\n",
      "True\n"
     ]
    }
   ],
   "source": [
    "import random\n",
    "\n",
    "class BingoCage:\n",
    "    def __init__(self, items):\n",
    "        self._items = list(items)\n",
    "        random.shuffle(self._items)\n",
    "        \n",
    "    def pick(self):\n",
    "        try:\n",
    "            return self._items.pop()\n",
    "        except IndexError:\n",
    "            raise LookupError('pick from empty BingoCage')\n",
    "            \n",
    "    def __call__(self):\n",
    "        return self.pick()\n",
    "    \n",
    "bingo = BingoCage(range(3))\n",
    "print(bingo.pick())\n",
    "print(bingo())\n",
    "print(callable(bingo))"
   ]
  },
  {
   "cell_type": "code",
   "execution_count": 42,
   "metadata": {},
   "outputs": [
    {
     "name": "stdout",
     "output_type": "stream",
     "text": [
      "{'short_description': 'Custom Factorial'}\n",
      "{'short_description': 'Custom Factorial'}\n"
     ]
    }
   ],
   "source": [
    "# 장고 admin 이용 시 설정하는 short_description 속성이 함수의 __dict__ 속성을 이용해 객체에 할당된 사용자 속성을 보관하는 것이다!\n",
    "print(factorial.__dict__)\n",
    "factorial.short_description = 'Custom Factorial'\n",
    "print(factorial.__dict__)"
   ]
  },
  {
   "cell_type": "markdown",
   "metadata": {},
   "source": [
    "## 5.7 위치 매개변수에서 키워드 전용 매개변수까지\n",
    "- \\* 와 \\** 기호로 각각 위치, 키워드 매개변수로 활용할 수 있다"
   ]
  },
  {
   "cell_type": "code",
   "execution_count": 54,
   "metadata": {},
   "outputs": [],
   "source": [
    "# HTML 을 생성하는 tag함수\n",
    "\n",
    "def tag(name, *content, cls=None, **attrs):\n",
    "    \"\"\"하나 이상의 HTML 태크를 생성한다\"\"\"\n",
    "    \n",
    "    if cls is not None:\n",
    "        attrs['class'] = cls\n",
    "    if attrs:\n",
    "        attr_str = ''.join(f' {attr}=\"{value}\"' for attr, value in sorted(attrs.items()))\n",
    "    else:\n",
    "        attr_str = ''\n",
    "    \n",
    "    if content:\n",
    "        return '\\n'.join(f'<{name}{attr_str}>{c}</{name}>' for c in content)\n",
    "    else:\n",
    "        return f'<{name}{attr_str} />'"
   ]
  },
  {
   "cell_type": "code",
   "execution_count": 66,
   "metadata": {},
   "outputs": [
    {
     "name": "stdout",
     "output_type": "stream",
     "text": [
      "<br /> \n",
      "\n",
      "<p>hello</p> \n",
      "\n",
      "<p>hello</p>\n",
      "<p>world</p> \n",
      "\n",
      "<p id=\"33\">hello</p> \n",
      "\n",
      "<p class=\"sidebar\" id=\"33\">hello</p>\n",
      "<p class=\"sidebar\" id=\"33\">world</p> \n",
      "\n",
      "<img class=\"framed\" src=\"sunset.jpg\" title=\"Sunset Boulevard\" /> \n",
      "\n"
     ]
    }
   ],
   "source": [
    "print(tag('br'), '\\n')\n",
    "print(tag('p', 'hello'), '\\n')\n",
    "print(tag('p', 'hello', 'world'), '\\n')\n",
    "print(tag('p', 'hello', id=33), '\\n')\n",
    "print(tag('p', 'hello', 'world', id=33, cls='sidebar'), '\\n')\n",
    "\n",
    "my_tags = {\n",
    "    'name': 'img',\n",
    "    'title': 'Sunset Boulevard',\n",
    "    'src': 'sunset.jpg',\n",
    "    'cls': 'framed'\n",
    "}\n",
    "print(tag(**my_tags), '\\n')"
   ]
  },
  {
   "cell_type": "code",
   "execution_count": 67,
   "metadata": {},
   "outputs": [],
   "source": [
    "def clip(text, max_len=80):\n",
    "    \"\"\"max_len 앞이나 뒤의 마지막 공백에서 잘라낸 텍스트를 반환한다\"\"\"\n",
    "    \n",
    "    end = None\n",
    "    if len(text) > max_len:\n",
    "        space_before = text.rfind(' ', 0, max_len)\n",
    "        if space_before >= 0:\n",
    "            end = space_before\n",
    "        else:\n",
    "            space_after = text.rfind(' ', max_len)\n",
    "            if space_after >= 0:\n",
    "                end = space_after\n",
    "    if end is None:\n",
    "        end = len(text)\n",
    "    return text[:end].rstrip()\n"
   ]
  },
  {
   "cell_type": "code",
   "execution_count": 69,
   "metadata": {},
   "outputs": [
    {
     "data": {
      "text/plain": [
       "'adadad  adada  dadadadad'"
      ]
     },
     "execution_count": 69,
     "metadata": {},
     "output_type": "execute_result"
    }
   ],
   "source": [
    "clip('adadad  adada  dadadadad   dadadadadadada  adadad dada a  adada ad ad', max_len=30)"
   ]
  },
  {
   "cell_type": "markdown",
   "metadata": {},
   "source": [
    "## 5.10 함수형 프로그래밍을 위한 패키지"
   ]
  },
  {
   "cell_type": "markdown",
   "metadata": {},
   "source": [
    "### 5.10.1 operator 모듈\n",
    "\n",
    "- 수십개의 연산자에 대응하는 함수를 제공한다"
   ]
  },
  {
   "cell_type": "code",
   "execution_count": 70,
   "metadata": {},
   "outputs": [
    {
     "name": "stdout",
     "output_type": "stream",
     "text": [
      "120\n"
     ]
    }
   ],
   "source": [
    "from functools import reduce\n",
    "from operator import mul\n",
    "\n",
    "def fact(n):\n",
    "    return reduce(mul, range(1, n + 1))\n",
    "\n",
    "print(fact(5))"
   ]
  },
  {
   "cell_type": "code",
   "execution_count": 81,
   "metadata": {},
   "outputs": [
    {
     "name": "stdout",
     "output_type": "stream",
     "text": [
      "[(4, 1, 1), (1, 2, 4), (1, 3, 1), (5, 3, 1), (1, 5, 7), (10, 13, 1)]\n",
      "(2, 1)\n",
      "(2, 1)\n",
      "\n",
      "(3, 1)\n",
      "(3, 1)\n",
      "\n",
      "(5, 1)\n",
      "(5, 1)\n",
      "\n",
      "(3, 5)\n",
      "(3, 5)\n",
      "\n",
      "(1, 4)\n",
      "(1, 4)\n",
      "\n",
      "(13, 10)\n",
      "(13, 10)\n",
      "\n"
     ]
    }
   ],
   "source": [
    "# 시퀀스에서 항목을 가져오는 itemgetter() (람다 대체 가능) 과 객체의 속성을 읽는 attrgetter() 함수를 제공\n",
    "from operator import itemgetter, attrgetter\n",
    "\n",
    "data = [(1,2, 4), (1,3,1), (1,5, 7), (5,3,1), (4,1,1), (10,13,1)]\n",
    "\n",
    "# key=lambda x:x[1] 과 동일하다!\n",
    "print(sorted(data, key=itemgetter(1)))\n",
    "\n",
    "# n[1::-1] 과 동일\n",
    "slices = itemgetter(1, 0)\n",
    "for n in data:\n",
    "    print(slices(n))\n",
    "    print(n[1::-1])\n",
    "    print()"
   ]
  },
  {
   "cell_type": "markdown",
   "metadata": {},
   "source": [
    "### 5.10.2 functools.partial 함수로 인수 고정하기"
   ]
  },
  {
   "cell_type": "code",
   "execution_count": 84,
   "metadata": {},
   "outputs": [
    {
     "name": "stdout",
     "output_type": "stream",
     "text": [
      "<img class=\"pic-frame\" src=\"wumpus.jpeg\" />\n"
     ]
    }
   ],
   "source": [
    "from functools import partial\n",
    "\n",
    "# tag 함수에 img, cls='pic-frame' 인수가 들어간 상태로 고정된다.\n",
    "picture = partial(tag, 'img', cls='pic-frame')\n",
    "\n",
    "print(picture(src='wumpus.jpeg'))"
   ]
  },
  {
   "cell_type": "code",
   "execution_count": null,
   "metadata": {},
   "outputs": [],
   "source": []
  }
 ],
 "metadata": {
  "kernelspec": {
   "display_name": "Python 3",
   "language": "python",
   "name": "python3"
  },
  "language_info": {
   "codemirror_mode": {
    "name": "ipython",
    "version": 3
   },
   "file_extension": ".py",
   "mimetype": "text/x-python",
   "name": "python",
   "nbconvert_exporter": "python",
   "pygments_lexer": "ipython3",
   "version": "3.7.5"
  }
 },
 "nbformat": 4,
 "nbformat_minor": 2
}
