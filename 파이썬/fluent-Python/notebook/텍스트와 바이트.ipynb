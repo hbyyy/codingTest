{
 "cells": [
  {
   "cell_type": "markdown",
   "metadata": {},
   "source": [
    "# CH3 - 텍스트와 바이트\n",
    "- 문자, 코드 포인트, 바이트 표현\n",
    "- 이진 시퀀스의 고유한 특징 : bytes, bytearray, memoryview\n",
    "- 전체 유니코드 및 레거시 문자셋에 대한 코덱\n",
    "- 인코딩 에러를 피하고 다루기\n",
    "- 텍스트 파일을 다룰 때 모범 사례\n",
    "- 기본 인코딩 및 표준 입출력 문제\n",
    "- 정규화를 이용한 안전한 유니코드 텍스트 비교\n",
    "- 정규화, 케이스 폴딩, 발음 구별 기호 강제 제거를 위한 유틸리티 함수\n",
    "- locale과 PyUCA 라이브러리를 이용한 유니코드 텍스트의 적절한 정렬\n",
    "- 유니코드 데이터베이스 안의 문자 메타데이터\n",
    "- str과 bytes 를 다루는 이중 모드 API"
   ]
  },
  {
   "cell_type": "markdown",
   "metadata": {},
   "source": [
    "## 4.1 문자 문제\n",
    "- 파이썬3 에서는 str에서 가져오는 항목이 유니코드 문자이다.\n",
    "- 유니코드 표준은 문자의 단위 원소와 특정 바이트 표현을 명확히 구분한다.\n",
    "\n",
    "### 단위 원소(코드 포인트)\n",
    "- 문자에 부여한 고유한 숫자\n",
    "- 10진수 0에서 1,114,111까지의 숫자\n",
    "\n",
    "### 인코딩, 디코딩\n",
    "- 코드포인드 -> 바이트 : 인코딩, 바이트 -> 코드 포인트 : 디코딩\n",
    "- 실제 바이트는 사용하는 인코딩에 따라 달라진다\n",
    "    - A(U+0041) 에 대한 UTF-8 : 1바이트 \\x41\n",
    "    - A(U+0041) 에 대한 UTF-16LE : 2바이트 \\x41\\x00"
   ]
  },
  {
   "cell_type": "code",
   "execution_count": 4,
   "metadata": {},
   "outputs": [
    {
     "name": "stdout",
     "output_type": "stream",
     "text": [
      "4\n",
      "b'caf\\xc3\\xa9'\n",
      "5\n",
      "café\n",
      "4\n"
     ]
    }
   ],
   "source": [
    "s = 'café'\n",
    "print(len(s))\n",
    "\n",
    "b = s.encode('utf8')\n",
    "print(b)\n",
    "print(len(b))\n",
    "\n",
    "b = b.decode('utf8')\n",
    "print(b)\n",
    "print(len(b))"
   ]
  },
  {
   "cell_type": "markdown",
   "metadata": {},
   "source": [
    "## 4.2 바이트\n",
    "- 이진 시퀀스를 위한 자료형 : bytes(불변), bytearray(가변)\n",
    "- 각 항목은 0 ~ 255 사이의 정수(1바이트)"
   ]
  },
  {
   "cell_type": "code",
   "execution_count": 34,
   "metadata": {},
   "outputs": [
    {
     "name": "stdout",
     "output_type": "stream",
     "text": [
      "b'caf\\xc3\\xa9'\n",
      "169\n",
      "b'c'\n",
      "bytearray(b'caf\\xc3\\xa9')\n",
      "bytearray(b'\\xa9')\n",
      "b'1K\\xce\\xa9'\n"
     ]
    }
   ],
   "source": [
    "cafe = bytes('café', encoding='utf_8')\n",
    "print(cafe)\n",
    "print(cafe[4])\n",
    "\n",
    "# 슬라이싱이 가능하다. 슬라이싱한 결과물도 bytes, bytearray형이다\n",
    "print(cafe[:1])\n",
    "\n",
    "cafe_arr = bytearray(cafe)\n",
    "print(cafe_arr)\n",
    "print(cafe_arr[-1:])\n",
    "\n",
    "# 16진수 쌍으로 이진 시퀀스 생성\n",
    "print(bytes.fromhex('31 4B CE A9'))"
   ]
  },
  {
   "cell_type": "code",
   "execution_count": 32,
   "metadata": {},
   "outputs": [],
   "source": [
    "a = bytes('print\\n', encoding='utf_8')"
   ]
  },
  {
   "cell_type": "code",
   "execution_count": 33,
   "metadata": {},
   "outputs": [
    {
     "data": {
      "text/plain": [
       "b'print\\n'"
      ]
     },
     "execution_count": 33,
     "metadata": {},
     "output_type": "execute_result"
    }
   ],
   "source": [
    "a"
   ]
  },
  {
   "cell_type": "code",
   "execution_count": 3,
   "metadata": {},
   "outputs": [
    {
     "name": "stdout",
     "output_type": "stream",
     "text": [
      "array('h', [-2, -1, 0, 1, 2])\n",
      "b'\\xfe\\xff\\xff\\xff\\x00\\x00\\x01\\x00\\x02\\x00'\n"
     ]
    }
   ],
   "source": [
    "import array\n",
    "# 'h' -> short int 형(2 bytes) 시퀀스 생성\n",
    "numbers = array.array('h', [-2, -1, 0, 1, 2])\n",
    "print(numbers)\n",
    "octets = bytes(numbers)\n",
    "print(octets)"
   ]
  },
  {
   "cell_type": "markdown",
   "metadata": {},
   "source": [
    "### 4.2.1 구조체와 메모리 뷰\n",
    "#### struct 모듈\n",
    "- 패킹된 바이트를 다양한 형의 필드로 구성된 튜플로 분석\n",
    "- 튜플을 패킹된 바이트로 변환"
   ]
  },
  {
   "cell_type": "code",
   "execution_count": 16,
   "metadata": {},
   "outputs": [
    {
     "name": "stdout",
     "output_type": "stream",
     "text": [
      "b'GIF89a\\xdc\\x01\\x18\\x01'\n",
      "(b'GIF', b'89a', 476, 280)\n"
     ]
    }
   ],
   "source": [
    "import struct\n",
    "fmt = '<3s3sHH'\n",
    "with open ('nyan-cat.gif', 'rb') as fp:\n",
    "    img = memoryview(fp.read())\n",
    "\n",
    "header = img[:10]\n",
    "print(bytes(header))\n",
    "# 종류, 버전, 너비, 높이 -> 3바이트, 3바이트, 16비트 정수, 16비트 정수 로 이루어진다! -> 3s3sHH \n",
    "print(struct.unpack(fmt, header))\n",
    "del header\n",
    "del img"
   ]
  },
  {
   "cell_type": "markdown",
   "metadata": {},
   "source": [
    "### 4.4 인코딩/디코딩 문제 이해\n",
    "- UnicodeError 범용 에러 존재\n",
    "- 하지만 거의 항상 UnicodeEncodeError, UnicodeDecodeError 같은 구체적인 예외가 발생한다"
   ]
  },
  {
   "cell_type": "markdown",
   "metadata": {},
   "source": [
    "#### 4.4.1 UnicodeEncodeError 처리하기\n",
    "- 대부분의 비 UTF 코덱은 유니코드 문자의 일부분만 처리할 수 있다.\n",
    "- 텍스트를 바이트로 변환 시, 문자가 대상 인코딩에 정의되어 있지 많으면 별도의 처리를(errors 인수) 하지 않는 한 에러가 발생한다"
   ]
  },
  {
   "cell_type": "code",
   "execution_count": 25,
   "metadata": {},
   "outputs": [
    {
     "name": "stdout",
     "output_type": "stream",
     "text": [
      "utf-8\tb'S\\xc3\\xa3o Pailo?'\n",
      "utf-16\tb'\\xff\\xfeS\\x00\\xe3\\x00o\\x00 \\x00P\\x00a\\x00i\\x00l\\x00o\\x00?\\x00'\n",
      "cp437\tb'So Pailo?'\n",
      "cp437\tb'S?o Pailo?'\n",
      "cp437\tb'S&#227;o Pailo?'\n"
     ]
    }
   ],
   "source": [
    "city = 'São Pailo?'\n",
    "print('utf-8', city.encode('utf-8'), sep='\\t')\n",
    "print('utf-16', city.encode('utf-16'), sep='\\t')\n",
    "# print('cp437', city.encode('cp437'), sep='\\t')\n",
    "# ignore : 처리할 수 없는 문자를 건너뜀, 안 좋은 방법\n",
    "print('cp437', city.encode('cp437', errors='ignore'), sep='\\t')\n",
    "# replace : 처리할 수 없는 문자를 ? 로 치환\n",
    "print('cp437', city.encode('cp437', errors='replace'), sep='\\t')\n",
    "# 인코딩할 수 없는 문자를 XML 개체로 치환\n",
    "print('cp437', city.encode('cp437', errors='xmlcharrefreplace'), sep='\\t')\n",
    "\n"
   ]
  },
  {
   "cell_type": "markdown",
   "metadata": {},
   "source": [
    "#### 4.4.2 UnicodeDecodeError 처리하기\n",
    "- 모든 바이트 시퀀스가 정당한 UTF 형식 문자가 되는 것은 아니다\n",
    "- 변환 불가능할 때 UnicodeDecodeError 가 발생한다\n",
    "    - cp1252, koi8_r 등 레거시 8비트 코덱은 무작위 비트 배열에 대해서도 에러를 발생시키지 않고 바이트 스트림으로 디코딩 할 수 있다\n",
    "    - 즉, 잘못된 8비트 코덱을 사용하면 쓰레기 문자를 디코딩하게 된다."
   ]
  },
  {
   "cell_type": "code",
   "execution_count": 38,
   "metadata": {},
   "outputs": [
    {
     "name": "stdout",
     "output_type": "stream",
     "text": [
      "Montréal\n",
      "Montrιal\n",
      "MontrИal\n",
      "Montr�al\n",
      "b'Montr\\xc3\\xa9al'\n"
     ]
    }
   ],
   "source": [
    "# \\xe9 : é\n",
    "octets = b'Montr\\xe9al'\n",
    "# Windows OS 에서 많이 사용한다\n",
    "print(octets.decode('cp1252'))\n",
    "print(octets.decode('iso8859_7'))\n",
    "print(octets.decode('koi8_r'))\n",
    "# print(octets.decode('utf-8'))\n",
    "print(octets.decode('utf_8', errors='replace'))\n",
    "print('Montréal'.encode('utf-8'))"
   ]
  },
  {
   "cell_type": "markdown",
   "metadata": {},
   "source": [
    "#### 4.4.3 인코딩 된 모듈을 로딩할 떄 발생하는 SyntaxError\n",
    "- 파이썬3 은 기본적으로 UTF-8을 소스 코드 기본 인코딩으로 사용한다\n",
    "- 비 UTF-8 로 인코딩된 .py 모듈 로딩 시 SyntaxError가 발생하게 된다\n",
    "    - 파일 맨 위에 `# coding : <codec>` 주석을 달아 해결 가능하다"
   ]
  },
  {
   "cell_type": "markdown",
   "metadata": {},
   "source": [
    "#### 4.4.4 바이트 시퀀스의 인코딩 방식을 알아내기\n",
    "- 불가능하다. 반드시 별도로 인코딩 정보를 가져와야 한다\n",
    "- 추정은 가능하다. Chardet 패키지는 30가지 인코딩 방식을 알아낼 수 있다"
   ]
  },
  {
   "cell_type": "markdown",
   "metadata": {},
   "source": [
    "### 4.5 텍스트 파일 다루기\n",
    "- 유니코드 샌드위치\n",
    "    - 입력할 때 (파일을 여는 때 등) 가능하면 빨리 bytes를 str로 변환해야 한다는 것을 의미\n",
    "    - 즉, bytes -> str / str 로 파일을 다룸(처리 중 인코딩이나 디코딩하면 안 됨) / str -> bytes(내보냄)"
   ]
  },
  {
   "cell_type": "code",
   "execution_count": 39,
   "metadata": {},
   "outputs": [
    {
     "name": "stdout",
     "output_type": "stream",
     "text": [
      "café\n"
     ]
    }
   ],
   "source": [
    "# 플랫폼 인코딩 문제\n",
    "open('cafe.txt', 'w', encoding='utf_8').write('café')\n",
    "print(open('cafe.txt').read())\n",
    "\n",
    "\"\"\"\n",
    "Ubuntu 는 기본 인코딩이 utf-8이기 때문에 아무런 문제가 없다\n",
    "하지만 윈도우에서 실행했을 때는 문제가 생길 것이다. (시스템 기본 인코딩이 Windows 1252 이기 때문)\n",
    "파일을 쓸 때 encoding 인수를 생략하면 기본 지역 설정에 따른 인코딩 방식을 사용하고, 읽을 때도 동일한 인코딩 방식으로 올바르게 읽을 수 있다\n",
    "\n",
    "여러 컴퓨터나 여러 상황에서 실행되어야 하면 기본 인코딩에 의존하면 안 된다. 언제나 encoding 인수를 명시적으로 지정해야 한다.\n",
    "\"\"\""
   ]
  },
  {
   "cell_type": "code",
   "execution_count": 56,
   "metadata": {},
   "outputs": [
    {
     "name": "stdout",
     "output_type": "stream",
     "text": [
      "<_io.TextIOWrapper name='cafe.txt' mode='w' encoding='utf_8'>\n",
      "4\n",
      "5 \n",
      "\n",
      "<_io.TextIOWrapper name='cafe.txt' mode='r' encoding='UTF-8'>\n",
      "UTF-8\n",
      "café \n",
      "\n",
      "<_io.TextIOWrapper name='cafe.txt' mode='r' encoding='cp1252'>\n",
      "cafÃ© \n",
      "\n",
      "<_io.BufferedReader name='cafe.txt'>\n",
      "b'caf\\xc3\\xa9' \n",
      "\n"
     ]
    }
   ],
   "source": [
    "fp = open('cafe.txt', 'w', encoding='utf_8')\n",
    "print(fp)\n",
    "# write는 저장한 \"유니코드\" 문자 수를 반환한다\n",
    "print(fp.write('café'))\n",
    "fp.close()\n",
    "\n",
    "import os\n",
    "print(os.stat('cafe.txt').st_size, '\\n')\n",
    "\n",
    "fp2 = open('cafe.txt')\n",
    "print(fp2)\n",
    "print(fp2.encoding)\n",
    "print(fp2.read(), '\\n')\n",
    "\n",
    "fp3 = open('cafe.txt', encoding='cp1252')\n",
    "print(fp3)\n",
    "print(fp3.read(), '\\n')\n",
    "\n",
    "fp4 = open('cafe.txt', 'rb')\n",
    "print(fp4)\n",
    "print(fp4.read(), '\\n')\n",
    "\n",
    "fp2.close()\n",
    "fp3.close()\n",
    "fp4.close()"
   ]
  },
  {
   "cell_type": "markdown",
   "metadata": {},
   "source": [
    "**tips**\n",
    "- 인코딩 방식을 알아내기 위해 내용을 분석하는 게 아니라면 텍스트 파일을 이진 모드로 열지 않는 게 좋다\n",
    "- 인코딩 방식을 알아낼 때도 직접 하는 것 보다 모듈을 이용해라 (Chardet)\n",
    "- 래스터 이미지 등 이진 파일을 열 때만 이진 모드를 사용해라"
   ]
  },
  {
   "cell_type": "code",
   "execution_count": 59,
   "metadata": {},
   "outputs": [
    {
     "name": "stdout",
     "output_type": "stream",
     "text": [
      " locale.getpreferredencoding() -> 'UTF-8'\n",
      "                 type(my_file) -> <class '_io.TextIOWrapper'>\n",
      "           sys.stdout.isatty() -> False\n",
      "           sys.stdout.encoding -> 'UTF-8'\n",
      "            sys.stdin.isatty() -> False\n",
      "            sys.stdin.encoding -> 'UTF-8'\n",
      "           sys.stderr.isatty() -> False\n",
      "           sys.stderr.encoding -> 'UTF-8'\n",
      "      sys.getdefaultencoding() -> 'utf-8'\n",
      "   sys.getfilesystemencoding() -> 'utf-8'\n"
     ]
    }
   ],
   "source": [
    "import sys, locale\n",
    "\n",
    "expressions = \"\"\"\n",
    "    locale.getpreferredencoding()\n",
    "    type(my_file)\n",
    "    sys.stdout.isatty()\n",
    "    sys.stdout.encoding\n",
    "    sys.stdin.isatty()\n",
    "    sys.stdin.encoding\n",
    "    sys.stderr.isatty()\n",
    "    sys.stderr.encoding\n",
    "    sys.getdefaultencoding()\n",
    "    sys.getfilesystemencoding()\n",
    "    \"\"\"\n",
    "\n",
    "my_file = open('dummy', 'w')\n",
    "\n",
    "for exp in expressions.split():\n",
    "    value = eval(exp)\n",
    "    print(exp.rjust(30), '->', repr(value))"
   ]
  },
  {
   "cell_type": "markdown",
   "metadata": {},
   "source": [
    "- 기본 인코딩에 의존하지 않는 게 가장 좋다\n",
    "- 리눅스, 맥의 경우 UTF-8 이 가본적이로 사용되어 오류가 적을 수 있지만 윈도우의 경우에는 여러 인코딩들이 사용된다.\n",
    "- 따라서 유니코드 샌드위치 모델을 따르고, 인코딩을 늘 명시하면 많은 문제를 피할 수 있다."
   ]
  },
  {
   "cell_type": "markdown",
   "metadata": {},
   "source": [
    "### 4.6 제대로 비교하기 위해 유니코드 정규화하기\n",
    "\n"
   ]
  },
  {
   "cell_type": "code",
   "execution_count": null,
   "metadata": {},
   "outputs": [],
   "source": []
  }
 ],
 "metadata": {
  "kernelspec": {
   "display_name": "Python 3",
   "language": "python",
   "name": "python3"
  },
  "language_info": {
   "codemirror_mode": {
    "name": "ipython",
    "version": 3
   },
   "file_extension": ".py",
   "mimetype": "text/x-python",
   "name": "python",
   "nbconvert_exporter": "python",
   "pygments_lexer": "ipython3",
   "version": "3.7.5"
  }
 },
 "nbformat": 4,
 "nbformat_minor": 2
}
